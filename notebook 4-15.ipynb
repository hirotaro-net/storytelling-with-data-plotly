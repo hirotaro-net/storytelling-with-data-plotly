{
 "cells": [
  {
   "cell_type": "markdown",
   "id": "945bbfc2",
   "metadata": {},
   "source": [
    "## Required Modules"
   ]
  },
  {
   "cell_type": "code",
   "execution_count": 1,
   "id": "3ff355c6",
   "metadata": {},
   "outputs": [],
   "source": [
    "import numpy as np\n",
    "import pandas as pd\n",
    "import plotly.graph_objects as go"
   ]
  },
  {
   "cell_type": "markdown",
   "id": "ad865108",
   "metadata": {},
   "source": [
    "## Color Palette"
   ]
  },
  {
   "cell_type": "code",
   "execution_count": 2,
   "id": "2fa5f557",
   "metadata": {},
   "outputs": [],
   "source": [
    "from colors import *"
   ]
  },
  {
   "cell_type": "markdown",
   "id": "ad547d74",
   "metadata": {},
   "source": [
    "## Data"
   ]
  },
  {
   "cell_type": "code",
   "execution_count": 3,
   "id": "6363116b",
   "metadata": {
    "scrolled": false
   },
   "outputs": [],
   "source": [
    "df = pd.read_csv(\"data/data 4-15.csv\")"
   ]
  },
  {
   "cell_type": "code",
   "execution_count": 4,
   "id": "29dbacf2",
   "metadata": {
    "scrolled": false
   },
   "outputs": [],
   "source": [
    "df = df.sort_index(ascending=False).set_index('Country')"
   ]
  },
  {
   "cell_type": "markdown",
   "id": "8577fcdf",
   "metadata": {},
   "source": [
    "## Data Visualization "
   ]
  },
  {
   "cell_type": "code",
   "execution_count": 5,
   "id": "d423a6c4",
   "metadata": {
    "scrolled": false
   },
   "outputs": [
    {
     "data": {
      "application/vnd.plotly.v1+json": {
       "config": {
        "plotlyServerURL": "https://plot.ly"
       },
       "data": [
        {
         "colorscale": [
          [
           0,
           "rgb(16,83,154)"
          ],
          [
           0.083333333333333,
           "rgb(16,83,154)"
          ],
          [
           0.083333333333333,
           "rgb(54,131,187)"
          ],
          [
           0.166666666666667,
           "rgb(54,131,187)"
          ],
          [
           0.166666666666667,
           "rgb(110,175,212)"
          ],
          [
           0.25,
           "rgb(110,175,212)"
          ],
          [
           0.25,
           "rgb(160,210,235)"
          ],
          [
           0.333333333333333,
           "rgb(160,210,235)"
          ],
          [
           0.333333333333333,
           "rgb(239,243,255)"
          ],
          [
           1,
           "rgb(239,243,255)"
          ]
         ],
         "showscale": false,
         "type": "heatmap",
         "x": [
          "A",
          "B",
          "C",
          "D",
          "E"
         ],
         "y": [
          "United States",
          "United Kingdom",
          "Turkey",
          "Spain",
          "Russia",
          "Mexico",
          "Italy",
          "India",
          "Germany",
          "France",
          "China",
          "Canada",
          "Brazil",
          "Australia"
         ],
         "z": [
          [
           1,
           2,
           4,
           3,
           5
          ],
          [
           1,
           2,
           3,
           6,
           7
          ],
          [
           7,
           2,
           3,
           4,
           8
          ],
          [
           2,
           3,
           4,
           5,
           11
          ],
          [
           4,
           3,
           7,
           9,
           12
          ],
          [
           1,
           5,
           4,
           6,
           3
          ],
          [
           2,
           4,
           10,
           9,
           8
          ],
          [
           4,
           1,
           8,
           10,
           5
          ],
          [
           3,
           1,
           6,
           5,
           4
          ],
          [
           3,
           2,
           4,
           8,
           10
          ],
          [
           1,
           2,
           8,
           4,
           7
          ],
          [
           2,
           3,
           6,
           12,
           8
          ],
          [
           1,
           3,
           4,
           5,
           6
          ],
          [
           1,
           2,
           3,
           6,
           7
          ]
         ]
        }
       ],
       "layout": {
        "annotations": [
         {
          "font": {
           "color": "white",
           "family": "Arial",
           "size": 20
          },
          "showarrow": false,
          "text": "1",
          "x": "A",
          "y": "United States"
         },
         {
          "font": {
           "color": "white",
           "family": "Arial",
           "size": 20
          },
          "showarrow": false,
          "text": "1",
          "x": "A",
          "y": "United Kingdom"
         },
         {
          "font": {
           "color": "#929497",
           "family": "Arial",
           "size": 20
          },
          "showarrow": false,
          "text": "7",
          "x": "A",
          "y": "Turkey"
         },
         {
          "font": {
           "color": "white",
           "family": "Arial",
           "size": 20
          },
          "showarrow": false,
          "text": "2",
          "x": "A",
          "y": "Spain"
         },
         {
          "font": {
           "color": "#929497",
           "family": "Arial",
           "size": 20
          },
          "showarrow": false,
          "text": "4",
          "x": "A",
          "y": "Russia"
         },
         {
          "font": {
           "color": "white",
           "family": "Arial",
           "size": 20
          },
          "showarrow": false,
          "text": "1",
          "x": "A",
          "y": "Mexico"
         },
         {
          "font": {
           "color": "white",
           "family": "Arial",
           "size": 20
          },
          "showarrow": false,
          "text": "2",
          "x": "A",
          "y": "Italy"
         },
         {
          "font": {
           "color": "#929497",
           "family": "Arial",
           "size": 20
          },
          "showarrow": false,
          "text": "4",
          "x": "A",
          "y": "India"
         },
         {
          "font": {
           "color": "white",
           "family": "Arial",
           "size": 20
          },
          "showarrow": false,
          "text": "3",
          "x": "A",
          "y": "Germany"
         },
         {
          "font": {
           "color": "white",
           "family": "Arial",
           "size": 20
          },
          "showarrow": false,
          "text": "3",
          "x": "A",
          "y": "France"
         },
         {
          "font": {
           "color": "white",
           "family": "Arial",
           "size": 20
          },
          "showarrow": false,
          "text": "1",
          "x": "A",
          "y": "China"
         },
         {
          "font": {
           "color": "white",
           "family": "Arial",
           "size": 20
          },
          "showarrow": false,
          "text": "2",
          "x": "A",
          "y": "Canada"
         },
         {
          "font": {
           "color": "white",
           "family": "Arial",
           "size": 20
          },
          "showarrow": false,
          "text": "1",
          "x": "A",
          "y": "Brazil"
         },
         {
          "font": {
           "color": "white",
           "family": "Arial",
           "size": 20
          },
          "showarrow": false,
          "text": "1",
          "x": "A",
          "y": "Australia"
         },
         {
          "font": {
           "color": "white",
           "family": "Arial",
           "size": 20
          },
          "showarrow": false,
          "text": "2",
          "x": "B",
          "y": "United States"
         },
         {
          "font": {
           "color": "white",
           "family": "Arial",
           "size": 20
          },
          "showarrow": false,
          "text": "2",
          "x": "B",
          "y": "United Kingdom"
         },
         {
          "font": {
           "color": "white",
           "family": "Arial",
           "size": 20
          },
          "showarrow": false,
          "text": "2",
          "x": "B",
          "y": "Turkey"
         },
         {
          "font": {
           "color": "white",
           "family": "Arial",
           "size": 20
          },
          "showarrow": false,
          "text": "3",
          "x": "B",
          "y": "Spain"
         },
         {
          "font": {
           "color": "white",
           "family": "Arial",
           "size": 20
          },
          "showarrow": false,
          "text": "3",
          "x": "B",
          "y": "Russia"
         },
         {
          "font": {
           "color": "#929497",
           "family": "Arial",
           "size": 20
          },
          "showarrow": false,
          "text": "5",
          "x": "B",
          "y": "Mexico"
         },
         {
          "font": {
           "color": "#929497",
           "family": "Arial",
           "size": 20
          },
          "showarrow": false,
          "text": "4",
          "x": "B",
          "y": "Italy"
         },
         {
          "font": {
           "color": "white",
           "family": "Arial",
           "size": 20
          },
          "showarrow": false,
          "text": "1",
          "x": "B",
          "y": "India"
         },
         {
          "font": {
           "color": "white",
           "family": "Arial",
           "size": 20
          },
          "showarrow": false,
          "text": "1",
          "x": "B",
          "y": "Germany"
         },
         {
          "font": {
           "color": "white",
           "family": "Arial",
           "size": 20
          },
          "showarrow": false,
          "text": "2",
          "x": "B",
          "y": "France"
         },
         {
          "font": {
           "color": "white",
           "family": "Arial",
           "size": 20
          },
          "showarrow": false,
          "text": "2",
          "x": "B",
          "y": "China"
         },
         {
          "font": {
           "color": "white",
           "family": "Arial",
           "size": 20
          },
          "showarrow": false,
          "text": "3",
          "x": "B",
          "y": "Canada"
         },
         {
          "font": {
           "color": "white",
           "family": "Arial",
           "size": 20
          },
          "showarrow": false,
          "text": "3",
          "x": "B",
          "y": "Brazil"
         },
         {
          "font": {
           "color": "white",
           "family": "Arial",
           "size": 20
          },
          "showarrow": false,
          "text": "2",
          "x": "B",
          "y": "Australia"
         },
         {
          "font": {
           "color": "#929497",
           "family": "Arial",
           "size": 20
          },
          "showarrow": false,
          "text": "4",
          "x": "C",
          "y": "United States"
         },
         {
          "font": {
           "color": "white",
           "family": "Arial",
           "size": 20
          },
          "showarrow": false,
          "text": "3",
          "x": "C",
          "y": "United Kingdom"
         },
         {
          "font": {
           "color": "white",
           "family": "Arial",
           "size": 20
          },
          "showarrow": false,
          "text": "3",
          "x": "C",
          "y": "Turkey"
         },
         {
          "font": {
           "color": "#929497",
           "family": "Arial",
           "size": 20
          },
          "showarrow": false,
          "text": "4",
          "x": "C",
          "y": "Spain"
         },
         {
          "font": {
           "color": "#929497",
           "family": "Arial",
           "size": 20
          },
          "showarrow": false,
          "text": "7",
          "x": "C",
          "y": "Russia"
         },
         {
          "font": {
           "color": "#929497",
           "family": "Arial",
           "size": 20
          },
          "showarrow": false,
          "text": "4",
          "x": "C",
          "y": "Mexico"
         },
         {
          "font": {
           "color": "#929497",
           "family": "Arial",
           "size": 20
          },
          "showarrow": false,
          "text": "10",
          "x": "C",
          "y": "Italy"
         },
         {
          "font": {
           "color": "#929497",
           "family": "Arial",
           "size": 20
          },
          "showarrow": false,
          "text": "8",
          "x": "C",
          "y": "India"
         },
         {
          "font": {
           "color": "#929497",
           "family": "Arial",
           "size": 20
          },
          "showarrow": false,
          "text": "6",
          "x": "C",
          "y": "Germany"
         },
         {
          "font": {
           "color": "#929497",
           "family": "Arial",
           "size": 20
          },
          "showarrow": false,
          "text": "4",
          "x": "C",
          "y": "France"
         },
         {
          "font": {
           "color": "#929497",
           "family": "Arial",
           "size": 20
          },
          "showarrow": false,
          "text": "8",
          "x": "C",
          "y": "China"
         },
         {
          "font": {
           "color": "#929497",
           "family": "Arial",
           "size": 20
          },
          "showarrow": false,
          "text": "6",
          "x": "C",
          "y": "Canada"
         },
         {
          "font": {
           "color": "#929497",
           "family": "Arial",
           "size": 20
          },
          "showarrow": false,
          "text": "4",
          "x": "C",
          "y": "Brazil"
         },
         {
          "font": {
           "color": "white",
           "family": "Arial",
           "size": 20
          },
          "showarrow": false,
          "text": "3",
          "x": "C",
          "y": "Australia"
         },
         {
          "font": {
           "color": "white",
           "family": "Arial",
           "size": 20
          },
          "showarrow": false,
          "text": "3",
          "x": "D",
          "y": "United States"
         },
         {
          "font": {
           "color": "#929497",
           "family": "Arial",
           "size": 20
          },
          "showarrow": false,
          "text": "6",
          "x": "D",
          "y": "United Kingdom"
         },
         {
          "font": {
           "color": "#929497",
           "family": "Arial",
           "size": 20
          },
          "showarrow": false,
          "text": "4",
          "x": "D",
          "y": "Turkey"
         },
         {
          "font": {
           "color": "#929497",
           "family": "Arial",
           "size": 20
          },
          "showarrow": false,
          "text": "5",
          "x": "D",
          "y": "Spain"
         },
         {
          "font": {
           "color": "#929497",
           "family": "Arial",
           "size": 20
          },
          "showarrow": false,
          "text": "9",
          "x": "D",
          "y": "Russia"
         },
         {
          "font": {
           "color": "#929497",
           "family": "Arial",
           "size": 20
          },
          "showarrow": false,
          "text": "6",
          "x": "D",
          "y": "Mexico"
         },
         {
          "font": {
           "color": "#929497",
           "family": "Arial",
           "size": 20
          },
          "showarrow": false,
          "text": "9",
          "x": "D",
          "y": "Italy"
         },
         {
          "font": {
           "color": "#929497",
           "family": "Arial",
           "size": 20
          },
          "showarrow": false,
          "text": "10",
          "x": "D",
          "y": "India"
         },
         {
          "font": {
           "color": "#929497",
           "family": "Arial",
           "size": 20
          },
          "showarrow": false,
          "text": "5",
          "x": "D",
          "y": "Germany"
         },
         {
          "font": {
           "color": "#929497",
           "family": "Arial",
           "size": 20
          },
          "showarrow": false,
          "text": "8",
          "x": "D",
          "y": "France"
         },
         {
          "font": {
           "color": "#929497",
           "family": "Arial",
           "size": 20
          },
          "showarrow": false,
          "text": "4",
          "x": "D",
          "y": "China"
         },
         {
          "font": {
           "color": "#929497",
           "family": "Arial",
           "size": 20
          },
          "showarrow": false,
          "text": "12",
          "x": "D",
          "y": "Canada"
         },
         {
          "font": {
           "color": "#929497",
           "family": "Arial",
           "size": 20
          },
          "showarrow": false,
          "text": "5",
          "x": "D",
          "y": "Brazil"
         },
         {
          "font": {
           "color": "#929497",
           "family": "Arial",
           "size": 20
          },
          "showarrow": false,
          "text": "6",
          "x": "D",
          "y": "Australia"
         },
         {
          "font": {
           "color": "#929497",
           "family": "Arial",
           "size": 20
          },
          "showarrow": false,
          "text": "5",
          "x": "E",
          "y": "United States"
         },
         {
          "font": {
           "color": "#929497",
           "family": "Arial",
           "size": 20
          },
          "showarrow": false,
          "text": "7",
          "x": "E",
          "y": "United Kingdom"
         },
         {
          "font": {
           "color": "#929497",
           "family": "Arial",
           "size": 20
          },
          "showarrow": false,
          "text": "8",
          "x": "E",
          "y": "Turkey"
         },
         {
          "font": {
           "color": "#929497",
           "family": "Arial",
           "size": 20
          },
          "showarrow": false,
          "text": "11",
          "x": "E",
          "y": "Spain"
         },
         {
          "font": {
           "color": "#929497",
           "family": "Arial",
           "size": 20
          },
          "showarrow": false,
          "text": "12",
          "x": "E",
          "y": "Russia"
         },
         {
          "font": {
           "color": "white",
           "family": "Arial",
           "size": 20
          },
          "showarrow": false,
          "text": "3",
          "x": "E",
          "y": "Mexico"
         },
         {
          "font": {
           "color": "#929497",
           "family": "Arial",
           "size": 20
          },
          "showarrow": false,
          "text": "8",
          "x": "E",
          "y": "Italy"
         },
         {
          "font": {
           "color": "#929497",
           "family": "Arial",
           "size": 20
          },
          "showarrow": false,
          "text": "5",
          "x": "E",
          "y": "India"
         },
         {
          "font": {
           "color": "#929497",
           "family": "Arial",
           "size": 20
          },
          "showarrow": false,
          "text": "4",
          "x": "E",
          "y": "Germany"
         },
         {
          "font": {
           "color": "#929497",
           "family": "Arial",
           "size": 20
          },
          "showarrow": false,
          "text": "10",
          "x": "E",
          "y": "France"
         },
         {
          "font": {
           "color": "#929497",
           "family": "Arial",
           "size": 20
          },
          "showarrow": false,
          "text": "7",
          "x": "E",
          "y": "China"
         },
         {
          "font": {
           "color": "#929497",
           "family": "Arial",
           "size": 20
          },
          "showarrow": false,
          "text": "8",
          "x": "E",
          "y": "Canada"
         },
         {
          "font": {
           "color": "#929497",
           "family": "Arial",
           "size": 20
          },
          "showarrow": false,
          "text": "6",
          "x": "E",
          "y": "Brazil"
         },
         {
          "font": {
           "color": "#929497",
           "family": "Arial",
           "size": 20
          },
          "showarrow": false,
          "text": "7",
          "x": "E",
          "y": "Australia"
         }
        ],
        "height": 900,
        "margin": {
         "b": 82.5,
         "l": 180,
         "r": 90,
         "t": 165
        },
        "paper_bgcolor": "white",
        "plot_bgcolor": "white",
        "template": {
         "data": {
          "bar": [
           {
            "error_x": {
             "color": "#2a3f5f"
            },
            "error_y": {
             "color": "#2a3f5f"
            },
            "marker": {
             "line": {
              "color": "#E5ECF6",
              "width": 0.5
             },
             "pattern": {
              "fillmode": "overlay",
              "size": 10,
              "solidity": 0.2
             }
            },
            "type": "bar"
           }
          ],
          "barpolar": [
           {
            "marker": {
             "line": {
              "color": "#E5ECF6",
              "width": 0.5
             },
             "pattern": {
              "fillmode": "overlay",
              "size": 10,
              "solidity": 0.2
             }
            },
            "type": "barpolar"
           }
          ],
          "carpet": [
           {
            "aaxis": {
             "endlinecolor": "#2a3f5f",
             "gridcolor": "white",
             "linecolor": "white",
             "minorgridcolor": "white",
             "startlinecolor": "#2a3f5f"
            },
            "baxis": {
             "endlinecolor": "#2a3f5f",
             "gridcolor": "white",
             "linecolor": "white",
             "minorgridcolor": "white",
             "startlinecolor": "#2a3f5f"
            },
            "type": "carpet"
           }
          ],
          "choropleth": [
           {
            "colorbar": {
             "outlinewidth": 0,
             "ticks": ""
            },
            "type": "choropleth"
           }
          ],
          "contour": [
           {
            "colorbar": {
             "outlinewidth": 0,
             "ticks": ""
            },
            "colorscale": [
             [
              0,
              "#0d0887"
             ],
             [
              0.1111111111111111,
              "#46039f"
             ],
             [
              0.2222222222222222,
              "#7201a8"
             ],
             [
              0.3333333333333333,
              "#9c179e"
             ],
             [
              0.4444444444444444,
              "#bd3786"
             ],
             [
              0.5555555555555556,
              "#d8576b"
             ],
             [
              0.6666666666666666,
              "#ed7953"
             ],
             [
              0.7777777777777778,
              "#fb9f3a"
             ],
             [
              0.8888888888888888,
              "#fdca26"
             ],
             [
              1,
              "#f0f921"
             ]
            ],
            "type": "contour"
           }
          ],
          "contourcarpet": [
           {
            "colorbar": {
             "outlinewidth": 0,
             "ticks": ""
            },
            "type": "contourcarpet"
           }
          ],
          "heatmap": [
           {
            "colorbar": {
             "outlinewidth": 0,
             "ticks": ""
            },
            "colorscale": [
             [
              0,
              "#0d0887"
             ],
             [
              0.1111111111111111,
              "#46039f"
             ],
             [
              0.2222222222222222,
              "#7201a8"
             ],
             [
              0.3333333333333333,
              "#9c179e"
             ],
             [
              0.4444444444444444,
              "#bd3786"
             ],
             [
              0.5555555555555556,
              "#d8576b"
             ],
             [
              0.6666666666666666,
              "#ed7953"
             ],
             [
              0.7777777777777778,
              "#fb9f3a"
             ],
             [
              0.8888888888888888,
              "#fdca26"
             ],
             [
              1,
              "#f0f921"
             ]
            ],
            "type": "heatmap"
           }
          ],
          "heatmapgl": [
           {
            "colorbar": {
             "outlinewidth": 0,
             "ticks": ""
            },
            "colorscale": [
             [
              0,
              "#0d0887"
             ],
             [
              0.1111111111111111,
              "#46039f"
             ],
             [
              0.2222222222222222,
              "#7201a8"
             ],
             [
              0.3333333333333333,
              "#9c179e"
             ],
             [
              0.4444444444444444,
              "#bd3786"
             ],
             [
              0.5555555555555556,
              "#d8576b"
             ],
             [
              0.6666666666666666,
              "#ed7953"
             ],
             [
              0.7777777777777778,
              "#fb9f3a"
             ],
             [
              0.8888888888888888,
              "#fdca26"
             ],
             [
              1,
              "#f0f921"
             ]
            ],
            "type": "heatmapgl"
           }
          ],
          "histogram": [
           {
            "marker": {
             "pattern": {
              "fillmode": "overlay",
              "size": 10,
              "solidity": 0.2
             }
            },
            "type": "histogram"
           }
          ],
          "histogram2d": [
           {
            "colorbar": {
             "outlinewidth": 0,
             "ticks": ""
            },
            "colorscale": [
             [
              0,
              "#0d0887"
             ],
             [
              0.1111111111111111,
              "#46039f"
             ],
             [
              0.2222222222222222,
              "#7201a8"
             ],
             [
              0.3333333333333333,
              "#9c179e"
             ],
             [
              0.4444444444444444,
              "#bd3786"
             ],
             [
              0.5555555555555556,
              "#d8576b"
             ],
             [
              0.6666666666666666,
              "#ed7953"
             ],
             [
              0.7777777777777778,
              "#fb9f3a"
             ],
             [
              0.8888888888888888,
              "#fdca26"
             ],
             [
              1,
              "#f0f921"
             ]
            ],
            "type": "histogram2d"
           }
          ],
          "histogram2dcontour": [
           {
            "colorbar": {
             "outlinewidth": 0,
             "ticks": ""
            },
            "colorscale": [
             [
              0,
              "#0d0887"
             ],
             [
              0.1111111111111111,
              "#46039f"
             ],
             [
              0.2222222222222222,
              "#7201a8"
             ],
             [
              0.3333333333333333,
              "#9c179e"
             ],
             [
              0.4444444444444444,
              "#bd3786"
             ],
             [
              0.5555555555555556,
              "#d8576b"
             ],
             [
              0.6666666666666666,
              "#ed7953"
             ],
             [
              0.7777777777777778,
              "#fb9f3a"
             ],
             [
              0.8888888888888888,
              "#fdca26"
             ],
             [
              1,
              "#f0f921"
             ]
            ],
            "type": "histogram2dcontour"
           }
          ],
          "mesh3d": [
           {
            "colorbar": {
             "outlinewidth": 0,
             "ticks": ""
            },
            "type": "mesh3d"
           }
          ],
          "parcoords": [
           {
            "line": {
             "colorbar": {
              "outlinewidth": 0,
              "ticks": ""
             }
            },
            "type": "parcoords"
           }
          ],
          "pie": [
           {
            "automargin": true,
            "type": "pie"
           }
          ],
          "scatter": [
           {
            "marker": {
             "colorbar": {
              "outlinewidth": 0,
              "ticks": ""
             }
            },
            "type": "scatter"
           }
          ],
          "scatter3d": [
           {
            "line": {
             "colorbar": {
              "outlinewidth": 0,
              "ticks": ""
             }
            },
            "marker": {
             "colorbar": {
              "outlinewidth": 0,
              "ticks": ""
             }
            },
            "type": "scatter3d"
           }
          ],
          "scattercarpet": [
           {
            "marker": {
             "colorbar": {
              "outlinewidth": 0,
              "ticks": ""
             }
            },
            "type": "scattercarpet"
           }
          ],
          "scattergeo": [
           {
            "marker": {
             "colorbar": {
              "outlinewidth": 0,
              "ticks": ""
             }
            },
            "type": "scattergeo"
           }
          ],
          "scattergl": [
           {
            "marker": {
             "colorbar": {
              "outlinewidth": 0,
              "ticks": ""
             }
            },
            "type": "scattergl"
           }
          ],
          "scattermapbox": [
           {
            "marker": {
             "colorbar": {
              "outlinewidth": 0,
              "ticks": ""
             }
            },
            "type": "scattermapbox"
           }
          ],
          "scatterpolar": [
           {
            "marker": {
             "colorbar": {
              "outlinewidth": 0,
              "ticks": ""
             }
            },
            "type": "scatterpolar"
           }
          ],
          "scatterpolargl": [
           {
            "marker": {
             "colorbar": {
              "outlinewidth": 0,
              "ticks": ""
             }
            },
            "type": "scatterpolargl"
           }
          ],
          "scatterternary": [
           {
            "marker": {
             "colorbar": {
              "outlinewidth": 0,
              "ticks": ""
             }
            },
            "type": "scatterternary"
           }
          ],
          "surface": [
           {
            "colorbar": {
             "outlinewidth": 0,
             "ticks": ""
            },
            "colorscale": [
             [
              0,
              "#0d0887"
             ],
             [
              0.1111111111111111,
              "#46039f"
             ],
             [
              0.2222222222222222,
              "#7201a8"
             ],
             [
              0.3333333333333333,
              "#9c179e"
             ],
             [
              0.4444444444444444,
              "#bd3786"
             ],
             [
              0.5555555555555556,
              "#d8576b"
             ],
             [
              0.6666666666666666,
              "#ed7953"
             ],
             [
              0.7777777777777778,
              "#fb9f3a"
             ],
             [
              0.8888888888888888,
              "#fdca26"
             ],
             [
              1,
              "#f0f921"
             ]
            ],
            "type": "surface"
           }
          ],
          "table": [
           {
            "cells": {
             "fill": {
              "color": "#EBF0F8"
             },
             "line": {
              "color": "white"
             }
            },
            "header": {
             "fill": {
              "color": "#C8D4E3"
             },
             "line": {
              "color": "white"
             }
            },
            "type": "table"
           }
          ]
         },
         "layout": {
          "annotationdefaults": {
           "arrowcolor": "#2a3f5f",
           "arrowhead": 0,
           "arrowwidth": 1
          },
          "autotypenumbers": "strict",
          "coloraxis": {
           "colorbar": {
            "outlinewidth": 0,
            "ticks": ""
           }
          },
          "colorscale": {
           "diverging": [
            [
             0,
             "#8e0152"
            ],
            [
             0.1,
             "#c51b7d"
            ],
            [
             0.2,
             "#de77ae"
            ],
            [
             0.3,
             "#f1b6da"
            ],
            [
             0.4,
             "#fde0ef"
            ],
            [
             0.5,
             "#f7f7f7"
            ],
            [
             0.6,
             "#e6f5d0"
            ],
            [
             0.7,
             "#b8e186"
            ],
            [
             0.8,
             "#7fbc41"
            ],
            [
             0.9,
             "#4d9221"
            ],
            [
             1,
             "#276419"
            ]
           ],
           "sequential": [
            [
             0,
             "#0d0887"
            ],
            [
             0.1111111111111111,
             "#46039f"
            ],
            [
             0.2222222222222222,
             "#7201a8"
            ],
            [
             0.3333333333333333,
             "#9c179e"
            ],
            [
             0.4444444444444444,
             "#bd3786"
            ],
            [
             0.5555555555555556,
             "#d8576b"
            ],
            [
             0.6666666666666666,
             "#ed7953"
            ],
            [
             0.7777777777777778,
             "#fb9f3a"
            ],
            [
             0.8888888888888888,
             "#fdca26"
            ],
            [
             1,
             "#f0f921"
            ]
           ],
           "sequentialminus": [
            [
             0,
             "#0d0887"
            ],
            [
             0.1111111111111111,
             "#46039f"
            ],
            [
             0.2222222222222222,
             "#7201a8"
            ],
            [
             0.3333333333333333,
             "#9c179e"
            ],
            [
             0.4444444444444444,
             "#bd3786"
            ],
            [
             0.5555555555555556,
             "#d8576b"
            ],
            [
             0.6666666666666666,
             "#ed7953"
            ],
            [
             0.7777777777777778,
             "#fb9f3a"
            ],
            [
             0.8888888888888888,
             "#fdca26"
            ],
            [
             1,
             "#f0f921"
            ]
           ]
          },
          "colorway": [
           "#636efa",
           "#EF553B",
           "#00cc96",
           "#ab63fa",
           "#FFA15A",
           "#19d3f3",
           "#FF6692",
           "#B6E880",
           "#FF97FF",
           "#FECB52"
          ],
          "font": {
           "color": "#2a3f5f"
          },
          "geo": {
           "bgcolor": "white",
           "lakecolor": "white",
           "landcolor": "#E5ECF6",
           "showlakes": true,
           "showland": true,
           "subunitcolor": "white"
          },
          "hoverlabel": {
           "align": "left"
          },
          "hovermode": "closest",
          "mapbox": {
           "style": "light"
          },
          "paper_bgcolor": "white",
          "plot_bgcolor": "#E5ECF6",
          "polar": {
           "angularaxis": {
            "gridcolor": "white",
            "linecolor": "white",
            "ticks": ""
           },
           "bgcolor": "#E5ECF6",
           "radialaxis": {
            "gridcolor": "white",
            "linecolor": "white",
            "ticks": ""
           }
          },
          "scene": {
           "xaxis": {
            "backgroundcolor": "#E5ECF6",
            "gridcolor": "white",
            "gridwidth": 2,
            "linecolor": "white",
            "showbackground": true,
            "ticks": "",
            "zerolinecolor": "white"
           },
           "yaxis": {
            "backgroundcolor": "#E5ECF6",
            "gridcolor": "white",
            "gridwidth": 2,
            "linecolor": "white",
            "showbackground": true,
            "ticks": "",
            "zerolinecolor": "white"
           },
           "zaxis": {
            "backgroundcolor": "#E5ECF6",
            "gridcolor": "white",
            "gridwidth": 2,
            "linecolor": "white",
            "showbackground": true,
            "ticks": "",
            "zerolinecolor": "white"
           }
          },
          "shapedefaults": {
           "line": {
            "color": "#2a3f5f"
           }
          },
          "ternary": {
           "aaxis": {
            "gridcolor": "white",
            "linecolor": "white",
            "ticks": ""
           },
           "baxis": {
            "gridcolor": "white",
            "linecolor": "white",
            "ticks": ""
           },
           "bgcolor": "#E5ECF6",
           "caxis": {
            "gridcolor": "white",
            "linecolor": "white",
            "ticks": ""
           }
          },
          "title": {
           "x": 0.05
          },
          "xaxis": {
           "automargin": true,
           "gridcolor": "white",
           "linecolor": "white",
           "ticks": "",
           "title": {
            "standoff": 15
           },
           "zerolinecolor": "white",
           "zerolinewidth": 2
          },
          "yaxis": {
           "automargin": true,
           "gridcolor": "white",
           "linecolor": "white",
           "ticks": "",
           "title": {
            "standoff": 15
           },
           "zerolinecolor": "white",
           "zerolinewidth": 2
          }
         }
        },
        "width": 825,
        "xaxis": {
         "range": [
          -0.7,
          5
         ],
         "showticklabels": false
        },
        "yaxis": {
         "range": [
          -1,
          14
         ],
         "tickcolor": "#A6A6A5",
         "tickfont": {
          "color": "#231F20",
          "family": "Arial",
          "size": 18
         }
        }
       }
      }
     },
     "metadata": {},
     "output_type": "display_data"
    }
   ],
   "source": [
    "fig = go.Figure()\n",
    "\n",
    "# Plot -------------------------\n",
    "fig.add_heatmap(\n",
    "    x=df.columns,\n",
    "    y=df.index,\n",
    "    z=df.loc[:,:].values,\n",
    "    colorscale=[[0, 'rgb(16,83,154)'],\n",
    "                [0.083333333333333, 'rgb(16,83,154)'],\n",
    "                [0.083333333333333, 'rgb(54,131,187)'], \n",
    "                [0.166666666666667, 'rgb(54,131,187)'],\n",
    "                [0.166666666666667, 'rgb(110,175,212)'],\n",
    "                [0.25, 'rgb(110,175,212)'],\n",
    "                [0.25, 'rgb(160,210,235)'],\n",
    "                [0.333333333333333, 'rgb(160,210,235)'],\n",
    "                [0.333333333333333, 'rgb(239,243,255)'],\n",
    "                [1, 'rgb(239,243,255)']],\n",
    "    showscale=False,\n",
    ")\n",
    "\n",
    "# Annotation -------------------\n",
    "for i in range(5):\n",
    "    for j in range(14):\n",
    "        if df.iloc[j, i] < 4:\n",
    "            fig.add_annotation(\n",
    "                text=str(df.iloc[j, i]),\n",
    "                font=dict(color=\"white\", size=20, family=\"Arial\"),\n",
    "                x=df.columns.values[i],\n",
    "                y=df.index.values[j],\n",
    "                showarrow=False,\n",
    "            )\n",
    "        else:\n",
    "            fig.add_annotation(\n",
    "                text=str(df.iloc[j, i]),\n",
    "                font=dict(color=GRAY7, size=20, family=\"Arial\"),\n",
    "                x=df.columns.values[i],\n",
    "                y=df.index.values[j],\n",
    "                showarrow=False,\n",
    "            )\n",
    "\n",
    "# Text -------------------------\n",
    "\n",
    "\n",
    "# Layout -----------------------\n",
    "fig.update_layout(\n",
    "    width=825,\n",
    "    height=900,\n",
    "    margin=dict(t=165, b=82.5, l=180, r=90),\n",
    "    paper_bgcolor=\"white\",\n",
    "    plot_bgcolor=\"white\",\n",
    ")\n",
    "\n",
    "fig.update_xaxes(\n",
    "    showticklabels=False,\n",
    "    range=[-0.7, 5]\n",
    ")\n",
    "\n",
    "fig.update_yaxes(\n",
    "    tickfont=dict(color=GRAY1, size=18, family=\"Arial\"),\n",
    "    tickcolor=GRAY8,\n",
    "    range=[-1, 14]\n",
    ")"
   ]
  },
  {
   "cell_type": "markdown",
   "id": "c9f04da8",
   "metadata": {},
   "source": [
    "## Output"
   ]
  },
  {
   "cell_type": "code",
   "execution_count": 6,
   "id": "7776fe8a",
   "metadata": {},
   "outputs": [],
   "source": [
    "fig.write_image(\"plot/plot 4-15.png\", format=\"png\", width=900, height=600, scale=3)"
   ]
  }
 ],
 "metadata": {
  "kernelspec": {
   "display_name": "data",
   "language": "python",
   "name": "python3"
  },
  "language_info": {
   "codemirror_mode": {
    "name": "ipython",
    "version": 3
   },
   "file_extension": ".py",
   "mimetype": "text/x-python",
   "name": "python",
   "nbconvert_exporter": "python",
   "pygments_lexer": "ipython3",
   "version": "3.10.4"
  },
  "vscode": {
   "interpreter": {
    "hash": "87aa2df5676ce3636fa5c3ad845736f33e5dcc95e958fafe10accbd91339fdaa"
   }
  }
 },
 "nbformat": 4,
 "nbformat_minor": 5
}
