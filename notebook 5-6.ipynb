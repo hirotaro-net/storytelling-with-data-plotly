{
 "cells": [
  {
   "cell_type": "markdown",
   "id": "945bbfc2",
   "metadata": {},
   "source": [
    "## Required Modules"
   ]
  },
  {
   "cell_type": "code",
   "execution_count": 1,
   "id": "3ff355c6",
   "metadata": {},
   "outputs": [],
   "source": [
    "import numpy as np\n",
    "import pandas as pd\n",
    "import plotly.graph_objects as go"
   ]
  },
  {
   "cell_type": "markdown",
   "id": "ad865108",
   "metadata": {},
   "source": [
    "## Color Palette"
   ]
  },
  {
   "cell_type": "code",
   "execution_count": 2,
   "id": "2fa5f557",
   "metadata": {},
   "outputs": [],
   "source": [
    "from colors import *"
   ]
  },
  {
   "cell_type": "markdown",
   "id": "ad547d74",
   "metadata": {},
   "source": [
    "## Data"
   ]
  },
  {
   "cell_type": "code",
   "execution_count": 3,
   "id": "6363116b",
   "metadata": {
    "scrolled": false
   },
   "outputs": [],
   "source": [
    "df = pd.read_csv(\"data/data 5-6.csv\")"
   ]
  },
  {
   "cell_type": "code",
   "execution_count": 4,
   "id": "3928c6c6",
   "metadata": {},
   "outputs": [],
   "source": [
    "df['Satisfaction'] = df['Satisfaction'].str.replace('%', '').astype('int') / 100\n",
    "df['Issues per 1,000'] = df['Issues per 1,000'].astype('int')"
   ]
  },
  {
   "cell_type": "code",
   "execution_count": 5,
   "id": "6d43e353",
   "metadata": {},
   "outputs": [
    {
     "data": {
      "text/html": [
       "<div>\n",
       "<style scoped>\n",
       "    .dataframe tbody tr th:only-of-type {\n",
       "        vertical-align: middle;\n",
       "    }\n",
       "\n",
       "    .dataframe tbody tr th {\n",
       "        vertical-align: top;\n",
       "    }\n",
       "\n",
       "    .dataframe thead th {\n",
       "        text-align: right;\n",
       "    }\n",
       "</style>\n",
       "<table border=\"1\" class=\"dataframe\">\n",
       "  <thead>\n",
       "    <tr style=\"text-align: right;\">\n",
       "      <th></th>\n",
       "      <th>Model</th>\n",
       "      <th>Satisfaction</th>\n",
       "      <th>Issues per 1,000</th>\n",
       "    </tr>\n",
       "  </thead>\n",
       "  <tbody>\n",
       "    <tr>\n",
       "      <th>0</th>\n",
       "      <td>Prior Year Avg</td>\n",
       "      <td>0.72</td>\n",
       "      <td>895</td>\n",
       "    </tr>\n",
       "    <tr>\n",
       "      <th>1</th>\n",
       "      <td>Model A</td>\n",
       "      <td>0.73</td>\n",
       "      <td>487</td>\n",
       "    </tr>\n",
       "    <tr>\n",
       "      <th>2</th>\n",
       "      <td>Model B</td>\n",
       "      <td>0.76</td>\n",
       "      <td>1253</td>\n",
       "    </tr>\n",
       "    <tr>\n",
       "      <th>3</th>\n",
       "      <td>Model C</td>\n",
       "      <td>0.74</td>\n",
       "      <td>958</td>\n",
       "    </tr>\n",
       "    <tr>\n",
       "      <th>4</th>\n",
       "      <td>Model D</td>\n",
       "      <td>0.78</td>\n",
       "      <td>1009</td>\n",
       "    </tr>\n",
       "    <tr>\n",
       "      <th>5</th>\n",
       "      <td>Model E</td>\n",
       "      <td>0.84</td>\n",
       "      <td>720</td>\n",
       "    </tr>\n",
       "    <tr>\n",
       "      <th>6</th>\n",
       "      <td>Model F</td>\n",
       "      <td>0.78</td>\n",
       "      <td>942</td>\n",
       "    </tr>\n",
       "    <tr>\n",
       "      <th>7</th>\n",
       "      <td>Model G</td>\n",
       "      <td>0.75</td>\n",
       "      <td>800</td>\n",
       "    </tr>\n",
       "  </tbody>\n",
       "</table>\n",
       "</div>"
      ],
      "text/plain": [
       "            Model  Satisfaction  Issues per 1,000\n",
       "0  Prior Year Avg          0.72               895\n",
       "1         Model A          0.73               487\n",
       "2         Model B          0.76              1253\n",
       "3         Model C          0.74               958\n",
       "4         Model D          0.78              1009\n",
       "5         Model E          0.84               720\n",
       "6         Model F          0.78               942\n",
       "7         Model G          0.75               800"
      ]
     },
     "execution_count": 5,
     "metadata": {},
     "output_type": "execute_result"
    }
   ],
   "source": [
    "df"
   ]
  },
  {
   "cell_type": "code",
   "execution_count": 6,
   "id": "3ddd0df2",
   "metadata": {},
   "outputs": [
    {
     "data": {
      "text/plain": [
       "['#231F20',\n",
       " '#BFBEBE',\n",
       " '#C3514E',\n",
       " '#C3514E',\n",
       " '#C3514E',\n",
       " '#BFBEBE',\n",
       " '#C3514E',\n",
       " '#BFBEBE']"
      ]
     },
     "execution_count": 6,
     "metadata": {},
     "output_type": "execute_result"
    }
   ],
   "source": [
    "color = [GRAY1] + [GRAY9] + [RED1] * 3 + [GRAY9] + [RED1] + [GRAY9]\n",
    "color"
   ]
  },
  {
   "cell_type": "markdown",
   "id": "8577fcdf",
   "metadata": {},
   "source": [
    "## Data Visualization "
   ]
  },
  {
   "cell_type": "code",
   "execution_count": 7,
   "id": "d423a6c4",
   "metadata": {
    "scrolled": false
   },
   "outputs": [
    {
     "data": {
      "application/vnd.plotly.v1+json": {
       "config": {
        "plotlyServerURL": "https://plot.ly"
       },
       "data": [
        {
         "marker": {
          "color": [
           "#231F20",
           "#BFBEBE",
           "#C3514E",
           "#C3514E",
           "#C3514E",
           "#BFBEBE",
           "#C3514E",
           "#BFBEBE"
          ],
          "size": 13
         },
         "mode": "markers",
         "type": "scatter",
         "x": [
          0.72,
          0.73,
          0.76,
          0.74,
          0.78,
          0.84,
          0.78,
          0.75
         ],
         "y": [
          895,
          487,
          1253,
          958,
          1009,
          720,
          942,
          800
         ]
        }
       ],
       "layout": {
        "annotations": [
         {
          "bgcolor": "white",
          "font": {
           "color": "#231F20",
           "size": 15
          },
          "showarrow": false,
          "text": "Prior Year Avg",
          "x": 0.72,
          "xshift": -80,
          "y": 895,
          "yshift": 0
         },
         {
          "font": {
           "color": "#BFBEBE",
           "size": 15
          },
          "showarrow": false,
          "text": "Model A",
          "x": 0.73,
          "xshift": 25,
          "y": 487,
          "yshift": 20
         },
         {
          "bgcolor": "white",
          "font": {
           "color": "#C3514E",
           "size": 15
          },
          "showarrow": false,
          "text": "Model B",
          "x": 0.76,
          "xshift": -25,
          "y": 1253,
          "yshift": -20
         },
         {
          "bgcolor": "white",
          "font": {
           "color": "#C3514E",
           "size": 15
          },
          "showarrow": false,
          "text": "Model C",
          "x": 0.74,
          "xshift": -25,
          "y": 958,
          "yshift": -20
         },
         {
          "bgcolor": "white",
          "font": {
           "color": "#C3514E",
           "size": 15
          },
          "showarrow": false,
          "text": "Model D",
          "x": 0.78,
          "xshift": -25,
          "y": 1009,
          "yshift": -20
         },
         {
          "font": {
           "color": "#BFBEBE",
           "size": 15
          },
          "showarrow": false,
          "text": "Model E",
          "x": 0.84,
          "xshift": -25,
          "y": 720,
          "yshift": -20
         },
         {
          "bgcolor": "white",
          "font": {
           "color": "#C3514E",
           "size": 15
          },
          "showarrow": false,
          "text": "Model F",
          "x": 0.78,
          "xshift": 0,
          "y": 942,
          "yshift": 20
         },
         {
          "bgcolor": "white",
          "font": {
           "color": "#BFBEBE",
           "size": 15
          },
          "showarrow": false,
          "text": "Model G",
          "x": 0.75,
          "xshift": -25,
          "y": 800,
          "yshift": 20
         },
         {
          "align": "left",
          "font": {
           "color": "#555655",
           "family": "Arial",
           "size": 18
          },
          "showarrow": false,
          "text": "<b>Issue</b> vs. <b>Satisfaction</b> by Model",
          "x": 0.58,
          "xshift": -30,
          "y": -100,
          "yshift": 120
         },
         {
          "align": "left",
          "font": {
           "color": "#555655",
           "family": "Arial",
           "size": 18
          },
          "showarrow": false,
          "text": "Satisfaction",
          "x": 0.58,
          "xshift": 45,
          "y": -100,
          "yshift": 80
         },
         {
          "align": "left",
          "font": {
           "color": "#BFBEBE",
           "family": "Arial",
           "size": 18
          },
          "showarrow": false,
          "text": "<b>LOW</b>",
          "x": 0.58,
          "xshift": 20,
          "y": -100,
          "yshift": 50
         },
         {
          "align": "left",
          "font": {
           "color": "#BFBEBE",
           "family": "Arial",
           "size": 18
          },
          "showarrow": false,
          "text": "<b>HIGH</b>",
          "x": 0.92,
          "xshift": -30,
          "y": -100,
          "yshift": 50
         },
         {
          "align": "left",
          "font": {
           "color": "#BFBEBE",
           "family": "Arial",
           "size": 12
          },
          "showarrow": false,
          "text": "%satisfied or highly satisfied",
          "x": 0.58,
          "xshift": 75,
          "y": -100,
          "yshift": 33
         },
         {
          "align": "right",
          "font": {
           "color": "#555655",
           "family": "Arial",
           "size": 18
          },
          "showarrow": false,
          "text": "Things Gone<br>Wrong",
          "x": 0.58,
          "xshift": -120,
          "y": -100,
          "yshift": 60
         },
         {
          "align": "left",
          "font": {
           "color": "#BFBEBE",
           "family": "Arial",
           "size": 18
          },
          "showarrow": false,
          "text": "<b>FEW</b>",
          "x": 0.58,
          "xshift": -100,
          "y": -100,
          "yshift": 0
         },
         {
          "align": "left",
          "font": {
           "color": "#BFBEBE",
           "family": "Arial",
           "size": 18
          },
          "showarrow": false,
          "text": "<b>MANY</b>",
          "x": 0.58,
          "xshift": -100,
          "y": 1500,
          "yshift": 0
         },
         {
          "align": "left",
          "font": {
           "color": "#BFBEBE",
           "family": "Arial",
           "size": 12
          },
          "showarrow": false,
          "text": "Number of issues per 1,000",
          "textangle": -90,
          "x": 0.58,
          "xshift": -50,
          "y": -100,
          "yshift": -75
         },
         {
          "align": "right",
          "font": {
           "color": "#BFBEBE",
           "family": "Arial",
           "size": 18
          },
          "showarrow": false,
          "text": "<b>High Satisfaction,<br>Few Issues</b>",
          "x": 0.92,
          "xshift": -70,
          "y": 0,
          "yshift": -15
         },
         {
          "align": "right",
          "font": {
           "color": "#BFBEBE",
           "family": "Arial",
           "size": 18
          },
          "showarrow": false,
          "text": "<b>High Satisfaction</b>,<br><b style='color: #C3514E'>Many Issues</b>",
          "x": 0.92,
          "xshift": -70,
          "y": 1400,
          "yshift": -15
         }
        ],
        "height": 568,
        "margin": {
         "b": 38,
         "l": 190,
         "r": 28,
         "t": 152
        },
        "paper_bgcolor": "white",
        "plot_bgcolor": "white",
        "shapes": [
         {
          "line": {
           "color": "#231F20",
           "width": 2
          },
          "type": "line",
          "x0": 0,
          "x1": 1,
          "xref": "x domain",
          "y0": 895,
          "y1": 895,
          "yref": "y"
         },
         {
          "line": {
           "color": "#231F20",
           "width": 2
          },
          "type": "line",
          "x0": 0.72,
          "x1": 0.72,
          "xref": "x",
          "y0": 0,
          "y1": 1,
          "yref": "y domain"
         }
        ],
        "showlegend": false,
        "template": {
         "data": {
          "bar": [
           {
            "error_x": {
             "color": "#2a3f5f"
            },
            "error_y": {
             "color": "#2a3f5f"
            },
            "marker": {
             "line": {
              "color": "#E5ECF6",
              "width": 0.5
             },
             "pattern": {
              "fillmode": "overlay",
              "size": 10,
              "solidity": 0.2
             }
            },
            "type": "bar"
           }
          ],
          "barpolar": [
           {
            "marker": {
             "line": {
              "color": "#E5ECF6",
              "width": 0.5
             },
             "pattern": {
              "fillmode": "overlay",
              "size": 10,
              "solidity": 0.2
             }
            },
            "type": "barpolar"
           }
          ],
          "carpet": [
           {
            "aaxis": {
             "endlinecolor": "#2a3f5f",
             "gridcolor": "white",
             "linecolor": "white",
             "minorgridcolor": "white",
             "startlinecolor": "#2a3f5f"
            },
            "baxis": {
             "endlinecolor": "#2a3f5f",
             "gridcolor": "white",
             "linecolor": "white",
             "minorgridcolor": "white",
             "startlinecolor": "#2a3f5f"
            },
            "type": "carpet"
           }
          ],
          "choropleth": [
           {
            "colorbar": {
             "outlinewidth": 0,
             "ticks": ""
            },
            "type": "choropleth"
           }
          ],
          "contour": [
           {
            "colorbar": {
             "outlinewidth": 0,
             "ticks": ""
            },
            "colorscale": [
             [
              0,
              "#0d0887"
             ],
             [
              0.1111111111111111,
              "#46039f"
             ],
             [
              0.2222222222222222,
              "#7201a8"
             ],
             [
              0.3333333333333333,
              "#9c179e"
             ],
             [
              0.4444444444444444,
              "#bd3786"
             ],
             [
              0.5555555555555556,
              "#d8576b"
             ],
             [
              0.6666666666666666,
              "#ed7953"
             ],
             [
              0.7777777777777778,
              "#fb9f3a"
             ],
             [
              0.8888888888888888,
              "#fdca26"
             ],
             [
              1,
              "#f0f921"
             ]
            ],
            "type": "contour"
           }
          ],
          "contourcarpet": [
           {
            "colorbar": {
             "outlinewidth": 0,
             "ticks": ""
            },
            "type": "contourcarpet"
           }
          ],
          "heatmap": [
           {
            "colorbar": {
             "outlinewidth": 0,
             "ticks": ""
            },
            "colorscale": [
             [
              0,
              "#0d0887"
             ],
             [
              0.1111111111111111,
              "#46039f"
             ],
             [
              0.2222222222222222,
              "#7201a8"
             ],
             [
              0.3333333333333333,
              "#9c179e"
             ],
             [
              0.4444444444444444,
              "#bd3786"
             ],
             [
              0.5555555555555556,
              "#d8576b"
             ],
             [
              0.6666666666666666,
              "#ed7953"
             ],
             [
              0.7777777777777778,
              "#fb9f3a"
             ],
             [
              0.8888888888888888,
              "#fdca26"
             ],
             [
              1,
              "#f0f921"
             ]
            ],
            "type": "heatmap"
           }
          ],
          "heatmapgl": [
           {
            "colorbar": {
             "outlinewidth": 0,
             "ticks": ""
            },
            "colorscale": [
             [
              0,
              "#0d0887"
             ],
             [
              0.1111111111111111,
              "#46039f"
             ],
             [
              0.2222222222222222,
              "#7201a8"
             ],
             [
              0.3333333333333333,
              "#9c179e"
             ],
             [
              0.4444444444444444,
              "#bd3786"
             ],
             [
              0.5555555555555556,
              "#d8576b"
             ],
             [
              0.6666666666666666,
              "#ed7953"
             ],
             [
              0.7777777777777778,
              "#fb9f3a"
             ],
             [
              0.8888888888888888,
              "#fdca26"
             ],
             [
              1,
              "#f0f921"
             ]
            ],
            "type": "heatmapgl"
           }
          ],
          "histogram": [
           {
            "marker": {
             "pattern": {
              "fillmode": "overlay",
              "size": 10,
              "solidity": 0.2
             }
            },
            "type": "histogram"
           }
          ],
          "histogram2d": [
           {
            "colorbar": {
             "outlinewidth": 0,
             "ticks": ""
            },
            "colorscale": [
             [
              0,
              "#0d0887"
             ],
             [
              0.1111111111111111,
              "#46039f"
             ],
             [
              0.2222222222222222,
              "#7201a8"
             ],
             [
              0.3333333333333333,
              "#9c179e"
             ],
             [
              0.4444444444444444,
              "#bd3786"
             ],
             [
              0.5555555555555556,
              "#d8576b"
             ],
             [
              0.6666666666666666,
              "#ed7953"
             ],
             [
              0.7777777777777778,
              "#fb9f3a"
             ],
             [
              0.8888888888888888,
              "#fdca26"
             ],
             [
              1,
              "#f0f921"
             ]
            ],
            "type": "histogram2d"
           }
          ],
          "histogram2dcontour": [
           {
            "colorbar": {
             "outlinewidth": 0,
             "ticks": ""
            },
            "colorscale": [
             [
              0,
              "#0d0887"
             ],
             [
              0.1111111111111111,
              "#46039f"
             ],
             [
              0.2222222222222222,
              "#7201a8"
             ],
             [
              0.3333333333333333,
              "#9c179e"
             ],
             [
              0.4444444444444444,
              "#bd3786"
             ],
             [
              0.5555555555555556,
              "#d8576b"
             ],
             [
              0.6666666666666666,
              "#ed7953"
             ],
             [
              0.7777777777777778,
              "#fb9f3a"
             ],
             [
              0.8888888888888888,
              "#fdca26"
             ],
             [
              1,
              "#f0f921"
             ]
            ],
            "type": "histogram2dcontour"
           }
          ],
          "mesh3d": [
           {
            "colorbar": {
             "outlinewidth": 0,
             "ticks": ""
            },
            "type": "mesh3d"
           }
          ],
          "parcoords": [
           {
            "line": {
             "colorbar": {
              "outlinewidth": 0,
              "ticks": ""
             }
            },
            "type": "parcoords"
           }
          ],
          "pie": [
           {
            "automargin": true,
            "type": "pie"
           }
          ],
          "scatter": [
           {
            "marker": {
             "colorbar": {
              "outlinewidth": 0,
              "ticks": ""
             }
            },
            "type": "scatter"
           }
          ],
          "scatter3d": [
           {
            "line": {
             "colorbar": {
              "outlinewidth": 0,
              "ticks": ""
             }
            },
            "marker": {
             "colorbar": {
              "outlinewidth": 0,
              "ticks": ""
             }
            },
            "type": "scatter3d"
           }
          ],
          "scattercarpet": [
           {
            "marker": {
             "colorbar": {
              "outlinewidth": 0,
              "ticks": ""
             }
            },
            "type": "scattercarpet"
           }
          ],
          "scattergeo": [
           {
            "marker": {
             "colorbar": {
              "outlinewidth": 0,
              "ticks": ""
             }
            },
            "type": "scattergeo"
           }
          ],
          "scattergl": [
           {
            "marker": {
             "colorbar": {
              "outlinewidth": 0,
              "ticks": ""
             }
            },
            "type": "scattergl"
           }
          ],
          "scattermapbox": [
           {
            "marker": {
             "colorbar": {
              "outlinewidth": 0,
              "ticks": ""
             }
            },
            "type": "scattermapbox"
           }
          ],
          "scatterpolar": [
           {
            "marker": {
             "colorbar": {
              "outlinewidth": 0,
              "ticks": ""
             }
            },
            "type": "scatterpolar"
           }
          ],
          "scatterpolargl": [
           {
            "marker": {
             "colorbar": {
              "outlinewidth": 0,
              "ticks": ""
             }
            },
            "type": "scatterpolargl"
           }
          ],
          "scatterternary": [
           {
            "marker": {
             "colorbar": {
              "outlinewidth": 0,
              "ticks": ""
             }
            },
            "type": "scatterternary"
           }
          ],
          "surface": [
           {
            "colorbar": {
             "outlinewidth": 0,
             "ticks": ""
            },
            "colorscale": [
             [
              0,
              "#0d0887"
             ],
             [
              0.1111111111111111,
              "#46039f"
             ],
             [
              0.2222222222222222,
              "#7201a8"
             ],
             [
              0.3333333333333333,
              "#9c179e"
             ],
             [
              0.4444444444444444,
              "#bd3786"
             ],
             [
              0.5555555555555556,
              "#d8576b"
             ],
             [
              0.6666666666666666,
              "#ed7953"
             ],
             [
              0.7777777777777778,
              "#fb9f3a"
             ],
             [
              0.8888888888888888,
              "#fdca26"
             ],
             [
              1,
              "#f0f921"
             ]
            ],
            "type": "surface"
           }
          ],
          "table": [
           {
            "cells": {
             "fill": {
              "color": "#EBF0F8"
             },
             "line": {
              "color": "white"
             }
            },
            "header": {
             "fill": {
              "color": "#C8D4E3"
             },
             "line": {
              "color": "white"
             }
            },
            "type": "table"
           }
          ]
         },
         "layout": {
          "annotationdefaults": {
           "arrowcolor": "#2a3f5f",
           "arrowhead": 0,
           "arrowwidth": 1
          },
          "autotypenumbers": "strict",
          "coloraxis": {
           "colorbar": {
            "outlinewidth": 0,
            "ticks": ""
           }
          },
          "colorscale": {
           "diverging": [
            [
             0,
             "#8e0152"
            ],
            [
             0.1,
             "#c51b7d"
            ],
            [
             0.2,
             "#de77ae"
            ],
            [
             0.3,
             "#f1b6da"
            ],
            [
             0.4,
             "#fde0ef"
            ],
            [
             0.5,
             "#f7f7f7"
            ],
            [
             0.6,
             "#e6f5d0"
            ],
            [
             0.7,
             "#b8e186"
            ],
            [
             0.8,
             "#7fbc41"
            ],
            [
             0.9,
             "#4d9221"
            ],
            [
             1,
             "#276419"
            ]
           ],
           "sequential": [
            [
             0,
             "#0d0887"
            ],
            [
             0.1111111111111111,
             "#46039f"
            ],
            [
             0.2222222222222222,
             "#7201a8"
            ],
            [
             0.3333333333333333,
             "#9c179e"
            ],
            [
             0.4444444444444444,
             "#bd3786"
            ],
            [
             0.5555555555555556,
             "#d8576b"
            ],
            [
             0.6666666666666666,
             "#ed7953"
            ],
            [
             0.7777777777777778,
             "#fb9f3a"
            ],
            [
             0.8888888888888888,
             "#fdca26"
            ],
            [
             1,
             "#f0f921"
            ]
           ],
           "sequentialminus": [
            [
             0,
             "#0d0887"
            ],
            [
             0.1111111111111111,
             "#46039f"
            ],
            [
             0.2222222222222222,
             "#7201a8"
            ],
            [
             0.3333333333333333,
             "#9c179e"
            ],
            [
             0.4444444444444444,
             "#bd3786"
            ],
            [
             0.5555555555555556,
             "#d8576b"
            ],
            [
             0.6666666666666666,
             "#ed7953"
            ],
            [
             0.7777777777777778,
             "#fb9f3a"
            ],
            [
             0.8888888888888888,
             "#fdca26"
            ],
            [
             1,
             "#f0f921"
            ]
           ]
          },
          "colorway": [
           "#636efa",
           "#EF553B",
           "#00cc96",
           "#ab63fa",
           "#FFA15A",
           "#19d3f3",
           "#FF6692",
           "#B6E880",
           "#FF97FF",
           "#FECB52"
          ],
          "font": {
           "color": "#2a3f5f"
          },
          "geo": {
           "bgcolor": "white",
           "lakecolor": "white",
           "landcolor": "#E5ECF6",
           "showlakes": true,
           "showland": true,
           "subunitcolor": "white"
          },
          "hoverlabel": {
           "align": "left"
          },
          "hovermode": "closest",
          "mapbox": {
           "style": "light"
          },
          "paper_bgcolor": "white",
          "plot_bgcolor": "#E5ECF6",
          "polar": {
           "angularaxis": {
            "gridcolor": "white",
            "linecolor": "white",
            "ticks": ""
           },
           "bgcolor": "#E5ECF6",
           "radialaxis": {
            "gridcolor": "white",
            "linecolor": "white",
            "ticks": ""
           }
          },
          "scene": {
           "xaxis": {
            "backgroundcolor": "#E5ECF6",
            "gridcolor": "white",
            "gridwidth": 2,
            "linecolor": "white",
            "showbackground": true,
            "ticks": "",
            "zerolinecolor": "white"
           },
           "yaxis": {
            "backgroundcolor": "#E5ECF6",
            "gridcolor": "white",
            "gridwidth": 2,
            "linecolor": "white",
            "showbackground": true,
            "ticks": "",
            "zerolinecolor": "white"
           },
           "zaxis": {
            "backgroundcolor": "#E5ECF6",
            "gridcolor": "white",
            "gridwidth": 2,
            "linecolor": "white",
            "showbackground": true,
            "ticks": "",
            "zerolinecolor": "white"
           }
          },
          "shapedefaults": {
           "line": {
            "color": "#2a3f5f"
           }
          },
          "ternary": {
           "aaxis": {
            "gridcolor": "white",
            "linecolor": "white",
            "ticks": ""
           },
           "baxis": {
            "gridcolor": "white",
            "linecolor": "white",
            "ticks": ""
           },
           "bgcolor": "#E5ECF6",
           "caxis": {
            "gridcolor": "white",
            "linecolor": "white",
            "ticks": ""
           }
          },
          "title": {
           "x": 0.05
          },
          "xaxis": {
           "automargin": true,
           "gridcolor": "white",
           "linecolor": "white",
           "ticks": "",
           "title": {
            "standoff": 15
           },
           "zerolinecolor": "white",
           "zerolinewidth": 2
          },
          "yaxis": {
           "automargin": true,
           "gridcolor": "white",
           "linecolor": "white",
           "ticks": "",
           "title": {
            "standoff": 15
           },
           "zerolinecolor": "white",
           "zerolinewidth": 2
          }
         }
        },
        "width": 760,
        "xaxis": {
         "linecolor": "#929497",
         "range": [
          0.58,
          0.92
         ],
         "side": "top",
         "tickcolor": "#A6A6A5",
         "tickfont": {
          "color": "#BFBEBE",
          "family": "Arial",
          "size": 15
         },
         "tickformat": ".0%",
         "ticklabelposition": "outside",
         "ticks": "outside"
        },
        "yaxis": {
         "automargin": true,
         "linecolor": "#929497",
         "range": [
          1500,
          -100
         ],
         "tickcolor": "#A6A6A5",
         "tickfont": {
          "color": "#BFBEBE",
          "family": "Arial",
          "size": 15
         },
         "ticklabelposition": "outside",
         "ticks": "outside"
        }
       }
      }
     },
     "metadata": {},
     "output_type": "display_data"
    }
   ],
   "source": [
    "fig = go.Figure()\n",
    "\n",
    "# Plot -------------------------\n",
    "fig.add_hline(\n",
    "    y=895,\n",
    "    line=dict(color=GRAY1, width=2)\n",
    ")\n",
    "\n",
    "fig.add_vline(\n",
    "    x=0.72,\n",
    "    line=dict(color=GRAY1, width=2)\n",
    ")\n",
    "\n",
    "fig.add_scatter(\n",
    "    x=df['Satisfaction'],\n",
    "    y=df['Issues per 1,000'],\n",
    "    mode=\"markers\",\n",
    "    marker=dict(color=color, size=13)\n",
    ")\n",
    "\n",
    "# Annotation -------------------\n",
    "fig.add_annotation(\n",
    "    text=df['Model'][0],\n",
    "    font=dict(color=color[0], size=15),\n",
    "    x=df['Satisfaction'][0],\n",
    "    y=df['Issues per 1,000'][0],\n",
    "    xshift=-80,\n",
    "    yshift=0,\n",
    "    showarrow=False,\n",
    "    bgcolor='white'\n",
    ")\n",
    "\n",
    "fig.add_annotation(\n",
    "    text=df['Model'][1],\n",
    "    font=dict(color=color[1], size=15),\n",
    "    x=df['Satisfaction'][1],\n",
    "    y=df['Issues per 1,000'][1],\n",
    "    xshift=25,\n",
    "    yshift=20,\n",
    "    showarrow=False,\n",
    ")\n",
    "\n",
    "for i in range(3):\n",
    "    fig.add_annotation(\n",
    "        text=df['Model'][2 + i],\n",
    "        font=dict(color=color[2 + i], size=15),\n",
    "        x=df['Satisfaction'][2 + i],\n",
    "        y=df['Issues per 1,000'][2 + i],\n",
    "        xshift=-25,\n",
    "        yshift=-20,\n",
    "        showarrow=False,\n",
    "        bgcolor='white'\n",
    "    )\n",
    "\n",
    "fig.add_annotation(\n",
    "    text=df['Model'][5],\n",
    "    font=dict(color=color[5], size=15),\n",
    "    x=df['Satisfaction'][5],\n",
    "    y=df['Issues per 1,000'][5],\n",
    "    xshift=-25,\n",
    "    yshift=-20,\n",
    "    showarrow=False,\n",
    ")\n",
    "\n",
    "fig.add_annotation(\n",
    "    text=df['Model'][6],\n",
    "    font=dict(color=color[6], size=15),\n",
    "    x=df['Satisfaction'][6],\n",
    "    y=df['Issues per 1,000'][6],\n",
    "    xshift=0,\n",
    "    yshift=20,\n",
    "    showarrow=False,\n",
    "    bgcolor='white'\n",
    ")\n",
    "\n",
    "fig.add_annotation(\n",
    "    text=df['Model'][7],\n",
    "    font=dict(color=color[7], size=15),\n",
    "    x=df['Satisfaction'][7],\n",
    "    y=df['Issues per 1,000'][7],\n",
    "    xshift=-25,\n",
    "    yshift=20,\n",
    "    showarrow=False,\n",
    "    bgcolor='white'\n",
    ")\n",
    "\n",
    "# Text -------------------------\n",
    "fig.add_annotation(\n",
    "    text=\"<b>Issue</b> vs. <b>Satisfaction</b> by Model\",\n",
    "    align='left',\n",
    "    font=dict(color=GRAY3, size=18, family=\"Arial\"),\n",
    "    x=0.58,\n",
    "    y=-100,\n",
    "    xshift=-30,\n",
    "    yshift=120,\n",
    "    showarrow=False\n",
    ")\n",
    "\n",
    "fig.add_annotation(\n",
    "    text=\"Satisfaction\",\n",
    "    align='left',\n",
    "    font=dict(color=GRAY3, size=18, family=\"Arial\"),\n",
    "    x=0.58,\n",
    "    y=-100,\n",
    "    xshift=45,\n",
    "    yshift=80,\n",
    "    showarrow=False\n",
    ")\n",
    "\n",
    "fig.add_annotation(\n",
    "    text=\"<b>LOW</b>\",\n",
    "    align='left',\n",
    "    font=dict(color=GRAY9, size=18, family=\"Arial\"),\n",
    "    x=0.58,\n",
    "    y=-100,\n",
    "    xshift=20,\n",
    "    yshift=50,\n",
    "    showarrow=False\n",
    ")\n",
    "\n",
    "fig.add_annotation(\n",
    "    text=\"<b>HIGH</b>\",\n",
    "    align='left',\n",
    "    font=dict(color=GRAY9, size=18, family=\"Arial\"),\n",
    "    x=0.92,\n",
    "    y=-100,\n",
    "    xshift=-30,\n",
    "    yshift=50,\n",
    "    showarrow=False\n",
    ")\n",
    "\n",
    "fig.add_annotation(\n",
    "    text=\"%satisfied or highly satisfied\",\n",
    "    align='left',\n",
    "    font=dict(color=GRAY9, size=12, family=\"Arial\"),\n",
    "    x=0.58,\n",
    "    y=-100,\n",
    "    xshift=75,\n",
    "    yshift=33,\n",
    "    showarrow=False\n",
    ")\n",
    "\n",
    "fig.add_annotation(\n",
    "    text=\"Things Gone<br>Wrong\",\n",
    "    align='right',\n",
    "    font=dict(color=GRAY3, size=18, family=\"Arial\"),\n",
    "    x=0.58,\n",
    "    y=-100,\n",
    "    xshift=-120,\n",
    "    yshift=60,\n",
    "    showarrow=False\n",
    ")\n",
    "\n",
    "fig.add_annotation(\n",
    "    text=\"<b>FEW</b>\",\n",
    "    align='left',\n",
    "    font=dict(color=GRAY9, size=18, family=\"Arial\"),\n",
    "    x=0.58,\n",
    "    y=-100,\n",
    "    xshift=-100,\n",
    "    yshift=0,\n",
    "    showarrow=False\n",
    ")\n",
    "\n",
    "fig.add_annotation(\n",
    "    text=\"<b>MANY</b>\",\n",
    "    align='left',\n",
    "    font=dict(color=GRAY9, size=18, family=\"Arial\"),\n",
    "    x=0.58,\n",
    "    y=1500,\n",
    "    xshift=-100,\n",
    "    yshift=0,\n",
    "    showarrow=False\n",
    ")\n",
    "\n",
    "fig.add_annotation(\n",
    "    text=\"Number of issues per 1,000\",\n",
    "    align='left',\n",
    "    textangle=-90,\n",
    "    font=dict(color=GRAY9, size=12, family=\"Arial\"),\n",
    "    x=0.58,\n",
    "    y=-100,\n",
    "    xshift=-50,\n",
    "    yshift=-75,\n",
    "    showarrow=False\n",
    ")\n",
    "\n",
    "fig.add_annotation(\n",
    "    text=\"<b>High Satisfaction,<br>Few Issues</b>\",\n",
    "    align='right',\n",
    "    font=dict(color=GRAY9, size=18, family=\"Arial\"),\n",
    "    x=0.92,\n",
    "    y=0,\n",
    "    xshift=-70,\n",
    "    yshift=-15,\n",
    "    showarrow=False\n",
    ")\n",
    "\n",
    "fig.add_annotation(\n",
    "    text=f\"<b>High Satisfaction</b>,<br><b style='color: {RED1}'>Many Issues</b>\",\n",
    "    align='right',\n",
    "    font=dict(color=GRAY9, size=18, family=\"Arial\"),\n",
    "    x=0.92,\n",
    "    y=1400,\n",
    "    xshift=-70,\n",
    "    yshift=-15,\n",
    "    showarrow=False\n",
    ")\n",
    "\n",
    "# Layout -----------------------\n",
    "fig.update_layout(\n",
    "    width=760,\n",
    "    height=568,\n",
    "    margin=dict(t=152, b=38, l=190, r=28),\n",
    "    paper_bgcolor=\"white\",\n",
    "    plot_bgcolor=\"white\",\n",
    "    showlegend=False,\n",
    ")\n",
    "\n",
    "fig.update_xaxes(\n",
    "    tickfont=dict(color=GRAY9, size=15, family=\"Arial\"),\n",
    "    tickcolor=GRAY8,\n",
    "    ticks='outside',\n",
    "    tickformat='.0%',\n",
    "    ticklabelposition='outside',\n",
    "    linecolor=GRAY7,\n",
    "    side=\"top\",\n",
    "    range=[0.58, 0.92]\n",
    ")\n",
    "\n",
    "fig.update_yaxes(\n",
    "    tickfont=dict(color=GRAY9, size=15, family=\"Arial\"),\n",
    "    tickcolor=GRAY8,\n",
    "    ticks='outside',\n",
    "    ticklabelposition='outside',\n",
    "    linecolor=GRAY7,\n",
    "    automargin=True,\n",
    "    range=[1500, -100],\n",
    ")"
   ]
  },
  {
   "cell_type": "markdown",
   "id": "c9f04da8",
   "metadata": {},
   "source": [
    "## Output"
   ]
  },
  {
   "cell_type": "code",
   "execution_count": 8,
   "id": "7776fe8a",
   "metadata": {},
   "outputs": [],
   "source": [
    "fig.write_image(\"plot/plot 5-6.png\", format=\"png\", width=760, height=568, scale=3)"
   ]
  }
 ],
 "metadata": {
  "kernelspec": {
   "display_name": "data",
   "language": "python",
   "name": "python3"
  },
  "language_info": {
   "codemirror_mode": {
    "name": "ipython",
    "version": 3
   },
   "file_extension": ".py",
   "mimetype": "text/x-python",
   "name": "python",
   "nbconvert_exporter": "python",
   "pygments_lexer": "ipython3",
   "version": "3.10.4"
  },
  "vscode": {
   "interpreter": {
    "hash": "87aa2df5676ce3636fa5c3ad845736f33e5dcc95e958fafe10accbd91339fdaa"
   }
  }
 },
 "nbformat": 4,
 "nbformat_minor": 5
}
