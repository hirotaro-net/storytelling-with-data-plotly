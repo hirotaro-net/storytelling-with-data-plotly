{
 "cells": [
  {
   "cell_type": "markdown",
   "id": "945bbfc2",
   "metadata": {},
   "source": [
    "## Required Modules"
   ]
  },
  {
   "cell_type": "code",
   "execution_count": 1,
   "id": "3ff355c6",
   "metadata": {},
   "outputs": [],
   "source": [
    "import numpy as np\n",
    "import pandas as pd\n",
    "import plotly.graph_objects as go"
   ]
  },
  {
   "cell_type": "markdown",
   "id": "ad865108",
   "metadata": {},
   "source": [
    "## Color Palette"
   ]
  },
  {
   "cell_type": "code",
   "execution_count": 2,
   "id": "2fa5f557",
   "metadata": {},
   "outputs": [],
   "source": [
    "from colors import *"
   ]
  },
  {
   "cell_type": "markdown",
   "id": "ad547d74",
   "metadata": {},
   "source": [
    "## Data"
   ]
  },
  {
   "cell_type": "code",
   "execution_count": 3,
   "id": "6363116b",
   "metadata": {
    "scrolled": false
   },
   "outputs": [],
   "source": [
    "df = pd.read_csv(\"data/data 9-2.csv\")"
   ]
  },
  {
   "cell_type": "code",
   "execution_count": 4,
   "id": "b7cc58d7",
   "metadata": {},
   "outputs": [],
   "source": [
    "df['Bottom box'] = df['Bottom box'].str.replace('%', '').astype('int') / 100\n",
    "df['Middle'] = df['Middle'].str.replace('%', '').astype('int') / 100\n",
    "df['Top box'] = df['Top box'].str.replace('%', '').astype('int') / 100"
   ]
  },
  {
   "cell_type": "code",
   "execution_count": 5,
   "id": "55ddf792",
   "metadata": {},
   "outputs": [],
   "source": [
    "df = df.sort_values('Bottom box', ascending=False)"
   ]
  },
  {
   "cell_type": "code",
   "execution_count": 6,
   "id": "94bbe308",
   "metadata": {},
   "outputs": [
    {
     "data": {
      "text/html": [
       "<div>\n",
       "<style scoped>\n",
       "    .dataframe tbody tr th:only-of-type {\n",
       "        vertical-align: middle;\n",
       "    }\n",
       "\n",
       "    .dataframe tbody tr th {\n",
       "        vertical-align: top;\n",
       "    }\n",
       "\n",
       "    .dataframe thead th {\n",
       "        text-align: right;\n",
       "    }\n",
       "</style>\n",
       "<table border=\"1\" class=\"dataframe\">\n",
       "  <thead>\n",
       "    <tr style=\"text-align: right;\">\n",
       "      <th></th>\n",
       "      <th>item</th>\n",
       "      <th>Bottom box</th>\n",
       "      <th>Middle</th>\n",
       "      <th>Top box</th>\n",
       "    </tr>\n",
       "  </thead>\n",
       "  <tbody>\n",
       "    <tr>\n",
       "      <th>3</th>\n",
       "      <td>Survey item D</td>\n",
       "      <td>0.11</td>\n",
       "      <td>0.80</td>\n",
       "      <td>0.09</td>\n",
       "    </tr>\n",
       "    <tr>\n",
       "      <th>2</th>\n",
       "      <td>Survey item C</td>\n",
       "      <td>0.08</td>\n",
       "      <td>0.83</td>\n",
       "      <td>0.09</td>\n",
       "    </tr>\n",
       "    <tr>\n",
       "      <th>1</th>\n",
       "      <td>Survey item B</td>\n",
       "      <td>0.05</td>\n",
       "      <td>0.83</td>\n",
       "      <td>0.12</td>\n",
       "    </tr>\n",
       "    <tr>\n",
       "      <th>0</th>\n",
       "      <td>Survey item A</td>\n",
       "      <td>0.01</td>\n",
       "      <td>0.66</td>\n",
       "      <td>0.33</td>\n",
       "    </tr>\n",
       "  </tbody>\n",
       "</table>\n",
       "</div>"
      ],
      "text/plain": [
       "            item  Bottom box  Middle  Top box\n",
       "3  Survey item D        0.11    0.80     0.09\n",
       "2  Survey item C        0.08    0.83     0.09\n",
       "1  Survey item B        0.05    0.83     0.12\n",
       "0  Survey item A        0.01    0.66     0.33"
      ]
     },
     "execution_count": 6,
     "metadata": {},
     "output_type": "execute_result"
    }
   ],
   "source": [
    "df"
   ]
  },
  {
   "cell_type": "markdown",
   "id": "8577fcdf",
   "metadata": {},
   "source": [
    "## Data Visualization "
   ]
  },
  {
   "cell_type": "code",
   "execution_count": 7,
   "id": "d423a6c4",
   "metadata": {
    "scrolled": false
   },
   "outputs": [
    {
     "data": {
      "application/vnd.plotly.v1+json": {
       "config": {
        "plotlyServerURL": "https://plot.ly"
       },
       "data": [
        {
         "marker": {
          "color": "#af4e4d",
          "line": {
           "color": "#af4e4d",
           "width": 1
          }
         },
         "name": "Bottom box",
         "orientation": "h",
         "type": "bar",
         "width": 0.7,
         "x": [
          0.11,
          0.08,
          0.05,
          0.01
         ],
         "y": [
          "Survey item D",
          "Survey item C",
          "Survey item B",
          "Survey item A"
         ]
        },
        {
         "marker": {
          "color": "#BFBEBE",
          "line": {
           "color": "#BFBEBE",
           "width": 1
          }
         },
         "name": "Middle",
         "orientation": "h",
         "type": "bar",
         "width": 0.7,
         "x": [
          0.8,
          0.83,
          0.83,
          0.66
         ],
         "y": [
          "Survey item D",
          "Survey item C",
          "Survey item B",
          "Survey item A"
         ]
        },
        {
         "marker": {
          "color": "#55a3b4",
          "line": {
           "color": "#55a3b4",
           "width": 1
          }
         },
         "name": "Top box",
         "orientation": "h",
         "type": "bar",
         "width": 0.7,
         "x": [
          0.09,
          0.09,
          0.12,
          0.33
         ],
         "y": [
          "Survey item D",
          "Survey item C",
          "Survey item B",
          "Survey item A"
         ]
        }
       ],
       "layout": {
        "annotations": [
         {
          "font": {
           "color": "#555655",
           "family": "Arial",
           "size": 20
          },
          "showarrow": false,
          "text": "Survey item D",
          "x": 0,
          "xshift": -80,
          "y": 0,
          "yshift": 0
         },
         {
          "font": {
           "color": "white",
           "family": "Arial",
           "size": 20
          },
          "showarrow": false,
          "text": "11%",
          "x": 0,
          "xshift": 25,
          "y": 0,
          "yshift": 0
         },
         {
          "font": {
           "color": "white",
           "family": "Arial",
           "size": 20
          },
          "showarrow": false,
          "text": "9%",
          "x": 1,
          "xshift": -30,
          "y": 0,
          "yshift": 0
         },
         {
          "font": {
           "color": "#555655",
           "family": "Arial",
           "size": 20
          },
          "showarrow": false,
          "text": "Survey item C",
          "x": 0,
          "xshift": -80,
          "y": 1,
          "yshift": 0
         },
         {
          "font": {
           "color": "white",
           "family": "Arial",
           "size": 20
          },
          "showarrow": false,
          "text": "8%",
          "x": 0,
          "xshift": 25,
          "y": 1,
          "yshift": 0
         },
         {
          "font": {
           "color": "white",
           "family": "Arial",
           "size": 20
          },
          "showarrow": false,
          "text": "9%",
          "x": 1,
          "xshift": -30,
          "y": 1,
          "yshift": 0
         },
         {
          "font": {
           "color": "#555655",
           "family": "Arial",
           "size": 20
          },
          "showarrow": false,
          "text": "Survey item B",
          "x": 0,
          "xshift": -80,
          "y": 2,
          "yshift": 0
         },
         {
          "font": {
           "color": "white",
           "family": "Arial",
           "size": 20
          },
          "showarrow": false,
          "text": "5%",
          "x": 0,
          "xshift": 25,
          "y": 2,
          "yshift": 0
         },
         {
          "font": {
           "color": "white",
           "family": "Arial",
           "size": 20
          },
          "showarrow": false,
          "text": "12%",
          "x": 1,
          "xshift": -30,
          "y": 2,
          "yshift": 0
         },
         {
          "font": {
           "color": "#555655",
           "family": "Arial",
           "size": 20
          },
          "showarrow": false,
          "text": "Survey item A",
          "x": 0,
          "xshift": -80,
          "y": 3,
          "yshift": 0
         },
         {
          "font": {
           "color": "#af4e4d",
           "family": "Arial",
           "size": 20
          },
          "showarrow": false,
          "text": "1%",
          "x": 0,
          "xshift": 25,
          "y": 3,
          "yshift": 0
         },
         {
          "font": {
           "color": "white",
           "family": "Arial",
           "size": 20
          },
          "showarrow": false,
          "text": "33%",
          "x": 1,
          "xshift": -30,
          "y": 3,
          "yshift": 0
         },
         {
          "font": {
           "color": "#555655",
           "family": "Arial",
           "size": 25
          },
          "showarrow": false,
          "text": "Survey Results: Team X",
          "x": 0,
          "xshift": -30,
          "y": 3.5,
          "yshift": 150
         },
         {
          "font": {
           "color": "#929497",
           "family": "Arial",
           "size": 20
          },
          "showarrow": false,
          "text": "<b style='color: #af4e4d'>Strongly Disagree</b> | Disagree | Neutral | Agree | <b style='color: #55a3b4'>Strongly Agree</b>",
          "x": 0.5,
          "xshift": 0,
          "y": 3.5,
          "yshift": 90
         },
         {
          "font": {
           "color": "#929497",
           "family": "Arial",
           "size": 20
          },
          "showarrow": false,
          "text": "Percent of Total",
          "x": 0,
          "xshift": 75,
          "y": 3.5,
          "yshift": 50
         },
         {
          "align": "left",
          "font": {
           "color": "#929497",
           "family": "Arial",
           "size": 20
          },
          "showarrow": false,
          "text": "<b style='color: #55a3b4'>Survey item A</b><br>ranked highest<br>for teamX",
          "x": 1,
          "xshift": 85,
          "y": 3.5,
          "yshift": -45
         },
         {
          "align": "left",
          "font": {
           "color": "#929497",
           "family": "Arial",
           "size": 20
          },
          "showarrow": false,
          "text": "Dissatisfaction<br>was greatest<br>for <b style='color: #af4e4d'>Survey item D</b>",
          "x": 1,
          "xshift": 100,
          "y": -0.5,
          "yshift": 45
         }
        ],
        "barmode": "stack",
        "height": 600,
        "margin": {
         "b": 48.75,
         "l": 180,
         "r": 210,
         "t": 195
        },
        "paper_bgcolor": "white",
        "plot_bgcolor": "white",
        "showlegend": false,
        "template": {
         "data": {
          "bar": [
           {
            "error_x": {
             "color": "#2a3f5f"
            },
            "error_y": {
             "color": "#2a3f5f"
            },
            "marker": {
             "line": {
              "color": "#E5ECF6",
              "width": 0.5
             },
             "pattern": {
              "fillmode": "overlay",
              "size": 10,
              "solidity": 0.2
             }
            },
            "type": "bar"
           }
          ],
          "barpolar": [
           {
            "marker": {
             "line": {
              "color": "#E5ECF6",
              "width": 0.5
             },
             "pattern": {
              "fillmode": "overlay",
              "size": 10,
              "solidity": 0.2
             }
            },
            "type": "barpolar"
           }
          ],
          "carpet": [
           {
            "aaxis": {
             "endlinecolor": "#2a3f5f",
             "gridcolor": "white",
             "linecolor": "white",
             "minorgridcolor": "white",
             "startlinecolor": "#2a3f5f"
            },
            "baxis": {
             "endlinecolor": "#2a3f5f",
             "gridcolor": "white",
             "linecolor": "white",
             "minorgridcolor": "white",
             "startlinecolor": "#2a3f5f"
            },
            "type": "carpet"
           }
          ],
          "choropleth": [
           {
            "colorbar": {
             "outlinewidth": 0,
             "ticks": ""
            },
            "type": "choropleth"
           }
          ],
          "contour": [
           {
            "colorbar": {
             "outlinewidth": 0,
             "ticks": ""
            },
            "colorscale": [
             [
              0,
              "#0d0887"
             ],
             [
              0.1111111111111111,
              "#46039f"
             ],
             [
              0.2222222222222222,
              "#7201a8"
             ],
             [
              0.3333333333333333,
              "#9c179e"
             ],
             [
              0.4444444444444444,
              "#bd3786"
             ],
             [
              0.5555555555555556,
              "#d8576b"
             ],
             [
              0.6666666666666666,
              "#ed7953"
             ],
             [
              0.7777777777777778,
              "#fb9f3a"
             ],
             [
              0.8888888888888888,
              "#fdca26"
             ],
             [
              1,
              "#f0f921"
             ]
            ],
            "type": "contour"
           }
          ],
          "contourcarpet": [
           {
            "colorbar": {
             "outlinewidth": 0,
             "ticks": ""
            },
            "type": "contourcarpet"
           }
          ],
          "heatmap": [
           {
            "colorbar": {
             "outlinewidth": 0,
             "ticks": ""
            },
            "colorscale": [
             [
              0,
              "#0d0887"
             ],
             [
              0.1111111111111111,
              "#46039f"
             ],
             [
              0.2222222222222222,
              "#7201a8"
             ],
             [
              0.3333333333333333,
              "#9c179e"
             ],
             [
              0.4444444444444444,
              "#bd3786"
             ],
             [
              0.5555555555555556,
              "#d8576b"
             ],
             [
              0.6666666666666666,
              "#ed7953"
             ],
             [
              0.7777777777777778,
              "#fb9f3a"
             ],
             [
              0.8888888888888888,
              "#fdca26"
             ],
             [
              1,
              "#f0f921"
             ]
            ],
            "type": "heatmap"
           }
          ],
          "heatmapgl": [
           {
            "colorbar": {
             "outlinewidth": 0,
             "ticks": ""
            },
            "colorscale": [
             [
              0,
              "#0d0887"
             ],
             [
              0.1111111111111111,
              "#46039f"
             ],
             [
              0.2222222222222222,
              "#7201a8"
             ],
             [
              0.3333333333333333,
              "#9c179e"
             ],
             [
              0.4444444444444444,
              "#bd3786"
             ],
             [
              0.5555555555555556,
              "#d8576b"
             ],
             [
              0.6666666666666666,
              "#ed7953"
             ],
             [
              0.7777777777777778,
              "#fb9f3a"
             ],
             [
              0.8888888888888888,
              "#fdca26"
             ],
             [
              1,
              "#f0f921"
             ]
            ],
            "type": "heatmapgl"
           }
          ],
          "histogram": [
           {
            "marker": {
             "pattern": {
              "fillmode": "overlay",
              "size": 10,
              "solidity": 0.2
             }
            },
            "type": "histogram"
           }
          ],
          "histogram2d": [
           {
            "colorbar": {
             "outlinewidth": 0,
             "ticks": ""
            },
            "colorscale": [
             [
              0,
              "#0d0887"
             ],
             [
              0.1111111111111111,
              "#46039f"
             ],
             [
              0.2222222222222222,
              "#7201a8"
             ],
             [
              0.3333333333333333,
              "#9c179e"
             ],
             [
              0.4444444444444444,
              "#bd3786"
             ],
             [
              0.5555555555555556,
              "#d8576b"
             ],
             [
              0.6666666666666666,
              "#ed7953"
             ],
             [
              0.7777777777777778,
              "#fb9f3a"
             ],
             [
              0.8888888888888888,
              "#fdca26"
             ],
             [
              1,
              "#f0f921"
             ]
            ],
            "type": "histogram2d"
           }
          ],
          "histogram2dcontour": [
           {
            "colorbar": {
             "outlinewidth": 0,
             "ticks": ""
            },
            "colorscale": [
             [
              0,
              "#0d0887"
             ],
             [
              0.1111111111111111,
              "#46039f"
             ],
             [
              0.2222222222222222,
              "#7201a8"
             ],
             [
              0.3333333333333333,
              "#9c179e"
             ],
             [
              0.4444444444444444,
              "#bd3786"
             ],
             [
              0.5555555555555556,
              "#d8576b"
             ],
             [
              0.6666666666666666,
              "#ed7953"
             ],
             [
              0.7777777777777778,
              "#fb9f3a"
             ],
             [
              0.8888888888888888,
              "#fdca26"
             ],
             [
              1,
              "#f0f921"
             ]
            ],
            "type": "histogram2dcontour"
           }
          ],
          "mesh3d": [
           {
            "colorbar": {
             "outlinewidth": 0,
             "ticks": ""
            },
            "type": "mesh3d"
           }
          ],
          "parcoords": [
           {
            "line": {
             "colorbar": {
              "outlinewidth": 0,
              "ticks": ""
             }
            },
            "type": "parcoords"
           }
          ],
          "pie": [
           {
            "automargin": true,
            "type": "pie"
           }
          ],
          "scatter": [
           {
            "marker": {
             "colorbar": {
              "outlinewidth": 0,
              "ticks": ""
             }
            },
            "type": "scatter"
           }
          ],
          "scatter3d": [
           {
            "line": {
             "colorbar": {
              "outlinewidth": 0,
              "ticks": ""
             }
            },
            "marker": {
             "colorbar": {
              "outlinewidth": 0,
              "ticks": ""
             }
            },
            "type": "scatter3d"
           }
          ],
          "scattercarpet": [
           {
            "marker": {
             "colorbar": {
              "outlinewidth": 0,
              "ticks": ""
             }
            },
            "type": "scattercarpet"
           }
          ],
          "scattergeo": [
           {
            "marker": {
             "colorbar": {
              "outlinewidth": 0,
              "ticks": ""
             }
            },
            "type": "scattergeo"
           }
          ],
          "scattergl": [
           {
            "marker": {
             "colorbar": {
              "outlinewidth": 0,
              "ticks": ""
             }
            },
            "type": "scattergl"
           }
          ],
          "scattermapbox": [
           {
            "marker": {
             "colorbar": {
              "outlinewidth": 0,
              "ticks": ""
             }
            },
            "type": "scattermapbox"
           }
          ],
          "scatterpolar": [
           {
            "marker": {
             "colorbar": {
              "outlinewidth": 0,
              "ticks": ""
             }
            },
            "type": "scatterpolar"
           }
          ],
          "scatterpolargl": [
           {
            "marker": {
             "colorbar": {
              "outlinewidth": 0,
              "ticks": ""
             }
            },
            "type": "scatterpolargl"
           }
          ],
          "scatterternary": [
           {
            "marker": {
             "colorbar": {
              "outlinewidth": 0,
              "ticks": ""
             }
            },
            "type": "scatterternary"
           }
          ],
          "surface": [
           {
            "colorbar": {
             "outlinewidth": 0,
             "ticks": ""
            },
            "colorscale": [
             [
              0,
              "#0d0887"
             ],
             [
              0.1111111111111111,
              "#46039f"
             ],
             [
              0.2222222222222222,
              "#7201a8"
             ],
             [
              0.3333333333333333,
              "#9c179e"
             ],
             [
              0.4444444444444444,
              "#bd3786"
             ],
             [
              0.5555555555555556,
              "#d8576b"
             ],
             [
              0.6666666666666666,
              "#ed7953"
             ],
             [
              0.7777777777777778,
              "#fb9f3a"
             ],
             [
              0.8888888888888888,
              "#fdca26"
             ],
             [
              1,
              "#f0f921"
             ]
            ],
            "type": "surface"
           }
          ],
          "table": [
           {
            "cells": {
             "fill": {
              "color": "#EBF0F8"
             },
             "line": {
              "color": "white"
             }
            },
            "header": {
             "fill": {
              "color": "#C8D4E3"
             },
             "line": {
              "color": "white"
             }
            },
            "type": "table"
           }
          ]
         },
         "layout": {
          "annotationdefaults": {
           "arrowcolor": "#2a3f5f",
           "arrowhead": 0,
           "arrowwidth": 1
          },
          "autotypenumbers": "strict",
          "coloraxis": {
           "colorbar": {
            "outlinewidth": 0,
            "ticks": ""
           }
          },
          "colorscale": {
           "diverging": [
            [
             0,
             "#8e0152"
            ],
            [
             0.1,
             "#c51b7d"
            ],
            [
             0.2,
             "#de77ae"
            ],
            [
             0.3,
             "#f1b6da"
            ],
            [
             0.4,
             "#fde0ef"
            ],
            [
             0.5,
             "#f7f7f7"
            ],
            [
             0.6,
             "#e6f5d0"
            ],
            [
             0.7,
             "#b8e186"
            ],
            [
             0.8,
             "#7fbc41"
            ],
            [
             0.9,
             "#4d9221"
            ],
            [
             1,
             "#276419"
            ]
           ],
           "sequential": [
            [
             0,
             "#0d0887"
            ],
            [
             0.1111111111111111,
             "#46039f"
            ],
            [
             0.2222222222222222,
             "#7201a8"
            ],
            [
             0.3333333333333333,
             "#9c179e"
            ],
            [
             0.4444444444444444,
             "#bd3786"
            ],
            [
             0.5555555555555556,
             "#d8576b"
            ],
            [
             0.6666666666666666,
             "#ed7953"
            ],
            [
             0.7777777777777778,
             "#fb9f3a"
            ],
            [
             0.8888888888888888,
             "#fdca26"
            ],
            [
             1,
             "#f0f921"
            ]
           ],
           "sequentialminus": [
            [
             0,
             "#0d0887"
            ],
            [
             0.1111111111111111,
             "#46039f"
            ],
            [
             0.2222222222222222,
             "#7201a8"
            ],
            [
             0.3333333333333333,
             "#9c179e"
            ],
            [
             0.4444444444444444,
             "#bd3786"
            ],
            [
             0.5555555555555556,
             "#d8576b"
            ],
            [
             0.6666666666666666,
             "#ed7953"
            ],
            [
             0.7777777777777778,
             "#fb9f3a"
            ],
            [
             0.8888888888888888,
             "#fdca26"
            ],
            [
             1,
             "#f0f921"
            ]
           ]
          },
          "colorway": [
           "#636efa",
           "#EF553B",
           "#00cc96",
           "#ab63fa",
           "#FFA15A",
           "#19d3f3",
           "#FF6692",
           "#B6E880",
           "#FF97FF",
           "#FECB52"
          ],
          "font": {
           "color": "#2a3f5f"
          },
          "geo": {
           "bgcolor": "white",
           "lakecolor": "white",
           "landcolor": "#E5ECF6",
           "showlakes": true,
           "showland": true,
           "subunitcolor": "white"
          },
          "hoverlabel": {
           "align": "left"
          },
          "hovermode": "closest",
          "mapbox": {
           "style": "light"
          },
          "paper_bgcolor": "white",
          "plot_bgcolor": "#E5ECF6",
          "polar": {
           "angularaxis": {
            "gridcolor": "white",
            "linecolor": "white",
            "ticks": ""
           },
           "bgcolor": "#E5ECF6",
           "radialaxis": {
            "gridcolor": "white",
            "linecolor": "white",
            "ticks": ""
           }
          },
          "scene": {
           "xaxis": {
            "backgroundcolor": "#E5ECF6",
            "gridcolor": "white",
            "gridwidth": 2,
            "linecolor": "white",
            "showbackground": true,
            "ticks": "",
            "zerolinecolor": "white"
           },
           "yaxis": {
            "backgroundcolor": "#E5ECF6",
            "gridcolor": "white",
            "gridwidth": 2,
            "linecolor": "white",
            "showbackground": true,
            "ticks": "",
            "zerolinecolor": "white"
           },
           "zaxis": {
            "backgroundcolor": "#E5ECF6",
            "gridcolor": "white",
            "gridwidth": 2,
            "linecolor": "white",
            "showbackground": true,
            "ticks": "",
            "zerolinecolor": "white"
           }
          },
          "shapedefaults": {
           "line": {
            "color": "#2a3f5f"
           }
          },
          "ternary": {
           "aaxis": {
            "gridcolor": "white",
            "linecolor": "white",
            "ticks": ""
           },
           "baxis": {
            "gridcolor": "white",
            "linecolor": "white",
            "ticks": ""
           },
           "bgcolor": "#E5ECF6",
           "caxis": {
            "gridcolor": "white",
            "linecolor": "white",
            "ticks": ""
           }
          },
          "title": {
           "x": 0.05
          },
          "xaxis": {
           "automargin": true,
           "gridcolor": "white",
           "linecolor": "white",
           "ticks": "",
           "title": {
            "standoff": 15
           },
           "zerolinecolor": "white",
           "zerolinewidth": 2
          },
          "yaxis": {
           "automargin": true,
           "gridcolor": "white",
           "linecolor": "white",
           "ticks": "",
           "title": {
            "standoff": 15
           },
           "zerolinecolor": "white",
           "zerolinewidth": 2
          }
         }
        },
        "width": 975,
        "xaxis": {
         "linecolor": "#BFBEBE",
         "range": [
          0,
          1
         ],
         "showgrid": false,
         "side": "top",
         "tickcolor": "#929497",
         "tickfont": {
          "color": "#929497",
          "family": "Arial",
          "size": 20
         },
         "tickformat": ".0%",
         "ticks": "outside",
         "tickwidth": 3
        },
        "yaxis": {
         "range": [
          -0.5,
          3.5
         ],
         "showgrid": false,
         "showticklabels": false
        }
       }
      }
     },
     "metadata": {},
     "output_type": "display_data"
    }
   ],
   "source": [
    "fig = go.Figure()\n",
    "\n",
    "# Plot -------------------------\n",
    "fig.add_trace(\n",
    "    go.Bar(\n",
    "        x=df['Bottom box'],\n",
    "        y=df['item'],\n",
    "        name=\"Bottom box\",\n",
    "        marker=dict(color=\"#af4e4d\", line=dict(color=\"#af4e4d\", width=1)),\n",
    "        orientation='h',\n",
    "        width=0.7\n",
    "    )\n",
    ")\n",
    "\n",
    "fig.add_trace(\n",
    "    go.Bar(\n",
    "        x=df['Middle'],\n",
    "        y=df['item'],\n",
    "        name=\"Middle\",\n",
    "        marker=dict(color=GRAY9, line=dict(color=GRAY9, width=1)),\n",
    "        orientation='h',\n",
    "        width=0.7\n",
    "    )\n",
    ")\n",
    "\n",
    "fig.add_trace(\n",
    "    go.Bar(\n",
    "        x=df['Top box'],\n",
    "        y=df['item'],\n",
    "        name=\"Top box\",\n",
    "        marker=dict(color=\"#55a3b4\", line=dict(color=\"#55a3b4\", width=1)),\n",
    "        orientation='h',\n",
    "        width=0.7\n",
    "    )\n",
    ")\n",
    "\n",
    "# Annotation -------------------\n",
    "for i in range(4):\n",
    "    fig.add_annotation(\n",
    "        text=df['item'].values[i],\n",
    "        font=dict(color=GRAY3, size=20, family=\"Arial\"),\n",
    "        x=0,\n",
    "        y=i,\n",
    "        xshift=-80,\n",
    "        yshift=0,\n",
    "        showarrow=False,\n",
    "    )\n",
    "    \n",
    "    if i == 3:\n",
    "        fig.add_annotation(\n",
    "            text=f\"{df['Bottom box'].values[i]*100:.0f}%\",\n",
    "            font=dict(color=\"#af4e4d\", size=20, family=\"Arial\"),\n",
    "            x=0,\n",
    "            y=i,\n",
    "            xshift=25,\n",
    "            yshift=0,\n",
    "            showarrow=False,\n",
    "        )\n",
    "    else:\n",
    "        fig.add_annotation(\n",
    "            text=f\"{df['Bottom box'].values[i]*100:.0f}%\",\n",
    "            font=dict(color=\"white\", size=20, family=\"Arial\"),\n",
    "            x=0,\n",
    "            y=i,\n",
    "            xshift=25,\n",
    "            yshift=0,\n",
    "            showarrow=False,\n",
    "        )\n",
    "    \n",
    "    fig.add_annotation(\n",
    "        text=f\"{df['Top box'].values[i]*100:.0f}%\",\n",
    "        font=dict(color=\"white\", size=20, family=\"Arial\"),\n",
    "        x=1,\n",
    "        y=i,\n",
    "        xshift=-30,\n",
    "        yshift=0,\n",
    "        showarrow=False,\n",
    "    )\n",
    "        \n",
    "# Text -------------------------\n",
    "fig.add_annotation(\n",
    "    text=\"Survey Results: Team X\",\n",
    "    font=dict(color=GRAY3, size=25, family=\"Arial\"),\n",
    "    x=0,\n",
    "    y=3.5,\n",
    "    xshift=-30,\n",
    "    yshift=150,\n",
    "    showarrow=False,\n",
    ")\n",
    "\n",
    "fig.add_annotation(\n",
    "    text=f\"<b style='color: #af4e4d'>Strongly Disagree</b> | Disagree | Neutral | Agree | <b style='color: #55a3b4'>Strongly Agree</b>\",\n",
    "    font=dict(color=GRAY7, size=20, family=\"Arial\"),\n",
    "    x=0.5,\n",
    "    y=3.5,\n",
    "    xshift=0,\n",
    "    yshift=90,\n",
    "    showarrow=False,\n",
    ")\n",
    "\n",
    "fig.add_annotation(\n",
    "    text=\"Percent of Total\",\n",
    "    font=dict(color=GRAY7, size=20, family=\"Arial\"),\n",
    "    x=0,\n",
    "    y=3.5,\n",
    "    xshift=75,\n",
    "    yshift=50,\n",
    "    showarrow=False,\n",
    ")\n",
    "\n",
    "fig.add_annotation(\n",
    "    text=\"<b style='color: #55a3b4'>Survey item A</b><br>\\\n",
    "ranked highest<br>\\\n",
    "for teamX\",\n",
    "    align=\"left\",\n",
    "    font=dict(color=GRAY7, size=20, family=\"Arial\"),\n",
    "    x=1,\n",
    "    y=3.5,\n",
    "    xshift=85,\n",
    "    yshift=-45,\n",
    "    showarrow=False,\n",
    ")\n",
    "\n",
    "fig.add_annotation(\n",
    "    text=\"Dissatisfaction<br>\\\n",
    "was greatest<br>\\\n",
    "for <b style='color: #af4e4d'>Survey item D</b>\",\n",
    "    align=\"left\",\n",
    "    font=dict(color=GRAY7, size=20, family=\"Arial\"),\n",
    "    x=1,\n",
    "    y=-0.5,\n",
    "    xshift=100,\n",
    "    yshift=45,\n",
    "    showarrow=False,\n",
    ")\n",
    "\n",
    "# Layout -----------------------\n",
    "fig.update_layout(\n",
    "    width=975,\n",
    "    height=600,\n",
    "    margin=dict(t=195, b=48.75, l=180, r=210),\n",
    "    paper_bgcolor=\"white\",\n",
    "    plot_bgcolor=\"white\",\n",
    "    showlegend=False,\n",
    "    barmode=\"stack\",\n",
    ")\n",
    "\n",
    "fig.update_xaxes(\n",
    "    tickfont=dict(color=GRAY7, size=20, family='Arial'),\n",
    "    tickformat='.0%',\n",
    "    ticks='outside',\n",
    "    tickwidth=3,\n",
    "    tickcolor=GRAY7,\n",
    "    linecolor=GRAY9,\n",
    "    showgrid=False,\n",
    "    side=\"top\",\n",
    "    range=[0, 1]\n",
    ")\n",
    "\n",
    "fig.update_yaxes(\n",
    "    showticklabels=False,\n",
    "    showgrid=False,\n",
    "    range=[-0.5, 3.5]\n",
    ")"
   ]
  },
  {
   "cell_type": "markdown",
   "id": "c9f04da8",
   "metadata": {},
   "source": [
    "## Output"
   ]
  },
  {
   "cell_type": "code",
   "execution_count": 8,
   "id": "7776fe8a",
   "metadata": {},
   "outputs": [],
   "source": [
    "fig.write_image(\"plot/plot 9-2.png\", format=\"png\", width=975, height=600, scale=3)"
   ]
  }
 ],
 "metadata": {
  "kernelspec": {
   "display_name": "data",
   "language": "python",
   "name": "python3"
  },
  "language_info": {
   "codemirror_mode": {
    "name": "ipython",
    "version": 3
   },
   "file_extension": ".py",
   "mimetype": "text/x-python",
   "name": "python",
   "nbconvert_exporter": "python",
   "pygments_lexer": "ipython3",
   "version": "3.10.4"
  },
  "vscode": {
   "interpreter": {
    "hash": "87aa2df5676ce3636fa5c3ad845736f33e5dcc95e958fafe10accbd91339fdaa"
   }
  }
 },
 "nbformat": 4,
 "nbformat_minor": 5
}
