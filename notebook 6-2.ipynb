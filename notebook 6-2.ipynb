{
 "cells": [
  {
   "cell_type": "markdown",
   "id": "945bbfc2",
   "metadata": {},
   "source": [
    "## Required Modules"
   ]
  },
  {
   "cell_type": "code",
   "execution_count": 1,
   "id": "3ff355c6",
   "metadata": {},
   "outputs": [],
   "source": [
    "import numpy as np\n",
    "import pandas as pd\n",
    "import plotly.graph_objects as go"
   ]
  },
  {
   "cell_type": "markdown",
   "id": "ad865108",
   "metadata": {},
   "source": [
    "## Color Palette"
   ]
  },
  {
   "cell_type": "code",
   "execution_count": 2,
   "id": "2fa5f557",
   "metadata": {},
   "outputs": [],
   "source": [
    "from colors import *"
   ]
  },
  {
   "cell_type": "markdown",
   "id": "ad547d74",
   "metadata": {},
   "source": [
    "## Data"
   ]
  },
  {
   "cell_type": "code",
   "execution_count": 3,
   "id": "6363116b",
   "metadata": {
    "scrolled": false
   },
   "outputs": [],
   "source": [
    "df = pd.read_csv(\"data/data 6-2.csv\")"
   ]
  },
  {
   "cell_type": "code",
   "execution_count": 4,
   "id": "70b297de",
   "metadata": {
    "scrolled": false
   },
   "outputs": [
    {
     "name": "stderr",
     "output_type": "stream",
     "text": [
      "/var/folders/gd/9q2kgq0n4qn9s4jjd9lqm64h0000gn/T/ipykernel_69198/825676899.py:1: FutureWarning: The default value of regex will change from True to False in a future version. In addition, single character regular expressions will *not* be treated as literal strings when regex=True.\n",
      "  df['sales'] = df['sales'].str.replace('$', '').astype('int')\n"
     ]
    },
    {
     "data": {
      "text/html": [
       "<div>\n",
       "<style scoped>\n",
       "    .dataframe tbody tr th:only-of-type {\n",
       "        vertical-align: middle;\n",
       "    }\n",
       "\n",
       "    .dataframe tbody tr th {\n",
       "        vertical-align: top;\n",
       "    }\n",
       "\n",
       "    .dataframe thead th {\n",
       "        text-align: right;\n",
       "    }\n",
       "</style>\n",
       "<table border=\"1\" class=\"dataframe\">\n",
       "  <thead>\n",
       "    <tr style=\"text-align: right;\">\n",
       "      <th></th>\n",
       "      <th>category</th>\n",
       "      <th>year</th>\n",
       "      <th>sales</th>\n",
       "      <th>increase</th>\n",
       "      <th>avg</th>\n",
       "    </tr>\n",
       "  </thead>\n",
       "  <tbody>\n",
       "    <tr>\n",
       "      <th>0</th>\n",
       "      <td>ACTUAL</td>\n",
       "      <td>2006</td>\n",
       "      <td>52</td>\n",
       "      <td>NaN</td>\n",
       "      <td>NaN</td>\n",
       "    </tr>\n",
       "    <tr>\n",
       "      <th>1</th>\n",
       "      <td>ACTUAL</td>\n",
       "      <td>2007</td>\n",
       "      <td>54</td>\n",
       "      <td>4%</td>\n",
       "      <td>7.2%</td>\n",
       "    </tr>\n",
       "    <tr>\n",
       "      <th>2</th>\n",
       "      <td>ACTUAL</td>\n",
       "      <td>2008</td>\n",
       "      <td>60</td>\n",
       "      <td>11%</td>\n",
       "      <td>NaN</td>\n",
       "    </tr>\n",
       "    <tr>\n",
       "      <th>3</th>\n",
       "      <td>ACTUAL</td>\n",
       "      <td>2009</td>\n",
       "      <td>64</td>\n",
       "      <td>7%</td>\n",
       "      <td>NaN</td>\n",
       "    </tr>\n",
       "    <tr>\n",
       "      <th>4</th>\n",
       "      <td>ACTUAL</td>\n",
       "      <td>2010</td>\n",
       "      <td>78</td>\n",
       "      <td>22%</td>\n",
       "      <td>NaN</td>\n",
       "    </tr>\n",
       "    <tr>\n",
       "      <th>5</th>\n",
       "      <td>ACTUAL</td>\n",
       "      <td>2011</td>\n",
       "      <td>86</td>\n",
       "      <td>10%</td>\n",
       "      <td>8.5%</td>\n",
       "    </tr>\n",
       "    <tr>\n",
       "      <th>6</th>\n",
       "      <td>ACTUAL</td>\n",
       "      <td>2012</td>\n",
       "      <td>91</td>\n",
       "      <td>6%</td>\n",
       "      <td>NaN</td>\n",
       "    </tr>\n",
       "    <tr>\n",
       "      <th>7</th>\n",
       "      <td>ACTUAL</td>\n",
       "      <td>2013</td>\n",
       "      <td>100</td>\n",
       "      <td>10%</td>\n",
       "      <td>NaN</td>\n",
       "    </tr>\n",
       "    <tr>\n",
       "      <th>8</th>\n",
       "      <td>ACTUAL</td>\n",
       "      <td>2014</td>\n",
       "      <td>108</td>\n",
       "      <td>8%</td>\n",
       "      <td>NaN</td>\n",
       "    </tr>\n",
       "    <tr>\n",
       "      <th>9</th>\n",
       "      <td>FORECAST</td>\n",
       "      <td>2015</td>\n",
       "      <td>119</td>\n",
       "      <td>10%</td>\n",
       "      <td>NaN</td>\n",
       "    </tr>\n",
       "    <tr>\n",
       "      <th>10</th>\n",
       "      <td>FORECAST</td>\n",
       "      <td>2016</td>\n",
       "      <td>131</td>\n",
       "      <td>10%</td>\n",
       "      <td>NaN</td>\n",
       "    </tr>\n",
       "    <tr>\n",
       "      <th>11</th>\n",
       "      <td>FORECAST</td>\n",
       "      <td>2017</td>\n",
       "      <td>144</td>\n",
       "      <td>10%</td>\n",
       "      <td>NaN</td>\n",
       "    </tr>\n",
       "    <tr>\n",
       "      <th>12</th>\n",
       "      <td>FORECAST</td>\n",
       "      <td>2018</td>\n",
       "      <td>158</td>\n",
       "      <td>10%</td>\n",
       "      <td>NaN</td>\n",
       "    </tr>\n",
       "  </tbody>\n",
       "</table>\n",
       "</div>"
      ],
      "text/plain": [
       "    category  year  sales increase   avg\n",
       "0     ACTUAL  2006     52      NaN   NaN\n",
       "1     ACTUAL  2007     54       4%  7.2%\n",
       "2     ACTUAL  2008     60      11%   NaN\n",
       "3     ACTUAL  2009     64       7%   NaN\n",
       "4     ACTUAL  2010     78      22%   NaN\n",
       "5     ACTUAL  2011     86      10%  8.5%\n",
       "6     ACTUAL  2012     91       6%   NaN\n",
       "7     ACTUAL  2013    100      10%   NaN\n",
       "8     ACTUAL  2014    108       8%   NaN\n",
       "9   FORECAST  2015    119      10%   NaN\n",
       "10  FORECAST  2016    131      10%   NaN\n",
       "11  FORECAST  2017    144      10%   NaN\n",
       "12  FORECAST  2018    158      10%   NaN"
      ]
     },
     "execution_count": 4,
     "metadata": {},
     "output_type": "execute_result"
    }
   ],
   "source": [
    "df['sales'] = df['sales'].str.replace('$', '').astype('int')\n",
    "df"
   ]
  },
  {
   "cell_type": "code",
   "execution_count": 5,
   "id": "f15523d5",
   "metadata": {},
   "outputs": [
    {
     "data": {
      "text/plain": [
       "2014"
      ]
     },
     "execution_count": 5,
     "metadata": {},
     "output_type": "execute_result"
    }
   ],
   "source": [
    "pd.concat([df[df['category'] == 'FORECAST']['year'], df[df['category'] == 'ACTUAL']['year'][-1:]]).sort_index().values[0]"
   ]
  },
  {
   "cell_type": "markdown",
   "id": "8577fcdf",
   "metadata": {},
   "source": [
    "## Data Visualization "
   ]
  },
  {
   "cell_type": "code",
   "execution_count": 6,
   "id": "d423a6c4",
   "metadata": {
    "scrolled": false
   },
   "outputs": [
    {
     "data": {
      "application/vnd.plotly.v1+json": {
       "config": {
        "plotlyServerURL": "https://plot.ly"
       },
       "data": [
        {
         "line": {
          "color": "#4A81BF",
          "dash": "dash",
          "width": 4
         },
         "marker": {
          "color": "#4A81BF",
          "size": 10
         },
         "mode": "lines+markers",
         "type": "scatter",
         "x": [
          2014,
          2015,
          2016,
          2017,
          2018
         ],
         "y": [
          108,
          119,
          131,
          144,
          158
         ]
        },
        {
         "line": {
          "color": "#4A81BF",
          "width": 8
         },
         "marker": {
          "color": "white",
          "line": {
           "color": "#4A81BF",
           "width": 5
          },
          "size": 15
         },
         "mode": "lines+markers",
         "type": "scatter",
         "x": [
          2006,
          2007,
          2008,
          2009,
          2010,
          2011,
          2012,
          2013,
          2014
         ],
         "y": [
          52,
          54,
          60,
          64,
          78,
          86,
          91,
          100,
          108
         ]
        }
       ],
       "layout": {
        "annotations": [
         {
          "font": {
           "color": "#76787B",
           "family": "Arial",
           "size": 20
          },
          "showarrow": false,
          "text": "Sales ($Billion)",
          "textangle": -90,
          "x": 2005.5,
          "xshift": -70,
          "y": 180,
          "yshift": -70
         },
         {
          "font": {
           "color": "#76787B",
           "family": "Arial",
           "size": 20
          },
          "showarrow": false,
          "text": "ACTUAL",
          "x": 2010,
          "xshift": 0,
          "y": 0,
          "yshift": -40
         },
         {
          "font": {
           "color": "#76787B",
           "family": "Arial",
           "size": 20
          },
          "showarrow": false,
          "text": "FORECAST",
          "x": 2016.5,
          "xshift": 0,
          "y": 0,
          "yshift": -40
         },
         {
          "font": {
           "color": "#4A81BF",
           "family": "Arial",
           "size": 15
          },
          "showarrow": false,
          "text": "$108",
          "x": 2014,
          "xshift": 0,
          "y": 108,
          "yshift": 20
         },
         {
          "font": {
           "color": "#4A81BF",
           "family": "Arial",
           "size": 15
          },
          "showarrow": false,
          "text": "$119",
          "x": 2015,
          "xshift": 0,
          "y": 119,
          "yshift": 20
         },
         {
          "font": {
           "color": "#4A81BF",
           "family": "Arial",
           "size": 15
          },
          "showarrow": false,
          "text": "$131",
          "x": 2016,
          "xshift": 0,
          "y": 131,
          "yshift": 20
         },
         {
          "font": {
           "color": "#4A81BF",
           "family": "Arial",
           "size": 15
          },
          "showarrow": false,
          "text": "$144",
          "x": 2017,
          "xshift": 0,
          "y": 144,
          "yshift": 20
         },
         {
          "font": {
           "color": "#4A81BF",
           "family": "Arial",
           "size": 15
          },
          "showarrow": false,
          "text": "$158",
          "x": 2018,
          "xshift": 0,
          "y": 158,
          "yshift": 20
         },
         {
          "font": {
           "color": "#231F20",
           "family": "Arial",
           "size": 25
          },
          "showarrow": false,
          "text": "Sales over time",
          "x": 2005.5,
          "xshift": 90,
          "y": 180,
          "yshift": 30
         },
         {
          "align": "left",
          "font": {
           "color": "#76787B",
           "family": "Arial",
           "size": 15
          },
          "showarrow": false,
          "text": "Data source: Sales Dashboard; annual figures are as of 12/31 of hte given year.<br>*Use this footnote to explain what is driving the 10% annual growth forecast assumption",
          "x": 2005.5,
          "xshift": 290,
          "y": 0,
          "yshift": -80
         },
         {
          "align": "left",
          "font": {
           "color": "#76787B",
           "family": "Arial",
           "size": 18
          },
          "showarrow": false,
          "text": "<b style='color: #4A81BF'>2006-09</b>:<br>annual sale<br>growth of<br>7-8%",
          "x": 2006,
          "xshift": 40,
          "y": 180,
          "yshift": -45
         },
         {
          "align": "left",
          "font": {
           "color": "#76787B",
           "family": "Arial",
           "size": 18
          },
          "showarrow": false,
          "text": "<b style='color: #4A81BF'>2010</b>:<br>more marked<br>increase<br>of 22%<br>sales year<br>over year,<br>driven by",
          "x": 2009,
          "xshift": 10,
          "y": 180,
          "yshift": -78
         },
         {
          "align": "left",
          "font": {
           "color": "#76787B",
           "family": "Arial",
           "size": 18
          },
          "showarrow": false,
          "text": "<b style='color: #4A81BF'>2011-14</b>:<br>another period<br>of steady<br>frowth of<br>8-9% annualy",
          "x": 2012,
          "xshift": 0,
          "y": 180,
          "yshift": -53
         },
         {
          "align": "left",
          "font": {
           "color": "#76787B",
           "family": "Arial",
           "size": 18
          },
          "showarrow": false,
          "text": "<b style='color: #4A81BF'>2015& beyond</b>: assumed<br>10% year over year<br>increase in sales*",
          "x": 2015.5,
          "xshift": 5,
          "y": 180,
          "yshift": -28
         }
        ],
        "barmode": "stack",
        "height": 550,
        "margin": {
         "b": 110,
         "l": 100,
         "r": 20,
         "t": 70
        },
        "paper_bgcolor": "white",
        "plot_bgcolor": "white",
        "showlegend": false,
        "template": {
         "data": {
          "bar": [
           {
            "error_x": {
             "color": "#2a3f5f"
            },
            "error_y": {
             "color": "#2a3f5f"
            },
            "marker": {
             "line": {
              "color": "#E5ECF6",
              "width": 0.5
             },
             "pattern": {
              "fillmode": "overlay",
              "size": 10,
              "solidity": 0.2
             }
            },
            "type": "bar"
           }
          ],
          "barpolar": [
           {
            "marker": {
             "line": {
              "color": "#E5ECF6",
              "width": 0.5
             },
             "pattern": {
              "fillmode": "overlay",
              "size": 10,
              "solidity": 0.2
             }
            },
            "type": "barpolar"
           }
          ],
          "carpet": [
           {
            "aaxis": {
             "endlinecolor": "#2a3f5f",
             "gridcolor": "white",
             "linecolor": "white",
             "minorgridcolor": "white",
             "startlinecolor": "#2a3f5f"
            },
            "baxis": {
             "endlinecolor": "#2a3f5f",
             "gridcolor": "white",
             "linecolor": "white",
             "minorgridcolor": "white",
             "startlinecolor": "#2a3f5f"
            },
            "type": "carpet"
           }
          ],
          "choropleth": [
           {
            "colorbar": {
             "outlinewidth": 0,
             "ticks": ""
            },
            "type": "choropleth"
           }
          ],
          "contour": [
           {
            "colorbar": {
             "outlinewidth": 0,
             "ticks": ""
            },
            "colorscale": [
             [
              0,
              "#0d0887"
             ],
             [
              0.1111111111111111,
              "#46039f"
             ],
             [
              0.2222222222222222,
              "#7201a8"
             ],
             [
              0.3333333333333333,
              "#9c179e"
             ],
             [
              0.4444444444444444,
              "#bd3786"
             ],
             [
              0.5555555555555556,
              "#d8576b"
             ],
             [
              0.6666666666666666,
              "#ed7953"
             ],
             [
              0.7777777777777778,
              "#fb9f3a"
             ],
             [
              0.8888888888888888,
              "#fdca26"
             ],
             [
              1,
              "#f0f921"
             ]
            ],
            "type": "contour"
           }
          ],
          "contourcarpet": [
           {
            "colorbar": {
             "outlinewidth": 0,
             "ticks": ""
            },
            "type": "contourcarpet"
           }
          ],
          "heatmap": [
           {
            "colorbar": {
             "outlinewidth": 0,
             "ticks": ""
            },
            "colorscale": [
             [
              0,
              "#0d0887"
             ],
             [
              0.1111111111111111,
              "#46039f"
             ],
             [
              0.2222222222222222,
              "#7201a8"
             ],
             [
              0.3333333333333333,
              "#9c179e"
             ],
             [
              0.4444444444444444,
              "#bd3786"
             ],
             [
              0.5555555555555556,
              "#d8576b"
             ],
             [
              0.6666666666666666,
              "#ed7953"
             ],
             [
              0.7777777777777778,
              "#fb9f3a"
             ],
             [
              0.8888888888888888,
              "#fdca26"
             ],
             [
              1,
              "#f0f921"
             ]
            ],
            "type": "heatmap"
           }
          ],
          "heatmapgl": [
           {
            "colorbar": {
             "outlinewidth": 0,
             "ticks": ""
            },
            "colorscale": [
             [
              0,
              "#0d0887"
             ],
             [
              0.1111111111111111,
              "#46039f"
             ],
             [
              0.2222222222222222,
              "#7201a8"
             ],
             [
              0.3333333333333333,
              "#9c179e"
             ],
             [
              0.4444444444444444,
              "#bd3786"
             ],
             [
              0.5555555555555556,
              "#d8576b"
             ],
             [
              0.6666666666666666,
              "#ed7953"
             ],
             [
              0.7777777777777778,
              "#fb9f3a"
             ],
             [
              0.8888888888888888,
              "#fdca26"
             ],
             [
              1,
              "#f0f921"
             ]
            ],
            "type": "heatmapgl"
           }
          ],
          "histogram": [
           {
            "marker": {
             "pattern": {
              "fillmode": "overlay",
              "size": 10,
              "solidity": 0.2
             }
            },
            "type": "histogram"
           }
          ],
          "histogram2d": [
           {
            "colorbar": {
             "outlinewidth": 0,
             "ticks": ""
            },
            "colorscale": [
             [
              0,
              "#0d0887"
             ],
             [
              0.1111111111111111,
              "#46039f"
             ],
             [
              0.2222222222222222,
              "#7201a8"
             ],
             [
              0.3333333333333333,
              "#9c179e"
             ],
             [
              0.4444444444444444,
              "#bd3786"
             ],
             [
              0.5555555555555556,
              "#d8576b"
             ],
             [
              0.6666666666666666,
              "#ed7953"
             ],
             [
              0.7777777777777778,
              "#fb9f3a"
             ],
             [
              0.8888888888888888,
              "#fdca26"
             ],
             [
              1,
              "#f0f921"
             ]
            ],
            "type": "histogram2d"
           }
          ],
          "histogram2dcontour": [
           {
            "colorbar": {
             "outlinewidth": 0,
             "ticks": ""
            },
            "colorscale": [
             [
              0,
              "#0d0887"
             ],
             [
              0.1111111111111111,
              "#46039f"
             ],
             [
              0.2222222222222222,
              "#7201a8"
             ],
             [
              0.3333333333333333,
              "#9c179e"
             ],
             [
              0.4444444444444444,
              "#bd3786"
             ],
             [
              0.5555555555555556,
              "#d8576b"
             ],
             [
              0.6666666666666666,
              "#ed7953"
             ],
             [
              0.7777777777777778,
              "#fb9f3a"
             ],
             [
              0.8888888888888888,
              "#fdca26"
             ],
             [
              1,
              "#f0f921"
             ]
            ],
            "type": "histogram2dcontour"
           }
          ],
          "mesh3d": [
           {
            "colorbar": {
             "outlinewidth": 0,
             "ticks": ""
            },
            "type": "mesh3d"
           }
          ],
          "parcoords": [
           {
            "line": {
             "colorbar": {
              "outlinewidth": 0,
              "ticks": ""
             }
            },
            "type": "parcoords"
           }
          ],
          "pie": [
           {
            "automargin": true,
            "type": "pie"
           }
          ],
          "scatter": [
           {
            "marker": {
             "colorbar": {
              "outlinewidth": 0,
              "ticks": ""
             }
            },
            "type": "scatter"
           }
          ],
          "scatter3d": [
           {
            "line": {
             "colorbar": {
              "outlinewidth": 0,
              "ticks": ""
             }
            },
            "marker": {
             "colorbar": {
              "outlinewidth": 0,
              "ticks": ""
             }
            },
            "type": "scatter3d"
           }
          ],
          "scattercarpet": [
           {
            "marker": {
             "colorbar": {
              "outlinewidth": 0,
              "ticks": ""
             }
            },
            "type": "scattercarpet"
           }
          ],
          "scattergeo": [
           {
            "marker": {
             "colorbar": {
              "outlinewidth": 0,
              "ticks": ""
             }
            },
            "type": "scattergeo"
           }
          ],
          "scattergl": [
           {
            "marker": {
             "colorbar": {
              "outlinewidth": 0,
              "ticks": ""
             }
            },
            "type": "scattergl"
           }
          ],
          "scattermapbox": [
           {
            "marker": {
             "colorbar": {
              "outlinewidth": 0,
              "ticks": ""
             }
            },
            "type": "scattermapbox"
           }
          ],
          "scatterpolar": [
           {
            "marker": {
             "colorbar": {
              "outlinewidth": 0,
              "ticks": ""
             }
            },
            "type": "scatterpolar"
           }
          ],
          "scatterpolargl": [
           {
            "marker": {
             "colorbar": {
              "outlinewidth": 0,
              "ticks": ""
             }
            },
            "type": "scatterpolargl"
           }
          ],
          "scatterternary": [
           {
            "marker": {
             "colorbar": {
              "outlinewidth": 0,
              "ticks": ""
             }
            },
            "type": "scatterternary"
           }
          ],
          "surface": [
           {
            "colorbar": {
             "outlinewidth": 0,
             "ticks": ""
            },
            "colorscale": [
             [
              0,
              "#0d0887"
             ],
             [
              0.1111111111111111,
              "#46039f"
             ],
             [
              0.2222222222222222,
              "#7201a8"
             ],
             [
              0.3333333333333333,
              "#9c179e"
             ],
             [
              0.4444444444444444,
              "#bd3786"
             ],
             [
              0.5555555555555556,
              "#d8576b"
             ],
             [
              0.6666666666666666,
              "#ed7953"
             ],
             [
              0.7777777777777778,
              "#fb9f3a"
             ],
             [
              0.8888888888888888,
              "#fdca26"
             ],
             [
              1,
              "#f0f921"
             ]
            ],
            "type": "surface"
           }
          ],
          "table": [
           {
            "cells": {
             "fill": {
              "color": "#EBF0F8"
             },
             "line": {
              "color": "white"
             }
            },
            "header": {
             "fill": {
              "color": "#C8D4E3"
             },
             "line": {
              "color": "white"
             }
            },
            "type": "table"
           }
          ]
         },
         "layout": {
          "annotationdefaults": {
           "arrowcolor": "#2a3f5f",
           "arrowhead": 0,
           "arrowwidth": 1
          },
          "autotypenumbers": "strict",
          "coloraxis": {
           "colorbar": {
            "outlinewidth": 0,
            "ticks": ""
           }
          },
          "colorscale": {
           "diverging": [
            [
             0,
             "#8e0152"
            ],
            [
             0.1,
             "#c51b7d"
            ],
            [
             0.2,
             "#de77ae"
            ],
            [
             0.3,
             "#f1b6da"
            ],
            [
             0.4,
             "#fde0ef"
            ],
            [
             0.5,
             "#f7f7f7"
            ],
            [
             0.6,
             "#e6f5d0"
            ],
            [
             0.7,
             "#b8e186"
            ],
            [
             0.8,
             "#7fbc41"
            ],
            [
             0.9,
             "#4d9221"
            ],
            [
             1,
             "#276419"
            ]
           ],
           "sequential": [
            [
             0,
             "#0d0887"
            ],
            [
             0.1111111111111111,
             "#46039f"
            ],
            [
             0.2222222222222222,
             "#7201a8"
            ],
            [
             0.3333333333333333,
             "#9c179e"
            ],
            [
             0.4444444444444444,
             "#bd3786"
            ],
            [
             0.5555555555555556,
             "#d8576b"
            ],
            [
             0.6666666666666666,
             "#ed7953"
            ],
            [
             0.7777777777777778,
             "#fb9f3a"
            ],
            [
             0.8888888888888888,
             "#fdca26"
            ],
            [
             1,
             "#f0f921"
            ]
           ],
           "sequentialminus": [
            [
             0,
             "#0d0887"
            ],
            [
             0.1111111111111111,
             "#46039f"
            ],
            [
             0.2222222222222222,
             "#7201a8"
            ],
            [
             0.3333333333333333,
             "#9c179e"
            ],
            [
             0.4444444444444444,
             "#bd3786"
            ],
            [
             0.5555555555555556,
             "#d8576b"
            ],
            [
             0.6666666666666666,
             "#ed7953"
            ],
            [
             0.7777777777777778,
             "#fb9f3a"
            ],
            [
             0.8888888888888888,
             "#fdca26"
            ],
            [
             1,
             "#f0f921"
            ]
           ]
          },
          "colorway": [
           "#636efa",
           "#EF553B",
           "#00cc96",
           "#ab63fa",
           "#FFA15A",
           "#19d3f3",
           "#FF6692",
           "#B6E880",
           "#FF97FF",
           "#FECB52"
          ],
          "font": {
           "color": "#2a3f5f"
          },
          "geo": {
           "bgcolor": "white",
           "lakecolor": "white",
           "landcolor": "#E5ECF6",
           "showlakes": true,
           "showland": true,
           "subunitcolor": "white"
          },
          "hoverlabel": {
           "align": "left"
          },
          "hovermode": "closest",
          "mapbox": {
           "style": "light"
          },
          "paper_bgcolor": "white",
          "plot_bgcolor": "#E5ECF6",
          "polar": {
           "angularaxis": {
            "gridcolor": "white",
            "linecolor": "white",
            "ticks": ""
           },
           "bgcolor": "#E5ECF6",
           "radialaxis": {
            "gridcolor": "white",
            "linecolor": "white",
            "ticks": ""
           }
          },
          "scene": {
           "xaxis": {
            "backgroundcolor": "#E5ECF6",
            "gridcolor": "white",
            "gridwidth": 2,
            "linecolor": "white",
            "showbackground": true,
            "ticks": "",
            "zerolinecolor": "white"
           },
           "yaxis": {
            "backgroundcolor": "#E5ECF6",
            "gridcolor": "white",
            "gridwidth": 2,
            "linecolor": "white",
            "showbackground": true,
            "ticks": "",
            "zerolinecolor": "white"
           },
           "zaxis": {
            "backgroundcolor": "#E5ECF6",
            "gridcolor": "white",
            "gridwidth": 2,
            "linecolor": "white",
            "showbackground": true,
            "ticks": "",
            "zerolinecolor": "white"
           }
          },
          "shapedefaults": {
           "line": {
            "color": "#2a3f5f"
           }
          },
          "ternary": {
           "aaxis": {
            "gridcolor": "white",
            "linecolor": "white",
            "ticks": ""
           },
           "baxis": {
            "gridcolor": "white",
            "linecolor": "white",
            "ticks": ""
           },
           "bgcolor": "#E5ECF6",
           "caxis": {
            "gridcolor": "white",
            "linecolor": "white",
            "ticks": ""
           }
          },
          "title": {
           "x": 0.05
          },
          "xaxis": {
           "automargin": true,
           "gridcolor": "white",
           "linecolor": "white",
           "ticks": "",
           "title": {
            "standoff": 15
           },
           "zerolinecolor": "white",
           "zerolinewidth": 2
          },
          "yaxis": {
           "automargin": true,
           "gridcolor": "white",
           "linecolor": "white",
           "ticks": "",
           "title": {
            "standoff": 15
           },
           "zerolinecolor": "white",
           "zerolinewidth": 2
          }
         }
        },
        "width": 800,
        "xaxis": {
         "dtick": 1,
         "linecolor": "#929497",
         "range": [
          2005.5,
          2018.5
         ],
         "tickcolor": "#929497",
         "tickfont": {
          "color": "#76787B",
          "family": "Arial",
          "size": 15
         },
         "tickmode": "linear",
         "ticks": "outside"
        },
        "yaxis": {
         "linecolor": "#929497",
         "range": [
          0,
          180
         ],
         "tickcolor": "#929497",
         "tickfont": {
          "color": "#76787B",
          "family": "Arial",
          "size": 15
         },
         "tickformat": "$,.5",
         "ticks": "outside"
        }
       }
      }
     },
     "metadata": {},
     "output_type": "display_data"
    }
   ],
   "source": [
    "fig = go.Figure()\n",
    "\n",
    "# Plot -------------------------\n",
    "fig.add_scatter(\n",
    "    x=pd.concat([df[df['category'] == 'FORECAST']['year'], df[df['category'] == 'ACTUAL']['year'][-1:]]).sort_index(),\n",
    "    y=pd.concat([df[df['category'] == 'FORECAST']['sales'], df[df['category'] == 'ACTUAL']['sales'][-1:]]).sort_index(),\n",
    "    mode='lines+markers',\n",
    "    line=dict(color=BLUE2, width=4, dash='dash'),\n",
    "    marker=dict(color=BLUE2, size=10)\n",
    ")\n",
    "\n",
    "fig.add_scatter(\n",
    "    x=df[df['category'] == 'ACTUAL']['year'],\n",
    "    y=df[df['category'] == 'ACTUAL']['sales'],\n",
    "    mode='lines+markers',\n",
    "    line=dict(color=BLUE2, width=8),\n",
    "    marker=dict(color=\"white\", line=dict(color=BLUE2, width=5), size=15)\n",
    ")\n",
    "\n",
    "# Annotation -------------------\n",
    "fig.add_annotation(\n",
    "    text=r\"Sales ($Billion)\",\n",
    "    font=dict(color=GRAY5, size=20, family=\"Arial\"),\n",
    "    x=2005.5,\n",
    "    y=180,\n",
    "    xshift=-70,\n",
    "    yshift=-70,\n",
    "    textangle=-90,\n",
    "    showarrow=False\n",
    ")\n",
    "\n",
    "fig.add_annotation(\n",
    "    text=\"ACTUAL\",\n",
    "    font=dict(color=GRAY5, size=20, family=\"Arial\"),\n",
    "    x=2010,\n",
    "    y=0,\n",
    "    xshift=0,\n",
    "    yshift=-40,\n",
    "    showarrow=False\n",
    ")\n",
    "\n",
    "fig.add_annotation(\n",
    "    text=\"FORECAST\",\n",
    "    font=dict(color=GRAY5, size=20, family=\"Arial\"),\n",
    "    x=2016.5,\n",
    "    y=0,\n",
    "    xshift=0,\n",
    "    yshift=-40,\n",
    "    showarrow=False\n",
    ")\n",
    "\n",
    "for i in range(5):\n",
    "    fig.add_annotation(\n",
    "        text=f\"${pd.concat([df[df['category'] == 'FORECAST']['sales'], df[df['category'] == 'ACTUAL']['sales'][-1:]]).sort_index().values[i]:,}\",\n",
    "        font=dict(color=BLUE2, size=15, family=\"Arial\"),\n",
    "        x=pd.concat([df[df['category'] == 'FORECAST']['year'], df[df['category'] == 'ACTUAL']['year'][-1:]]).sort_index().values[i],\n",
    "        y=pd.concat([df[df['category'] == 'FORECAST']['sales'], df[df['category'] == 'ACTUAL']['sales'][-1:]]).sort_index().values[i],\n",
    "        xshift=0,\n",
    "        yshift=20,\n",
    "        showarrow=False\n",
    "    )\n",
    "\n",
    "# Text -------------------------\n",
    "fig.add_annotation(\n",
    "    text=\"Sales over time\",\n",
    "    font=dict(color=GRAY1, size=25, family=\"Arial\"),\n",
    "    x=2005.5,\n",
    "    y=180,\n",
    "    xshift=90,\n",
    "    yshift=30,\n",
    "    showarrow=False\n",
    ")\n",
    "\n",
    "fig.add_annotation(\n",
    "    text=\"Data source: Sales Dashboard; annual figures are as of 12/31 of hte given year.<br>\\\n",
    "*Use this footnote to explain what is driving the 10% annual growth forecast assumption\",\n",
    "    font=dict(color=GRAY5, size=15, family=\"Arial\"),\n",
    "    align=\"left\",\n",
    "    x=2005.5,\n",
    "    y=0,\n",
    "    xshift=290,\n",
    "    yshift=-80,\n",
    "    showarrow=False\n",
    ")\n",
    "\n",
    "fig.add_annotation(\n",
    "    text=f\"<b style='color: {BLUE2}'>2006-09</b>:<br>\\\n",
    "annual sale<br>\\\n",
    "growth of<br>\\\n",
    "7-8%\",\n",
    "    align=\"left\",\n",
    "    font=dict(color=GRAY5, size=18, family=\"Arial\"),\n",
    "    x=2006,\n",
    "    y=180,\n",
    "    xshift=40,\n",
    "    yshift=-45,\n",
    "    showarrow=False\n",
    ")\n",
    "\n",
    "fig.add_annotation(\n",
    "    text=f\"<b style='color: {BLUE2}'>2010</b>:<br>\\\n",
    "more marked<br>\\\n",
    "increase<br>\\\n",
    "of 22%<br>\\\n",
    "sales year<br>\\\n",
    "over year,<br>\\\n",
    "driven by\",\n",
    "    align=\"left\",\n",
    "    font=dict(color=GRAY5, size=18, family=\"Arial\"),\n",
    "    x=2009,\n",
    "    y=180,\n",
    "    xshift=10,\n",
    "    yshift=-78,\n",
    "    showarrow=False\n",
    ")\n",
    "\n",
    "fig.add_annotation(\n",
    "    text=f\"<b style='color: {BLUE2}'>2011-14</b>:<br>\\\n",
    "another period<br>\\\n",
    "of steady<br>\\\n",
    "frowth of<br>\\\n",
    "8-9% annualy\",\n",
    "    align=\"left\",\n",
    "    font=dict(color=GRAY5, size=18, family=\"Arial\"),\n",
    "    x=2012,\n",
    "    y=180,\n",
    "    xshift=0,\n",
    "    yshift=-53,\n",
    "    showarrow=False\n",
    ")\n",
    "\n",
    "fig.add_annotation(\n",
    "    text=f\"<b style='color: {BLUE2}'>2015& beyond</b>: assumed<br>\\\n",
    "10% year over year<br>\\\n",
    "increase in sales*\",\n",
    "    align=\"left\",\n",
    "    font=dict(color=GRAY5, size=18, family=\"Arial\"),\n",
    "    x=2015.5,\n",
    "    y=180,\n",
    "    xshift=5,\n",
    "    yshift=-28,\n",
    "    showarrow=False\n",
    ")\n",
    "\n",
    "\n",
    "# Layout -----------------------\n",
    "fig.update_layout(\n",
    "    width=800,\n",
    "    height=550,\n",
    "    margin=dict(t=70, b=110, l=100, r=20),\n",
    "    paper_bgcolor=\"white\",\n",
    "    plot_bgcolor=\"white\",\n",
    "    showlegend=False,\n",
    "    barmode=\"stack\",\n",
    ")\n",
    "\n",
    "fig.update_xaxes(\n",
    "    tickfont=dict(color=GRAY5, size=15, family=\"Arial\"),\n",
    "    ticks='outside',\n",
    "    tickcolor=GRAY7,\n",
    "    tickmode='linear',\n",
    "    dtick=1,\n",
    "    linecolor=GRAY7,\n",
    "    range=[2005.5, 2018.5]\n",
    ")\n",
    "\n",
    "fig.update_yaxes(\n",
    "    tickfont=dict(color=GRAY5, size=15, family=\"Arial\"),\n",
    "    tickformat='$,.5',\n",
    "    ticks='outside',\n",
    "    tickcolor=GRAY7,\n",
    "    linecolor=GRAY7,\n",
    "    range=[0, 180]\n",
    ")"
   ]
  },
  {
   "cell_type": "markdown",
   "id": "c9f04da8",
   "metadata": {},
   "source": [
    "## Output"
   ]
  },
  {
   "cell_type": "code",
   "execution_count": 7,
   "id": "7776fe8a",
   "metadata": {},
   "outputs": [],
   "source": [
    "fig.write_image(\"plot/plot 6-2.png\", format=\"png\", width=800, height=550, scale=3)"
   ]
  }
 ],
 "metadata": {
  "kernelspec": {
   "display_name": "data",
   "language": "python",
   "name": "python3"
  },
  "language_info": {
   "codemirror_mode": {
    "name": "ipython",
    "version": 3
   },
   "file_extension": ".py",
   "mimetype": "text/x-python",
   "name": "python",
   "nbconvert_exporter": "python",
   "pygments_lexer": "ipython3",
   "version": "3.10.4"
  },
  "vscode": {
   "interpreter": {
    "hash": "87aa2df5676ce3636fa5c3ad845736f33e5dcc95e958fafe10accbd91339fdaa"
   }
  }
 },
 "nbformat": 4,
 "nbformat_minor": 5
}
