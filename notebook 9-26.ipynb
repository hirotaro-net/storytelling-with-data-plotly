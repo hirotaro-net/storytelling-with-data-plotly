{
 "cells": [
  {
   "cell_type": "markdown",
   "id": "945bbfc2",
   "metadata": {},
   "source": [
    "## Required Modules"
   ]
  },
  {
   "cell_type": "code",
   "execution_count": 1,
   "id": "3ff355c6",
   "metadata": {},
   "outputs": [],
   "source": [
    "import numpy as np\n",
    "import pandas as pd\n",
    "import plotly.subplots as sp\n",
    "import plotly.graph_objects as go"
   ]
  },
  {
   "cell_type": "markdown",
   "id": "ad865108",
   "metadata": {},
   "source": [
    "## Color Palette"
   ]
  },
  {
   "cell_type": "code",
   "execution_count": 2,
   "id": "2fa5f557",
   "metadata": {},
   "outputs": [],
   "source": [
    "from colors import *"
   ]
  },
  {
   "cell_type": "markdown",
   "id": "ad547d74",
   "metadata": {},
   "source": [
    "## Data"
   ]
  },
  {
   "cell_type": "code",
   "execution_count": 3,
   "id": "6363116b",
   "metadata": {
    "scrolled": false
   },
   "outputs": [],
   "source": [
    "df = pd.read_csv(\"data/data 9-26.csv\")"
   ]
  },
  {
   "cell_type": "code",
   "execution_count": 4,
   "id": "fef2eb30",
   "metadata": {},
   "outputs": [],
   "source": [
    "df = df.set_index('Category')"
   ]
  },
  {
   "cell_type": "code",
   "execution_count": 5,
   "id": "cf702112",
   "metadata": {},
   "outputs": [],
   "source": [
    "df['2010'] = df['2010'].str.replace('%', '').astype('int') / 100\n",
    "df['2011'] = df['2011'].str.replace('%', '').astype('int') / 100\n",
    "df['2012'] = df['2012'].str.replace('%', '').astype('int') / 100\n",
    "df['2013'] = df['2013'].str.replace('%', '').astype('int') / 100\n",
    "df['2014'] = df['2014'].str.replace('%', '').astype('int') / 100\n",
    "df['2015'] = df['2015'].str.replace('%', '').astype('int') / 100"
   ]
  },
  {
   "cell_type": "code",
   "execution_count": 6,
   "id": "6b254f4a",
   "metadata": {
    "scrolled": true
   },
   "outputs": [
    {
     "data": {
      "text/html": [
       "<div>\n",
       "<style scoped>\n",
       "    .dataframe tbody tr th:only-of-type {\n",
       "        vertical-align: middle;\n",
       "    }\n",
       "\n",
       "    .dataframe tbody tr th {\n",
       "        vertical-align: top;\n",
       "    }\n",
       "\n",
       "    .dataframe thead th {\n",
       "        text-align: right;\n",
       "    }\n",
       "</style>\n",
       "<table border=\"1\" class=\"dataframe\">\n",
       "  <thead>\n",
       "    <tr style=\"text-align: right;\">\n",
       "      <th></th>\n",
       "      <th>2010</th>\n",
       "      <th>2011</th>\n",
       "      <th>2012</th>\n",
       "      <th>2013</th>\n",
       "      <th>2014</th>\n",
       "      <th>2015</th>\n",
       "    </tr>\n",
       "    <tr>\n",
       "      <th>Category</th>\n",
       "      <th></th>\n",
       "      <th></th>\n",
       "      <th></th>\n",
       "      <th></th>\n",
       "      <th></th>\n",
       "      <th></th>\n",
       "    </tr>\n",
       "  </thead>\n",
       "  <tbody>\n",
       "    <tr>\n",
       "      <th>Arts &amp; culture</th>\n",
       "      <td>0.20</td>\n",
       "      <td>0.25</td>\n",
       "      <td>0.28</td>\n",
       "      <td>0.42</td>\n",
       "      <td>0.30</td>\n",
       "      <td>0.43</td>\n",
       "    </tr>\n",
       "    <tr>\n",
       "      <th>Education</th>\n",
       "      <td>0.73</td>\n",
       "      <td>0.80</td>\n",
       "      <td>0.74</td>\n",
       "      <td>0.70</td>\n",
       "      <td>0.63</td>\n",
       "      <td>0.60</td>\n",
       "    </tr>\n",
       "    <tr>\n",
       "      <th>Health</th>\n",
       "      <td>0.67</td>\n",
       "      <td>0.53</td>\n",
       "      <td>0.61</td>\n",
       "      <td>0.65</td>\n",
       "      <td>0.70</td>\n",
       "      <td>0.75</td>\n",
       "    </tr>\n",
       "    <tr>\n",
       "      <th>Human services</th>\n",
       "      <td>0.60</td>\n",
       "      <td>0.85</td>\n",
       "      <td>0.78</td>\n",
       "      <td>0.60</td>\n",
       "      <td>0.58</td>\n",
       "      <td>0.55</td>\n",
       "    </tr>\n",
       "    <tr>\n",
       "      <th>Other</th>\n",
       "      <td>0.53</td>\n",
       "      <td>0.30</td>\n",
       "      <td>0.45</td>\n",
       "      <td>0.30</td>\n",
       "      <td>0.45</td>\n",
       "      <td>0.30</td>\n",
       "    </tr>\n",
       "  </tbody>\n",
       "</table>\n",
       "</div>"
      ],
      "text/plain": [
       "                2010  2011  2012  2013  2014  2015\n",
       "Category                                          \n",
       "Arts & culture  0.20  0.25  0.28  0.42  0.30  0.43\n",
       "Education       0.73  0.80  0.74  0.70  0.63  0.60\n",
       "Health          0.67  0.53  0.61  0.65  0.70  0.75\n",
       "Human services  0.60  0.85  0.78  0.60  0.58  0.55\n",
       "Other           0.53  0.30  0.45  0.30  0.45  0.30"
      ]
     },
     "execution_count": 6,
     "metadata": {},
     "output_type": "execute_result"
    }
   ],
   "source": [
    "df"
   ]
  },
  {
   "cell_type": "code",
   "execution_count": 7,
   "id": "17eb5110",
   "metadata": {},
   "outputs": [
    {
     "data": {
      "text/plain": [
       "'Education'"
      ]
     },
     "execution_count": 7,
     "metadata": {},
     "output_type": "execute_result"
    }
   ],
   "source": [
    "df.index[1]"
   ]
  },
  {
   "cell_type": "markdown",
   "id": "8577fcdf",
   "metadata": {},
   "source": [
    "## Data Visualization "
   ]
  },
  {
   "cell_type": "code",
   "execution_count": 8,
   "id": "d423a6c4",
   "metadata": {
    "scrolled": false
   },
   "outputs": [
    {
     "data": {
      "application/vnd.plotly.v1+json": {
       "config": {
        "plotlyServerURL": "https://plot.ly"
       },
       "data": [
        {
         "line": {
          "color": "#BFBEBE",
          "width": 5
         },
         "mode": "lines",
         "type": "scatter",
         "x": [
          2010,
          2011,
          2012,
          2013,
          2014,
          2015
         ],
         "xaxis": "x5",
         "y": [
          0.2,
          0.25,
          0.28,
          0.42,
          0.3,
          0.43
         ],
         "yaxis": "y5"
        },
        {
         "line": {
          "color": "#BFBEBE",
          "width": 5
         },
         "mode": "lines",
         "type": "scatter",
         "x": [
          2010,
          2011,
          2012,
          2013,
          2014,
          2015
         ],
         "xaxis": "x5",
         "y": [
          0.73,
          0.8,
          0.74,
          0.7,
          0.63,
          0.6
         ],
         "yaxis": "y5"
        },
        {
         "line": {
          "color": "#BFBEBE",
          "width": 5
         },
         "mode": "lines",
         "type": "scatter",
         "x": [
          2010,
          2011,
          2012,
          2013,
          2014,
          2015
         ],
         "xaxis": "x5",
         "y": [
          0.67,
          0.53,
          0.61,
          0.65,
          0.7,
          0.75
         ],
         "yaxis": "y5"
        },
        {
         "line": {
          "color": "#BFBEBE",
          "width": 5
         },
         "mode": "lines",
         "type": "scatter",
         "x": [
          2010,
          2011,
          2012,
          2013,
          2014,
          2015
         ],
         "xaxis": "x5",
         "y": [
          0.6,
          0.85,
          0.78,
          0.6,
          0.58,
          0.55
         ],
         "yaxis": "y5"
        },
        {
         "line": {
          "color": "#BFBEBE",
          "width": 5
         },
         "mode": "lines",
         "type": "scatter",
         "x": [
          2010,
          2011,
          2012,
          2013,
          2014,
          2015
         ],
         "xaxis": "x5",
         "y": [
          0.53,
          0.3,
          0.45,
          0.3,
          0.45,
          0.3
         ],
         "yaxis": "y5"
        },
        {
         "line": {
          "color": "#4A81BF",
          "width": 5
         },
         "mode": "lines",
         "type": "scatter",
         "x": [
          2010,
          2011,
          2012,
          2013,
          2014,
          2015
         ],
         "xaxis": "x5",
         "y": [
          0.53,
          0.3,
          0.45,
          0.3,
          0.45,
          0.3
         ],
         "yaxis": "y5"
        },
        {
         "marker": {
          "color": "#4A81BF",
          "size": 12
         },
         "mode": "markers",
         "type": "scatter",
         "x": [
          2010
         ],
         "xaxis": "x5",
         "y": [
          0.53
         ],
         "yaxis": "y5"
        },
        {
         "marker": {
          "color": "#4A81BF",
          "size": 15
         },
         "mode": "markers",
         "type": "scatter",
         "x": [
          2015
         ],
         "xaxis": "x5",
         "y": [
          0.3
         ],
         "yaxis": "y5"
        },
        {
         "line": {
          "color": "#BFBEBE",
          "width": 5
         },
         "mode": "lines",
         "type": "scatter",
         "x": [
          2010,
          2011,
          2012,
          2013,
          2014,
          2015
         ],
         "xaxis": "x4",
         "y": [
          0.73,
          0.8,
          0.74,
          0.7,
          0.63,
          0.6
         ],
         "yaxis": "y4"
        },
        {
         "line": {
          "color": "#BFBEBE",
          "width": 5
         },
         "mode": "lines",
         "type": "scatter",
         "x": [
          2010,
          2011,
          2012,
          2013,
          2014,
          2015
         ],
         "xaxis": "x4",
         "y": [
          0.67,
          0.53,
          0.61,
          0.65,
          0.7,
          0.75
         ],
         "yaxis": "y4"
        },
        {
         "line": {
          "color": "#BFBEBE",
          "width": 5
         },
         "mode": "lines",
         "type": "scatter",
         "x": [
          2010,
          2011,
          2012,
          2013,
          2014,
          2015
         ],
         "xaxis": "x4",
         "y": [
          0.6,
          0.85,
          0.78,
          0.6,
          0.58,
          0.55
         ],
         "yaxis": "y4"
        },
        {
         "line": {
          "color": "#BFBEBE",
          "width": 5
         },
         "mode": "lines",
         "type": "scatter",
         "x": [
          2010,
          2011,
          2012,
          2013,
          2014,
          2015
         ],
         "xaxis": "x4",
         "y": [
          0.53,
          0.3,
          0.45,
          0.3,
          0.45,
          0.3
         ],
         "yaxis": "y4"
        },
        {
         "line": {
          "color": "#4A81BF",
          "width": 5
         },
         "mode": "lines",
         "type": "scatter",
         "x": [
          2010,
          2011,
          2012,
          2013,
          2014,
          2015
         ],
         "xaxis": "x4",
         "y": [
          0.2,
          0.25,
          0.28,
          0.42,
          0.3,
          0.43
         ],
         "yaxis": "y4"
        },
        {
         "marker": {
          "color": "#4A81BF",
          "size": 12
         },
         "mode": "markers",
         "type": "scatter",
         "x": [
          2010
         ],
         "xaxis": "x4",
         "y": [
          0.2
         ],
         "yaxis": "y4"
        },
        {
         "marker": {
          "color": "#4A81BF",
          "size": 15
         },
         "mode": "markers",
         "type": "scatter",
         "x": [
          2015
         ],
         "xaxis": "x4",
         "y": [
          0.43
         ],
         "yaxis": "y4"
        },
        {
         "line": {
          "color": "#BFBEBE",
          "width": 5
         },
         "mode": "lines",
         "type": "scatter",
         "x": [
          2010,
          2011,
          2012,
          2013,
          2014,
          2015
         ],
         "xaxis": "x3",
         "y": [
          0.2,
          0.25,
          0.28,
          0.42,
          0.3,
          0.43
         ],
         "yaxis": "y3"
        },
        {
         "line": {
          "color": "#BFBEBE",
          "width": 5
         },
         "mode": "lines",
         "type": "scatter",
         "x": [
          2010,
          2011,
          2012,
          2013,
          2014,
          2015
         ],
         "xaxis": "x3",
         "y": [
          0.73,
          0.8,
          0.74,
          0.7,
          0.63,
          0.6
         ],
         "yaxis": "y3"
        },
        {
         "line": {
          "color": "#BFBEBE",
          "width": 5
         },
         "mode": "lines",
         "type": "scatter",
         "x": [
          2010,
          2011,
          2012,
          2013,
          2014,
          2015
         ],
         "xaxis": "x3",
         "y": [
          0.67,
          0.53,
          0.61,
          0.65,
          0.7,
          0.75
         ],
         "yaxis": "y3"
        },
        {
         "line": {
          "color": "#BFBEBE",
          "width": 5
         },
         "mode": "lines",
         "type": "scatter",
         "x": [
          2010,
          2011,
          2012,
          2013,
          2014,
          2015
         ],
         "xaxis": "x3",
         "y": [
          0.53,
          0.3,
          0.45,
          0.3,
          0.45,
          0.3
         ],
         "yaxis": "y3"
        },
        {
         "line": {
          "color": "#4A81BF",
          "width": 5
         },
         "mode": "lines",
         "type": "scatter",
         "x": [
          2010,
          2011,
          2012,
          2013,
          2014,
          2015
         ],
         "xaxis": "x3",
         "y": [
          0.6,
          0.85,
          0.78,
          0.6,
          0.58,
          0.55
         ],
         "yaxis": "y3"
        },
        {
         "marker": {
          "color": "#4A81BF",
          "size": 12
         },
         "mode": "markers",
         "type": "scatter",
         "x": [
          2010
         ],
         "xaxis": "x3",
         "y": [
          0.6
         ],
         "yaxis": "y3"
        },
        {
         "marker": {
          "color": "#4A81BF",
          "size": 15
         },
         "mode": "markers",
         "type": "scatter",
         "x": [
          2015
         ],
         "xaxis": "x3",
         "y": [
          0.55
         ],
         "yaxis": "y3"
        },
        {
         "line": {
          "color": "#BFBEBE",
          "width": 5
         },
         "mode": "lines",
         "type": "scatter",
         "x": [
          2010,
          2011,
          2012,
          2013,
          2014,
          2015
         ],
         "xaxis": "x2",
         "y": [
          0.2,
          0.25,
          0.28,
          0.42,
          0.3,
          0.43
         ],
         "yaxis": "y2"
        },
        {
         "line": {
          "color": "#BFBEBE",
          "width": 5
         },
         "mode": "lines",
         "type": "scatter",
         "x": [
          2010,
          2011,
          2012,
          2013,
          2014,
          2015
         ],
         "xaxis": "x2",
         "y": [
          0.67,
          0.53,
          0.61,
          0.65,
          0.7,
          0.75
         ],
         "yaxis": "y2"
        },
        {
         "line": {
          "color": "#BFBEBE",
          "width": 5
         },
         "mode": "lines",
         "type": "scatter",
         "x": [
          2010,
          2011,
          2012,
          2013,
          2014,
          2015
         ],
         "xaxis": "x2",
         "y": [
          0.6,
          0.85,
          0.78,
          0.6,
          0.58,
          0.55
         ],
         "yaxis": "y2"
        },
        {
         "line": {
          "color": "#BFBEBE",
          "width": 5
         },
         "mode": "lines",
         "type": "scatter",
         "x": [
          2010,
          2011,
          2012,
          2013,
          2014,
          2015
         ],
         "xaxis": "x2",
         "y": [
          0.53,
          0.3,
          0.45,
          0.3,
          0.45,
          0.3
         ],
         "yaxis": "y2"
        },
        {
         "line": {
          "color": "#4A81BF",
          "width": 5
         },
         "mode": "lines",
         "type": "scatter",
         "x": [
          2010,
          2011,
          2012,
          2013,
          2014,
          2015
         ],
         "xaxis": "x2",
         "y": [
          0.73,
          0.8,
          0.74,
          0.7,
          0.63,
          0.6
         ],
         "yaxis": "y2"
        },
        {
         "marker": {
          "color": "#4A81BF",
          "size": 12
         },
         "mode": "markers",
         "type": "scatter",
         "x": [
          2010
         ],
         "xaxis": "x2",
         "y": [
          0.73
         ],
         "yaxis": "y2"
        },
        {
         "marker": {
          "color": "#4A81BF",
          "size": 15
         },
         "mode": "markers",
         "type": "scatter",
         "x": [
          2015
         ],
         "xaxis": "x2",
         "y": [
          0.6
         ],
         "yaxis": "y2"
        },
        {
         "line": {
          "color": "#BFBEBE",
          "width": 5
         },
         "mode": "lines",
         "type": "scatter",
         "x": [
          2010,
          2011,
          2012,
          2013,
          2014,
          2015
         ],
         "xaxis": "x",
         "y": [
          0.2,
          0.25,
          0.28,
          0.42,
          0.3,
          0.43
         ],
         "yaxis": "y"
        },
        {
         "line": {
          "color": "#BFBEBE",
          "width": 5
         },
         "mode": "lines",
         "type": "scatter",
         "x": [
          2010,
          2011,
          2012,
          2013,
          2014,
          2015
         ],
         "xaxis": "x",
         "y": [
          0.73,
          0.8,
          0.74,
          0.7,
          0.63,
          0.6
         ],
         "yaxis": "y"
        },
        {
         "line": {
          "color": "#BFBEBE",
          "width": 5
         },
         "mode": "lines",
         "type": "scatter",
         "x": [
          2010,
          2011,
          2012,
          2013,
          2014,
          2015
         ],
         "xaxis": "x",
         "y": [
          0.6,
          0.85,
          0.78,
          0.6,
          0.58,
          0.55
         ],
         "yaxis": "y"
        },
        {
         "line": {
          "color": "#BFBEBE",
          "width": 5
         },
         "mode": "lines",
         "type": "scatter",
         "x": [
          2010,
          2011,
          2012,
          2013,
          2014,
          2015
         ],
         "xaxis": "x",
         "y": [
          0.53,
          0.3,
          0.45,
          0.3,
          0.45,
          0.3
         ],
         "yaxis": "y"
        },
        {
         "line": {
          "color": "#4A81BF",
          "width": 5
         },
         "mode": "lines",
         "type": "scatter",
         "x": [
          2010,
          2011,
          2012,
          2013,
          2014,
          2015
         ],
         "xaxis": "x",
         "y": [
          0.67,
          0.53,
          0.61,
          0.65,
          0.7,
          0.75
         ],
         "yaxis": "y"
        },
        {
         "marker": {
          "color": "#4A81BF",
          "size": 12
         },
         "mode": "markers",
         "type": "scatter",
         "x": [
          2010
         ],
         "xaxis": "x",
         "y": [
          0.67
         ],
         "yaxis": "y"
        },
        {
         "marker": {
          "color": "#4A81BF",
          "size": 15
         },
         "mode": "markers",
         "type": "scatter",
         "x": [
          2015
         ],
         "xaxis": "x",
         "y": [
          0.75
         ],
         "yaxis": "y"
        }
       ],
       "layout": {
        "annotations": [
         {
          "align": "right",
          "font": {
           "color": "#555655",
           "family": "Arial",
           "size": 25
          },
          "showarrow": false,
          "text": "Health",
          "width": 150,
          "x": 2010,
          "xref": "x",
          "xshift": -150,
          "y": 0.5,
          "yref": "y",
          "yshift": 0
         },
         {
          "align": "right",
          "font": {
           "color": "#555655",
           "family": "Arial",
           "size": 25
          },
          "showarrow": false,
          "text": "Education",
          "width": 150,
          "x": 2010,
          "xref": "x2",
          "xshift": -150,
          "y": 0.5,
          "yref": "y2",
          "yshift": 0
         },
         {
          "align": "right",
          "font": {
           "color": "#555655",
           "family": "Arial",
           "size": 25
          },
          "showarrow": false,
          "text": "Human<br>services",
          "width": 150,
          "x": 2010,
          "xref": "x3",
          "xshift": -150,
          "y": 0.5,
          "yref": "y3",
          "yshift": 0
         },
         {
          "align": "right",
          "font": {
           "color": "#555655",
           "family": "Arial",
           "size": 25
          },
          "showarrow": false,
          "text": "Arts &<br>culture",
          "width": 150,
          "x": 2010,
          "xref": "x4",
          "xshift": -150,
          "y": 0.5,
          "yref": "y4",
          "yshift": 0
         },
         {
          "align": "right",
          "font": {
           "color": "#555655",
           "family": "Arial",
           "size": 25
          },
          "showarrow": false,
          "text": "Other",
          "width": 150,
          "x": 2010,
          "xref": "x5",
          "xshift": -150,
          "y": 0.5,
          "yref": "y5",
          "yshift": 0
         },
         {
          "font": {
           "color": "#4A81BF",
           "size": 15
          },
          "showarrow": false,
          "text": "53%",
          "x": 2010,
          "xref": "x5",
          "xshift": -35,
          "y": 0.53,
          "yref": "y5",
          "yshift": 0
         },
         {
          "font": {
           "color": "#4A81BF",
           "size": 20
          },
          "showarrow": false,
          "text": "<b>30%</b>",
          "x": 2015,
          "xref": "x5",
          "xshift": 40,
          "y": 0.3,
          "yref": "y5",
          "yshift": 0
         },
         {
          "font": {
           "color": "#4A81BF",
           "size": 15
          },
          "showarrow": false,
          "text": "20%",
          "x": 2010,
          "xref": "x4",
          "xshift": -35,
          "y": 0.2,
          "yref": "y4",
          "yshift": 0
         },
         {
          "font": {
           "color": "#4A81BF",
           "size": 20
          },
          "showarrow": false,
          "text": "<b>43%</b>",
          "x": 2015,
          "xref": "x4",
          "xshift": 40,
          "y": 0.43,
          "yref": "y4",
          "yshift": 0
         },
         {
          "font": {
           "color": "#4A81BF",
           "size": 15
          },
          "showarrow": false,
          "text": "60%",
          "x": 2010,
          "xref": "x3",
          "xshift": -35,
          "y": 0.6,
          "yref": "y3",
          "yshift": 0
         },
         {
          "font": {
           "color": "#4A81BF",
           "size": 20
          },
          "showarrow": false,
          "text": "<b>55%</b>",
          "x": 2015,
          "xref": "x3",
          "xshift": 40,
          "y": 0.55,
          "yref": "y3",
          "yshift": 0
         },
         {
          "font": {
           "color": "#4A81BF",
           "size": 15
          },
          "showarrow": false,
          "text": "73%",
          "x": 2010,
          "xref": "x2",
          "xshift": -35,
          "y": 0.73,
          "yref": "y2",
          "yshift": 0
         },
         {
          "font": {
           "color": "#4A81BF",
           "size": 20
          },
          "showarrow": false,
          "text": "<b>60%</b>",
          "x": 2015,
          "xref": "x2",
          "xshift": 40,
          "y": 0.6,
          "yref": "y2",
          "yshift": 0
         },
         {
          "font": {
           "color": "#4A81BF",
           "size": 15
          },
          "showarrow": false,
          "text": "67%",
          "x": 2010,
          "xref": "x",
          "xshift": -35,
          "y": 0.67,
          "yref": "y",
          "yshift": 0
         },
         {
          "font": {
           "color": "#4A81BF",
           "size": 20
          },
          "showarrow": false,
          "text": "<b>75%</b>",
          "x": 2015,
          "xref": "x",
          "xshift": 40,
          "y": 0.75,
          "yref": "y",
          "yshift": 0
         },
         {
          "font": {
           "color": "#555655",
           "family": "Arial",
           "size": 20
          },
          "showarrow": false,
          "text": "2010",
          "x": "2010",
          "xref": "x",
          "y": 1,
          "yref": "y",
          "yshift": 30
         },
         {
          "font": {
           "color": "#555655",
           "family": "Arial",
           "size": 20
          },
          "showarrow": false,
          "text": "2011",
          "x": "2011",
          "xref": "x",
          "y": 1,
          "yref": "y",
          "yshift": 30
         },
         {
          "font": {
           "color": "#555655",
           "family": "Arial",
           "size": 20
          },
          "showarrow": false,
          "text": "2012",
          "x": "2012",
          "xref": "x",
          "y": 1,
          "yref": "y",
          "yshift": 30
         },
         {
          "font": {
           "color": "#555655",
           "family": "Arial",
           "size": 20
          },
          "showarrow": false,
          "text": "2013",
          "x": "2013",
          "xref": "x",
          "y": 1,
          "yref": "y",
          "yshift": 30
         },
         {
          "font": {
           "color": "#555655",
           "family": "Arial",
           "size": 20
          },
          "showarrow": false,
          "text": "2014",
          "x": "2014",
          "xref": "x",
          "y": 1,
          "yref": "y",
          "yshift": 30
         },
         {
          "font": {
           "color": "#555655",
           "family": "Arial",
           "size": 20
          },
          "showarrow": false,
          "text": "2015",
          "x": "2015",
          "xref": "x",
          "y": 1,
          "yref": "y",
          "yshift": 30
         },
         {
          "font": {
           "color": "#555655",
           "size": 25
          },
          "showarrow": false,
          "text": "Types of non-profits supported by area funders",
          "x": 2010,
          "xref": "x",
          "xshift": 80,
          "y": 1,
          "yref": "y",
          "yshift": 100
         },
         {
          "font": {
           "color": "#4A81BF",
           "size": 15
          },
          "showarrow": false,
          "text": "% of funders",
          "x": 2015,
          "xref": "x",
          "xshift": 80,
          "y": 1,
          "yref": "y",
          "yshift": 30
         },
         {
          "font": {
           "color": "#929497",
           "size": 13
          },
          "showarrow": false,
          "text": "Data is self-reported by funders; percents sum to greater than 100 because respondents can make multiple selections.",
          "x": 2010,
          "xref": "x5",
          "xshift": 190,
          "y": 0,
          "yref": "y5",
          "yshift": -30
         }
        ],
        "barmode": "stack",
        "height": 1050,
        "margin": {
         "b": 100,
         "l": 250,
         "r": 250,
         "t": 150
        },
        "paper_bgcolor": "white",
        "plot_bgcolor": "white",
        "shapes": [
         {
          "line": {
           "color": "#BFBEBE",
           "width": 5
          },
          "type": "line",
          "x0": -0.5,
          "x1": 1.5,
          "xref": "x domain",
          "y0": 0,
          "y1": 0,
          "yref": "y"
         },
         {
          "line": {
           "color": "#BFBEBE",
           "width": 5
          },
          "type": "line",
          "x0": -0.5,
          "x1": 1.5,
          "xref": "x2 domain",
          "y0": 0,
          "y1": 0,
          "yref": "y2"
         },
         {
          "line": {
           "color": "#BFBEBE",
           "width": 5
          },
          "type": "line",
          "x0": -0.5,
          "x1": 1.5,
          "xref": "x3 domain",
          "y0": 0,
          "y1": 0,
          "yref": "y3"
         },
         {
          "line": {
           "color": "#BFBEBE",
           "width": 5
          },
          "type": "line",
          "x0": -0.5,
          "x1": 1.5,
          "xref": "x4 domain",
          "y0": 0,
          "y1": 0,
          "yref": "y4"
         },
         {
          "line": {
           "color": "#BFBEBE",
           "width": 5
          },
          "type": "line",
          "x0": -0.5,
          "x1": 1.5,
          "xref": "x5 domain",
          "y0": 0,
          "y1": 0,
          "yref": "y5"
         },
         {
          "line": {
           "color": "#BFBEBE",
           "width": 5
          },
          "type": "line",
          "x0": -0.5,
          "x1": 1.5,
          "xref": "x domain",
          "y0": 1,
          "y1": 1,
          "yref": "y"
         }
        ],
        "showlegend": false,
        "template": {
         "data": {
          "bar": [
           {
            "error_x": {
             "color": "#2a3f5f"
            },
            "error_y": {
             "color": "#2a3f5f"
            },
            "marker": {
             "line": {
              "color": "#E5ECF6",
              "width": 0.5
             },
             "pattern": {
              "fillmode": "overlay",
              "size": 10,
              "solidity": 0.2
             }
            },
            "type": "bar"
           }
          ],
          "barpolar": [
           {
            "marker": {
             "line": {
              "color": "#E5ECF6",
              "width": 0.5
             },
             "pattern": {
              "fillmode": "overlay",
              "size": 10,
              "solidity": 0.2
             }
            },
            "type": "barpolar"
           }
          ],
          "carpet": [
           {
            "aaxis": {
             "endlinecolor": "#2a3f5f",
             "gridcolor": "white",
             "linecolor": "white",
             "minorgridcolor": "white",
             "startlinecolor": "#2a3f5f"
            },
            "baxis": {
             "endlinecolor": "#2a3f5f",
             "gridcolor": "white",
             "linecolor": "white",
             "minorgridcolor": "white",
             "startlinecolor": "#2a3f5f"
            },
            "type": "carpet"
           }
          ],
          "choropleth": [
           {
            "colorbar": {
             "outlinewidth": 0,
             "ticks": ""
            },
            "type": "choropleth"
           }
          ],
          "contour": [
           {
            "colorbar": {
             "outlinewidth": 0,
             "ticks": ""
            },
            "colorscale": [
             [
              0,
              "#0d0887"
             ],
             [
              0.1111111111111111,
              "#46039f"
             ],
             [
              0.2222222222222222,
              "#7201a8"
             ],
             [
              0.3333333333333333,
              "#9c179e"
             ],
             [
              0.4444444444444444,
              "#bd3786"
             ],
             [
              0.5555555555555556,
              "#d8576b"
             ],
             [
              0.6666666666666666,
              "#ed7953"
             ],
             [
              0.7777777777777778,
              "#fb9f3a"
             ],
             [
              0.8888888888888888,
              "#fdca26"
             ],
             [
              1,
              "#f0f921"
             ]
            ],
            "type": "contour"
           }
          ],
          "contourcarpet": [
           {
            "colorbar": {
             "outlinewidth": 0,
             "ticks": ""
            },
            "type": "contourcarpet"
           }
          ],
          "heatmap": [
           {
            "colorbar": {
             "outlinewidth": 0,
             "ticks": ""
            },
            "colorscale": [
             [
              0,
              "#0d0887"
             ],
             [
              0.1111111111111111,
              "#46039f"
             ],
             [
              0.2222222222222222,
              "#7201a8"
             ],
             [
              0.3333333333333333,
              "#9c179e"
             ],
             [
              0.4444444444444444,
              "#bd3786"
             ],
             [
              0.5555555555555556,
              "#d8576b"
             ],
             [
              0.6666666666666666,
              "#ed7953"
             ],
             [
              0.7777777777777778,
              "#fb9f3a"
             ],
             [
              0.8888888888888888,
              "#fdca26"
             ],
             [
              1,
              "#f0f921"
             ]
            ],
            "type": "heatmap"
           }
          ],
          "heatmapgl": [
           {
            "colorbar": {
             "outlinewidth": 0,
             "ticks": ""
            },
            "colorscale": [
             [
              0,
              "#0d0887"
             ],
             [
              0.1111111111111111,
              "#46039f"
             ],
             [
              0.2222222222222222,
              "#7201a8"
             ],
             [
              0.3333333333333333,
              "#9c179e"
             ],
             [
              0.4444444444444444,
              "#bd3786"
             ],
             [
              0.5555555555555556,
              "#d8576b"
             ],
             [
              0.6666666666666666,
              "#ed7953"
             ],
             [
              0.7777777777777778,
              "#fb9f3a"
             ],
             [
              0.8888888888888888,
              "#fdca26"
             ],
             [
              1,
              "#f0f921"
             ]
            ],
            "type": "heatmapgl"
           }
          ],
          "histogram": [
           {
            "marker": {
             "pattern": {
              "fillmode": "overlay",
              "size": 10,
              "solidity": 0.2
             }
            },
            "type": "histogram"
           }
          ],
          "histogram2d": [
           {
            "colorbar": {
             "outlinewidth": 0,
             "ticks": ""
            },
            "colorscale": [
             [
              0,
              "#0d0887"
             ],
             [
              0.1111111111111111,
              "#46039f"
             ],
             [
              0.2222222222222222,
              "#7201a8"
             ],
             [
              0.3333333333333333,
              "#9c179e"
             ],
             [
              0.4444444444444444,
              "#bd3786"
             ],
             [
              0.5555555555555556,
              "#d8576b"
             ],
             [
              0.6666666666666666,
              "#ed7953"
             ],
             [
              0.7777777777777778,
              "#fb9f3a"
             ],
             [
              0.8888888888888888,
              "#fdca26"
             ],
             [
              1,
              "#f0f921"
             ]
            ],
            "type": "histogram2d"
           }
          ],
          "histogram2dcontour": [
           {
            "colorbar": {
             "outlinewidth": 0,
             "ticks": ""
            },
            "colorscale": [
             [
              0,
              "#0d0887"
             ],
             [
              0.1111111111111111,
              "#46039f"
             ],
             [
              0.2222222222222222,
              "#7201a8"
             ],
             [
              0.3333333333333333,
              "#9c179e"
             ],
             [
              0.4444444444444444,
              "#bd3786"
             ],
             [
              0.5555555555555556,
              "#d8576b"
             ],
             [
              0.6666666666666666,
              "#ed7953"
             ],
             [
              0.7777777777777778,
              "#fb9f3a"
             ],
             [
              0.8888888888888888,
              "#fdca26"
             ],
             [
              1,
              "#f0f921"
             ]
            ],
            "type": "histogram2dcontour"
           }
          ],
          "mesh3d": [
           {
            "colorbar": {
             "outlinewidth": 0,
             "ticks": ""
            },
            "type": "mesh3d"
           }
          ],
          "parcoords": [
           {
            "line": {
             "colorbar": {
              "outlinewidth": 0,
              "ticks": ""
             }
            },
            "type": "parcoords"
           }
          ],
          "pie": [
           {
            "automargin": true,
            "type": "pie"
           }
          ],
          "scatter": [
           {
            "marker": {
             "colorbar": {
              "outlinewidth": 0,
              "ticks": ""
             }
            },
            "type": "scatter"
           }
          ],
          "scatter3d": [
           {
            "line": {
             "colorbar": {
              "outlinewidth": 0,
              "ticks": ""
             }
            },
            "marker": {
             "colorbar": {
              "outlinewidth": 0,
              "ticks": ""
             }
            },
            "type": "scatter3d"
           }
          ],
          "scattercarpet": [
           {
            "marker": {
             "colorbar": {
              "outlinewidth": 0,
              "ticks": ""
             }
            },
            "type": "scattercarpet"
           }
          ],
          "scattergeo": [
           {
            "marker": {
             "colorbar": {
              "outlinewidth": 0,
              "ticks": ""
             }
            },
            "type": "scattergeo"
           }
          ],
          "scattergl": [
           {
            "marker": {
             "colorbar": {
              "outlinewidth": 0,
              "ticks": ""
             }
            },
            "type": "scattergl"
           }
          ],
          "scattermapbox": [
           {
            "marker": {
             "colorbar": {
              "outlinewidth": 0,
              "ticks": ""
             }
            },
            "type": "scattermapbox"
           }
          ],
          "scatterpolar": [
           {
            "marker": {
             "colorbar": {
              "outlinewidth": 0,
              "ticks": ""
             }
            },
            "type": "scatterpolar"
           }
          ],
          "scatterpolargl": [
           {
            "marker": {
             "colorbar": {
              "outlinewidth": 0,
              "ticks": ""
             }
            },
            "type": "scatterpolargl"
           }
          ],
          "scatterternary": [
           {
            "marker": {
             "colorbar": {
              "outlinewidth": 0,
              "ticks": ""
             }
            },
            "type": "scatterternary"
           }
          ],
          "surface": [
           {
            "colorbar": {
             "outlinewidth": 0,
             "ticks": ""
            },
            "colorscale": [
             [
              0,
              "#0d0887"
             ],
             [
              0.1111111111111111,
              "#46039f"
             ],
             [
              0.2222222222222222,
              "#7201a8"
             ],
             [
              0.3333333333333333,
              "#9c179e"
             ],
             [
              0.4444444444444444,
              "#bd3786"
             ],
             [
              0.5555555555555556,
              "#d8576b"
             ],
             [
              0.6666666666666666,
              "#ed7953"
             ],
             [
              0.7777777777777778,
              "#fb9f3a"
             ],
             [
              0.8888888888888888,
              "#fdca26"
             ],
             [
              1,
              "#f0f921"
             ]
            ],
            "type": "surface"
           }
          ],
          "table": [
           {
            "cells": {
             "fill": {
              "color": "#EBF0F8"
             },
             "line": {
              "color": "white"
             }
            },
            "header": {
             "fill": {
              "color": "#C8D4E3"
             },
             "line": {
              "color": "white"
             }
            },
            "type": "table"
           }
          ]
         },
         "layout": {
          "annotationdefaults": {
           "arrowcolor": "#2a3f5f",
           "arrowhead": 0,
           "arrowwidth": 1
          },
          "autotypenumbers": "strict",
          "coloraxis": {
           "colorbar": {
            "outlinewidth": 0,
            "ticks": ""
           }
          },
          "colorscale": {
           "diverging": [
            [
             0,
             "#8e0152"
            ],
            [
             0.1,
             "#c51b7d"
            ],
            [
             0.2,
             "#de77ae"
            ],
            [
             0.3,
             "#f1b6da"
            ],
            [
             0.4,
             "#fde0ef"
            ],
            [
             0.5,
             "#f7f7f7"
            ],
            [
             0.6,
             "#e6f5d0"
            ],
            [
             0.7,
             "#b8e186"
            ],
            [
             0.8,
             "#7fbc41"
            ],
            [
             0.9,
             "#4d9221"
            ],
            [
             1,
             "#276419"
            ]
           ],
           "sequential": [
            [
             0,
             "#0d0887"
            ],
            [
             0.1111111111111111,
             "#46039f"
            ],
            [
             0.2222222222222222,
             "#7201a8"
            ],
            [
             0.3333333333333333,
             "#9c179e"
            ],
            [
             0.4444444444444444,
             "#bd3786"
            ],
            [
             0.5555555555555556,
             "#d8576b"
            ],
            [
             0.6666666666666666,
             "#ed7953"
            ],
            [
             0.7777777777777778,
             "#fb9f3a"
            ],
            [
             0.8888888888888888,
             "#fdca26"
            ],
            [
             1,
             "#f0f921"
            ]
           ],
           "sequentialminus": [
            [
             0,
             "#0d0887"
            ],
            [
             0.1111111111111111,
             "#46039f"
            ],
            [
             0.2222222222222222,
             "#7201a8"
            ],
            [
             0.3333333333333333,
             "#9c179e"
            ],
            [
             0.4444444444444444,
             "#bd3786"
            ],
            [
             0.5555555555555556,
             "#d8576b"
            ],
            [
             0.6666666666666666,
             "#ed7953"
            ],
            [
             0.7777777777777778,
             "#fb9f3a"
            ],
            [
             0.8888888888888888,
             "#fdca26"
            ],
            [
             1,
             "#f0f921"
            ]
           ]
          },
          "colorway": [
           "#636efa",
           "#EF553B",
           "#00cc96",
           "#ab63fa",
           "#FFA15A",
           "#19d3f3",
           "#FF6692",
           "#B6E880",
           "#FF97FF",
           "#FECB52"
          ],
          "font": {
           "color": "#2a3f5f"
          },
          "geo": {
           "bgcolor": "white",
           "lakecolor": "white",
           "landcolor": "#E5ECF6",
           "showlakes": true,
           "showland": true,
           "subunitcolor": "white"
          },
          "hoverlabel": {
           "align": "left"
          },
          "hovermode": "closest",
          "mapbox": {
           "style": "light"
          },
          "paper_bgcolor": "white",
          "plot_bgcolor": "#E5ECF6",
          "polar": {
           "angularaxis": {
            "gridcolor": "white",
            "linecolor": "white",
            "ticks": ""
           },
           "bgcolor": "#E5ECF6",
           "radialaxis": {
            "gridcolor": "white",
            "linecolor": "white",
            "ticks": ""
           }
          },
          "scene": {
           "xaxis": {
            "backgroundcolor": "#E5ECF6",
            "gridcolor": "white",
            "gridwidth": 2,
            "linecolor": "white",
            "showbackground": true,
            "ticks": "",
            "zerolinecolor": "white"
           },
           "yaxis": {
            "backgroundcolor": "#E5ECF6",
            "gridcolor": "white",
            "gridwidth": 2,
            "linecolor": "white",
            "showbackground": true,
            "ticks": "",
            "zerolinecolor": "white"
           },
           "zaxis": {
            "backgroundcolor": "#E5ECF6",
            "gridcolor": "white",
            "gridwidth": 2,
            "linecolor": "white",
            "showbackground": true,
            "ticks": "",
            "zerolinecolor": "white"
           }
          },
          "shapedefaults": {
           "line": {
            "color": "#2a3f5f"
           }
          },
          "ternary": {
           "aaxis": {
            "gridcolor": "white",
            "linecolor": "white",
            "ticks": ""
           },
           "baxis": {
            "gridcolor": "white",
            "linecolor": "white",
            "ticks": ""
           },
           "bgcolor": "#E5ECF6",
           "caxis": {
            "gridcolor": "white",
            "linecolor": "white",
            "ticks": ""
           }
          },
          "title": {
           "x": 0.05
          },
          "xaxis": {
           "automargin": true,
           "gridcolor": "white",
           "linecolor": "white",
           "ticks": "",
           "title": {
            "standoff": 15
           },
           "zerolinecolor": "white",
           "zerolinewidth": 2
          },
          "yaxis": {
           "automargin": true,
           "gridcolor": "white",
           "linecolor": "white",
           "ticks": "",
           "title": {
            "standoff": 15
           },
           "zerolinecolor": "white",
           "zerolinewidth": 2
          }
         }
        },
        "width": 900,
        "xaxis": {
         "anchor": "y",
         "domain": [
          0,
          1
         ],
         "range": [
          2009.9,
          2015.1
         ],
         "showgrid": false,
         "showticklabels": false
        },
        "xaxis2": {
         "anchor": "y2",
         "domain": [
          0,
          1
         ],
         "range": [
          2009.9,
          2015.1
         ],
         "showgrid": false,
         "showticklabels": false
        },
        "xaxis3": {
         "anchor": "y3",
         "domain": [
          0,
          1
         ],
         "range": [
          2009.9,
          2015.1
         ],
         "showgrid": false,
         "showticklabels": false
        },
        "xaxis4": {
         "anchor": "y4",
         "domain": [
          0,
          1
         ],
         "range": [
          2009.9,
          2015.1
         ],
         "showgrid": false,
         "showticklabels": false
        },
        "xaxis5": {
         "anchor": "y5",
         "domain": [
          0,
          1
         ],
         "range": [
          2009.9,
          2015.1
         ],
         "showgrid": false,
         "showticklabels": false
        },
        "yaxis": {
         "anchor": "x",
         "domain": [
          0.8,
          1
         ],
         "range": [
          0,
          1
         ],
         "showgrid": false,
         "showticklabels": false
        },
        "yaxis2": {
         "anchor": "x2",
         "domain": [
          0.6000000000000001,
          0.8
         ],
         "range": [
          0,
          1
         ],
         "showgrid": false,
         "showticklabels": false
        },
        "yaxis3": {
         "anchor": "x3",
         "domain": [
          0.4,
          0.6000000000000001
         ],
         "range": [
          0,
          1
         ],
         "showgrid": false,
         "showticklabels": false
        },
        "yaxis4": {
         "anchor": "x4",
         "domain": [
          0.2,
          0.4
         ],
         "range": [
          0,
          1
         ],
         "showgrid": false,
         "showticklabels": false
        },
        "yaxis5": {
         "anchor": "x5",
         "domain": [
          0,
          0.2
         ],
         "range": [
          0,
          1
         ],
         "showgrid": false,
         "showticklabels": false
        }
       }
      }
     },
     "metadata": {},
     "output_type": "display_data"
    }
   ],
   "source": [
    "fig = sp.make_subplots(rows=5, cols=1, vertical_spacing=0)\n",
    "\n",
    "# Plot -------------------------\n",
    "count = 0\n",
    "for i in [4, 0, 3, 1, 2]:\n",
    "    if i == 4:\n",
    "        match = 4\n",
    "    else:\n",
    "        match = 0\n",
    "    for j in range(5):\n",
    "        if i == j and i != 4:\n",
    "            match = j\n",
    "        else:\n",
    "            fig.add_trace(\n",
    "                go.Scatter(\n",
    "                    x=[i for i in range(2010, 2016)],\n",
    "                    y=df.iloc[j,],\n",
    "                    mode='lines',\n",
    "                    line=dict(color=GRAY9, width=5),\n",
    "                ),\n",
    "                col=1,\n",
    "                row=5 - count,\n",
    "            )\n",
    "            if j == 4:\n",
    "                fig.add_trace(\n",
    "                    go.Scatter(\n",
    "                        x=[i for i in range(2010, 2016)],\n",
    "                        y=df.iloc[match,],\n",
    "                        mode='lines',\n",
    "                        line=dict(color=BLUE2, width=5),\n",
    "                    ),\n",
    "                    col=1,\n",
    "                    row=5 - count,\n",
    "                )\n",
    "                \n",
    "                fig.add_trace(\n",
    "                    go.Scatter(\n",
    "                        x=[2010],\n",
    "                        y=[df.iloc[match, 0]],\n",
    "                        mode='markers',\n",
    "                        marker=dict(color=BLUE2, size=12),\n",
    "                    ),\n",
    "                    col=1,\n",
    "                    row=5 - count,\n",
    "                )\n",
    "                \n",
    "                fig.add_trace(\n",
    "                    go.Scatter(\n",
    "                        x=[2015],\n",
    "                        y=[df.iloc[match, -1]],\n",
    "                        mode='markers',\n",
    "                        marker=dict(color=BLUE2, size=15),\n",
    "                    ),\n",
    "                    col=1,\n",
    "                    row=5 - count,\n",
    "                )\n",
    "                count += 1\n",
    "\n",
    "fig.add_hline(\n",
    "    y=0,\n",
    "    x0=-0.5,\n",
    "    x1=1.5,\n",
    "    line=dict(color=GRAY9, width=5),\n",
    ")\n",
    "\n",
    "fig.add_hline(\n",
    "    y=1,\n",
    "    x0=-0.5,\n",
    "    x1=1.5,\n",
    "    line=dict(color=GRAY9, width=5),\n",
    "    col=1,\n",
    "    row=1,\n",
    ")\n",
    "\n",
    "# Annotation -------------------\n",
    "fig.add_annotation(\n",
    "    text=\"Health\",\n",
    "    font=dict(color=GRAY3, size=25, family=\"Arial\"),\n",
    "    align='right',\n",
    "    width=150,\n",
    "    x=2010,\n",
    "    y=0.5,\n",
    "    xshift=-150,\n",
    "    yshift=0,\n",
    "    showarrow=False,\n",
    "    col=1,\n",
    "    row=1,\n",
    ")\n",
    "\n",
    "fig.add_annotation(\n",
    "    text=\"Education\",\n",
    "    font=dict(color=GRAY3, size=25, family=\"Arial\"),\n",
    "    align='right',\n",
    "    width=150,\n",
    "    x=2010,\n",
    "    y=0.5,\n",
    "    xshift=-150,\n",
    "    yshift=0,\n",
    "    showarrow=False,\n",
    "    col=1,\n",
    "    row=2,\n",
    ")\n",
    "\n",
    "fig.add_annotation(\n",
    "    text=\"Human<br>services\",\n",
    "    font=dict(color=GRAY3, size=25, family=\"Arial\"),\n",
    "    align='right',\n",
    "    width=150,\n",
    "    x=2010,\n",
    "    y=0.5,\n",
    "    xshift=-150,\n",
    "    yshift=0,\n",
    "    showarrow=False,\n",
    "    col=1,\n",
    "    row=3,\n",
    ")\n",
    "\n",
    "fig.add_annotation(\n",
    "    text=\"Arts &<br>culture\",\n",
    "    font=dict(color=GRAY3, size=25, family=\"Arial\"),\n",
    "    align='right',\n",
    "    width=150,\n",
    "    x=2010,\n",
    "    y=0.5,\n",
    "    xshift=-150,\n",
    "    yshift=0,\n",
    "    showarrow=False,\n",
    "    col=1,\n",
    "    row=4,\n",
    ")\n",
    "\n",
    "fig.add_annotation(\n",
    "    text=\"Other\",\n",
    "    font=dict(color=GRAY3, size=25, family=\"Arial\"),\n",
    "    align='right',\n",
    "    width=150,\n",
    "    x=2010,\n",
    "    y=0.5,\n",
    "    xshift=-150,\n",
    "    yshift=0,\n",
    "    showarrow=False,\n",
    "    col=1,\n",
    "    row=5,\n",
    ")\n",
    "\n",
    "count = 0\n",
    "for i in [4, 0, 3, 1, 2]:\n",
    "    fig.add_annotation(\n",
    "        text=f\"{df['2010'].values[i]*100:.0f}%\",\n",
    "        font=dict(color=BLUE2, size=15),\n",
    "        x=2010,\n",
    "        y=df['2010'].values[i],\n",
    "        xshift=-35,\n",
    "        yshift=0,\n",
    "        showarrow=False,\n",
    "        col=1,\n",
    "        row=5 - count,\n",
    "    )\n",
    "    fig.add_annotation(\n",
    "        text=f\"<b>{df['2015'].values[i]*100:.0f}%</b>\",\n",
    "        font=dict(color=BLUE2, size=20),\n",
    "        x=2015,\n",
    "        y=df['2015'].values[i],\n",
    "        xshift=40,\n",
    "        yshift=0,\n",
    "        showarrow=False,\n",
    "        col=1,\n",
    "        row=5 - count,\n",
    "    )\n",
    "    count += 1\n",
    "\n",
    "for i in range(6):\n",
    "    fig.add_annotation(\n",
    "        text=df.columns[i],\n",
    "        font=dict(color=GRAY3, size=20, family=\"Arial\"),\n",
    "        x=df.columns[i],\n",
    "        y=1,\n",
    "        yshift=30,\n",
    "        showarrow=False,\n",
    "        col=1,\n",
    "        row=1,\n",
    "    )\n",
    "        \n",
    "# Text -------------------------\n",
    "fig.add_annotation(\n",
    "    text=\"Types of non-profits supported by area funders\",\n",
    "    font=dict(color=GRAY3, size=25),\n",
    "    x=2010,\n",
    "    y=1,\n",
    "    xshift=80,\n",
    "    yshift=100,\n",
    "    showarrow=False,\n",
    "    col=1,\n",
    "    row=1,\n",
    ")\n",
    "\n",
    "fig.add_annotation(\n",
    "    text=\"% of funders\",\n",
    "    font=dict(color=BLUE2, size=15),\n",
    "    x=2015,\n",
    "    y=1,\n",
    "    xshift=80,\n",
    "    yshift=30,\n",
    "    showarrow=False,\n",
    "    col=1,\n",
    "    row=1,\n",
    ")\n",
    "\n",
    "fig.add_annotation(\n",
    "    text=\"Data is self-reported by funders; percents sum to greater than 100 because respondents can make multiple selections.\",\n",
    "    font=dict(color=GRAY7, size=13),\n",
    "    x=2010,\n",
    "    y=0,\n",
    "    xshift=190,\n",
    "    yshift=-30,\n",
    "    showarrow=False,\n",
    "    col=1,\n",
    "    row=5,\n",
    ")\n",
    "\n",
    "# Layout -----------------------\n",
    "fig.update_layout(\n",
    "    width=900,\n",
    "    height=1050,\n",
    "    margin=dict(t=150, b=100, l=250, r=250),\n",
    "    paper_bgcolor=\"white\",\n",
    "    plot_bgcolor=\"white\",\n",
    "    showlegend=False,\n",
    "    barmode=\"stack\",\n",
    ")\n",
    "\n",
    "fig.update_xaxes(\n",
    "    showticklabels=False,\n",
    "    showgrid=False,\n",
    "    range=[2009.9, 2015.1]\n",
    ")\n",
    "\n",
    "fig.update_yaxes(\n",
    "    showticklabels=False,\n",
    "    showgrid=False,\n",
    "    range=[0, 1]\n",
    ")"
   ]
  },
  {
   "cell_type": "markdown",
   "id": "c9f04da8",
   "metadata": {},
   "source": [
    "## Output"
   ]
  },
  {
   "cell_type": "code",
   "execution_count": 9,
   "id": "7776fe8a",
   "metadata": {},
   "outputs": [],
   "source": [
    "fig.write_image(\"plot/plot 9-26.png\", format=\"png\", width=900, height=1050, scale=3)"
   ]
  }
 ],
 "metadata": {
  "kernelspec": {
   "display_name": "data",
   "language": "python",
   "name": "python3"
  },
  "language_info": {
   "codemirror_mode": {
    "name": "ipython",
    "version": 3
   },
   "file_extension": ".py",
   "mimetype": "text/x-python",
   "name": "python",
   "nbconvert_exporter": "python",
   "pygments_lexer": "ipython3",
   "version": "3.10.4"
  },
  "vscode": {
   "interpreter": {
    "hash": "87aa2df5676ce3636fa5c3ad845736f33e5dcc95e958fafe10accbd91339fdaa"
   }
  }
 },
 "nbformat": 4,
 "nbformat_minor": 5
}
