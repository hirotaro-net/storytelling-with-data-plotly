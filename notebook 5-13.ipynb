{
 "cells": [
  {
   "cell_type": "markdown",
   "id": "945bbfc2",
   "metadata": {},
   "source": [
    "## Required Modules"
   ]
  },
  {
   "cell_type": "code",
   "execution_count": 1,
   "id": "3ff355c6",
   "metadata": {},
   "outputs": [],
   "source": [
    "import numpy as np\n",
    "import pandas as pd\n",
    "import plotly.graph_objects as go"
   ]
  },
  {
   "cell_type": "markdown",
   "id": "ad865108",
   "metadata": {},
   "source": [
    "## Color Palette"
   ]
  },
  {
   "cell_type": "code",
   "execution_count": 2,
   "id": "2fa5f557",
   "metadata": {},
   "outputs": [],
   "source": [
    "from colors import *"
   ]
  },
  {
   "cell_type": "markdown",
   "id": "ad547d74",
   "metadata": {},
   "source": [
    "## Data"
   ]
  },
  {
   "cell_type": "code",
   "execution_count": 3,
   "id": "6363116b",
   "metadata": {
    "scrolled": false
   },
   "outputs": [],
   "source": [
    "df = pd.read_csv(\"data/data 5-13.csv\")"
   ]
  },
  {
   "cell_type": "code",
   "execution_count": 4,
   "id": "29dbacf2",
   "metadata": {
    "scrolled": true
   },
   "outputs": [],
   "source": [
    "df = df.set_index('Segment')"
   ]
  },
  {
   "cell_type": "code",
   "execution_count": 5,
   "id": "ef5e27f9",
   "metadata": {},
   "outputs": [],
   "source": [
    "df = df.sort_index().T"
   ]
  },
  {
   "cell_type": "code",
   "execution_count": 6,
   "id": "14d33f4a",
   "metadata": {},
   "outputs": [
    {
     "data": {
      "text/html": [
       "<div>\n",
       "<style scoped>\n",
       "    .dataframe tbody tr th:only-of-type {\n",
       "        vertical-align: middle;\n",
       "    }\n",
       "\n",
       "    .dataframe tbody tr th {\n",
       "        vertical-align: top;\n",
       "    }\n",
       "\n",
       "    .dataframe thead th {\n",
       "        text-align: right;\n",
       "    }\n",
       "</style>\n",
       "<table border=\"1\" class=\"dataframe\">\n",
       "  <thead>\n",
       "    <tr style=\"text-align: right;\">\n",
       "      <th>Segment</th>\n",
       "      <th>Segment 1</th>\n",
       "      <th>Segment 2</th>\n",
       "      <th>Segment 3</th>\n",
       "      <th>Segment 4</th>\n",
       "      <th>Segment 5</th>\n",
       "      <th>Segment 6</th>\n",
       "      <th>Segment 7</th>\n",
       "    </tr>\n",
       "  </thead>\n",
       "  <tbody>\n",
       "    <tr>\n",
       "      <th>US Population</th>\n",
       "      <td>0.16</td>\n",
       "      <td>0.07</td>\n",
       "      <td>0.10</td>\n",
       "      <td>0.10</td>\n",
       "      <td>0.10</td>\n",
       "      <td>0.32</td>\n",
       "      <td>0.15</td>\n",
       "    </tr>\n",
       "    <tr>\n",
       "      <th>Our Customers</th>\n",
       "      <td>0.09</td>\n",
       "      <td>0.10</td>\n",
       "      <td>0.15</td>\n",
       "      <td>0.18</td>\n",
       "      <td>0.17</td>\n",
       "      <td>0.20</td>\n",
       "      <td>0.11</td>\n",
       "    </tr>\n",
       "  </tbody>\n",
       "</table>\n",
       "</div>"
      ],
      "text/plain": [
       "Segment        Segment 1  Segment 2  Segment 3  Segment 4  Segment 5  \\\n",
       "US Population       0.16       0.07       0.10       0.10       0.10   \n",
       "Our Customers       0.09       0.10       0.15       0.18       0.17   \n",
       "\n",
       "Segment        Segment 6  Segment 7  \n",
       "US Population       0.32       0.15  \n",
       "Our Customers       0.20       0.11  "
      ]
     },
     "execution_count": 6,
     "metadata": {},
     "output_type": "execute_result"
    }
   ],
   "source": [
    "df"
   ]
  },
  {
   "cell_type": "markdown",
   "id": "8577fcdf",
   "metadata": {},
   "source": [
    "## Data Visualization "
   ]
  },
  {
   "cell_type": "code",
   "execution_count": 7,
   "id": "d423a6c4",
   "metadata": {
    "scrolled": false
   },
   "outputs": [
    {
     "data": {
      "application/vnd.plotly.v1+json": {
       "config": {
        "plotlyServerURL": "https://plot.ly"
       },
       "data": [
        {
         "marker": {
          "color": "#BFBEBE",
          "line": {
           "color": "white",
           "width": 1
          }
         },
         "name": "Segment 1",
         "type": "bar",
         "width": 0.5,
         "x": [
          "US Population",
          "Our Customers"
         ],
         "y": [
          0.16,
          0.09
         ]
        },
        {
         "marker": {
          "color": "#BFBEBE",
          "line": {
           "color": "white",
           "width": 1
          }
         },
         "name": "Segment 2",
         "type": "bar",
         "width": 0.5,
         "x": [
          "US Population",
          "Our Customers"
         ],
         "y": [
          0.07,
          0.1
         ]
        },
        {
         "marker": {
          "color": "#174A7E",
          "line": {
           "color": "white",
           "width": 1
          }
         },
         "name": "Segment 3",
         "type": "bar",
         "width": 0.5,
         "x": [
          "US Population",
          "Our Customers"
         ],
         "y": [
          0.1,
          0.15
         ]
        },
        {
         "marker": {
          "color": "#174A7E",
          "line": {
           "color": "white",
           "width": 1
          }
         },
         "name": "Segment 4",
         "type": "bar",
         "width": 0.5,
         "x": [
          "US Population",
          "Our Customers"
         ],
         "y": [
          0.1,
          0.18
         ]
        },
        {
         "marker": {
          "color": "#174A7E",
          "line": {
           "color": "white",
           "width": 1
          }
         },
         "name": "Segment 5",
         "type": "bar",
         "width": 0.5,
         "x": [
          "US Population",
          "Our Customers"
         ],
         "y": [
          0.1,
          0.17
         ]
        },
        {
         "marker": {
          "color": "#BFBEBE",
          "line": {
           "color": "white",
           "width": 1
          }
         },
         "name": "Segment 6",
         "type": "bar",
         "width": 0.5,
         "x": [
          "US Population",
          "Our Customers"
         ],
         "y": [
          0.32,
          0.2
         ]
        },
        {
         "marker": {
          "color": "#BFBEBE",
          "line": {
           "color": "white",
           "width": 1
          }
         },
         "name": "Segment 7",
         "type": "bar",
         "width": 0.5,
         "x": [
          "US Population",
          "Our Customers"
         ],
         "y": [
          0.15,
          0.11
         ]
        }
       ],
       "layout": {
        "annotations": [
         {
          "font": {
           "color": "#929497",
           "family": "Arial",
           "size": 18
          },
          "showarrow": false,
          "text": "Segment 1",
          "x": -0.5,
          "xshift": 0,
          "y": 0.08
         },
         {
          "font": {
           "color": "#929497",
           "family": "Arial",
           "size": 15
          },
          "showarrow": false,
          "text": "16%",
          "x": 0,
          "y": 0.08
         },
         {
          "font": {
           "color": "#929497",
           "family": "Arial",
           "size": 15
          },
          "showarrow": false,
          "text": "9%",
          "x": 1,
          "y": 0.045
         },
         {
          "font": {
           "color": "#929497",
           "family": "Arial",
           "size": 18
          },
          "showarrow": false,
          "text": "Segment 2",
          "x": -0.5,
          "xshift": 0,
          "y": 0.195
         },
         {
          "font": {
           "color": "#929497",
           "family": "Arial",
           "size": 15
          },
          "showarrow": false,
          "text": "7%",
          "x": 0,
          "y": 0.195
         },
         {
          "font": {
           "color": "#929497",
           "family": "Arial",
           "size": 15
          },
          "showarrow": false,
          "text": "10%",
          "x": 1,
          "y": 0.14
         },
         {
          "font": {
           "color": "#174A7E",
           "family": "Arial",
           "size": 18
          },
          "showarrow": false,
          "text": "Segment 3",
          "x": -0.5,
          "xshift": 0,
          "y": 0.28
         },
         {
          "font": {
           "color": "white",
           "family": "Arial",
           "size": 15
          },
          "showarrow": false,
          "text": "10%",
          "x": 0,
          "y": 0.28
         },
         {
          "font": {
           "color": "white",
           "family": "Arial",
           "size": 15
          },
          "showarrow": false,
          "text": "15%",
          "x": 1,
          "y": 0.265
         },
         {
          "font": {
           "color": "#174A7E",
           "family": "Arial",
           "size": 18
          },
          "showarrow": false,
          "text": "Segment 4",
          "x": -0.5,
          "xshift": 0,
          "y": 0.38
         },
         {
          "font": {
           "color": "white",
           "family": "Arial",
           "size": 15
          },
          "showarrow": false,
          "text": "10%",
          "x": 0,
          "y": 0.38
         },
         {
          "font": {
           "color": "white",
           "family": "Arial",
           "size": 15
          },
          "showarrow": false,
          "text": "18%",
          "x": 1,
          "y": 0.42999999999999994
         },
         {
          "font": {
           "color": "#174A7E",
           "family": "Arial",
           "size": 18
          },
          "showarrow": false,
          "text": "Segment 5",
          "x": -0.5,
          "xshift": 0,
          "y": 0.48000000000000004
         },
         {
          "font": {
           "color": "white",
           "family": "Arial",
           "size": 15
          },
          "showarrow": false,
          "text": "10%",
          "x": 0,
          "y": 0.48000000000000004
         },
         {
          "font": {
           "color": "white",
           "family": "Arial",
           "size": 15
          },
          "showarrow": false,
          "text": "17%",
          "x": 1,
          "y": 0.605
         },
         {
          "font": {
           "color": "#929497",
           "family": "Arial",
           "size": 18
          },
          "showarrow": false,
          "text": "Segment 6",
          "x": -0.5,
          "xshift": 0,
          "y": 0.6900000000000001
         },
         {
          "font": {
           "color": "#929497",
           "family": "Arial",
           "size": 15
          },
          "showarrow": false,
          "text": "32%",
          "x": 0,
          "y": 0.6900000000000001
         },
         {
          "font": {
           "color": "#929497",
           "family": "Arial",
           "size": 15
          },
          "showarrow": false,
          "text": "20%",
          "x": 1,
          "y": 0.79
         },
         {
          "font": {
           "color": "#929497",
           "family": "Arial",
           "size": 18
          },
          "showarrow": false,
          "text": "Segment 7",
          "x": -0.5,
          "xshift": 0,
          "y": 0.925
         },
         {
          "font": {
           "color": "#929497",
           "family": "Arial",
           "size": 15
          },
          "showarrow": false,
          "text": "15%",
          "x": 0,
          "y": 0.925
         },
         {
          "font": {
           "color": "#929497",
           "family": "Arial",
           "size": 15
          },
          "showarrow": false,
          "text": "11%",
          "x": 1,
          "y": 0.9450000000000002
         },
         {
          "font": {
           "color": "#174A7E",
           "family": "Arial",
           "size": 25
          },
          "showarrow": false,
          "text": "<b>30%</b>",
          "x": 0.3,
          "xshift": 30,
          "y": 0.38
         },
         {
          "font": {
           "color": "#174A7E",
           "family": "Arial",
           "size": 25
          },
          "showarrow": false,
          "text": "<b>50%</b>",
          "x": 1.3,
          "xshift": 30,
          "y": 0.44
         },
         {
          "font": {
           "color": "#76787B",
           "family": "Arial",
           "size": 25
          },
          "showarrow": false,
          "text": "Distribution by customer segment",
          "x": 0,
          "xshift": -20,
          "y": 1,
          "yshift": 40
         }
        ],
        "barmode": "stack",
        "height": 550,
        "margin": {
         "b": 70,
         "l": 120,
         "r": 120,
         "t": 90
        },
        "paper_bgcolor": "white",
        "plot_bgcolor": "white",
        "shapes": [
         {
          "line": {
           "color": "#174A7E"
          },
          "type": "line",
          "x0": 0.3,
          "x1": 0.3,
          "xref": "x",
          "y0": 0.23,
          "y1": 0.53,
          "yref": "y domain"
         },
         {
          "line": {
           "color": "#174A7E"
          },
          "type": "line",
          "x0": 1.3,
          "x1": 1.3,
          "xref": "x",
          "y0": 0.19,
          "y1": 0.69,
          "yref": "y domain"
         }
        ],
        "showlegend": false,
        "template": {
         "data": {
          "bar": [
           {
            "error_x": {
             "color": "#2a3f5f"
            },
            "error_y": {
             "color": "#2a3f5f"
            },
            "marker": {
             "line": {
              "color": "#E5ECF6",
              "width": 0.5
             },
             "pattern": {
              "fillmode": "overlay",
              "size": 10,
              "solidity": 0.2
             }
            },
            "type": "bar"
           }
          ],
          "barpolar": [
           {
            "marker": {
             "line": {
              "color": "#E5ECF6",
              "width": 0.5
             },
             "pattern": {
              "fillmode": "overlay",
              "size": 10,
              "solidity": 0.2
             }
            },
            "type": "barpolar"
           }
          ],
          "carpet": [
           {
            "aaxis": {
             "endlinecolor": "#2a3f5f",
             "gridcolor": "white",
             "linecolor": "white",
             "minorgridcolor": "white",
             "startlinecolor": "#2a3f5f"
            },
            "baxis": {
             "endlinecolor": "#2a3f5f",
             "gridcolor": "white",
             "linecolor": "white",
             "minorgridcolor": "white",
             "startlinecolor": "#2a3f5f"
            },
            "type": "carpet"
           }
          ],
          "choropleth": [
           {
            "colorbar": {
             "outlinewidth": 0,
             "ticks": ""
            },
            "type": "choropleth"
           }
          ],
          "contour": [
           {
            "colorbar": {
             "outlinewidth": 0,
             "ticks": ""
            },
            "colorscale": [
             [
              0,
              "#0d0887"
             ],
             [
              0.1111111111111111,
              "#46039f"
             ],
             [
              0.2222222222222222,
              "#7201a8"
             ],
             [
              0.3333333333333333,
              "#9c179e"
             ],
             [
              0.4444444444444444,
              "#bd3786"
             ],
             [
              0.5555555555555556,
              "#d8576b"
             ],
             [
              0.6666666666666666,
              "#ed7953"
             ],
             [
              0.7777777777777778,
              "#fb9f3a"
             ],
             [
              0.8888888888888888,
              "#fdca26"
             ],
             [
              1,
              "#f0f921"
             ]
            ],
            "type": "contour"
           }
          ],
          "contourcarpet": [
           {
            "colorbar": {
             "outlinewidth": 0,
             "ticks": ""
            },
            "type": "contourcarpet"
           }
          ],
          "heatmap": [
           {
            "colorbar": {
             "outlinewidth": 0,
             "ticks": ""
            },
            "colorscale": [
             [
              0,
              "#0d0887"
             ],
             [
              0.1111111111111111,
              "#46039f"
             ],
             [
              0.2222222222222222,
              "#7201a8"
             ],
             [
              0.3333333333333333,
              "#9c179e"
             ],
             [
              0.4444444444444444,
              "#bd3786"
             ],
             [
              0.5555555555555556,
              "#d8576b"
             ],
             [
              0.6666666666666666,
              "#ed7953"
             ],
             [
              0.7777777777777778,
              "#fb9f3a"
             ],
             [
              0.8888888888888888,
              "#fdca26"
             ],
             [
              1,
              "#f0f921"
             ]
            ],
            "type": "heatmap"
           }
          ],
          "heatmapgl": [
           {
            "colorbar": {
             "outlinewidth": 0,
             "ticks": ""
            },
            "colorscale": [
             [
              0,
              "#0d0887"
             ],
             [
              0.1111111111111111,
              "#46039f"
             ],
             [
              0.2222222222222222,
              "#7201a8"
             ],
             [
              0.3333333333333333,
              "#9c179e"
             ],
             [
              0.4444444444444444,
              "#bd3786"
             ],
             [
              0.5555555555555556,
              "#d8576b"
             ],
             [
              0.6666666666666666,
              "#ed7953"
             ],
             [
              0.7777777777777778,
              "#fb9f3a"
             ],
             [
              0.8888888888888888,
              "#fdca26"
             ],
             [
              1,
              "#f0f921"
             ]
            ],
            "type": "heatmapgl"
           }
          ],
          "histogram": [
           {
            "marker": {
             "pattern": {
              "fillmode": "overlay",
              "size": 10,
              "solidity": 0.2
             }
            },
            "type": "histogram"
           }
          ],
          "histogram2d": [
           {
            "colorbar": {
             "outlinewidth": 0,
             "ticks": ""
            },
            "colorscale": [
             [
              0,
              "#0d0887"
             ],
             [
              0.1111111111111111,
              "#46039f"
             ],
             [
              0.2222222222222222,
              "#7201a8"
             ],
             [
              0.3333333333333333,
              "#9c179e"
             ],
             [
              0.4444444444444444,
              "#bd3786"
             ],
             [
              0.5555555555555556,
              "#d8576b"
             ],
             [
              0.6666666666666666,
              "#ed7953"
             ],
             [
              0.7777777777777778,
              "#fb9f3a"
             ],
             [
              0.8888888888888888,
              "#fdca26"
             ],
             [
              1,
              "#f0f921"
             ]
            ],
            "type": "histogram2d"
           }
          ],
          "histogram2dcontour": [
           {
            "colorbar": {
             "outlinewidth": 0,
             "ticks": ""
            },
            "colorscale": [
             [
              0,
              "#0d0887"
             ],
             [
              0.1111111111111111,
              "#46039f"
             ],
             [
              0.2222222222222222,
              "#7201a8"
             ],
             [
              0.3333333333333333,
              "#9c179e"
             ],
             [
              0.4444444444444444,
              "#bd3786"
             ],
             [
              0.5555555555555556,
              "#d8576b"
             ],
             [
              0.6666666666666666,
              "#ed7953"
             ],
             [
              0.7777777777777778,
              "#fb9f3a"
             ],
             [
              0.8888888888888888,
              "#fdca26"
             ],
             [
              1,
              "#f0f921"
             ]
            ],
            "type": "histogram2dcontour"
           }
          ],
          "mesh3d": [
           {
            "colorbar": {
             "outlinewidth": 0,
             "ticks": ""
            },
            "type": "mesh3d"
           }
          ],
          "parcoords": [
           {
            "line": {
             "colorbar": {
              "outlinewidth": 0,
              "ticks": ""
             }
            },
            "type": "parcoords"
           }
          ],
          "pie": [
           {
            "automargin": true,
            "type": "pie"
           }
          ],
          "scatter": [
           {
            "marker": {
             "colorbar": {
              "outlinewidth": 0,
              "ticks": ""
             }
            },
            "type": "scatter"
           }
          ],
          "scatter3d": [
           {
            "line": {
             "colorbar": {
              "outlinewidth": 0,
              "ticks": ""
             }
            },
            "marker": {
             "colorbar": {
              "outlinewidth": 0,
              "ticks": ""
             }
            },
            "type": "scatter3d"
           }
          ],
          "scattercarpet": [
           {
            "marker": {
             "colorbar": {
              "outlinewidth": 0,
              "ticks": ""
             }
            },
            "type": "scattercarpet"
           }
          ],
          "scattergeo": [
           {
            "marker": {
             "colorbar": {
              "outlinewidth": 0,
              "ticks": ""
             }
            },
            "type": "scattergeo"
           }
          ],
          "scattergl": [
           {
            "marker": {
             "colorbar": {
              "outlinewidth": 0,
              "ticks": ""
             }
            },
            "type": "scattergl"
           }
          ],
          "scattermapbox": [
           {
            "marker": {
             "colorbar": {
              "outlinewidth": 0,
              "ticks": ""
             }
            },
            "type": "scattermapbox"
           }
          ],
          "scatterpolar": [
           {
            "marker": {
             "colorbar": {
              "outlinewidth": 0,
              "ticks": ""
             }
            },
            "type": "scatterpolar"
           }
          ],
          "scatterpolargl": [
           {
            "marker": {
             "colorbar": {
              "outlinewidth": 0,
              "ticks": ""
             }
            },
            "type": "scatterpolargl"
           }
          ],
          "scatterternary": [
           {
            "marker": {
             "colorbar": {
              "outlinewidth": 0,
              "ticks": ""
             }
            },
            "type": "scatterternary"
           }
          ],
          "surface": [
           {
            "colorbar": {
             "outlinewidth": 0,
             "ticks": ""
            },
            "colorscale": [
             [
              0,
              "#0d0887"
             ],
             [
              0.1111111111111111,
              "#46039f"
             ],
             [
              0.2222222222222222,
              "#7201a8"
             ],
             [
              0.3333333333333333,
              "#9c179e"
             ],
             [
              0.4444444444444444,
              "#bd3786"
             ],
             [
              0.5555555555555556,
              "#d8576b"
             ],
             [
              0.6666666666666666,
              "#ed7953"
             ],
             [
              0.7777777777777778,
              "#fb9f3a"
             ],
             [
              0.8888888888888888,
              "#fdca26"
             ],
             [
              1,
              "#f0f921"
             ]
            ],
            "type": "surface"
           }
          ],
          "table": [
           {
            "cells": {
             "fill": {
              "color": "#EBF0F8"
             },
             "line": {
              "color": "white"
             }
            },
            "header": {
             "fill": {
              "color": "#C8D4E3"
             },
             "line": {
              "color": "white"
             }
            },
            "type": "table"
           }
          ]
         },
         "layout": {
          "annotationdefaults": {
           "arrowcolor": "#2a3f5f",
           "arrowhead": 0,
           "arrowwidth": 1
          },
          "autotypenumbers": "strict",
          "coloraxis": {
           "colorbar": {
            "outlinewidth": 0,
            "ticks": ""
           }
          },
          "colorscale": {
           "diverging": [
            [
             0,
             "#8e0152"
            ],
            [
             0.1,
             "#c51b7d"
            ],
            [
             0.2,
             "#de77ae"
            ],
            [
             0.3,
             "#f1b6da"
            ],
            [
             0.4,
             "#fde0ef"
            ],
            [
             0.5,
             "#f7f7f7"
            ],
            [
             0.6,
             "#e6f5d0"
            ],
            [
             0.7,
             "#b8e186"
            ],
            [
             0.8,
             "#7fbc41"
            ],
            [
             0.9,
             "#4d9221"
            ],
            [
             1,
             "#276419"
            ]
           ],
           "sequential": [
            [
             0,
             "#0d0887"
            ],
            [
             0.1111111111111111,
             "#46039f"
            ],
            [
             0.2222222222222222,
             "#7201a8"
            ],
            [
             0.3333333333333333,
             "#9c179e"
            ],
            [
             0.4444444444444444,
             "#bd3786"
            ],
            [
             0.5555555555555556,
             "#d8576b"
            ],
            [
             0.6666666666666666,
             "#ed7953"
            ],
            [
             0.7777777777777778,
             "#fb9f3a"
            ],
            [
             0.8888888888888888,
             "#fdca26"
            ],
            [
             1,
             "#f0f921"
            ]
           ],
           "sequentialminus": [
            [
             0,
             "#0d0887"
            ],
            [
             0.1111111111111111,
             "#46039f"
            ],
            [
             0.2222222222222222,
             "#7201a8"
            ],
            [
             0.3333333333333333,
             "#9c179e"
            ],
            [
             0.4444444444444444,
             "#bd3786"
            ],
            [
             0.5555555555555556,
             "#d8576b"
            ],
            [
             0.6666666666666666,
             "#ed7953"
            ],
            [
             0.7777777777777778,
             "#fb9f3a"
            ],
            [
             0.8888888888888888,
             "#fdca26"
            ],
            [
             1,
             "#f0f921"
            ]
           ]
          },
          "colorway": [
           "#636efa",
           "#EF553B",
           "#00cc96",
           "#ab63fa",
           "#FFA15A",
           "#19d3f3",
           "#FF6692",
           "#B6E880",
           "#FF97FF",
           "#FECB52"
          ],
          "font": {
           "color": "#2a3f5f"
          },
          "geo": {
           "bgcolor": "white",
           "lakecolor": "white",
           "landcolor": "#E5ECF6",
           "showlakes": true,
           "showland": true,
           "subunitcolor": "white"
          },
          "hoverlabel": {
           "align": "left"
          },
          "hovermode": "closest",
          "mapbox": {
           "style": "light"
          },
          "paper_bgcolor": "white",
          "plot_bgcolor": "#E5ECF6",
          "polar": {
           "angularaxis": {
            "gridcolor": "white",
            "linecolor": "white",
            "ticks": ""
           },
           "bgcolor": "#E5ECF6",
           "radialaxis": {
            "gridcolor": "white",
            "linecolor": "white",
            "ticks": ""
           }
          },
          "scene": {
           "xaxis": {
            "backgroundcolor": "#E5ECF6",
            "gridcolor": "white",
            "gridwidth": 2,
            "linecolor": "white",
            "showbackground": true,
            "ticks": "",
            "zerolinecolor": "white"
           },
           "yaxis": {
            "backgroundcolor": "#E5ECF6",
            "gridcolor": "white",
            "gridwidth": 2,
            "linecolor": "white",
            "showbackground": true,
            "ticks": "",
            "zerolinecolor": "white"
           },
           "zaxis": {
            "backgroundcolor": "#E5ECF6",
            "gridcolor": "white",
            "gridwidth": 2,
            "linecolor": "white",
            "showbackground": true,
            "ticks": "",
            "zerolinecolor": "white"
           }
          },
          "shapedefaults": {
           "line": {
            "color": "#2a3f5f"
           }
          },
          "ternary": {
           "aaxis": {
            "gridcolor": "white",
            "linecolor": "white",
            "ticks": ""
           },
           "baxis": {
            "gridcolor": "white",
            "linecolor": "white",
            "ticks": ""
           },
           "bgcolor": "#E5ECF6",
           "caxis": {
            "gridcolor": "white",
            "linecolor": "white",
            "ticks": ""
           }
          },
          "title": {
           "x": 0.05
          },
          "xaxis": {
           "automargin": true,
           "gridcolor": "white",
           "linecolor": "white",
           "ticks": "",
           "title": {
            "standoff": 15
           },
           "zerolinecolor": "white",
           "zerolinewidth": 2
          },
          "yaxis": {
           "automargin": true,
           "gridcolor": "white",
           "linecolor": "white",
           "ticks": "",
           "title": {
            "standoff": 15
           },
           "zerolinecolor": "white",
           "zerolinewidth": 2
          }
         }
        },
        "width": 800,
        "xaxis": {
         "linecolor": "#929497",
         "range": [
          -0.5,
          1.5
         ],
         "tickfont": {
          "color": "#555655",
          "family": "Arial",
          "size": 15
         }
        },
        "yaxis": {
         "linecolor": "#929497",
         "range": [
          0,
          1
         ],
         "showline": false,
         "showticklabels": false,
         "tickcolor": "#929497",
         "tickfont": {
          "color": "#929497",
          "family": "Arial",
          "size": 15
         }
        }
       }
      }
     },
     "metadata": {},
     "output_type": "display_data"
    }
   ],
   "source": [
    "fig = go.Figure()\n",
    "\n",
    "# Plot -------------------------\n",
    "fig.add_trace(\n",
    "    go.Bar(\n",
    "        x=df.index,\n",
    "        y=df['Segment 1'],\n",
    "        name=\"Segment 1\",\n",
    "        marker=dict(color=GRAY9, line=dict(color='white', width=1)),\n",
    "        width=0.5\n",
    "    )\n",
    ")\n",
    "\n",
    "fig.add_trace(\n",
    "    go.Bar(\n",
    "        x=df.index,\n",
    "        y=df['Segment 2'],\n",
    "        name=\"Segment 2\",\n",
    "        marker=dict(color=GRAY9, line=dict(color='white', width=1)),\n",
    "        width=0.5\n",
    "    )\n",
    ")\n",
    "\n",
    "fig.add_trace(\n",
    "    go.Bar(\n",
    "        x=df.index,\n",
    "        y=df['Segment 3'],\n",
    "        name=\"Segment 3\",\n",
    "        marker=dict(color=BLUE1, line=dict(color='white', width=1)),\n",
    "        width=0.5\n",
    "    )\n",
    ")\n",
    "\n",
    "fig.add_trace(\n",
    "    go.Bar(\n",
    "        x=df.index,\n",
    "        y=df['Segment 4'],\n",
    "        name=\"Segment 4\",\n",
    "        marker=dict(color=BLUE1, line=dict(color='white', width=1)),\n",
    "        width=0.5\n",
    "    )\n",
    ")\n",
    "\n",
    "fig.add_trace(\n",
    "    go.Bar(\n",
    "        x=df.index,\n",
    "        y=df['Segment 5'],\n",
    "        name=\"Segment 5\",\n",
    "        marker=dict(color=BLUE1, line=dict(color='white', width=1)),\n",
    "        width=0.5\n",
    "    )\n",
    ")\n",
    "\n",
    "fig.add_trace(\n",
    "    go.Bar(\n",
    "        x=df.index,\n",
    "        y=df['Segment 6'],\n",
    "        name=\"Segment 6\",\n",
    "        marker=dict(color=GRAY9, line=dict(color='white', width=1)),\n",
    "        width=0.5\n",
    "    )\n",
    ")\n",
    "\n",
    "fig.add_trace(\n",
    "    go.Bar(\n",
    "        x=df.index,\n",
    "        y=df['Segment 7'],\n",
    "        name=\"Segment 7\",\n",
    "        marker=dict(color=GRAY9, line=dict(color='white', width=1)),\n",
    "        width=0.5\n",
    "    )\n",
    ")\n",
    "\n",
    "fig.add_vline(\n",
    "    x=0.3,\n",
    "    y0=0.23,\n",
    "    y1=0.53,\n",
    "    line=dict(color=BLUE1)\n",
    ")\n",
    "\n",
    "fig.add_vline(\n",
    "    x=1.3,\n",
    "    y0=0.19,\n",
    "    y1=0.69,\n",
    "    line=dict(color=BLUE1)\n",
    ")\n",
    "\n",
    "# Annotation -------------------\n",
    "accumulation_0 = 0\n",
    "accumulation_1 = 0\n",
    "colors1 = [GRAY7] * 2 + [BLUE1] * 3 + [GRAY7] * 2\n",
    "colors2 = [GRAY7] * 2 + [\"white\"] * 3 + [GRAY7] * 2\n",
    "for i in range(7):\n",
    "    fig.add_annotation(\n",
    "        text=df.columns[i],\n",
    "        font=dict(color=colors1[i], size=18, family=\"Arial\"),\n",
    "        x=-0.5,\n",
    "        y=accumulation_0 + df.iloc[0, i] / 2,\n",
    "        xshift=0,\n",
    "        showarrow=False,\n",
    "    )\n",
    "    \n",
    "    fig.add_annotation(\n",
    "        text=str(round(df.iloc[0, i] * 100)) + \"%\",\n",
    "        font=dict(color=colors2[i], size=15, family=\"Arial\"),\n",
    "        x=0,\n",
    "        y=accumulation_0 + df.iloc[0, i] / 2,\n",
    "        showarrow=False,\n",
    "    )\n",
    "    \n",
    "    fig.add_annotation(\n",
    "        text=str(round(df.iloc[1, i] * 100)) + \"%\",\n",
    "        font=dict(color=colors2[i], size=15, family=\"Arial\"),\n",
    "        x=1,\n",
    "        y=accumulation_1 + df.iloc[1, i] / 2,\n",
    "        showarrow=False\n",
    "    )\n",
    "    accumulation_0 += df.iloc[0, i]\n",
    "    accumulation_1 += df.iloc[1, i]\n",
    "    \n",
    "fig.add_annotation(\n",
    "    text=\"<b>30%</b>\",\n",
    "    font=dict(color=BLUE1, size=25, family=\"Arial\"),\n",
    "    x=0.3,\n",
    "    y=0.38,\n",
    "    xshift=30,\n",
    "    showarrow=False,\n",
    ")\n",
    "\n",
    "fig.add_annotation(\n",
    "    text=\"<b>50%</b>\",\n",
    "    font=dict(color=BLUE1, size=25, family=\"Arial\"),\n",
    "    x=1.3,\n",
    "    y=0.44,\n",
    "    xshift=30,\n",
    "    showarrow=False,\n",
    ")\n",
    "\n",
    "# Text -------------------------\n",
    "fig.add_annotation(\n",
    "    text=\"Distribution by customer segment\",\n",
    "    font=dict(color=GRAY5, size=25, family=\"Arial\"),\n",
    "    x=0,\n",
    "    y=1,\n",
    "    xshift=-20,\n",
    "    yshift=40,\n",
    "    showarrow=False,\n",
    ")\n",
    "\n",
    "# Layout -----------------------\n",
    "fig.update_layout(\n",
    "    width=800,\n",
    "    height=550,\n",
    "    margin=dict(t=90, b=70, l=120, r=120),\n",
    "    paper_bgcolor=\"white\",\n",
    "    plot_bgcolor=\"white\",\n",
    "    showlegend=False,\n",
    "    barmode=\"stack\",\n",
    ")\n",
    "\n",
    "fig.update_xaxes(\n",
    "    tickfont=dict(color=GRAY3, size=15, family=\"Arial\"),\n",
    "    linecolor=GRAY7,\n",
    "    range=[-0.5, 1.5]\n",
    ")\n",
    "\n",
    "fig.update_yaxes(\n",
    "    tickfont=dict(color=GRAY7, size=15, family=\"Arial\"),\n",
    "    tickcolor=GRAY7,\n",
    "    linecolor=GRAY7,\n",
    "    showline=False,\n",
    "    showticklabels=False,\n",
    "    range=[0, 1]\n",
    ")"
   ]
  },
  {
   "cell_type": "markdown",
   "id": "c9f04da8",
   "metadata": {},
   "source": [
    "## Output"
   ]
  },
  {
   "cell_type": "code",
   "execution_count": 8,
   "id": "7776fe8a",
   "metadata": {},
   "outputs": [],
   "source": [
    "fig.write_image(\"plot/plot 5-13.png\", format=\"png\", width=800, height=550, scale=3)"
   ]
  }
 ],
 "metadata": {
  "kernelspec": {
   "display_name": "data",
   "language": "python",
   "name": "python3"
  },
  "language_info": {
   "codemirror_mode": {
    "name": "ipython",
    "version": 3
   },
   "file_extension": ".py",
   "mimetype": "text/x-python",
   "name": "python",
   "nbconvert_exporter": "python",
   "pygments_lexer": "ipython3",
   "version": "3.10.4"
  },
  "vscode": {
   "interpreter": {
    "hash": "87aa2df5676ce3636fa5c3ad845736f33e5dcc95e958fafe10accbd91339fdaa"
   }
  }
 },
 "nbformat": 4,
 "nbformat_minor": 5
}
