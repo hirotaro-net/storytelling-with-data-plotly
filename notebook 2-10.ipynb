{
 "cells": [
  {
   "cell_type": "markdown",
   "id": "945bbfc2",
   "metadata": {},
   "source": [
    "## Required Modules"
   ]
  },
  {
   "cell_type": "code",
   "execution_count": 1,
   "id": "3ff355c6",
   "metadata": {},
   "outputs": [],
   "source": [
    "import numpy as np\n",
    "import pandas as pd\n",
    "import plotly.graph_objects as go"
   ]
  },
  {
   "cell_type": "markdown",
   "id": "ad865108",
   "metadata": {},
   "source": [
    "## Color Palette"
   ]
  },
  {
   "cell_type": "code",
   "execution_count": 2,
   "id": "2fa5f557",
   "metadata": {},
   "outputs": [],
   "source": [
    "from colors import *"
   ]
  },
  {
   "cell_type": "markdown",
   "id": "ad547d74",
   "metadata": {},
   "source": [
    "## Data"
   ]
  },
  {
   "cell_type": "code",
   "execution_count": 3,
   "id": "6363116b",
   "metadata": {
    "scrolled": true
   },
   "outputs": [
    {
     "data": {
      "text/html": [
       "<div>\n",
       "<style scoped>\n",
       "    .dataframe tbody tr th:only-of-type {\n",
       "        vertical-align: middle;\n",
       "    }\n",
       "\n",
       "    .dataframe tbody tr th {\n",
       "        vertical-align: top;\n",
       "    }\n",
       "\n",
       "    .dataframe thead th {\n",
       "        text-align: right;\n",
       "    }\n",
       "</style>\n",
       "<table border=\"1\" class=\"dataframe\">\n",
       "  <thead>\n",
       "    <tr style=\"text-align: right;\">\n",
       "      <th></th>\n",
       "      <th>2014</th>\n",
       "      <th>2015</th>\n",
       "    </tr>\n",
       "    <tr>\n",
       "      <th>Title</th>\n",
       "      <th></th>\n",
       "      <th></th>\n",
       "    </tr>\n",
       "  </thead>\n",
       "  <tbody>\n",
       "    <tr>\n",
       "      <th>Culture</th>\n",
       "      <td>80</td>\n",
       "      <td>96</td>\n",
       "    </tr>\n",
       "    <tr>\n",
       "      <th>Peers</th>\n",
       "      <td>85</td>\n",
       "      <td>91</td>\n",
       "    </tr>\n",
       "    <tr>\n",
       "      <th>Work environment</th>\n",
       "      <td>76</td>\n",
       "      <td>75</td>\n",
       "    </tr>\n",
       "    <tr>\n",
       "      <th>Leadership</th>\n",
       "      <td>59</td>\n",
       "      <td>62</td>\n",
       "    </tr>\n",
       "    <tr>\n",
       "      <th>Rewards &amp; recognition</th>\n",
       "      <td>41</td>\n",
       "      <td>45</td>\n",
       "    </tr>\n",
       "    <tr>\n",
       "      <th>Perf management</th>\n",
       "      <td>33</td>\n",
       "      <td>42</td>\n",
       "    </tr>\n",
       "    <tr>\n",
       "      <th>Career development</th>\n",
       "      <td>49</td>\n",
       "      <td>33</td>\n",
       "    </tr>\n",
       "  </tbody>\n",
       "</table>\n",
       "</div>"
      ],
      "text/plain": [
       "                       2014  2015\n",
       "Title                            \n",
       "Culture                  80    96\n",
       "Peers                    85    91\n",
       "Work environment         76    75\n",
       "Leadership               59    62\n",
       "Rewards & recognition    41    45\n",
       "Perf management          33    42\n",
       "Career development       49    33"
      ]
     },
     "execution_count": 3,
     "metadata": {},
     "output_type": "execute_result"
    }
   ],
   "source": [
    "df = pd.read_csv(\"data/data 2-10.csv\")\n",
    "df = df.rename(columns={'Unnamed: 0': 'Title'})\n",
    "df = df.set_index('Title')\n",
    "df"
   ]
  },
  {
   "cell_type": "markdown",
   "id": "8577fcdf",
   "metadata": {},
   "source": [
    "## Data Visualization "
   ]
  },
  {
   "cell_type": "code",
   "execution_count": 4,
   "id": "d423a6c4",
   "metadata": {
    "scrolled": false
   },
   "outputs": [
    {
     "data": {
      "application/vnd.plotly.v1+json": {
       "config": {
        "plotlyServerURL": "https://plot.ly"
       },
       "data": [
        {
         "line": {
          "color": "#929497",
          "width": 5
         },
         "marker": {
          "color": "#929497",
          "size": 15
         },
         "mode": "lines+markers",
         "type": "scatter",
         "x": [
          2014,
          2015
         ],
         "y": [
          80,
          96
         ]
        },
        {
         "line": {
          "color": "#929497",
          "width": 5
         },
         "marker": {
          "color": "#929497",
          "size": 15
         },
         "mode": "lines+markers",
         "type": "scatter",
         "x": [
          2014,
          2015
         ],
         "y": [
          85,
          91
         ]
        },
        {
         "line": {
          "color": "#929497",
          "width": 5
         },
         "marker": {
          "color": "#929497",
          "size": 15
         },
         "mode": "lines+markers",
         "type": "scatter",
         "x": [
          2014,
          2015
         ],
         "y": [
          76,
          75
         ]
        },
        {
         "line": {
          "color": "#929497",
          "width": 5
         },
         "marker": {
          "color": "#929497",
          "size": 15
         },
         "mode": "lines+markers",
         "type": "scatter",
         "x": [
          2014,
          2015
         ],
         "y": [
          59,
          62
         ]
        },
        {
         "line": {
          "color": "#929497",
          "width": 5
         },
         "marker": {
          "color": "#929497",
          "size": 15
         },
         "mode": "lines+markers",
         "type": "scatter",
         "x": [
          2014,
          2015
         ],
         "y": [
          41,
          45
         ]
        },
        {
         "line": {
          "color": "#929497",
          "width": 5
         },
         "marker": {
          "color": "#929497",
          "size": 15
         },
         "mode": "lines+markers",
         "type": "scatter",
         "x": [
          2014,
          2015
         ],
         "y": [
          33,
          42
         ]
        },
        {
         "line": {
          "color": "#929497",
          "width": 5
         },
         "marker": {
          "color": "#929497",
          "size": 15
         },
         "mode": "lines+markers",
         "type": "scatter",
         "x": [
          2014,
          2015
         ],
         "y": [
          49,
          33
         ]
        }
       ],
       "layout": {
        "annotations": [
         {
          "align": "right",
          "font": {
           "color": "#929497",
           "family": "Arial",
           "size": 20
          },
          "showarrow": false,
          "text": "Culture",
          "width": 210,
          "x": 2014,
          "xshift": -165,
          "y": 80,
          "yshift": 0
         },
         {
          "align": "right",
          "font": {
           "color": "#929497",
           "family": "Arial",
           "size": 20
          },
          "showarrow": false,
          "text": "80%",
          "x": 2014,
          "xshift": -30,
          "y": 80,
          "yshift": 0
         },
         {
          "align": "right",
          "font": {
           "color": "#929497",
           "family": "Arial",
           "size": 20
          },
          "showarrow": false,
          "text": "96%",
          "x": 2015,
          "xshift": 30,
          "y": 96,
          "yshift": 0
         },
         {
          "align": "right",
          "font": {
           "color": "#929497",
           "family": "Arial",
           "size": 20
          },
          "showarrow": false,
          "text": "Peers",
          "width": 210,
          "x": 2014,
          "xshift": -165,
          "y": 85,
          "yshift": 0
         },
         {
          "align": "right",
          "font": {
           "color": "#929497",
           "family": "Arial",
           "size": 20
          },
          "showarrow": false,
          "text": "85%",
          "x": 2014,
          "xshift": -30,
          "y": 85,
          "yshift": 0
         },
         {
          "align": "right",
          "font": {
           "color": "#929497",
           "family": "Arial",
           "size": 20
          },
          "showarrow": false,
          "text": "91%",
          "x": 2015,
          "xshift": 30,
          "y": 91,
          "yshift": 0
         },
         {
          "align": "right",
          "font": {
           "color": "#929497",
           "family": "Arial",
           "size": 20
          },
          "showarrow": false,
          "text": "Work environment",
          "width": 210,
          "x": 2014,
          "xshift": -165,
          "y": 76,
          "yshift": 0
         },
         {
          "align": "right",
          "font": {
           "color": "#929497",
           "family": "Arial",
           "size": 20
          },
          "showarrow": false,
          "text": "76%",
          "x": 2014,
          "xshift": -30,
          "y": 76,
          "yshift": 0
         },
         {
          "align": "right",
          "font": {
           "color": "#929497",
           "family": "Arial",
           "size": 20
          },
          "showarrow": false,
          "text": "75%",
          "x": 2015,
          "xshift": 30,
          "y": 75,
          "yshift": 0
         },
         {
          "align": "right",
          "font": {
           "color": "#929497",
           "family": "Arial",
           "size": 20
          },
          "showarrow": false,
          "text": "Leadership",
          "width": 210,
          "x": 2014,
          "xshift": -165,
          "y": 59,
          "yshift": 0
         },
         {
          "align": "right",
          "font": {
           "color": "#929497",
           "family": "Arial",
           "size": 20
          },
          "showarrow": false,
          "text": "59%",
          "x": 2014,
          "xshift": -30,
          "y": 59,
          "yshift": 0
         },
         {
          "align": "right",
          "font": {
           "color": "#929497",
           "family": "Arial",
           "size": 20
          },
          "showarrow": false,
          "text": "62%",
          "x": 2015,
          "xshift": 30,
          "y": 62,
          "yshift": 0
         },
         {
          "align": "right",
          "font": {
           "color": "#929497",
           "family": "Arial",
           "size": 20
          },
          "showarrow": false,
          "text": "Rewards & recognition",
          "width": 210,
          "x": 2014,
          "xshift": -165,
          "y": 41,
          "yshift": 0
         },
         {
          "align": "right",
          "font": {
           "color": "#929497",
           "family": "Arial",
           "size": 20
          },
          "showarrow": false,
          "text": "41%",
          "x": 2014,
          "xshift": -30,
          "y": 41,
          "yshift": 0
         },
         {
          "align": "right",
          "font": {
           "color": "#929497",
           "family": "Arial",
           "size": 20
          },
          "showarrow": false,
          "text": "45%",
          "x": 2015,
          "xshift": 30,
          "y": 45,
          "yshift": 0
         },
         {
          "align": "right",
          "font": {
           "color": "#929497",
           "family": "Arial",
           "size": 20
          },
          "showarrow": false,
          "text": "Perf management",
          "width": 210,
          "x": 2014,
          "xshift": -165,
          "y": 33,
          "yshift": 0
         },
         {
          "align": "right",
          "font": {
           "color": "#929497",
           "family": "Arial",
           "size": 20
          },
          "showarrow": false,
          "text": "33%",
          "x": 2014,
          "xshift": -30,
          "y": 33,
          "yshift": 0
         },
         {
          "align": "right",
          "font": {
           "color": "#929497",
           "family": "Arial",
           "size": 20
          },
          "showarrow": false,
          "text": "42%",
          "x": 2015,
          "xshift": 30,
          "y": 42,
          "yshift": 0
         },
         {
          "align": "right",
          "font": {
           "color": "#929497",
           "family": "Arial",
           "size": 20
          },
          "showarrow": false,
          "text": "Career development",
          "width": 210,
          "x": 2014,
          "xshift": -165,
          "y": 49,
          "yshift": 0
         },
         {
          "align": "right",
          "font": {
           "color": "#929497",
           "family": "Arial",
           "size": 20
          },
          "showarrow": false,
          "text": "49%",
          "x": 2014,
          "xshift": -30,
          "y": 49,
          "yshift": 0
         },
         {
          "align": "right",
          "font": {
           "color": "#929497",
           "family": "Arial",
           "size": 20
          },
          "showarrow": false,
          "text": "33%",
          "x": 2015,
          "xshift": 30,
          "y": 33,
          "yshift": 0
         },
         {
          "font": {
           "color": "#555655",
           "family": "Arial",
           "size": 30
          },
          "showarrow": false,
          "text": "Employee feedback over time",
          "x": 2014,
          "xshift": -100,
          "y": 100,
          "yshift": 40
         },
         {
          "font": {
           "color": "#929497",
           "family": "Arial",
           "size": 20
          },
          "showarrow": false,
          "text": "Survey Category | Percent Favorable",
          "x": 2014,
          "xshift": -40,
          "y": 100,
          "yshift": -30
         },
         {
          "font": {
           "color": "#929497",
           "family": "Arial",
           "size": 20
          },
          "showarrow": false,
          "text": "Survey Year",
          "x": 2014,
          "xshift": 30,
          "y": 10,
          "yshift": -55
         }
        ],
        "height": 900,
        "margin": {
         "b": 100,
         "l": 320,
         "r": 320,
         "t": 100
        },
        "paper_bgcolor": "white",
        "plot_bgcolor": "white",
        "showlegend": false,
        "template": {
         "data": {
          "bar": [
           {
            "error_x": {
             "color": "#2a3f5f"
            },
            "error_y": {
             "color": "#2a3f5f"
            },
            "marker": {
             "line": {
              "color": "#E5ECF6",
              "width": 0.5
             },
             "pattern": {
              "fillmode": "overlay",
              "size": 10,
              "solidity": 0.2
             }
            },
            "type": "bar"
           }
          ],
          "barpolar": [
           {
            "marker": {
             "line": {
              "color": "#E5ECF6",
              "width": 0.5
             },
             "pattern": {
              "fillmode": "overlay",
              "size": 10,
              "solidity": 0.2
             }
            },
            "type": "barpolar"
           }
          ],
          "carpet": [
           {
            "aaxis": {
             "endlinecolor": "#2a3f5f",
             "gridcolor": "white",
             "linecolor": "white",
             "minorgridcolor": "white",
             "startlinecolor": "#2a3f5f"
            },
            "baxis": {
             "endlinecolor": "#2a3f5f",
             "gridcolor": "white",
             "linecolor": "white",
             "minorgridcolor": "white",
             "startlinecolor": "#2a3f5f"
            },
            "type": "carpet"
           }
          ],
          "choropleth": [
           {
            "colorbar": {
             "outlinewidth": 0,
             "ticks": ""
            },
            "type": "choropleth"
           }
          ],
          "contour": [
           {
            "colorbar": {
             "outlinewidth": 0,
             "ticks": ""
            },
            "colorscale": [
             [
              0,
              "#0d0887"
             ],
             [
              0.1111111111111111,
              "#46039f"
             ],
             [
              0.2222222222222222,
              "#7201a8"
             ],
             [
              0.3333333333333333,
              "#9c179e"
             ],
             [
              0.4444444444444444,
              "#bd3786"
             ],
             [
              0.5555555555555556,
              "#d8576b"
             ],
             [
              0.6666666666666666,
              "#ed7953"
             ],
             [
              0.7777777777777778,
              "#fb9f3a"
             ],
             [
              0.8888888888888888,
              "#fdca26"
             ],
             [
              1,
              "#f0f921"
             ]
            ],
            "type": "contour"
           }
          ],
          "contourcarpet": [
           {
            "colorbar": {
             "outlinewidth": 0,
             "ticks": ""
            },
            "type": "contourcarpet"
           }
          ],
          "heatmap": [
           {
            "colorbar": {
             "outlinewidth": 0,
             "ticks": ""
            },
            "colorscale": [
             [
              0,
              "#0d0887"
             ],
             [
              0.1111111111111111,
              "#46039f"
             ],
             [
              0.2222222222222222,
              "#7201a8"
             ],
             [
              0.3333333333333333,
              "#9c179e"
             ],
             [
              0.4444444444444444,
              "#bd3786"
             ],
             [
              0.5555555555555556,
              "#d8576b"
             ],
             [
              0.6666666666666666,
              "#ed7953"
             ],
             [
              0.7777777777777778,
              "#fb9f3a"
             ],
             [
              0.8888888888888888,
              "#fdca26"
             ],
             [
              1,
              "#f0f921"
             ]
            ],
            "type": "heatmap"
           }
          ],
          "heatmapgl": [
           {
            "colorbar": {
             "outlinewidth": 0,
             "ticks": ""
            },
            "colorscale": [
             [
              0,
              "#0d0887"
             ],
             [
              0.1111111111111111,
              "#46039f"
             ],
             [
              0.2222222222222222,
              "#7201a8"
             ],
             [
              0.3333333333333333,
              "#9c179e"
             ],
             [
              0.4444444444444444,
              "#bd3786"
             ],
             [
              0.5555555555555556,
              "#d8576b"
             ],
             [
              0.6666666666666666,
              "#ed7953"
             ],
             [
              0.7777777777777778,
              "#fb9f3a"
             ],
             [
              0.8888888888888888,
              "#fdca26"
             ],
             [
              1,
              "#f0f921"
             ]
            ],
            "type": "heatmapgl"
           }
          ],
          "histogram": [
           {
            "marker": {
             "pattern": {
              "fillmode": "overlay",
              "size": 10,
              "solidity": 0.2
             }
            },
            "type": "histogram"
           }
          ],
          "histogram2d": [
           {
            "colorbar": {
             "outlinewidth": 0,
             "ticks": ""
            },
            "colorscale": [
             [
              0,
              "#0d0887"
             ],
             [
              0.1111111111111111,
              "#46039f"
             ],
             [
              0.2222222222222222,
              "#7201a8"
             ],
             [
              0.3333333333333333,
              "#9c179e"
             ],
             [
              0.4444444444444444,
              "#bd3786"
             ],
             [
              0.5555555555555556,
              "#d8576b"
             ],
             [
              0.6666666666666666,
              "#ed7953"
             ],
             [
              0.7777777777777778,
              "#fb9f3a"
             ],
             [
              0.8888888888888888,
              "#fdca26"
             ],
             [
              1,
              "#f0f921"
             ]
            ],
            "type": "histogram2d"
           }
          ],
          "histogram2dcontour": [
           {
            "colorbar": {
             "outlinewidth": 0,
             "ticks": ""
            },
            "colorscale": [
             [
              0,
              "#0d0887"
             ],
             [
              0.1111111111111111,
              "#46039f"
             ],
             [
              0.2222222222222222,
              "#7201a8"
             ],
             [
              0.3333333333333333,
              "#9c179e"
             ],
             [
              0.4444444444444444,
              "#bd3786"
             ],
             [
              0.5555555555555556,
              "#d8576b"
             ],
             [
              0.6666666666666666,
              "#ed7953"
             ],
             [
              0.7777777777777778,
              "#fb9f3a"
             ],
             [
              0.8888888888888888,
              "#fdca26"
             ],
             [
              1,
              "#f0f921"
             ]
            ],
            "type": "histogram2dcontour"
           }
          ],
          "mesh3d": [
           {
            "colorbar": {
             "outlinewidth": 0,
             "ticks": ""
            },
            "type": "mesh3d"
           }
          ],
          "parcoords": [
           {
            "line": {
             "colorbar": {
              "outlinewidth": 0,
              "ticks": ""
             }
            },
            "type": "parcoords"
           }
          ],
          "pie": [
           {
            "automargin": true,
            "type": "pie"
           }
          ],
          "scatter": [
           {
            "marker": {
             "colorbar": {
              "outlinewidth": 0,
              "ticks": ""
             }
            },
            "type": "scatter"
           }
          ],
          "scatter3d": [
           {
            "line": {
             "colorbar": {
              "outlinewidth": 0,
              "ticks": ""
             }
            },
            "marker": {
             "colorbar": {
              "outlinewidth": 0,
              "ticks": ""
             }
            },
            "type": "scatter3d"
           }
          ],
          "scattercarpet": [
           {
            "marker": {
             "colorbar": {
              "outlinewidth": 0,
              "ticks": ""
             }
            },
            "type": "scattercarpet"
           }
          ],
          "scattergeo": [
           {
            "marker": {
             "colorbar": {
              "outlinewidth": 0,
              "ticks": ""
             }
            },
            "type": "scattergeo"
           }
          ],
          "scattergl": [
           {
            "marker": {
             "colorbar": {
              "outlinewidth": 0,
              "ticks": ""
             }
            },
            "type": "scattergl"
           }
          ],
          "scattermapbox": [
           {
            "marker": {
             "colorbar": {
              "outlinewidth": 0,
              "ticks": ""
             }
            },
            "type": "scattermapbox"
           }
          ],
          "scatterpolar": [
           {
            "marker": {
             "colorbar": {
              "outlinewidth": 0,
              "ticks": ""
             }
            },
            "type": "scatterpolar"
           }
          ],
          "scatterpolargl": [
           {
            "marker": {
             "colorbar": {
              "outlinewidth": 0,
              "ticks": ""
             }
            },
            "type": "scatterpolargl"
           }
          ],
          "scatterternary": [
           {
            "marker": {
             "colorbar": {
              "outlinewidth": 0,
              "ticks": ""
             }
            },
            "type": "scatterternary"
           }
          ],
          "surface": [
           {
            "colorbar": {
             "outlinewidth": 0,
             "ticks": ""
            },
            "colorscale": [
             [
              0,
              "#0d0887"
             ],
             [
              0.1111111111111111,
              "#46039f"
             ],
             [
              0.2222222222222222,
              "#7201a8"
             ],
             [
              0.3333333333333333,
              "#9c179e"
             ],
             [
              0.4444444444444444,
              "#bd3786"
             ],
             [
              0.5555555555555556,
              "#d8576b"
             ],
             [
              0.6666666666666666,
              "#ed7953"
             ],
             [
              0.7777777777777778,
              "#fb9f3a"
             ],
             [
              0.8888888888888888,
              "#fdca26"
             ],
             [
              1,
              "#f0f921"
             ]
            ],
            "type": "surface"
           }
          ],
          "table": [
           {
            "cells": {
             "fill": {
              "color": "#EBF0F8"
             },
             "line": {
              "color": "white"
             }
            },
            "header": {
             "fill": {
              "color": "#C8D4E3"
             },
             "line": {
              "color": "white"
             }
            },
            "type": "table"
           }
          ]
         },
         "layout": {
          "annotationdefaults": {
           "arrowcolor": "#2a3f5f",
           "arrowhead": 0,
           "arrowwidth": 1
          },
          "autotypenumbers": "strict",
          "coloraxis": {
           "colorbar": {
            "outlinewidth": 0,
            "ticks": ""
           }
          },
          "colorscale": {
           "diverging": [
            [
             0,
             "#8e0152"
            ],
            [
             0.1,
             "#c51b7d"
            ],
            [
             0.2,
             "#de77ae"
            ],
            [
             0.3,
             "#f1b6da"
            ],
            [
             0.4,
             "#fde0ef"
            ],
            [
             0.5,
             "#f7f7f7"
            ],
            [
             0.6,
             "#e6f5d0"
            ],
            [
             0.7,
             "#b8e186"
            ],
            [
             0.8,
             "#7fbc41"
            ],
            [
             0.9,
             "#4d9221"
            ],
            [
             1,
             "#276419"
            ]
           ],
           "sequential": [
            [
             0,
             "#0d0887"
            ],
            [
             0.1111111111111111,
             "#46039f"
            ],
            [
             0.2222222222222222,
             "#7201a8"
            ],
            [
             0.3333333333333333,
             "#9c179e"
            ],
            [
             0.4444444444444444,
             "#bd3786"
            ],
            [
             0.5555555555555556,
             "#d8576b"
            ],
            [
             0.6666666666666666,
             "#ed7953"
            ],
            [
             0.7777777777777778,
             "#fb9f3a"
            ],
            [
             0.8888888888888888,
             "#fdca26"
            ],
            [
             1,
             "#f0f921"
            ]
           ],
           "sequentialminus": [
            [
             0,
             "#0d0887"
            ],
            [
             0.1111111111111111,
             "#46039f"
            ],
            [
             0.2222222222222222,
             "#7201a8"
            ],
            [
             0.3333333333333333,
             "#9c179e"
            ],
            [
             0.4444444444444444,
             "#bd3786"
            ],
            [
             0.5555555555555556,
             "#d8576b"
            ],
            [
             0.6666666666666666,
             "#ed7953"
            ],
            [
             0.7777777777777778,
             "#fb9f3a"
            ],
            [
             0.8888888888888888,
             "#fdca26"
            ],
            [
             1,
             "#f0f921"
            ]
           ]
          },
          "colorway": [
           "#636efa",
           "#EF553B",
           "#00cc96",
           "#ab63fa",
           "#FFA15A",
           "#19d3f3",
           "#FF6692",
           "#B6E880",
           "#FF97FF",
           "#FECB52"
          ],
          "font": {
           "color": "#2a3f5f"
          },
          "geo": {
           "bgcolor": "white",
           "lakecolor": "white",
           "landcolor": "#E5ECF6",
           "showlakes": true,
           "showland": true,
           "subunitcolor": "white"
          },
          "hoverlabel": {
           "align": "left"
          },
          "hovermode": "closest",
          "mapbox": {
           "style": "light"
          },
          "paper_bgcolor": "white",
          "plot_bgcolor": "#E5ECF6",
          "polar": {
           "angularaxis": {
            "gridcolor": "white",
            "linecolor": "white",
            "ticks": ""
           },
           "bgcolor": "#E5ECF6",
           "radialaxis": {
            "gridcolor": "white",
            "linecolor": "white",
            "ticks": ""
           }
          },
          "scene": {
           "xaxis": {
            "backgroundcolor": "#E5ECF6",
            "gridcolor": "white",
            "gridwidth": 2,
            "linecolor": "white",
            "showbackground": true,
            "ticks": "",
            "zerolinecolor": "white"
           },
           "yaxis": {
            "backgroundcolor": "#E5ECF6",
            "gridcolor": "white",
            "gridwidth": 2,
            "linecolor": "white",
            "showbackground": true,
            "ticks": "",
            "zerolinecolor": "white"
           },
           "zaxis": {
            "backgroundcolor": "#E5ECF6",
            "gridcolor": "white",
            "gridwidth": 2,
            "linecolor": "white",
            "showbackground": true,
            "ticks": "",
            "zerolinecolor": "white"
           }
          },
          "shapedefaults": {
           "line": {
            "color": "#2a3f5f"
           }
          },
          "ternary": {
           "aaxis": {
            "gridcolor": "white",
            "linecolor": "white",
            "ticks": ""
           },
           "baxis": {
            "gridcolor": "white",
            "linecolor": "white",
            "ticks": ""
           },
           "bgcolor": "#E5ECF6",
           "caxis": {
            "gridcolor": "white",
            "linecolor": "white",
            "ticks": ""
           }
          },
          "title": {
           "x": 0.05
          },
          "xaxis": {
           "automargin": true,
           "gridcolor": "white",
           "linecolor": "white",
           "ticks": "",
           "title": {
            "standoff": 15
           },
           "zerolinecolor": "white",
           "zerolinewidth": 2
          },
          "yaxis": {
           "automargin": true,
           "gridcolor": "white",
           "linecolor": "white",
           "ticks": "",
           "title": {
            "standoff": 15
           },
           "zerolinecolor": "white",
           "zerolinewidth": 2
          }
         }
        },
        "width": 900,
        "xaxis": {
         "linecolor": "#929497",
         "range": [
          2013.8,
          2015.2
         ],
         "tickcolor": "#929497",
         "tickfont": {
          "color": "#929497",
          "family": "Arial",
          "size": 20
         },
         "ticks": "outside",
         "ticktext": [
          2014,
          2015
         ],
         "tickvals": [
          2014,
          2015
         ]
        },
        "yaxis": {
         "linecolor": "#929497",
         "range": [
          10,
          100
         ],
         "showline": false,
         "showticklabels": false,
         "tickcolor": "#929497",
         "tickfont": {
          "color": "#929497",
          "family": "Arial",
          "size": 15
         }
        }
       }
      }
     },
     "metadata": {},
     "output_type": "display_data"
    }
   ],
   "source": [
    "fig = go.Figure()\n",
    "\n",
    "# Plot -------------------------\n",
    "for i in range(7):\n",
    "    fig.add_traces([\n",
    "        go.Scatter(\n",
    "            x=np.asarray(df.columns, dtype=np.int64),\n",
    "            y=df[i:i+1].values[0],\n",
    "            mode='lines+markers',\n",
    "            line=dict(color=GRAY7, width=5),\n",
    "            marker=dict(color=GRAY7, size=15),\n",
    "        ),\n",
    "    ])\n",
    "\n",
    "# Annotation -------------------\n",
    "for i in range(7):\n",
    "    fig.add_annotation(\n",
    "        text=df.index[i],\n",
    "        align=\"right\",\n",
    "        font=dict(color=GRAY7, size=20, family=\"Arial\"),\n",
    "        width=210,\n",
    "        x=2014,\n",
    "        y=df[i:i+1].values[0][0],\n",
    "        xshift=-165,\n",
    "        yshift=0,\n",
    "        showarrow=False,\n",
    "    )\n",
    "    \n",
    "    fig.add_annotation(\n",
    "        text=str(df[i:i+1].values[0][0]) + '%',\n",
    "        align=\"right\",\n",
    "        font=dict(color=GRAY7, size=20, family=\"Arial\"),\n",
    "        x=2014,\n",
    "        y=df[i:i+1].values[0][0],\n",
    "        xshift=-30,\n",
    "        yshift=0,\n",
    "        showarrow=False,\n",
    "    )\n",
    "    \n",
    "    fig.add_annotation(\n",
    "        text=str(df[i:i+1].values[0][1]) + '%',\n",
    "        align=\"right\",\n",
    "        font=dict(color=GRAY7, size=20, family=\"Arial\"),\n",
    "        x=2015,\n",
    "        y=df[i:i+1].values[0][1],\n",
    "        xshift=30,\n",
    "        yshift=0,\n",
    "        showarrow=False,\n",
    "    )\n",
    "\n",
    "# Text -------------------------\n",
    "fig.add_annotation(\n",
    "    text=\"Employee feedback over time\",\n",
    "    font=dict(color=GRAY3, size=30, family=\"Arial\"),\n",
    "    x=2014,\n",
    "    y=100,\n",
    "    xshift=-100,\n",
    "    yshift=40,\n",
    "    showarrow=False,\n",
    ")\n",
    "\n",
    "fig.add_annotation(\n",
    "    text=\"Survey Category | Percent Favorable\",\n",
    "    font=dict(color=GRAY7, size=20, family=\"Arial\"),\n",
    "    x=2014,\n",
    "    y=100,\n",
    "    xshift=-40,\n",
    "    yshift=-30,\n",
    "    showarrow=False,\n",
    ")\n",
    "\n",
    "fig.add_annotation(\n",
    "    text=\"Survey Year\",\n",
    "    font=dict(color=GRAY7, size=20, family=\"Arial\"),\n",
    "    x=2014,\n",
    "    y=10,\n",
    "    xshift=30,\n",
    "    yshift=-55,\n",
    "    showarrow=False,\n",
    ")\n",
    "\n",
    "# Layout -----------------------\n",
    "\n",
    "fig.update_layout(\n",
    "    width=900,\n",
    "    height=900,\n",
    "    margin=dict(t=100, b=100, l=320, r=320),\n",
    "    showlegend=False,\n",
    "    paper_bgcolor=\"white\",\n",
    "    plot_bgcolor=\"white\",\n",
    ")\n",
    "\n",
    "fig.update_xaxes(\n",
    "    tickfont=dict(color=GRAY7, size=20, family='Arial'),\n",
    "    ticks=\"outside\",\n",
    "    tickvals=[2014, 2015],\n",
    "    ticktext=[2014, 2015],\n",
    "    tickcolor=GRAY7,\n",
    "    linecolor=GRAY7,\n",
    "    range=[2013.8, 2015.2]\n",
    ")\n",
    "\n",
    "fig.update_yaxes(\n",
    "    tickfont=dict(color=GRAY7, size=15, family='Arial'),\n",
    "    tickcolor=GRAY7,\n",
    "    linecolor=GRAY7,\n",
    "    showticklabels=False,\n",
    "    showline=False,\n",
    "    range=[10, 100]\n",
    ")"
   ]
  },
  {
   "cell_type": "markdown",
   "id": "c9f04da8",
   "metadata": {},
   "source": [
    "## Output"
   ]
  },
  {
   "cell_type": "code",
   "execution_count": 5,
   "id": "7776fe8a",
   "metadata": {},
   "outputs": [],
   "source": [
    "fig.write_image(\"plot/plot 2-10.png\", format=\"png\", width=900, height=900, scale=3)"
   ]
  }
 ],
 "metadata": {
  "kernelspec": {
   "display_name": "data",
   "language": "python",
   "name": "python3"
  },
  "language_info": {
   "codemirror_mode": {
    "name": "ipython",
    "version": 3
   },
   "file_extension": ".py",
   "mimetype": "text/x-python",
   "name": "python",
   "nbconvert_exporter": "python",
   "pygments_lexer": "ipython3",
   "version": "3.10.4"
  },
  "vscode": {
   "interpreter": {
    "hash": "87aa2df5676ce3636fa5c3ad845736f33e5dcc95e958fafe10accbd91339fdaa"
   }
  }
 },
 "nbformat": 4,
 "nbformat_minor": 5
}
