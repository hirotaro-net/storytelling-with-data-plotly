{
 "cells": [
  {
   "cell_type": "markdown",
   "id": "945bbfc2",
   "metadata": {},
   "source": [
    "## Required Modules"
   ]
  },
  {
   "cell_type": "code",
   "execution_count": 1,
   "id": "3ff355c6",
   "metadata": {},
   "outputs": [],
   "source": [
    "import numpy as np\n",
    "import pandas as pd\n",
    "import plotly.graph_objects as go"
   ]
  },
  {
   "cell_type": "markdown",
   "id": "ad865108",
   "metadata": {},
   "source": [
    "## Color Palette"
   ]
  },
  {
   "cell_type": "code",
   "execution_count": 2,
   "id": "2fa5f557",
   "metadata": {},
   "outputs": [],
   "source": [
    "from colors import *"
   ]
  },
  {
   "cell_type": "markdown",
   "id": "ad547d74",
   "metadata": {},
   "source": [
    "## Data"
   ]
  },
  {
   "cell_type": "code",
   "execution_count": 3,
   "id": "6363116b",
   "metadata": {
    "scrolled": false
   },
   "outputs": [],
   "source": [
    "df = pd.read_csv(\"data/data 6-4.csv\")"
   ]
  },
  {
   "cell_type": "code",
   "execution_count": 4,
   "id": "94f3ed72",
   "metadata": {
    "scrolled": true
   },
   "outputs": [
    {
     "data": {
      "text/html": [
       "<div>\n",
       "<style scoped>\n",
       "    .dataframe tbody tr th:only-of-type {\n",
       "        vertical-align: middle;\n",
       "    }\n",
       "\n",
       "    .dataframe tbody tr th {\n",
       "        vertical-align: top;\n",
       "    }\n",
       "\n",
       "    .dataframe thead th {\n",
       "        text-align: right;\n",
       "    }\n",
       "</style>\n",
       "<table border=\"1\" class=\"dataframe\">\n",
       "  <thead>\n",
       "    <tr style=\"text-align: right;\">\n",
       "      <th></th>\n",
       "      <th>Today 9/30/15</th>\n",
       "      <th>FY16</th>\n",
       "      <th>FY17</th>\n",
       "      <th>FY18</th>\n",
       "      <th>FY19</th>\n",
       "      <th>FY20</th>\n",
       "    </tr>\n",
       "    <tr>\n",
       "      <th>Category</th>\n",
       "      <th></th>\n",
       "      <th></th>\n",
       "      <th></th>\n",
       "      <th></th>\n",
       "      <th></th>\n",
       "      <th></th>\n",
       "    </tr>\n",
       "  </thead>\n",
       "  <tbody>\n",
       "    <tr>\n",
       "      <th>Unmet need</th>\n",
       "      <td>0</td>\n",
       "      <td>28</td>\n",
       "      <td>50</td>\n",
       "      <td>68</td>\n",
       "      <td>91</td>\n",
       "      <td>112</td>\n",
       "    </tr>\n",
       "    <tr>\n",
       "      <th>Directors from acquisitions</th>\n",
       "      <td>0</td>\n",
       "      <td>3</td>\n",
       "      <td>3</td>\n",
       "      <td>3</td>\n",
       "      <td>3</td>\n",
       "      <td>3</td>\n",
       "    </tr>\n",
       "    <tr>\n",
       "      <th>Promotions to director</th>\n",
       "      <td>0</td>\n",
       "      <td>7</td>\n",
       "      <td>10</td>\n",
       "      <td>13</td>\n",
       "      <td>17</td>\n",
       "      <td>21</td>\n",
       "    </tr>\n",
       "    <tr>\n",
       "      <th>Today's directors</th>\n",
       "      <td>191</td>\n",
       "      <td>165</td>\n",
       "      <td>148</td>\n",
       "      <td>129</td>\n",
       "      <td>111</td>\n",
       "      <td>91</td>\n",
       "    </tr>\n",
       "    <tr>\n",
       "      <th>Attrition</th>\n",
       "      <td>0</td>\n",
       "      <td>-26</td>\n",
       "      <td>-43</td>\n",
       "      <td>-62</td>\n",
       "      <td>-80</td>\n",
       "      <td>-100</td>\n",
       "    </tr>\n",
       "  </tbody>\n",
       "</table>\n",
       "</div>"
      ],
      "text/plain": [
       "                             Today 9/30/15  FY16  FY17  FY18  FY19  FY20\n",
       "Category                                                                \n",
       "Unmet need                               0    28    50    68    91   112\n",
       "Directors from acquisitions              0     3     3     3     3     3\n",
       "Promotions to director                   0     7    10    13    17    21\n",
       "Today's directors                      191   165   148   129   111    91\n",
       "Attrition                                0   -26   -43   -62   -80  -100"
      ]
     },
     "execution_count": 4,
     "metadata": {},
     "output_type": "execute_result"
    }
   ],
   "source": [
    "df = df.set_index('Category')\n",
    "df"
   ]
  },
  {
   "cell_type": "markdown",
   "id": "8577fcdf",
   "metadata": {},
   "source": [
    "## Data Visualization "
   ]
  },
  {
   "cell_type": "code",
   "execution_count": 5,
   "id": "d423a6c4",
   "metadata": {
    "scrolled": false
   },
   "outputs": [
    {
     "data": {
      "application/vnd.plotly.v1+json": {
       "config": {
        "plotlyServerURL": "https://plot.ly"
       },
       "data": [
        {
         "marker": {
          "color": "#94B2D7",
          "line": {
           "color": "#94B2D7",
           "width": 1
          }
         },
         "name": "Attrition",
         "type": "bar",
         "width": 0.7,
         "x": [
          "Today 9/30/15",
          "FY16",
          "FY17",
          "FY18",
          "FY19",
          "FY20"
         ],
         "y": [
          0,
          -26,
          -43,
          -62,
          -80,
          -100
         ]
        },
        {
         "marker": {
          "color": "#4A81BF",
          "line": {
           "color": "#4A81BF",
           "width": 1
          }
         },
         "name": "Today's directors",
         "type": "bar",
         "width": 0.7,
         "x": [
          "Today 9/30/15",
          "FY16",
          "FY17",
          "FY18",
          "FY19",
          "FY20"
         ],
         "y": [
          191,
          165,
          148,
          129,
          111,
          91
         ]
        },
        {
         "marker": {
          "color": "#0C8040",
          "line": {
           "color": "#0C8040",
           "width": 1
          }
         },
         "name": "Promotions to director",
         "type": "bar",
         "width": 0.7,
         "x": [
          "Today 9/30/15",
          "FY16",
          "FY17",
          "FY18",
          "FY19",
          "FY20"
         ],
         "y": [
          0,
          7,
          10,
          13,
          17,
          21
         ]
        },
        {
         "marker": {
          "color": "#9ABB59",
          "line": {
           "color": "#9ABB59",
           "width": 1
          }
         },
         "name": "Directors from acquisitions",
         "type": "bar",
         "width": 0.7,
         "x": [
          "Today 9/30/15",
          "FY16",
          "FY17",
          "FY18",
          "FY19",
          "FY20"
         ],
         "y": [
          0,
          3,
          3,
          3,
          3,
          3
         ]
        },
        {
         "marker": {
          "color": "white",
          "line": {
           "color": "#BFBEBE",
           "width": 1
          }
         },
         "name": "Unmet need",
         "type": "bar",
         "width": 0.7,
         "x": [
          "Today 9/30/15",
          "FY16",
          "FY17",
          "FY18",
          "FY19",
          "FY20"
         ],
         "y": [
          0,
          28,
          50,
          68,
          91,
          112
         ]
        }
       ],
       "layout": {
        "annotations": [
         {
          "font": {
           "color": "#231F20",
           "family": "Arial",
           "size": 20
          },
          "showarrow": false,
          "text": "<b>28</b>",
          "x": 1,
          "xshift": 0,
          "y": 203,
          "yshift": -20
         },
         {
          "font": {
           "color": "#231F20",
           "family": "Arial",
           "size": 20
          },
          "showarrow": false,
          "text": "<b>50</b>",
          "x": 2,
          "xshift": 0,
          "y": 211,
          "yshift": -20
         },
         {
          "font": {
           "color": "#231F20",
           "family": "Arial",
           "size": 20
          },
          "showarrow": false,
          "text": "<b>68</b>",
          "x": 3,
          "xshift": 0,
          "y": 213,
          "yshift": -20
         },
         {
          "font": {
           "color": "#231F20",
           "family": "Arial",
           "size": 20
          },
          "showarrow": false,
          "text": "<b>91</b>",
          "x": 4,
          "xshift": 0,
          "y": 222,
          "yshift": -20
         },
         {
          "font": {
           "color": "#231F20",
           "family": "Arial",
           "size": 20
          },
          "showarrow": false,
          "text": "<b>112</b>",
          "x": 5,
          "xshift": 0,
          "y": 227,
          "yshift": -20
         },
         {
          "font": {
           "color": "#555655",
           "family": "Arial",
           "size": 20
          },
          "showarrow": false,
          "text": "Today<br>9/30/15",
          "x": 0,
          "xshift": 0,
          "y": 0,
          "yshift": -33
         },
         {
          "font": {
           "color": "#555655",
           "family": "Arial",
           "size": 20
          },
          "showarrow": false,
          "text": "FY16",
          "x": 1,
          "xshift": 0,
          "y": 0,
          "yshift": -20
         },
         {
          "font": {
           "color": "#555655",
           "family": "Arial",
           "size": 20
          },
          "showarrow": false,
          "text": "FY17",
          "x": 2,
          "xshift": 0,
          "y": 0,
          "yshift": -20
         },
         {
          "font": {
           "color": "#555655",
           "family": "Arial",
           "size": 20
          },
          "showarrow": false,
          "text": "FY18",
          "x": 3,
          "xshift": 0,
          "y": 0,
          "yshift": -20
         },
         {
          "font": {
           "color": "#555655",
           "family": "Arial",
           "size": 20
          },
          "showarrow": false,
          "text": "FY19",
          "x": 4,
          "xshift": 0,
          "y": 0,
          "yshift": -20
         },
         {
          "font": {
           "color": "#555655",
           "family": "Arial",
           "size": 20
          },
          "showarrow": false,
          "text": "FY20",
          "x": 5,
          "xshift": 0,
          "y": 0,
          "yshift": -20
         },
         {
          "font": {
           "color": "#555655",
           "family": "Arial",
           "size": 25
          },
          "showarrow": false,
          "text": "Expected director population over time",
          "x": 0,
          "xshift": 105,
          "y": 250,
          "yshift": 40
         },
         {
          "font": {
           "color": "#929497",
           "family": "Arial",
           "size": 20
          },
          "showarrow": false,
          "text": "# of directors",
          "textangle": -90,
          "x": 0,
          "xshift": -100,
          "y": 250,
          "yshift": -50
         },
         {
          "font": {
           "color": "#929497",
           "family": "Arial",
           "size": 15
          },
          "showarrow": false,
          "text": "A footnote explaining relevant forecast assumptions and methodology would go here.",
          "x": 0,
          "xshift": 175,
          "y": -100,
          "yshift": -40
         },
         {
          "font": {
           "color": "#231F20",
           "family": "Arial",
           "size": 20
          },
          "showarrow": false,
          "text": "<b>Unmet need (gap)</b>",
          "x": 5.3,
          "xshift": 100,
          "y": 210,
          "yshift": 5
         },
         {
          "font": {
           "color": "#9ABB59",
           "family": "Arial",
           "size": 20
          },
          "showarrow": false,
          "text": "Directors from acquisitions",
          "x": 5.3,
          "xshift": 135,
          "y": 115,
          "yshift": 0
         },
         {
          "font": {
           "color": "#0C8040",
           "family": "Arial",
           "size": 20
          },
          "showarrow": false,
          "text": "Promotions to director",
          "x": 5.3,
          "xshift": 115,
          "y": 100,
          "yshift": 0
         },
         {
          "font": {
           "color": "#4A81BF",
           "family": "Arial",
           "size": 20
          },
          "showarrow": false,
          "text": "Today's directors",
          "x": 5.3,
          "xshift": 92,
          "y": 83,
          "yshift": 0
         },
         {
          "font": {
           "color": "#94B2D7",
           "family": "Arial",
           "size": 20
          },
          "showarrow": false,
          "text": "Attrition",
          "x": 5.3,
          "xshift": 53,
          "y": -90,
          "yshift": 0
         }
        ],
        "barmode": "relative",
        "height": 630,
        "margin": {
         "b": 63,
         "l": 120,
         "r": 292.5,
         "t": 63
        },
        "paper_bgcolor": "white",
        "plot_bgcolor": "white",
        "shapes": [
         {
          "line": {
           "color": "#BFBEBE",
           "width": 1
          },
          "type": "line",
          "x0": 0,
          "x1": 1,
          "xref": "x domain",
          "y0": 0,
          "y1": 0,
          "yref": "y"
         }
        ],
        "showlegend": false,
        "template": {
         "data": {
          "bar": [
           {
            "error_x": {
             "color": "#2a3f5f"
            },
            "error_y": {
             "color": "#2a3f5f"
            },
            "marker": {
             "line": {
              "color": "#E5ECF6",
              "width": 0.5
             },
             "pattern": {
              "fillmode": "overlay",
              "size": 10,
              "solidity": 0.2
             }
            },
            "type": "bar"
           }
          ],
          "barpolar": [
           {
            "marker": {
             "line": {
              "color": "#E5ECF6",
              "width": 0.5
             },
             "pattern": {
              "fillmode": "overlay",
              "size": 10,
              "solidity": 0.2
             }
            },
            "type": "barpolar"
           }
          ],
          "carpet": [
           {
            "aaxis": {
             "endlinecolor": "#2a3f5f",
             "gridcolor": "white",
             "linecolor": "white",
             "minorgridcolor": "white",
             "startlinecolor": "#2a3f5f"
            },
            "baxis": {
             "endlinecolor": "#2a3f5f",
             "gridcolor": "white",
             "linecolor": "white",
             "minorgridcolor": "white",
             "startlinecolor": "#2a3f5f"
            },
            "type": "carpet"
           }
          ],
          "choropleth": [
           {
            "colorbar": {
             "outlinewidth": 0,
             "ticks": ""
            },
            "type": "choropleth"
           }
          ],
          "contour": [
           {
            "colorbar": {
             "outlinewidth": 0,
             "ticks": ""
            },
            "colorscale": [
             [
              0,
              "#0d0887"
             ],
             [
              0.1111111111111111,
              "#46039f"
             ],
             [
              0.2222222222222222,
              "#7201a8"
             ],
             [
              0.3333333333333333,
              "#9c179e"
             ],
             [
              0.4444444444444444,
              "#bd3786"
             ],
             [
              0.5555555555555556,
              "#d8576b"
             ],
             [
              0.6666666666666666,
              "#ed7953"
             ],
             [
              0.7777777777777778,
              "#fb9f3a"
             ],
             [
              0.8888888888888888,
              "#fdca26"
             ],
             [
              1,
              "#f0f921"
             ]
            ],
            "type": "contour"
           }
          ],
          "contourcarpet": [
           {
            "colorbar": {
             "outlinewidth": 0,
             "ticks": ""
            },
            "type": "contourcarpet"
           }
          ],
          "heatmap": [
           {
            "colorbar": {
             "outlinewidth": 0,
             "ticks": ""
            },
            "colorscale": [
             [
              0,
              "#0d0887"
             ],
             [
              0.1111111111111111,
              "#46039f"
             ],
             [
              0.2222222222222222,
              "#7201a8"
             ],
             [
              0.3333333333333333,
              "#9c179e"
             ],
             [
              0.4444444444444444,
              "#bd3786"
             ],
             [
              0.5555555555555556,
              "#d8576b"
             ],
             [
              0.6666666666666666,
              "#ed7953"
             ],
             [
              0.7777777777777778,
              "#fb9f3a"
             ],
             [
              0.8888888888888888,
              "#fdca26"
             ],
             [
              1,
              "#f0f921"
             ]
            ],
            "type": "heatmap"
           }
          ],
          "heatmapgl": [
           {
            "colorbar": {
             "outlinewidth": 0,
             "ticks": ""
            },
            "colorscale": [
             [
              0,
              "#0d0887"
             ],
             [
              0.1111111111111111,
              "#46039f"
             ],
             [
              0.2222222222222222,
              "#7201a8"
             ],
             [
              0.3333333333333333,
              "#9c179e"
             ],
             [
              0.4444444444444444,
              "#bd3786"
             ],
             [
              0.5555555555555556,
              "#d8576b"
             ],
             [
              0.6666666666666666,
              "#ed7953"
             ],
             [
              0.7777777777777778,
              "#fb9f3a"
             ],
             [
              0.8888888888888888,
              "#fdca26"
             ],
             [
              1,
              "#f0f921"
             ]
            ],
            "type": "heatmapgl"
           }
          ],
          "histogram": [
           {
            "marker": {
             "pattern": {
              "fillmode": "overlay",
              "size": 10,
              "solidity": 0.2
             }
            },
            "type": "histogram"
           }
          ],
          "histogram2d": [
           {
            "colorbar": {
             "outlinewidth": 0,
             "ticks": ""
            },
            "colorscale": [
             [
              0,
              "#0d0887"
             ],
             [
              0.1111111111111111,
              "#46039f"
             ],
             [
              0.2222222222222222,
              "#7201a8"
             ],
             [
              0.3333333333333333,
              "#9c179e"
             ],
             [
              0.4444444444444444,
              "#bd3786"
             ],
             [
              0.5555555555555556,
              "#d8576b"
             ],
             [
              0.6666666666666666,
              "#ed7953"
             ],
             [
              0.7777777777777778,
              "#fb9f3a"
             ],
             [
              0.8888888888888888,
              "#fdca26"
             ],
             [
              1,
              "#f0f921"
             ]
            ],
            "type": "histogram2d"
           }
          ],
          "histogram2dcontour": [
           {
            "colorbar": {
             "outlinewidth": 0,
             "ticks": ""
            },
            "colorscale": [
             [
              0,
              "#0d0887"
             ],
             [
              0.1111111111111111,
              "#46039f"
             ],
             [
              0.2222222222222222,
              "#7201a8"
             ],
             [
              0.3333333333333333,
              "#9c179e"
             ],
             [
              0.4444444444444444,
              "#bd3786"
             ],
             [
              0.5555555555555556,
              "#d8576b"
             ],
             [
              0.6666666666666666,
              "#ed7953"
             ],
             [
              0.7777777777777778,
              "#fb9f3a"
             ],
             [
              0.8888888888888888,
              "#fdca26"
             ],
             [
              1,
              "#f0f921"
             ]
            ],
            "type": "histogram2dcontour"
           }
          ],
          "mesh3d": [
           {
            "colorbar": {
             "outlinewidth": 0,
             "ticks": ""
            },
            "type": "mesh3d"
           }
          ],
          "parcoords": [
           {
            "line": {
             "colorbar": {
              "outlinewidth": 0,
              "ticks": ""
             }
            },
            "type": "parcoords"
           }
          ],
          "pie": [
           {
            "automargin": true,
            "type": "pie"
           }
          ],
          "scatter": [
           {
            "marker": {
             "colorbar": {
              "outlinewidth": 0,
              "ticks": ""
             }
            },
            "type": "scatter"
           }
          ],
          "scatter3d": [
           {
            "line": {
             "colorbar": {
              "outlinewidth": 0,
              "ticks": ""
             }
            },
            "marker": {
             "colorbar": {
              "outlinewidth": 0,
              "ticks": ""
             }
            },
            "type": "scatter3d"
           }
          ],
          "scattercarpet": [
           {
            "marker": {
             "colorbar": {
              "outlinewidth": 0,
              "ticks": ""
             }
            },
            "type": "scattercarpet"
           }
          ],
          "scattergeo": [
           {
            "marker": {
             "colorbar": {
              "outlinewidth": 0,
              "ticks": ""
             }
            },
            "type": "scattergeo"
           }
          ],
          "scattergl": [
           {
            "marker": {
             "colorbar": {
              "outlinewidth": 0,
              "ticks": ""
             }
            },
            "type": "scattergl"
           }
          ],
          "scattermapbox": [
           {
            "marker": {
             "colorbar": {
              "outlinewidth": 0,
              "ticks": ""
             }
            },
            "type": "scattermapbox"
           }
          ],
          "scatterpolar": [
           {
            "marker": {
             "colorbar": {
              "outlinewidth": 0,
              "ticks": ""
             }
            },
            "type": "scatterpolar"
           }
          ],
          "scatterpolargl": [
           {
            "marker": {
             "colorbar": {
              "outlinewidth": 0,
              "ticks": ""
             }
            },
            "type": "scatterpolargl"
           }
          ],
          "scatterternary": [
           {
            "marker": {
             "colorbar": {
              "outlinewidth": 0,
              "ticks": ""
             }
            },
            "type": "scatterternary"
           }
          ],
          "surface": [
           {
            "colorbar": {
             "outlinewidth": 0,
             "ticks": ""
            },
            "colorscale": [
             [
              0,
              "#0d0887"
             ],
             [
              0.1111111111111111,
              "#46039f"
             ],
             [
              0.2222222222222222,
              "#7201a8"
             ],
             [
              0.3333333333333333,
              "#9c179e"
             ],
             [
              0.4444444444444444,
              "#bd3786"
             ],
             [
              0.5555555555555556,
              "#d8576b"
             ],
             [
              0.6666666666666666,
              "#ed7953"
             ],
             [
              0.7777777777777778,
              "#fb9f3a"
             ],
             [
              0.8888888888888888,
              "#fdca26"
             ],
             [
              1,
              "#f0f921"
             ]
            ],
            "type": "surface"
           }
          ],
          "table": [
           {
            "cells": {
             "fill": {
              "color": "#EBF0F8"
             },
             "line": {
              "color": "white"
             }
            },
            "header": {
             "fill": {
              "color": "#C8D4E3"
             },
             "line": {
              "color": "white"
             }
            },
            "type": "table"
           }
          ]
         },
         "layout": {
          "annotationdefaults": {
           "arrowcolor": "#2a3f5f",
           "arrowhead": 0,
           "arrowwidth": 1
          },
          "autotypenumbers": "strict",
          "coloraxis": {
           "colorbar": {
            "outlinewidth": 0,
            "ticks": ""
           }
          },
          "colorscale": {
           "diverging": [
            [
             0,
             "#8e0152"
            ],
            [
             0.1,
             "#c51b7d"
            ],
            [
             0.2,
             "#de77ae"
            ],
            [
             0.3,
             "#f1b6da"
            ],
            [
             0.4,
             "#fde0ef"
            ],
            [
             0.5,
             "#f7f7f7"
            ],
            [
             0.6,
             "#e6f5d0"
            ],
            [
             0.7,
             "#b8e186"
            ],
            [
             0.8,
             "#7fbc41"
            ],
            [
             0.9,
             "#4d9221"
            ],
            [
             1,
             "#276419"
            ]
           ],
           "sequential": [
            [
             0,
             "#0d0887"
            ],
            [
             0.1111111111111111,
             "#46039f"
            ],
            [
             0.2222222222222222,
             "#7201a8"
            ],
            [
             0.3333333333333333,
             "#9c179e"
            ],
            [
             0.4444444444444444,
             "#bd3786"
            ],
            [
             0.5555555555555556,
             "#d8576b"
            ],
            [
             0.6666666666666666,
             "#ed7953"
            ],
            [
             0.7777777777777778,
             "#fb9f3a"
            ],
            [
             0.8888888888888888,
             "#fdca26"
            ],
            [
             1,
             "#f0f921"
            ]
           ],
           "sequentialminus": [
            [
             0,
             "#0d0887"
            ],
            [
             0.1111111111111111,
             "#46039f"
            ],
            [
             0.2222222222222222,
             "#7201a8"
            ],
            [
             0.3333333333333333,
             "#9c179e"
            ],
            [
             0.4444444444444444,
             "#bd3786"
            ],
            [
             0.5555555555555556,
             "#d8576b"
            ],
            [
             0.6666666666666666,
             "#ed7953"
            ],
            [
             0.7777777777777778,
             "#fb9f3a"
            ],
            [
             0.8888888888888888,
             "#fdca26"
            ],
            [
             1,
             "#f0f921"
            ]
           ]
          },
          "colorway": [
           "#636efa",
           "#EF553B",
           "#00cc96",
           "#ab63fa",
           "#FFA15A",
           "#19d3f3",
           "#FF6692",
           "#B6E880",
           "#FF97FF",
           "#FECB52"
          ],
          "font": {
           "color": "#2a3f5f"
          },
          "geo": {
           "bgcolor": "white",
           "lakecolor": "white",
           "landcolor": "#E5ECF6",
           "showlakes": true,
           "showland": true,
           "subunitcolor": "white"
          },
          "hoverlabel": {
           "align": "left"
          },
          "hovermode": "closest",
          "mapbox": {
           "style": "light"
          },
          "paper_bgcolor": "white",
          "plot_bgcolor": "#E5ECF6",
          "polar": {
           "angularaxis": {
            "gridcolor": "white",
            "linecolor": "white",
            "ticks": ""
           },
           "bgcolor": "#E5ECF6",
           "radialaxis": {
            "gridcolor": "white",
            "linecolor": "white",
            "ticks": ""
           }
          },
          "scene": {
           "xaxis": {
            "backgroundcolor": "#E5ECF6",
            "gridcolor": "white",
            "gridwidth": 2,
            "linecolor": "white",
            "showbackground": true,
            "ticks": "",
            "zerolinecolor": "white"
           },
           "yaxis": {
            "backgroundcolor": "#E5ECF6",
            "gridcolor": "white",
            "gridwidth": 2,
            "linecolor": "white",
            "showbackground": true,
            "ticks": "",
            "zerolinecolor": "white"
           },
           "zaxis": {
            "backgroundcolor": "#E5ECF6",
            "gridcolor": "white",
            "gridwidth": 2,
            "linecolor": "white",
            "showbackground": true,
            "ticks": "",
            "zerolinecolor": "white"
           }
          },
          "shapedefaults": {
           "line": {
            "color": "#2a3f5f"
           }
          },
          "ternary": {
           "aaxis": {
            "gridcolor": "white",
            "linecolor": "white",
            "ticks": ""
           },
           "baxis": {
            "gridcolor": "white",
            "linecolor": "white",
            "ticks": ""
           },
           "bgcolor": "#E5ECF6",
           "caxis": {
            "gridcolor": "white",
            "linecolor": "white",
            "ticks": ""
           }
          },
          "title": {
           "x": 0.05
          },
          "xaxis": {
           "automargin": true,
           "gridcolor": "white",
           "linecolor": "white",
           "ticks": "",
           "title": {
            "standoff": 15
           },
           "zerolinecolor": "white",
           "zerolinewidth": 2
          },
          "yaxis": {
           "automargin": true,
           "gridcolor": "white",
           "linecolor": "white",
           "ticks": "",
           "title": {
            "standoff": 15
           },
           "zerolinecolor": "white",
           "zerolinewidth": 2
          }
         }
        },
        "width": 975,
        "xaxis": {
         "range": [
          -0.5,
          5.5
         ],
         "showticklabels": false
        },
        "yaxis": {
         "dtick": 50,
         "linecolor": "#BFBEBE",
         "range": [
          -100,
          250
         ],
         "tickcolor": "#929497",
         "tickfont": {
          "color": "#76787B",
          "family": "Arial",
          "size": 15
         },
         "ticks": "outside"
        }
       }
      }
     },
     "metadata": {},
     "output_type": "display_data"
    }
   ],
   "source": [
    "fig = go.Figure()\n",
    "\n",
    "# Plot -------------------------\n",
    "fig.add_hline(\n",
    "    y=0,\n",
    "    x0=0,\n",
    "    x1=1,\n",
    "    line=dict(color=GRAY9, width=1)\n",
    ")\n",
    "\n",
    "fig.add_trace(\n",
    "    go.Bar(\n",
    "        x=df.columns,\n",
    "        y=df.iloc[4].values,\n",
    "        name=\"Attrition\",\n",
    "        marker=dict(color=BLUE3, line=dict(color=BLUE3, width=1)),\n",
    "        width=0.7\n",
    "    )\n",
    ")\n",
    "\n",
    "fig.add_trace(\n",
    "    go.Bar(\n",
    "        x=df.columns,\n",
    "        y=df.iloc[3].values,\n",
    "        name=\"Today's directors\",\n",
    "        marker=dict(color=BLUE2, line=dict(color=BLUE2, width=1)),\n",
    "        width=0.7\n",
    "    )\n",
    ")\n",
    "\n",
    "fig.add_trace(\n",
    "    go.Bar(\n",
    "        x=df.columns,\n",
    "        y=df.iloc[2].values,\n",
    "        name=\"Promotions to director\",\n",
    "        marker=dict(color=GREEN1, line=dict(color=GREEN1, width=1)),\n",
    "        width=0.7\n",
    "    )\n",
    ")\n",
    "\n",
    "fig.add_trace(\n",
    "    go.Bar(\n",
    "        x=df.columns,\n",
    "        y=df.iloc[1].values,\n",
    "        name=\"Directors from acquisitions\",\n",
    "        marker=dict(color=GREEN2, line=dict(color=GREEN2, width=1)),\n",
    "        width=0.7\n",
    "    )\n",
    ")\n",
    "\n",
    "fig.add_trace(\n",
    "    go.Bar(\n",
    "        x=df.columns,\n",
    "        y=df.iloc[0].values,\n",
    "        name=\"Unmet need\",\n",
    "        marker=dict(color=\"white\", line=dict(color=GRAY9, width=1)),\n",
    "        width=0.7\n",
    "    )\n",
    ")\n",
    "\n",
    "# Annotation -------------------\n",
    "for i in range(5):\n",
    "    fig.add_annotation(\n",
    "        text=f\"<b>{str(df.iloc[0, 1+i])}</b>\",\n",
    "        font=dict(color=GRAY1, size=20, family=\"Arial\"),\n",
    "        x=1+i,\n",
    "        y=df[df.columns[1+i]].sum() - df.iloc[-1, 1+i],\n",
    "        xshift=0,\n",
    "        yshift=-20,\n",
    "        showarrow=False,\n",
    "    )\n",
    "    \n",
    "for i in range(6):\n",
    "    if i == 0:\n",
    "        fig.add_annotation(\n",
    "            text=\"Today<br>9/30/15\",\n",
    "            font=dict(color=GRAY3, size=20, family=\"Arial\"),\n",
    "            x=i,\n",
    "            y=0,\n",
    "            xshift=0,\n",
    "            yshift=-33,\n",
    "            showarrow=False,\n",
    "        )\n",
    "    else:\n",
    "        fig.add_annotation(\n",
    "            text=df.columns[i],\n",
    "            font=dict(color=GRAY3, size=20, family=\"Arial\"),\n",
    "            x=i,\n",
    "            y=0,\n",
    "            xshift=0,\n",
    "            yshift=-20,\n",
    "            showarrow=False,\n",
    "        )\n",
    "\n",
    "# Text -------------------------\n",
    "fig.add_annotation(\n",
    "    text=\"Expected director population over time\",\n",
    "    font=dict(color=GRAY3, size=25, family=\"Arial\"),\n",
    "    x=0,\n",
    "    y=250,\n",
    "    xshift=105,\n",
    "    yshift=40,\n",
    "    showarrow=False,\n",
    ")\n",
    "\n",
    "fig.add_annotation(\n",
    "    text=\"# of directors\",\n",
    "    font=dict(color=GRAY7, size=20, family=\"Arial\"),\n",
    "    x=0,\n",
    "    y=250,\n",
    "    xshift=-100,\n",
    "    yshift=-50,\n",
    "    textangle=-90,\n",
    "    showarrow=False,\n",
    ")\n",
    "\n",
    "fig.add_annotation(\n",
    "    text=\"A footnote explaining relevant forecast assumptions and methodology would go here.\",\n",
    "    font=dict(color=GRAY7, size=15, family=\"Arial\"),\n",
    "    x=0,\n",
    "    y=-100,\n",
    "    xshift=175,\n",
    "    yshift=-40,\n",
    "    showarrow=False,\n",
    ")\n",
    "\n",
    "fig.add_annotation(\n",
    "    text=\"<b>Unmet need (gap)</b>\",\n",
    "    font=dict(color=GRAY1, size=20, family=\"Arial\"),\n",
    "    x=5.3,\n",
    "    y=210,\n",
    "    xshift=100,\n",
    "    yshift=5,\n",
    "    showarrow=False,\n",
    ")\n",
    "\n",
    "fig.add_annotation(\n",
    "    text=\"Directors from acquisitions\",\n",
    "    font=dict(color=GREEN2, size=20, family=\"Arial\"),\n",
    "    x=5.3,\n",
    "    y=115,\n",
    "    xshift=135,\n",
    "    yshift=0,\n",
    "    showarrow=False,\n",
    ")\n",
    "\n",
    "fig.add_annotation(\n",
    "    text=\"Promotions to director\",\n",
    "    font=dict(color=GREEN1, size=20, family=\"Arial\"),\n",
    "    x=5.3,\n",
    "    y=100,\n",
    "    xshift=115,\n",
    "    yshift=0,\n",
    "    showarrow=False,\n",
    ")\n",
    "\n",
    "fig.add_annotation(\n",
    "    text=\"Today's directors\",\n",
    "    font=dict(color=BLUE2, size=20, family=\"Arial\"),\n",
    "    x=5.3,\n",
    "    y=83,\n",
    "    xshift=92,\n",
    "    yshift=0,\n",
    "    showarrow=False,\n",
    ")\n",
    "\n",
    "fig.add_annotation(\n",
    "    text=\"Attrition\",\n",
    "    font=dict(color=BLUE3, size=20, family=\"Arial\"),\n",
    "    x=5.3,\n",
    "    y=-90,\n",
    "    xshift=53,\n",
    "    yshift=0,\n",
    "    showarrow=False,\n",
    ")\n",
    "\n",
    "# Layout -----------------------\n",
    "fig.update_layout(\n",
    "    width=975,\n",
    "    height=630,\n",
    "    margin=dict(t=63, b=63, l=120, r=292.5),\n",
    "    paper_bgcolor=\"white\",\n",
    "    plot_bgcolor=\"white\",\n",
    "    showlegend=False,\n",
    "    barmode=\"relative\",\n",
    ")\n",
    "\n",
    "fig.update_xaxes(\n",
    "    showticklabels=False,\n",
    "    range=[-0.5, 5.5]\n",
    ")\n",
    "\n",
    "fig.update_yaxes(\n",
    "    tickfont=dict(color=GRAY5, size=15, family=\"Arial\"),\n",
    "    ticks='outside',\n",
    "    dtick=50,\n",
    "    tickcolor=GRAY7,\n",
    "    linecolor=GRAY9,\n",
    "    range=[-100, 250]\n",
    ")"
   ]
  },
  {
   "cell_type": "markdown",
   "id": "c9f04da8",
   "metadata": {},
   "source": [
    "## Output"
   ]
  },
  {
   "cell_type": "code",
   "execution_count": 6,
   "id": "7776fe8a",
   "metadata": {},
   "outputs": [],
   "source": [
    "fig.write_image(\"plot/plot 6-4.png\", format=\"png\", width=975, height=630, scale=3)"
   ]
  }
 ],
 "metadata": {
  "kernelspec": {
   "display_name": "data",
   "language": "python",
   "name": "python3"
  },
  "language_info": {
   "codemirror_mode": {
    "name": "ipython",
    "version": 3
   },
   "file_extension": ".py",
   "mimetype": "text/x-python",
   "name": "python",
   "nbconvert_exporter": "python",
   "pygments_lexer": "ipython3",
   "version": "3.10.4"
  },
  "vscode": {
   "interpreter": {
    "hash": "87aa2df5676ce3636fa5c3ad845736f33e5dcc95e958fafe10accbd91339fdaa"
   }
  }
 },
 "nbformat": 4,
 "nbformat_minor": 5
}
