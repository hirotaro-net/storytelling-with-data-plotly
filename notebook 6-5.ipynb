{
 "cells": [
  {
   "cell_type": "markdown",
   "id": "945bbfc2",
   "metadata": {},
   "source": [
    "## Required Modules"
   ]
  },
  {
   "cell_type": "code",
   "execution_count": 1,
   "id": "3ff355c6",
   "metadata": {},
   "outputs": [],
   "source": [
    "import numpy as np\n",
    "import pandas as pd\n",
    "import plotly.graph_objects as go"
   ]
  },
  {
   "cell_type": "markdown",
   "id": "ad865108",
   "metadata": {},
   "source": [
    "## Color Palette"
   ]
  },
  {
   "cell_type": "code",
   "execution_count": 2,
   "id": "2fa5f557",
   "metadata": {},
   "outputs": [],
   "source": [
    "from colors import *"
   ]
  },
  {
   "cell_type": "markdown",
   "id": "ad547d74",
   "metadata": {},
   "source": [
    "## Data"
   ]
  },
  {
   "cell_type": "code",
   "execution_count": 3,
   "id": "6363116b",
   "metadata": {
    "scrolled": false
   },
   "outputs": [],
   "source": [
    "df = pd.read_csv(\"data/data 6-5.csv\")"
   ]
  },
  {
   "cell_type": "code",
   "execution_count": 4,
   "id": "94f3ed72",
   "metadata": {
    "scrolled": true
   },
   "outputs": [],
   "source": [
    "df['Most important'] = df['Most important'].str.replace('%', '').astype('int') / 100\n",
    "df['2nd Most Important'] = df['2nd Most Important'].str.replace('%', '').astype('int') / 100\n",
    "df['3rd Most Important'] = df['3rd Most Important'].str.replace('%', '').astype('int') / 100\n",
    "df['Overall'] = df['Overall'].str.replace('%', '').astype('int') / 100"
   ]
  },
  {
   "cell_type": "code",
   "execution_count": 5,
   "id": "c752bc7e",
   "metadata": {},
   "outputs": [],
   "source": [
    "df = df.sort_values('Overall')"
   ]
  },
  {
   "cell_type": "code",
   "execution_count": 6,
   "id": "b3905edf",
   "metadata": {
    "scrolled": false
   },
   "outputs": [
    {
     "data": {
      "text/html": [
       "<div>\n",
       "<style scoped>\n",
       "    .dataframe tbody tr th:only-of-type {\n",
       "        vertical-align: middle;\n",
       "    }\n",
       "\n",
       "    .dataframe tbody tr th {\n",
       "        vertical-align: top;\n",
       "    }\n",
       "\n",
       "    .dataframe thead th {\n",
       "        text-align: right;\n",
       "    }\n",
       "</style>\n",
       "<table border=\"1\" class=\"dataframe\">\n",
       "  <thead>\n",
       "    <tr style=\"text-align: right;\">\n",
       "      <th></th>\n",
       "      <th>Category</th>\n",
       "      <th>Most important</th>\n",
       "      <th>2nd Most Important</th>\n",
       "      <th>3rd Most Important</th>\n",
       "      <th>Overall</th>\n",
       "    </tr>\n",
       "  </thead>\n",
       "  <tbody>\n",
       "    <tr>\n",
       "      <th>14</th>\n",
       "      <td>Public financial management</td>\n",
       "      <td>0.01</td>\n",
       "      <td>0.03</td>\n",
       "      <td>0.03</td>\n",
       "      <td>0.07</td>\n",
       "    </tr>\n",
       "    <tr>\n",
       "      <th>12</th>\n",
       "      <td>Basic infrastructure</td>\n",
       "      <td>0.02</td>\n",
       "      <td>0.03</td>\n",
       "      <td>0.03</td>\n",
       "      <td>0.08</td>\n",
       "    </tr>\n",
       "    <tr>\n",
       "      <th>13</th>\n",
       "      <td>Public sector reform</td>\n",
       "      <td>0.02</td>\n",
       "      <td>0.03</td>\n",
       "      <td>0.03</td>\n",
       "      <td>0.08</td>\n",
       "    </tr>\n",
       "    <tr>\n",
       "      <th>11</th>\n",
       "      <td>Law &amp; Justice</td>\n",
       "      <td>0.02</td>\n",
       "      <td>0.03</td>\n",
       "      <td>0.04</td>\n",
       "      <td>0.09</td>\n",
       "    </tr>\n",
       "    <tr>\n",
       "      <th>10</th>\n",
       "      <td>Energy</td>\n",
       "      <td>0.03</td>\n",
       "      <td>0.04</td>\n",
       "      <td>0.04</td>\n",
       "      <td>0.11</td>\n",
       "    </tr>\n",
       "    <tr>\n",
       "      <th>9</th>\n",
       "      <td>Transport</td>\n",
       "      <td>0.04</td>\n",
       "      <td>0.04</td>\n",
       "      <td>0.04</td>\n",
       "      <td>0.12</td>\n",
       "    </tr>\n",
       "    <tr>\n",
       "      <th>7</th>\n",
       "      <td>Governanace</td>\n",
       "      <td>0.05</td>\n",
       "      <td>0.05</td>\n",
       "      <td>0.04</td>\n",
       "      <td>0.14</td>\n",
       "    </tr>\n",
       "    <tr>\n",
       "      <th>8</th>\n",
       "      <td>Anti-corruption</td>\n",
       "      <td>0.04</td>\n",
       "      <td>0.04</td>\n",
       "      <td>0.06</td>\n",
       "      <td>0.14</td>\n",
       "    </tr>\n",
       "    <tr>\n",
       "      <th>6</th>\n",
       "      <td>Job creation</td>\n",
       "      <td>0.04</td>\n",
       "      <td>0.06</td>\n",
       "      <td>0.05</td>\n",
       "      <td>0.15</td>\n",
       "    </tr>\n",
       "    <tr>\n",
       "      <th>5</th>\n",
       "      <td>Health</td>\n",
       "      <td>0.03</td>\n",
       "      <td>0.07</td>\n",
       "      <td>0.06</td>\n",
       "      <td>0.16</td>\n",
       "    </tr>\n",
       "    <tr>\n",
       "      <th>4</th>\n",
       "      <td>Economic growth</td>\n",
       "      <td>0.07</td>\n",
       "      <td>0.05</td>\n",
       "      <td>0.05</td>\n",
       "      <td>0.17</td>\n",
       "    </tr>\n",
       "    <tr>\n",
       "      <th>3</th>\n",
       "      <td>Reconstruction</td>\n",
       "      <td>0.09</td>\n",
       "      <td>0.05</td>\n",
       "      <td>0.04</td>\n",
       "      <td>0.18</td>\n",
       "    </tr>\n",
       "    <tr>\n",
       "      <th>2</th>\n",
       "      <td>Poverty reduction</td>\n",
       "      <td>0.15</td>\n",
       "      <td>0.10</td>\n",
       "      <td>0.07</td>\n",
       "      <td>0.32</td>\n",
       "    </tr>\n",
       "    <tr>\n",
       "      <th>1</th>\n",
       "      <td>Agriculture &amp; rural development</td>\n",
       "      <td>0.17</td>\n",
       "      <td>0.12</td>\n",
       "      <td>0.08</td>\n",
       "      <td>0.37</td>\n",
       "    </tr>\n",
       "    <tr>\n",
       "      <th>0</th>\n",
       "      <td>Education</td>\n",
       "      <td>0.24</td>\n",
       "      <td>0.14</td>\n",
       "      <td>0.07</td>\n",
       "      <td>0.45</td>\n",
       "    </tr>\n",
       "  </tbody>\n",
       "</table>\n",
       "</div>"
      ],
      "text/plain": [
       "                           Category  Most important  2nd Most Important  \\\n",
       "14      Public financial management            0.01                0.03   \n",
       "12             Basic infrastructure            0.02                0.03   \n",
       "13             Public sector reform            0.02                0.03   \n",
       "11                    Law & Justice            0.02                0.03   \n",
       "10                           Energy            0.03                0.04   \n",
       "9                         Transport            0.04                0.04   \n",
       "7                       Governanace            0.05                0.05   \n",
       "8                   Anti-corruption            0.04                0.04   \n",
       "6                      Job creation            0.04                0.06   \n",
       "5                            Health            0.03                0.07   \n",
       "4                   Economic growth            0.07                0.05   \n",
       "3                    Reconstruction            0.09                0.05   \n",
       "2                 Poverty reduction            0.15                0.10   \n",
       "1   Agriculture & rural development            0.17                0.12   \n",
       "0                         Education            0.24                0.14   \n",
       "\n",
       "    3rd Most Important  Overall  \n",
       "14                0.03     0.07  \n",
       "12                0.03     0.08  \n",
       "13                0.03     0.08  \n",
       "11                0.04     0.09  \n",
       "10                0.04     0.11  \n",
       "9                 0.04     0.12  \n",
       "7                 0.04     0.14  \n",
       "8                 0.06     0.14  \n",
       "6                 0.05     0.15  \n",
       "5                 0.06     0.16  \n",
       "4                 0.05     0.17  \n",
       "3                 0.04     0.18  \n",
       "2                 0.07     0.32  \n",
       "1                 0.08     0.37  \n",
       "0                 0.07     0.45  "
      ]
     },
     "execution_count": 6,
     "metadata": {},
     "output_type": "execute_result"
    }
   ],
   "source": [
    "df"
   ]
  },
  {
   "cell_type": "code",
   "execution_count": 7,
   "id": "e866e52e",
   "metadata": {},
   "outputs": [
    {
     "data": {
      "text/plain": [
       "array([14, 12, 13, 11, 10,  9,  7,  8,  6,  5,  4,  3,  2,  1,  0])"
      ]
     },
     "execution_count": 7,
     "metadata": {},
     "output_type": "execute_result"
    }
   ],
   "source": [
    "df.index.values"
   ]
  },
  {
   "cell_type": "markdown",
   "id": "8577fcdf",
   "metadata": {},
   "source": [
    "## Data Visualization "
   ]
  },
  {
   "cell_type": "code",
   "execution_count": 8,
   "id": "d423a6c4",
   "metadata": {
    "scrolled": false
   },
   "outputs": [
    {
     "data": {
      "application/vnd.plotly.v1+json": {
       "config": {
        "plotlyServerURL": "https://plot.ly"
       },
       "data": [
        {
         "marker": {
          "color": "#76787B",
          "line": {
           "color": "#76787B"
          }
         },
         "name": "Most",
         "orientation": "h",
         "type": "bar",
         "x": [
          0.01,
          0.02,
          0.02,
          0.02,
          0.03,
          0.04,
          0.05,
          0.04,
          0.04,
          0.03,
          0.07,
          0.09
         ],
         "y": [
          "Public financial management",
          "Basic infrastructure",
          "Public sector reform",
          "Law & Justice",
          "Energy",
          "Transport",
          "Governanace",
          "Anti-corruption",
          "Job creation",
          "Health",
          "Economic growth",
          "Reconstruction"
         ]
        },
        {
         "marker": {
          "color": "#929497",
          "line": {
           "color": "#929497"
          }
         },
         "name": "2nd Most",
         "orientation": "h",
         "type": "bar",
         "x": [
          0.03,
          0.03,
          0.03,
          0.03,
          0.04,
          0.04,
          0.05,
          0.04,
          0.06,
          0.07,
          0.05,
          0.05
         ],
         "y": [
          "Public financial management",
          "Basic infrastructure",
          "Public sector reform",
          "Law & Justice",
          "Energy",
          "Transport",
          "Governanace",
          "Anti-corruption",
          "Job creation",
          "Health",
          "Economic growth",
          "Reconstruction"
         ]
        },
        {
         "marker": {
          "color": "#BFBEBE",
          "line": {
           "color": "#BFBEBE"
          }
         },
         "name": "3rd Most",
         "orientation": "h",
         "type": "bar",
         "x": [
          0.03,
          0.03,
          0.03,
          0.04,
          0.04,
          0.04,
          0.04,
          0.06,
          0.05,
          0.06,
          0.05,
          0.04
         ],
         "y": [
          "Public financial management",
          "Basic infrastructure",
          "Public sector reform",
          "Law & Justice",
          "Energy",
          "Transport",
          "Governanace",
          "Anti-corruption",
          "Job creation",
          "Health",
          "Economic growth",
          "Reconstruction"
         ]
        },
        {
         "marker": {
          "color": "#174A7E",
          "line": {
           "color": "#174A7E"
          }
         },
         "name": "Most",
         "orientation": "h",
         "type": "bar",
         "x": [
          0.15,
          0.17,
          0.24
         ],
         "y": [
          "Poverty reduction",
          "Agriculture & rural development",
          "Education"
         ]
        },
        {
         "marker": {
          "color": "#4A81BF",
          "line": {
           "color": "#4A81BF"
          }
         },
         "name": "2nd Most",
         "orientation": "h",
         "type": "bar",
         "x": [
          0.1,
          0.12,
          0.14
         ],
         "y": [
          "Poverty reduction",
          "Agriculture & rural development",
          "Education"
         ]
        },
        {
         "marker": {
          "color": "#94B2D7",
          "line": {
           "color": "#94B2D7"
          }
         },
         "name": "3rd Most",
         "orientation": "h",
         "type": "bar",
         "x": [
          0.07,
          0.08,
          0.07
         ],
         "y": [
          "Poverty reduction",
          "Agriculture & rural development",
          "Education"
         ]
        }
       ],
       "layout": {
        "annotations": [
         {
          "font": {
           "color": "#76787B",
           "family": "Arial",
           "size": 13
          },
          "showarrow": false,
          "text": "PRIORITY",
          "x": 0,
          "xshift": -115,
          "y": 16,
          "yshift": -20
         },
         {
          "font": {
           "color": "#76787B",
           "family": "Arial",
           "size": 13
          },
          "showarrow": false,
          "text": "TOTAL %",
          "x": 0,
          "xshift": -40,
          "y": 16,
          "yshift": -20
         },
         {
          "font": {
           "color": "#76787B",
           "family": "Arial",
           "size": 13
          },
          "showarrow": false,
          "text": "<b>Most</b> important | <b>2nd</b> Most Important | <b>3rd</b> Most Important",
          "x": 0,
          "xshift": 165,
          "y": 16,
          "yshift": -20
         },
         {
          "font": {
           "color": "#929497",
           "family": "Arial",
           "size": 20
          },
          "showarrow": false,
          "text": "7%",
          "x": 0,
          "xshift": -40,
          "y": 0,
          "yshift": 0
         },
         {
          "align": "right",
          "font": {
           "color": "#929497",
           "family": "Arial",
           "size": 18
          },
          "showarrow": false,
          "text": "Public financial management",
          "width": 350,
          "x": 0,
          "xshift": -260,
          "y": 0,
          "yshift": 0
         },
         {
          "font": {
           "color": "#929497",
           "family": "Arial",
           "size": 20
          },
          "showarrow": false,
          "text": "8%",
          "x": 0,
          "xshift": -40,
          "y": 1,
          "yshift": 0
         },
         {
          "align": "right",
          "font": {
           "color": "#929497",
           "family": "Arial",
           "size": 18
          },
          "showarrow": false,
          "text": "Basic infrastructure",
          "width": 350,
          "x": 0,
          "xshift": -260,
          "y": 1,
          "yshift": 0
         },
         {
          "font": {
           "color": "#929497",
           "family": "Arial",
           "size": 20
          },
          "showarrow": false,
          "text": "8%",
          "x": 0,
          "xshift": -40,
          "y": 2,
          "yshift": 0
         },
         {
          "align": "right",
          "font": {
           "color": "#929497",
           "family": "Arial",
           "size": 18
          },
          "showarrow": false,
          "text": "Public sector reform",
          "width": 350,
          "x": 0,
          "xshift": -260,
          "y": 2,
          "yshift": 0
         },
         {
          "font": {
           "color": "#929497",
           "family": "Arial",
           "size": 20
          },
          "showarrow": false,
          "text": "9%",
          "x": 0,
          "xshift": -40,
          "y": 3,
          "yshift": 0
         },
         {
          "align": "right",
          "font": {
           "color": "#929497",
           "family": "Arial",
           "size": 18
          },
          "showarrow": false,
          "text": "Law & Justice",
          "width": 350,
          "x": 0,
          "xshift": -260,
          "y": 3,
          "yshift": 0
         },
         {
          "font": {
           "color": "#929497",
           "family": "Arial",
           "size": 20
          },
          "showarrow": false,
          "text": "11%",
          "x": 0,
          "xshift": -40,
          "y": 4,
          "yshift": 0
         },
         {
          "align": "right",
          "font": {
           "color": "#929497",
           "family": "Arial",
           "size": 18
          },
          "showarrow": false,
          "text": "Energy",
          "width": 350,
          "x": 0,
          "xshift": -260,
          "y": 4,
          "yshift": 0
         },
         {
          "font": {
           "color": "#929497",
           "family": "Arial",
           "size": 20
          },
          "showarrow": false,
          "text": "12%",
          "x": 0,
          "xshift": -40,
          "y": 5,
          "yshift": 0
         },
         {
          "align": "right",
          "font": {
           "color": "#929497",
           "family": "Arial",
           "size": 18
          },
          "showarrow": false,
          "text": "Transport",
          "width": 350,
          "x": 0,
          "xshift": -260,
          "y": 5,
          "yshift": 0
         },
         {
          "font": {
           "color": "#929497",
           "family": "Arial",
           "size": 20
          },
          "showarrow": false,
          "text": "14%",
          "x": 0,
          "xshift": -40,
          "y": 6,
          "yshift": 0
         },
         {
          "align": "right",
          "font": {
           "color": "#929497",
           "family": "Arial",
           "size": 18
          },
          "showarrow": false,
          "text": "Governanace",
          "width": 350,
          "x": 0,
          "xshift": -260,
          "y": 6,
          "yshift": 0
         },
         {
          "font": {
           "color": "#929497",
           "family": "Arial",
           "size": 20
          },
          "showarrow": false,
          "text": "14%",
          "x": 0,
          "xshift": -40,
          "y": 7,
          "yshift": 0
         },
         {
          "align": "right",
          "font": {
           "color": "#929497",
           "family": "Arial",
           "size": 18
          },
          "showarrow": false,
          "text": "Anti-corruption",
          "width": 350,
          "x": 0,
          "xshift": -260,
          "y": 7,
          "yshift": 0
         },
         {
          "font": {
           "color": "#929497",
           "family": "Arial",
           "size": 20
          },
          "showarrow": false,
          "text": "15%",
          "x": 0,
          "xshift": -40,
          "y": 8,
          "yshift": 0
         },
         {
          "align": "right",
          "font": {
           "color": "#929497",
           "family": "Arial",
           "size": 18
          },
          "showarrow": false,
          "text": "Job creation",
          "width": 350,
          "x": 0,
          "xshift": -260,
          "y": 8,
          "yshift": 0
         },
         {
          "font": {
           "color": "#929497",
           "family": "Arial",
           "size": 20
          },
          "showarrow": false,
          "text": "16%",
          "x": 0,
          "xshift": -40,
          "y": 9,
          "yshift": 0
         },
         {
          "align": "right",
          "font": {
           "color": "#929497",
           "family": "Arial",
           "size": 18
          },
          "showarrow": false,
          "text": "Health",
          "width": 350,
          "x": 0,
          "xshift": -260,
          "y": 9,
          "yshift": 0
         },
         {
          "font": {
           "color": "#929497",
           "family": "Arial",
           "size": 20
          },
          "showarrow": false,
          "text": "17%",
          "x": 0,
          "xshift": -40,
          "y": 10,
          "yshift": 0
         },
         {
          "align": "right",
          "font": {
           "color": "#929497",
           "family": "Arial",
           "size": 18
          },
          "showarrow": false,
          "text": "Economic growth",
          "width": 350,
          "x": 0,
          "xshift": -260,
          "y": 10,
          "yshift": 0
         },
         {
          "font": {
           "color": "#929497",
           "family": "Arial",
           "size": 20
          },
          "showarrow": false,
          "text": "18%",
          "x": 0,
          "xshift": -40,
          "y": 11,
          "yshift": 0
         },
         {
          "align": "right",
          "font": {
           "color": "#929497",
           "family": "Arial",
           "size": 18
          },
          "showarrow": false,
          "text": "Reconstruction",
          "width": 350,
          "x": 0,
          "xshift": -260,
          "y": 11,
          "yshift": 0
         },
         {
          "font": {
           "color": "#174A7E",
           "family": "Arial",
           "size": 20
          },
          "showarrow": false,
          "text": "<b>32%</b>",
          "x": 0,
          "xshift": -40,
          "y": 12,
          "yshift": 0
         },
         {
          "align": "right",
          "font": {
           "color": "#174A7E",
           "family": "Arial",
           "size": 18
          },
          "showarrow": false,
          "text": "<b>Poverty reduction</b>",
          "width": 350,
          "x": 0,
          "xshift": -260,
          "y": 12,
          "yshift": 0
         },
         {
          "font": {
           "color": "#94B2D7",
           "family": "Arial",
           "size": 12
          },
          "showarrow": false,
          "text": "<b>15%</b>",
          "x": 0,
          "xshift": 20,
          "y": 12,
          "yshift": 0
         },
         {
          "font": {
           "color": "#dae5eb",
           "family": "Arial",
           "size": 12
          },
          "showarrow": false,
          "text": "<b>10%</b>",
          "x": 0.15,
          "xshift": 20,
          "y": 12,
          "yshift": 0
         },
         {
          "font": {
           "color": "#4A81BF",
           "family": "Arial",
           "size": 12
          },
          "showarrow": false,
          "text": "<b>7%</b>",
          "x": 0.25,
          "xshift": 20,
          "y": 12,
          "yshift": 0
         },
         {
          "font": {
           "color": "#174A7E",
           "family": "Arial",
           "size": 20
          },
          "showarrow": false,
          "text": "<b>37%</b>",
          "x": 0,
          "xshift": -40,
          "y": 13,
          "yshift": 0
         },
         {
          "align": "right",
          "font": {
           "color": "#174A7E",
           "family": "Arial",
           "size": 18
          },
          "showarrow": false,
          "text": "<b>Agriculture & rural development</b>",
          "width": 350,
          "x": 0,
          "xshift": -260,
          "y": 13,
          "yshift": 0
         },
         {
          "font": {
           "color": "#94B2D7",
           "family": "Arial",
           "size": 12
          },
          "showarrow": false,
          "text": "<b>17%</b>",
          "x": 0,
          "xshift": 20,
          "y": 13,
          "yshift": 0
         },
         {
          "font": {
           "color": "#dae5eb",
           "family": "Arial",
           "size": 12
          },
          "showarrow": false,
          "text": "<b>12%</b>",
          "x": 0.17,
          "xshift": 20,
          "y": 13,
          "yshift": 0
         },
         {
          "font": {
           "color": "#4A81BF",
           "family": "Arial",
           "size": 12
          },
          "showarrow": false,
          "text": "<b>8%</b>",
          "x": 0.29000000000000004,
          "xshift": 20,
          "y": 13,
          "yshift": 0
         },
         {
          "font": {
           "color": "#174A7E",
           "family": "Arial",
           "size": 20
          },
          "showarrow": false,
          "text": "<b>45%</b>",
          "x": 0,
          "xshift": -40,
          "y": 14,
          "yshift": 0
         },
         {
          "align": "right",
          "font": {
           "color": "#174A7E",
           "family": "Arial",
           "size": 18
          },
          "showarrow": false,
          "text": "<b>Education</b>",
          "width": 350,
          "x": 0,
          "xshift": -260,
          "y": 14,
          "yshift": 0
         },
         {
          "font": {
           "color": "#94B2D7",
           "family": "Arial",
           "size": 12
          },
          "showarrow": false,
          "text": "<b>24%</b>",
          "x": 0,
          "xshift": 20,
          "y": 14,
          "yshift": 0
         },
         {
          "font": {
           "color": "#dae5eb",
           "family": "Arial",
           "size": 12
          },
          "showarrow": false,
          "text": "<b>14%</b>",
          "x": 0.24,
          "xshift": 20,
          "y": 14,
          "yshift": 0
         },
         {
          "font": {
           "color": "#4A81BF",
           "family": "Arial",
           "size": 12
          },
          "showarrow": false,
          "text": "<b>7%</b>",
          "x": 0.38,
          "xshift": 20,
          "y": 14,
          "yshift": 0
         },
         {
          "font": {
           "color": "#555655",
           "family": "Arial",
           "size": 20
          },
          "showarrow": false,
          "text": "Top 15 development priorities, according to servey",
          "x": 0,
          "xshift": -155,
          "y": 16,
          "yshift": 15
         },
         {
          "align": "left",
          "font": {
           "color": "#929497",
           "family": "Arial",
           "size": 11.5
          },
          "showarrow": false,
          "text": "N = 4,392. Based on responses to item, <i>When considering development priorities, which one development priority is the most important? Which one is</i><br><i>the second most important priority? Which one is the third most important priority?<i> Respondents chose from a list. Top 15 shown.",
          "x": 0,
          "xshift": 0,
          "y": -1,
          "yshift": -20
         }
        ],
        "barmode": "stack",
        "height": 600,
        "margin": {
         "b": 60,
         "l": 400,
         "r": 20,
         "t": 60
        },
        "paper_bgcolor": "white",
        "plot_bgcolor": "white",
        "shapes": [
         {
          "line": {
           "color": "#BFBEBE",
           "width": 4
          },
          "type": "line",
          "x0": -1,
          "x1": 1,
          "xref": "x domain",
          "y0": 16,
          "y1": 16,
          "yref": "y"
         },
         {
          "line": {
           "color": "#BFBEBE",
           "width": 4
          },
          "type": "line",
          "x0": -1,
          "x1": 1,
          "xref": "x domain",
          "y0": -1,
          "y1": -1,
          "yref": "y"
         }
        ],
        "showlegend": false,
        "template": {
         "data": {
          "bar": [
           {
            "error_x": {
             "color": "#2a3f5f"
            },
            "error_y": {
             "color": "#2a3f5f"
            },
            "marker": {
             "line": {
              "color": "#E5ECF6",
              "width": 0.5
             },
             "pattern": {
              "fillmode": "overlay",
              "size": 10,
              "solidity": 0.2
             }
            },
            "type": "bar"
           }
          ],
          "barpolar": [
           {
            "marker": {
             "line": {
              "color": "#E5ECF6",
              "width": 0.5
             },
             "pattern": {
              "fillmode": "overlay",
              "size": 10,
              "solidity": 0.2
             }
            },
            "type": "barpolar"
           }
          ],
          "carpet": [
           {
            "aaxis": {
             "endlinecolor": "#2a3f5f",
             "gridcolor": "white",
             "linecolor": "white",
             "minorgridcolor": "white",
             "startlinecolor": "#2a3f5f"
            },
            "baxis": {
             "endlinecolor": "#2a3f5f",
             "gridcolor": "white",
             "linecolor": "white",
             "minorgridcolor": "white",
             "startlinecolor": "#2a3f5f"
            },
            "type": "carpet"
           }
          ],
          "choropleth": [
           {
            "colorbar": {
             "outlinewidth": 0,
             "ticks": ""
            },
            "type": "choropleth"
           }
          ],
          "contour": [
           {
            "colorbar": {
             "outlinewidth": 0,
             "ticks": ""
            },
            "colorscale": [
             [
              0,
              "#0d0887"
             ],
             [
              0.1111111111111111,
              "#46039f"
             ],
             [
              0.2222222222222222,
              "#7201a8"
             ],
             [
              0.3333333333333333,
              "#9c179e"
             ],
             [
              0.4444444444444444,
              "#bd3786"
             ],
             [
              0.5555555555555556,
              "#d8576b"
             ],
             [
              0.6666666666666666,
              "#ed7953"
             ],
             [
              0.7777777777777778,
              "#fb9f3a"
             ],
             [
              0.8888888888888888,
              "#fdca26"
             ],
             [
              1,
              "#f0f921"
             ]
            ],
            "type": "contour"
           }
          ],
          "contourcarpet": [
           {
            "colorbar": {
             "outlinewidth": 0,
             "ticks": ""
            },
            "type": "contourcarpet"
           }
          ],
          "heatmap": [
           {
            "colorbar": {
             "outlinewidth": 0,
             "ticks": ""
            },
            "colorscale": [
             [
              0,
              "#0d0887"
             ],
             [
              0.1111111111111111,
              "#46039f"
             ],
             [
              0.2222222222222222,
              "#7201a8"
             ],
             [
              0.3333333333333333,
              "#9c179e"
             ],
             [
              0.4444444444444444,
              "#bd3786"
             ],
             [
              0.5555555555555556,
              "#d8576b"
             ],
             [
              0.6666666666666666,
              "#ed7953"
             ],
             [
              0.7777777777777778,
              "#fb9f3a"
             ],
             [
              0.8888888888888888,
              "#fdca26"
             ],
             [
              1,
              "#f0f921"
             ]
            ],
            "type": "heatmap"
           }
          ],
          "heatmapgl": [
           {
            "colorbar": {
             "outlinewidth": 0,
             "ticks": ""
            },
            "colorscale": [
             [
              0,
              "#0d0887"
             ],
             [
              0.1111111111111111,
              "#46039f"
             ],
             [
              0.2222222222222222,
              "#7201a8"
             ],
             [
              0.3333333333333333,
              "#9c179e"
             ],
             [
              0.4444444444444444,
              "#bd3786"
             ],
             [
              0.5555555555555556,
              "#d8576b"
             ],
             [
              0.6666666666666666,
              "#ed7953"
             ],
             [
              0.7777777777777778,
              "#fb9f3a"
             ],
             [
              0.8888888888888888,
              "#fdca26"
             ],
             [
              1,
              "#f0f921"
             ]
            ],
            "type": "heatmapgl"
           }
          ],
          "histogram": [
           {
            "marker": {
             "pattern": {
              "fillmode": "overlay",
              "size": 10,
              "solidity": 0.2
             }
            },
            "type": "histogram"
           }
          ],
          "histogram2d": [
           {
            "colorbar": {
             "outlinewidth": 0,
             "ticks": ""
            },
            "colorscale": [
             [
              0,
              "#0d0887"
             ],
             [
              0.1111111111111111,
              "#46039f"
             ],
             [
              0.2222222222222222,
              "#7201a8"
             ],
             [
              0.3333333333333333,
              "#9c179e"
             ],
             [
              0.4444444444444444,
              "#bd3786"
             ],
             [
              0.5555555555555556,
              "#d8576b"
             ],
             [
              0.6666666666666666,
              "#ed7953"
             ],
             [
              0.7777777777777778,
              "#fb9f3a"
             ],
             [
              0.8888888888888888,
              "#fdca26"
             ],
             [
              1,
              "#f0f921"
             ]
            ],
            "type": "histogram2d"
           }
          ],
          "histogram2dcontour": [
           {
            "colorbar": {
             "outlinewidth": 0,
             "ticks": ""
            },
            "colorscale": [
             [
              0,
              "#0d0887"
             ],
             [
              0.1111111111111111,
              "#46039f"
             ],
             [
              0.2222222222222222,
              "#7201a8"
             ],
             [
              0.3333333333333333,
              "#9c179e"
             ],
             [
              0.4444444444444444,
              "#bd3786"
             ],
             [
              0.5555555555555556,
              "#d8576b"
             ],
             [
              0.6666666666666666,
              "#ed7953"
             ],
             [
              0.7777777777777778,
              "#fb9f3a"
             ],
             [
              0.8888888888888888,
              "#fdca26"
             ],
             [
              1,
              "#f0f921"
             ]
            ],
            "type": "histogram2dcontour"
           }
          ],
          "mesh3d": [
           {
            "colorbar": {
             "outlinewidth": 0,
             "ticks": ""
            },
            "type": "mesh3d"
           }
          ],
          "parcoords": [
           {
            "line": {
             "colorbar": {
              "outlinewidth": 0,
              "ticks": ""
             }
            },
            "type": "parcoords"
           }
          ],
          "pie": [
           {
            "automargin": true,
            "type": "pie"
           }
          ],
          "scatter": [
           {
            "marker": {
             "colorbar": {
              "outlinewidth": 0,
              "ticks": ""
             }
            },
            "type": "scatter"
           }
          ],
          "scatter3d": [
           {
            "line": {
             "colorbar": {
              "outlinewidth": 0,
              "ticks": ""
             }
            },
            "marker": {
             "colorbar": {
              "outlinewidth": 0,
              "ticks": ""
             }
            },
            "type": "scatter3d"
           }
          ],
          "scattercarpet": [
           {
            "marker": {
             "colorbar": {
              "outlinewidth": 0,
              "ticks": ""
             }
            },
            "type": "scattercarpet"
           }
          ],
          "scattergeo": [
           {
            "marker": {
             "colorbar": {
              "outlinewidth": 0,
              "ticks": ""
             }
            },
            "type": "scattergeo"
           }
          ],
          "scattergl": [
           {
            "marker": {
             "colorbar": {
              "outlinewidth": 0,
              "ticks": ""
             }
            },
            "type": "scattergl"
           }
          ],
          "scattermapbox": [
           {
            "marker": {
             "colorbar": {
              "outlinewidth": 0,
              "ticks": ""
             }
            },
            "type": "scattermapbox"
           }
          ],
          "scatterpolar": [
           {
            "marker": {
             "colorbar": {
              "outlinewidth": 0,
              "ticks": ""
             }
            },
            "type": "scatterpolar"
           }
          ],
          "scatterpolargl": [
           {
            "marker": {
             "colorbar": {
              "outlinewidth": 0,
              "ticks": ""
             }
            },
            "type": "scatterpolargl"
           }
          ],
          "scatterternary": [
           {
            "marker": {
             "colorbar": {
              "outlinewidth": 0,
              "ticks": ""
             }
            },
            "type": "scatterternary"
           }
          ],
          "surface": [
           {
            "colorbar": {
             "outlinewidth": 0,
             "ticks": ""
            },
            "colorscale": [
             [
              0,
              "#0d0887"
             ],
             [
              0.1111111111111111,
              "#46039f"
             ],
             [
              0.2222222222222222,
              "#7201a8"
             ],
             [
              0.3333333333333333,
              "#9c179e"
             ],
             [
              0.4444444444444444,
              "#bd3786"
             ],
             [
              0.5555555555555556,
              "#d8576b"
             ],
             [
              0.6666666666666666,
              "#ed7953"
             ],
             [
              0.7777777777777778,
              "#fb9f3a"
             ],
             [
              0.8888888888888888,
              "#fdca26"
             ],
             [
              1,
              "#f0f921"
             ]
            ],
            "type": "surface"
           }
          ],
          "table": [
           {
            "cells": {
             "fill": {
              "color": "#EBF0F8"
             },
             "line": {
              "color": "white"
             }
            },
            "header": {
             "fill": {
              "color": "#C8D4E3"
             },
             "line": {
              "color": "white"
             }
            },
            "type": "table"
           }
          ]
         },
         "layout": {
          "annotationdefaults": {
           "arrowcolor": "#2a3f5f",
           "arrowhead": 0,
           "arrowwidth": 1
          },
          "autotypenumbers": "strict",
          "coloraxis": {
           "colorbar": {
            "outlinewidth": 0,
            "ticks": ""
           }
          },
          "colorscale": {
           "diverging": [
            [
             0,
             "#8e0152"
            ],
            [
             0.1,
             "#c51b7d"
            ],
            [
             0.2,
             "#de77ae"
            ],
            [
             0.3,
             "#f1b6da"
            ],
            [
             0.4,
             "#fde0ef"
            ],
            [
             0.5,
             "#f7f7f7"
            ],
            [
             0.6,
             "#e6f5d0"
            ],
            [
             0.7,
             "#b8e186"
            ],
            [
             0.8,
             "#7fbc41"
            ],
            [
             0.9,
             "#4d9221"
            ],
            [
             1,
             "#276419"
            ]
           ],
           "sequential": [
            [
             0,
             "#0d0887"
            ],
            [
             0.1111111111111111,
             "#46039f"
            ],
            [
             0.2222222222222222,
             "#7201a8"
            ],
            [
             0.3333333333333333,
             "#9c179e"
            ],
            [
             0.4444444444444444,
             "#bd3786"
            ],
            [
             0.5555555555555556,
             "#d8576b"
            ],
            [
             0.6666666666666666,
             "#ed7953"
            ],
            [
             0.7777777777777778,
             "#fb9f3a"
            ],
            [
             0.8888888888888888,
             "#fdca26"
            ],
            [
             1,
             "#f0f921"
            ]
           ],
           "sequentialminus": [
            [
             0,
             "#0d0887"
            ],
            [
             0.1111111111111111,
             "#46039f"
            ],
            [
             0.2222222222222222,
             "#7201a8"
            ],
            [
             0.3333333333333333,
             "#9c179e"
            ],
            [
             0.4444444444444444,
             "#bd3786"
            ],
            [
             0.5555555555555556,
             "#d8576b"
            ],
            [
             0.6666666666666666,
             "#ed7953"
            ],
            [
             0.7777777777777778,
             "#fb9f3a"
            ],
            [
             0.8888888888888888,
             "#fdca26"
            ],
            [
             1,
             "#f0f921"
            ]
           ]
          },
          "colorway": [
           "#636efa",
           "#EF553B",
           "#00cc96",
           "#ab63fa",
           "#FFA15A",
           "#19d3f3",
           "#FF6692",
           "#B6E880",
           "#FF97FF",
           "#FECB52"
          ],
          "font": {
           "color": "#2a3f5f"
          },
          "geo": {
           "bgcolor": "white",
           "lakecolor": "white",
           "landcolor": "#E5ECF6",
           "showlakes": true,
           "showland": true,
           "subunitcolor": "white"
          },
          "hoverlabel": {
           "align": "left"
          },
          "hovermode": "closest",
          "mapbox": {
           "style": "light"
          },
          "paper_bgcolor": "white",
          "plot_bgcolor": "#E5ECF6",
          "polar": {
           "angularaxis": {
            "gridcolor": "white",
            "linecolor": "white",
            "ticks": ""
           },
           "bgcolor": "#E5ECF6",
           "radialaxis": {
            "gridcolor": "white",
            "linecolor": "white",
            "ticks": ""
           }
          },
          "scene": {
           "xaxis": {
            "backgroundcolor": "#E5ECF6",
            "gridcolor": "white",
            "gridwidth": 2,
            "linecolor": "white",
            "showbackground": true,
            "ticks": "",
            "zerolinecolor": "white"
           },
           "yaxis": {
            "backgroundcolor": "#E5ECF6",
            "gridcolor": "white",
            "gridwidth": 2,
            "linecolor": "white",
            "showbackground": true,
            "ticks": "",
            "zerolinecolor": "white"
           },
           "zaxis": {
            "backgroundcolor": "#E5ECF6",
            "gridcolor": "white",
            "gridwidth": 2,
            "linecolor": "white",
            "showbackground": true,
            "ticks": "",
            "zerolinecolor": "white"
           }
          },
          "shapedefaults": {
           "line": {
            "color": "#2a3f5f"
           }
          },
          "ternary": {
           "aaxis": {
            "gridcolor": "white",
            "linecolor": "white",
            "ticks": ""
           },
           "baxis": {
            "gridcolor": "white",
            "linecolor": "white",
            "ticks": ""
           },
           "bgcolor": "#E5ECF6",
           "caxis": {
            "gridcolor": "white",
            "linecolor": "white",
            "ticks": ""
           }
          },
          "title": {
           "x": 0.05
          },
          "xaxis": {
           "automargin": true,
           "gridcolor": "white",
           "linecolor": "white",
           "ticks": "",
           "title": {
            "standoff": 15
           },
           "zerolinecolor": "white",
           "zerolinewidth": 2
          },
          "yaxis": {
           "automargin": true,
           "gridcolor": "white",
           "linecolor": "white",
           "ticks": "",
           "title": {
            "standoff": 15
           },
           "zerolinecolor": "white",
           "zerolinewidth": 2
          }
         }
        },
        "width": 800,
        "xaxis": {
         "range": [
          0,
          0.45
         ],
         "showticklabels": false
        },
        "yaxis": {
         "range": [
          -1,
          16
         ],
         "showticklabels": false
        }
       }
      }
     },
     "metadata": {},
     "output_type": "display_data"
    }
   ],
   "source": [
    "fig = go.Figure()\n",
    "\n",
    "# Plot -------------------------\n",
    "fig.add_trace(\n",
    "    go.Bar(\n",
    "        x=df['Most important'][0:-3],\n",
    "        y=df['Category'][0:-3],\n",
    "        marker=dict(color=GRAY5, line=dict(color=GRAY5)),\n",
    "        orientation='h',\n",
    "        name=\"Most\"\n",
    "    )\n",
    ")\n",
    "\n",
    "fig.add_trace(\n",
    "    go.Bar(\n",
    "        x=df['2nd Most Important'][0:-3],\n",
    "        y=df['Category'][0:-3],\n",
    "        marker=dict(color=GRAY7, line=dict(color=GRAY7)),\n",
    "        orientation='h',\n",
    "        name=\"2nd Most\"\n",
    "    )\n",
    ")\n",
    "\n",
    "fig.add_trace(\n",
    "    go.Bar(\n",
    "        x=df['3rd Most Important'][0:-3],\n",
    "        y=df['Category'][0:-3],\n",
    "        marker=dict(color=GRAY9, line=dict(color=GRAY9)),\n",
    "        orientation='h',\n",
    "        name=\"3rd Most\"\n",
    "    )\n",
    ")\n",
    "\n",
    "fig.add_trace(\n",
    "    go.Bar(\n",
    "        x=df['Most important'][-3:],\n",
    "        y=df['Category'][-3:],\n",
    "        marker=dict(color=BLUE1, line=dict(color=BLUE1)),\n",
    "        orientation='h',\n",
    "        name=\"Most\"\n",
    "    )\n",
    ")\n",
    "\n",
    "fig.add_trace(\n",
    "    go.Bar(\n",
    "        x=df['2nd Most Important'][-3:],\n",
    "        y=df['Category'][-3:],\n",
    "        marker=dict(color=BLUE2, line=dict(color=BLUE2)),\n",
    "        orientation='h',\n",
    "        name=\"2nd Most\"\n",
    "    )\n",
    ")\n",
    "\n",
    "fig.add_trace(\n",
    "    go.Bar(\n",
    "        x=df['3rd Most Important'][-3:],\n",
    "        y=df['Category'][-3:],\n",
    "        marker=dict(color=BLUE3, line=dict(color=BLUE3)),\n",
    "        orientation='h',\n",
    "        name=\"3rd Most\"\n",
    "    )\n",
    ")\n",
    "\n",
    "fig.add_hline(\n",
    "    x0=-1,\n",
    "    x1=1,\n",
    "    y=16,\n",
    "    line=dict(color=GRAY9, width=4)\n",
    ")\n",
    "\n",
    "fig.add_hline(\n",
    "    x0=-1,\n",
    "    x1=1,\n",
    "    y=-1,\n",
    "    line=dict(color=GRAY9, width=4)\n",
    ")\n",
    "\n",
    "# Annotation -------------------\n",
    "fig.add_annotation(\n",
    "    text=\"PRIORITY\",\n",
    "    font=dict(color=GRAY5, size=13, family=\"Arial\"),\n",
    "    x=0,\n",
    "    y=16,\n",
    "    xshift=-115,\n",
    "    yshift=-20,\n",
    "    showarrow=False,\n",
    ")\n",
    "\n",
    "fig.add_annotation(\n",
    "    text=\"TOTAL %\",\n",
    "    font=dict(color=GRAY5, size=13, family=\"Arial\"),\n",
    "    x=0,\n",
    "    y=16,\n",
    "    xshift=-40,\n",
    "    yshift=-20,\n",
    "    showarrow=False,\n",
    ")\n",
    "\n",
    "fig.add_annotation(\n",
    "    text=\"<b>Most</b> important | <b>2nd</b> Most Important | <b>3rd</b> Most Important\",\n",
    "    font=dict(color=GRAY5, size=13, family=\"Arial\"),\n",
    "    x=0,\n",
    "    y=16,\n",
    "    xshift=165,\n",
    "    yshift=-20,\n",
    "    showarrow=False,\n",
    ")\n",
    "\n",
    "for i in range(15):\n",
    "    order = df.index.values\n",
    "    if i <= 11:\n",
    "        fig.add_annotation(\n",
    "            text=f\"{df['Overall'][order[i]]*100:.0f}%\",\n",
    "            font=dict(color=GRAY7, size=20, family=\"Arial\"),\n",
    "            x=0,\n",
    "            y=i,\n",
    "            xshift=-40,\n",
    "            yshift=0,\n",
    "            showarrow=False,\n",
    "        )\n",
    "        \n",
    "        fig.add_annotation(\n",
    "            text=df['Category'][order[i]],\n",
    "            align=\"right\",\n",
    "            font=dict(color=GRAY7, size=18, family=\"Arial\"),\n",
    "            x=0,\n",
    "            y=i,\n",
    "            xshift=-260,\n",
    "            yshift=0,\n",
    "            width=350,\n",
    "            showarrow=False,\n",
    "        )\n",
    "    else:\n",
    "        fig.add_annotation(\n",
    "            text=f\"<b>{df['Overall'][order[i]]*100:.0f}%</b>\",\n",
    "            font=dict(color=BLUE1, size=20, family=\"Arial\"),\n",
    "            x=0,\n",
    "            y=i,\n",
    "            xshift=-40,\n",
    "            yshift=0,\n",
    "            showarrow=False,\n",
    "        )\n",
    "        \n",
    "        fig.add_annotation(\n",
    "            text=f\"<b>{df['Category'][order[i]]}</b>\",\n",
    "            align=\"right\",\n",
    "            font=dict(color=BLUE1, size=18, family=\"Arial\"),\n",
    "            x=0,\n",
    "            y=i,\n",
    "            xshift=-260,\n",
    "            yshift=0,\n",
    "            width=350,\n",
    "            showarrow=False,\n",
    "        )\n",
    "        \n",
    "        fig.add_annotation(\n",
    "            text=f\"<b>{df['Most important'][order[i]]*100:.0f}%</b>\",\n",
    "            font=dict(color=BLUE3, size=12, family=\"Arial\"),\n",
    "            x=0,\n",
    "            y=i,\n",
    "            xshift=20,\n",
    "            yshift=0,\n",
    "            showarrow=False,\n",
    "        )\n",
    "        \n",
    "        fig.add_annotation(\n",
    "            text=f\"<b>{df['2nd Most Important'][order[i]]*100:.0f}%</b>\",\n",
    "            font=dict(color=\"#dae5eb\", size=12, family=\"Arial\"),\n",
    "            x=df['Most important'][order[i]],\n",
    "            y=i,\n",
    "            xshift=20,\n",
    "            yshift=0,\n",
    "            showarrow=False,\n",
    "        )\n",
    "        \n",
    "        fig.add_annotation(\n",
    "            text=f\"<b>{df['3rd Most Important'][order[i]]*100:.0f}%</b>\",\n",
    "            font=dict(color=BLUE2, size=12, family=\"Arial\"),\n",
    "            x=df['Most important'][order[i]] + df['2nd Most Important'][order[i]],\n",
    "            y=i,\n",
    "            xshift=20,\n",
    "            yshift=0,\n",
    "            showarrow=False,\n",
    "        )\n",
    "\n",
    "# Text -------------------------\n",
    "fig.add_annotation(\n",
    "    text=\"Top 15 development priorities, according to servey\",\n",
    "    font=dict(color=GRAY3, size=20, family=\"Arial\"),\n",
    "    x=0,\n",
    "    y=16,\n",
    "    xshift=-155,\n",
    "    yshift=15,\n",
    "    showarrow=False,\n",
    ")\n",
    "\n",
    "fig.add_annotation(\n",
    "    text=\"N = 4,392. Based on responses to item, <i>When considering development \\\n",
    "priorities, which one development priority is the most important? Which one is</i><br>\\\n",
    "<i>the second most important priority? Which one is the third most important \\\n",
    "priority?<i> Respondents chose from a list. Top 15 shown.\",\n",
    "    align=\"left\",\n",
    "    font=dict(color=GRAY7, size=11.5, family=\"Arial\"),\n",
    "    x=0,\n",
    "    y=-1,\n",
    "    xshift=0,\n",
    "    yshift=-20,\n",
    "    showarrow=False,\n",
    ")\n",
    "\n",
    "# Layout -----------------------\n",
    "fig.update_layout(\n",
    "    width=800,\n",
    "    height=600,\n",
    "    margin=dict(t=60, b=60, l=400, r=20),\n",
    "    paper_bgcolor=\"white\",\n",
    "    plot_bgcolor=\"white\",\n",
    "    showlegend=False,\n",
    "    barmode=\"stack\",\n",
    ")\n",
    "\n",
    "fig.update_xaxes(\n",
    "    showticklabels=False,\n",
    "    range=[0, 0.45]\n",
    ")\n",
    "\n",
    "fig.update_yaxes(\n",
    "    showticklabels=False,\n",
    "    range=[-1, 16]\n",
    ")"
   ]
  },
  {
   "cell_type": "markdown",
   "id": "c9f04da8",
   "metadata": {},
   "source": [
    "## Output"
   ]
  },
  {
   "cell_type": "code",
   "execution_count": 9,
   "id": "7776fe8a",
   "metadata": {},
   "outputs": [],
   "source": [
    "fig.write_image(\"plot/plot 6-5.png\", format=\"png\", width=800, height=600, scale=3)"
   ]
  }
 ],
 "metadata": {
  "kernelspec": {
   "display_name": "data",
   "language": "python",
   "name": "python3"
  },
  "language_info": {
   "codemirror_mode": {
    "name": "ipython",
    "version": 3
   },
   "file_extension": ".py",
   "mimetype": "text/x-python",
   "name": "python",
   "nbconvert_exporter": "python",
   "pygments_lexer": "ipython3",
   "version": "3.10.4"
  },
  "vscode": {
   "interpreter": {
    "hash": "87aa2df5676ce3636fa5c3ad845736f33e5dcc95e958fafe10accbd91339fdaa"
   }
  }
 },
 "nbformat": 4,
 "nbformat_minor": 5
}
