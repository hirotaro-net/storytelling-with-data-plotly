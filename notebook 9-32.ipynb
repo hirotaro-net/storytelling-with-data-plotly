{
 "cells": [
  {
   "cell_type": "markdown",
   "id": "945bbfc2",
   "metadata": {},
   "source": [
    "## Required Modules"
   ]
  },
  {
   "cell_type": "code",
   "execution_count": 1,
   "id": "3ff355c6",
   "metadata": {},
   "outputs": [],
   "source": [
    "import numpy as np\n",
    "import pandas as pd\n",
    "import plotly.graph_objects as go"
   ]
  },
  {
   "cell_type": "markdown",
   "id": "ad865108",
   "metadata": {},
   "source": [
    "## Color Palette"
   ]
  },
  {
   "cell_type": "code",
   "execution_count": 2,
   "id": "2fa5f557",
   "metadata": {},
   "outputs": [],
   "source": [
    "from colors import *"
   ]
  },
  {
   "cell_type": "markdown",
   "id": "ad547d74",
   "metadata": {},
   "source": [
    "## Data"
   ]
  },
  {
   "cell_type": "code",
   "execution_count": 3,
   "id": "6363116b",
   "metadata": {
    "scrolled": false
   },
   "outputs": [],
   "source": [
    "df = pd.read_csv(\"data/data 9-32.csv\")"
   ]
  },
  {
   "cell_type": "code",
   "execution_count": 4,
   "id": "6b254f4a",
   "metadata": {
    "scrolled": true
   },
   "outputs": [],
   "source": [
    "df = df.set_index('Unnamed: 0')"
   ]
  },
  {
   "cell_type": "code",
   "execution_count": 5,
   "id": "f6844bee",
   "metadata": {},
   "outputs": [],
   "source": [
    "df = df.T"
   ]
  },
  {
   "cell_type": "code",
   "execution_count": 6,
   "id": "0841b3b0",
   "metadata": {
    "scrolled": true
   },
   "outputs": [],
   "source": [
    "df['Bored'] = df['Bored'].str.replace('%', '').astype('int') / 100\n",
    "df['Not great'] = df['Not great'].str.replace('%', '').astype('int') / 100\n",
    "df['OK'] = df['OK'].str.replace('%', '').astype('int') / 100\n",
    "df['Kind of interested'] = df['Kind of interested'].str.replace('%', '').astype('int') / 100\n",
    "df['Excited'] = df['Excited'].str.replace('%', '').astype('int') / 100"
   ]
  },
  {
   "cell_type": "code",
   "execution_count": 7,
   "id": "33a5bd16",
   "metadata": {},
   "outputs": [
    {
     "data": {
      "text/html": [
       "<div>\n",
       "<style scoped>\n",
       "    .dataframe tbody tr th:only-of-type {\n",
       "        vertical-align: middle;\n",
       "    }\n",
       "\n",
       "    .dataframe tbody tr th {\n",
       "        vertical-align: top;\n",
       "    }\n",
       "\n",
       "    .dataframe thead th {\n",
       "        text-align: right;\n",
       "    }\n",
       "</style>\n",
       "<table border=\"1\" class=\"dataframe\">\n",
       "  <thead>\n",
       "    <tr style=\"text-align: right;\">\n",
       "      <th>Unnamed: 0</th>\n",
       "      <th>Bored</th>\n",
       "      <th>Not great</th>\n",
       "      <th>OK</th>\n",
       "      <th>Kind of interested</th>\n",
       "      <th>Excited</th>\n",
       "    </tr>\n",
       "  </thead>\n",
       "  <tbody>\n",
       "    <tr>\n",
       "      <th>BEFORE</th>\n",
       "      <td>0.11</td>\n",
       "      <td>0.05</td>\n",
       "      <td>0.40</td>\n",
       "      <td>0.25</td>\n",
       "      <td>0.19</td>\n",
       "    </tr>\n",
       "    <tr>\n",
       "      <th>AFTER</th>\n",
       "      <td>0.12</td>\n",
       "      <td>0.06</td>\n",
       "      <td>0.14</td>\n",
       "      <td>0.30</td>\n",
       "      <td>0.38</td>\n",
       "    </tr>\n",
       "  </tbody>\n",
       "</table>\n",
       "</div>"
      ],
      "text/plain": [
       "Unnamed: 0  Bored  Not great    OK  Kind of interested  Excited\n",
       "BEFORE       0.11       0.05  0.40                0.25     0.19\n",
       "AFTER        0.12       0.06  0.14                0.30     0.38"
      ]
     },
     "execution_count": 7,
     "metadata": {},
     "output_type": "execute_result"
    }
   ],
   "source": [
    "df"
   ]
  },
  {
   "cell_type": "markdown",
   "id": "8577fcdf",
   "metadata": {},
   "source": [
    "## Data Visualization "
   ]
  },
  {
   "cell_type": "code",
   "execution_count": 8,
   "id": "d423a6c4",
   "metadata": {
    "scrolled": false
   },
   "outputs": [
    {
     "data": {
      "application/vnd.plotly.v1+json": {
       "config": {
        "plotlyServerURL": "https://plot.ly"
       },
       "data": [
        {
         "line": {
          "color": "#BFBEBE",
          "width": 5
         },
         "marker": {
          "color": "#BFBEBE",
          "size": 15
         },
         "mode": "lines+markers",
         "type": "scatter",
         "x": [
          "BEFORE",
          "AFTER"
         ],
         "y": [
          0.11,
          0.12
         ]
        },
        {
         "line": {
          "color": "#BFBEBE",
          "width": 5
         },
         "marker": {
          "color": "#BFBEBE",
          "size": 15
         },
         "mode": "lines+markers",
         "type": "scatter",
         "x": [
          "BEFORE",
          "AFTER"
         ],
         "y": [
          0.05,
          0.06
         ]
        },
        {
         "line": {
          "color": "#F79747",
          "width": 5
         },
         "marker": {
          "color": "#F79747",
          "size": 15
         },
         "mode": "lines+markers",
         "type": "scatter",
         "x": [
          "BEFORE",
          "AFTER"
         ],
         "y": [
          0.4,
          0.14
         ]
        },
        {
         "line": {
          "color": "#4A81BF",
          "width": 5
         },
         "marker": {
          "color": "#4A81BF",
          "size": 15
         },
         "mode": "lines+markers",
         "type": "scatter",
         "x": [
          "BEFORE",
          "AFTER"
         ],
         "y": [
          0.25,
          0.3
         ]
        },
        {
         "line": {
          "color": "#4A81BF",
          "width": 5
         },
         "marker": {
          "color": "#4A81BF",
          "size": 15
         },
         "mode": "lines+markers",
         "type": "scatter",
         "x": [
          "BEFORE",
          "AFTER"
         ],
         "y": [
          0.19,
          0.38
         ]
        }
       ],
       "layout": {
        "annotations": [
         {
          "font": {
           "color": "#BFBEBE",
           "size": 20
          },
          "showarrow": false,
          "text": "11%",
          "x": 0,
          "xshift": -40,
          "y": 0.11,
          "yshift": 0
         },
         {
          "font": {
           "color": "#BFBEBE",
           "size": 20
          },
          "showarrow": false,
          "text": "12%",
          "x": 1,
          "xshift": 40,
          "y": 0.12,
          "yshift": 0
         },
         {
          "align": "left",
          "font": {
           "color": "#BFBEBE",
           "size": 20
          },
          "showarrow": false,
          "text": "Bored",
          "width": 100,
          "x": 1,
          "xshift": 120,
          "y": 0.12,
          "yshift": 0
         },
         {
          "font": {
           "color": "#BFBEBE",
           "size": 20
          },
          "showarrow": false,
          "text": "5%",
          "x": 0,
          "xshift": -40,
          "y": 0.05,
          "yshift": 0
         },
         {
          "font": {
           "color": "#BFBEBE",
           "size": 20
          },
          "showarrow": false,
          "text": "6%",
          "x": 1,
          "xshift": 40,
          "y": 0.06,
          "yshift": 0
         },
         {
          "align": "left",
          "font": {
           "color": "#BFBEBE",
           "size": 20
          },
          "showarrow": false,
          "text": "Not great",
          "width": 100,
          "x": 1,
          "xshift": 120,
          "y": 0.06,
          "yshift": 0
         },
         {
          "font": {
           "color": "#F79747",
           "size": 20
          },
          "showarrow": false,
          "text": "40%",
          "x": 0,
          "xshift": -40,
          "y": 0.4,
          "yshift": 0
         },
         {
          "font": {
           "color": "#F79747",
           "size": 20
          },
          "showarrow": false,
          "text": "14%",
          "x": 1,
          "xshift": 40,
          "y": 0.14,
          "yshift": 0
         },
         {
          "align": "left",
          "font": {
           "color": "#F79747",
           "size": 20
          },
          "showarrow": false,
          "text": "OK",
          "width": 100,
          "x": 1,
          "xshift": 120,
          "y": 0.14,
          "yshift": 0
         },
         {
          "font": {
           "color": "#4A81BF",
           "size": 20
          },
          "showarrow": false,
          "text": "25%",
          "x": 0,
          "xshift": -40,
          "y": 0.25,
          "yshift": 0
         },
         {
          "font": {
           "color": "#4A81BF",
           "size": 20
          },
          "showarrow": false,
          "text": "30%",
          "x": 1,
          "xshift": 40,
          "y": 0.3,
          "yshift": 0
         },
         {
          "align": "left",
          "font": {
           "color": "#4A81BF",
           "size": 20
          },
          "showarrow": false,
          "text": "Kind of<br>interested",
          "width": 100,
          "x": 1,
          "xshift": 120,
          "y": 0.3,
          "yshift": 0
         },
         {
          "font": {
           "color": "#4A81BF",
           "size": 20
          },
          "showarrow": false,
          "text": "19%",
          "x": 0,
          "xshift": -40,
          "y": 0.19,
          "yshift": 0
         },
         {
          "font": {
           "color": "#4A81BF",
           "size": 20
          },
          "showarrow": false,
          "text": "38%",
          "x": 1,
          "xshift": 40,
          "y": 0.38,
          "yshift": 0
         },
         {
          "align": "left",
          "font": {
           "color": "#4A81BF",
           "size": 20
          },
          "showarrow": false,
          "text": "Excited",
          "width": 100,
          "x": 1,
          "xshift": 120,
          "y": 0.38,
          "yshift": 0
         },
         {
          "font": {
           "color": "#555655",
           "family": "Arial",
           "size": 25
          },
          "showarrow": false,
          "text": "How do you feel about science?",
          "x": -0.1,
          "xshift": 130,
          "y": 0.45,
          "yshift": 20
         },
         {
          "align": "left",
          "font": {
           "color": "#929497",
           "family": "Arial",
           "size": 20
          },
          "showarrow": false,
          "text": "BEFORE program, the<br><b style='color: #F79747'>majority of children felt</b><br><b style='color: #F79747'>just <i>OK</i></b> about science.",
          "x": 1.1,
          "xshift": 270,
          "y": 0.45,
          "yshift": -70
         },
         {
          "align": "left",
          "font": {
           "color": "#929497",
           "family": "Arial",
           "size": 20
          },
          "showarrow": false,
          "text": "AFTER program,<br><b style='color: #4A81BF'>more children were</b><br><b style='color: #4A81BF'><i>Kind of interested &</i></b><br><b style='color: #4A81BF'><i>Excited</i></b> about science.",
          "x": 1.1,
          "xshift": 265,
          "y": 0.25,
          "yshift": 0
         },
         {
          "font": {
           "color": "#929497",
           "family": "Arial",
           "size": 15
          },
          "showarrow": false,
          "text": "Based on survey of 100 students conducted before and after pilot program (100% response rate on both surveys)",
          "x": -0.1,
          "xshift": 320,
          "y": 0,
          "yshift": -50
         }
        ],
        "barmode": "stack",
        "height": 600,
        "margin": {
         "b": 70,
         "l": 80,
         "r": 400,
         "t": 50
        },
        "paper_bgcolor": "white",
        "plot_bgcolor": "white",
        "showlegend": false,
        "template": {
         "data": {
          "bar": [
           {
            "error_x": {
             "color": "#2a3f5f"
            },
            "error_y": {
             "color": "#2a3f5f"
            },
            "marker": {
             "line": {
              "color": "#E5ECF6",
              "width": 0.5
             },
             "pattern": {
              "fillmode": "overlay",
              "size": 10,
              "solidity": 0.2
             }
            },
            "type": "bar"
           }
          ],
          "barpolar": [
           {
            "marker": {
             "line": {
              "color": "#E5ECF6",
              "width": 0.5
             },
             "pattern": {
              "fillmode": "overlay",
              "size": 10,
              "solidity": 0.2
             }
            },
            "type": "barpolar"
           }
          ],
          "carpet": [
           {
            "aaxis": {
             "endlinecolor": "#2a3f5f",
             "gridcolor": "white",
             "linecolor": "white",
             "minorgridcolor": "white",
             "startlinecolor": "#2a3f5f"
            },
            "baxis": {
             "endlinecolor": "#2a3f5f",
             "gridcolor": "white",
             "linecolor": "white",
             "minorgridcolor": "white",
             "startlinecolor": "#2a3f5f"
            },
            "type": "carpet"
           }
          ],
          "choropleth": [
           {
            "colorbar": {
             "outlinewidth": 0,
             "ticks": ""
            },
            "type": "choropleth"
           }
          ],
          "contour": [
           {
            "colorbar": {
             "outlinewidth": 0,
             "ticks": ""
            },
            "colorscale": [
             [
              0,
              "#0d0887"
             ],
             [
              0.1111111111111111,
              "#46039f"
             ],
             [
              0.2222222222222222,
              "#7201a8"
             ],
             [
              0.3333333333333333,
              "#9c179e"
             ],
             [
              0.4444444444444444,
              "#bd3786"
             ],
             [
              0.5555555555555556,
              "#d8576b"
             ],
             [
              0.6666666666666666,
              "#ed7953"
             ],
             [
              0.7777777777777778,
              "#fb9f3a"
             ],
             [
              0.8888888888888888,
              "#fdca26"
             ],
             [
              1,
              "#f0f921"
             ]
            ],
            "type": "contour"
           }
          ],
          "contourcarpet": [
           {
            "colorbar": {
             "outlinewidth": 0,
             "ticks": ""
            },
            "type": "contourcarpet"
           }
          ],
          "heatmap": [
           {
            "colorbar": {
             "outlinewidth": 0,
             "ticks": ""
            },
            "colorscale": [
             [
              0,
              "#0d0887"
             ],
             [
              0.1111111111111111,
              "#46039f"
             ],
             [
              0.2222222222222222,
              "#7201a8"
             ],
             [
              0.3333333333333333,
              "#9c179e"
             ],
             [
              0.4444444444444444,
              "#bd3786"
             ],
             [
              0.5555555555555556,
              "#d8576b"
             ],
             [
              0.6666666666666666,
              "#ed7953"
             ],
             [
              0.7777777777777778,
              "#fb9f3a"
             ],
             [
              0.8888888888888888,
              "#fdca26"
             ],
             [
              1,
              "#f0f921"
             ]
            ],
            "type": "heatmap"
           }
          ],
          "heatmapgl": [
           {
            "colorbar": {
             "outlinewidth": 0,
             "ticks": ""
            },
            "colorscale": [
             [
              0,
              "#0d0887"
             ],
             [
              0.1111111111111111,
              "#46039f"
             ],
             [
              0.2222222222222222,
              "#7201a8"
             ],
             [
              0.3333333333333333,
              "#9c179e"
             ],
             [
              0.4444444444444444,
              "#bd3786"
             ],
             [
              0.5555555555555556,
              "#d8576b"
             ],
             [
              0.6666666666666666,
              "#ed7953"
             ],
             [
              0.7777777777777778,
              "#fb9f3a"
             ],
             [
              0.8888888888888888,
              "#fdca26"
             ],
             [
              1,
              "#f0f921"
             ]
            ],
            "type": "heatmapgl"
           }
          ],
          "histogram": [
           {
            "marker": {
             "pattern": {
              "fillmode": "overlay",
              "size": 10,
              "solidity": 0.2
             }
            },
            "type": "histogram"
           }
          ],
          "histogram2d": [
           {
            "colorbar": {
             "outlinewidth": 0,
             "ticks": ""
            },
            "colorscale": [
             [
              0,
              "#0d0887"
             ],
             [
              0.1111111111111111,
              "#46039f"
             ],
             [
              0.2222222222222222,
              "#7201a8"
             ],
             [
              0.3333333333333333,
              "#9c179e"
             ],
             [
              0.4444444444444444,
              "#bd3786"
             ],
             [
              0.5555555555555556,
              "#d8576b"
             ],
             [
              0.6666666666666666,
              "#ed7953"
             ],
             [
              0.7777777777777778,
              "#fb9f3a"
             ],
             [
              0.8888888888888888,
              "#fdca26"
             ],
             [
              1,
              "#f0f921"
             ]
            ],
            "type": "histogram2d"
           }
          ],
          "histogram2dcontour": [
           {
            "colorbar": {
             "outlinewidth": 0,
             "ticks": ""
            },
            "colorscale": [
             [
              0,
              "#0d0887"
             ],
             [
              0.1111111111111111,
              "#46039f"
             ],
             [
              0.2222222222222222,
              "#7201a8"
             ],
             [
              0.3333333333333333,
              "#9c179e"
             ],
             [
              0.4444444444444444,
              "#bd3786"
             ],
             [
              0.5555555555555556,
              "#d8576b"
             ],
             [
              0.6666666666666666,
              "#ed7953"
             ],
             [
              0.7777777777777778,
              "#fb9f3a"
             ],
             [
              0.8888888888888888,
              "#fdca26"
             ],
             [
              1,
              "#f0f921"
             ]
            ],
            "type": "histogram2dcontour"
           }
          ],
          "mesh3d": [
           {
            "colorbar": {
             "outlinewidth": 0,
             "ticks": ""
            },
            "type": "mesh3d"
           }
          ],
          "parcoords": [
           {
            "line": {
             "colorbar": {
              "outlinewidth": 0,
              "ticks": ""
             }
            },
            "type": "parcoords"
           }
          ],
          "pie": [
           {
            "automargin": true,
            "type": "pie"
           }
          ],
          "scatter": [
           {
            "marker": {
             "colorbar": {
              "outlinewidth": 0,
              "ticks": ""
             }
            },
            "type": "scatter"
           }
          ],
          "scatter3d": [
           {
            "line": {
             "colorbar": {
              "outlinewidth": 0,
              "ticks": ""
             }
            },
            "marker": {
             "colorbar": {
              "outlinewidth": 0,
              "ticks": ""
             }
            },
            "type": "scatter3d"
           }
          ],
          "scattercarpet": [
           {
            "marker": {
             "colorbar": {
              "outlinewidth": 0,
              "ticks": ""
             }
            },
            "type": "scattercarpet"
           }
          ],
          "scattergeo": [
           {
            "marker": {
             "colorbar": {
              "outlinewidth": 0,
              "ticks": ""
             }
            },
            "type": "scattergeo"
           }
          ],
          "scattergl": [
           {
            "marker": {
             "colorbar": {
              "outlinewidth": 0,
              "ticks": ""
             }
            },
            "type": "scattergl"
           }
          ],
          "scattermapbox": [
           {
            "marker": {
             "colorbar": {
              "outlinewidth": 0,
              "ticks": ""
             }
            },
            "type": "scattermapbox"
           }
          ],
          "scatterpolar": [
           {
            "marker": {
             "colorbar": {
              "outlinewidth": 0,
              "ticks": ""
             }
            },
            "type": "scatterpolar"
           }
          ],
          "scatterpolargl": [
           {
            "marker": {
             "colorbar": {
              "outlinewidth": 0,
              "ticks": ""
             }
            },
            "type": "scatterpolargl"
           }
          ],
          "scatterternary": [
           {
            "marker": {
             "colorbar": {
              "outlinewidth": 0,
              "ticks": ""
             }
            },
            "type": "scatterternary"
           }
          ],
          "surface": [
           {
            "colorbar": {
             "outlinewidth": 0,
             "ticks": ""
            },
            "colorscale": [
             [
              0,
              "#0d0887"
             ],
             [
              0.1111111111111111,
              "#46039f"
             ],
             [
              0.2222222222222222,
              "#7201a8"
             ],
             [
              0.3333333333333333,
              "#9c179e"
             ],
             [
              0.4444444444444444,
              "#bd3786"
             ],
             [
              0.5555555555555556,
              "#d8576b"
             ],
             [
              0.6666666666666666,
              "#ed7953"
             ],
             [
              0.7777777777777778,
              "#fb9f3a"
             ],
             [
              0.8888888888888888,
              "#fdca26"
             ],
             [
              1,
              "#f0f921"
             ]
            ],
            "type": "surface"
           }
          ],
          "table": [
           {
            "cells": {
             "fill": {
              "color": "#EBF0F8"
             },
             "line": {
              "color": "white"
             }
            },
            "header": {
             "fill": {
              "color": "#C8D4E3"
             },
             "line": {
              "color": "white"
             }
            },
            "type": "table"
           }
          ]
         },
         "layout": {
          "annotationdefaults": {
           "arrowcolor": "#2a3f5f",
           "arrowhead": 0,
           "arrowwidth": 1
          },
          "autotypenumbers": "strict",
          "coloraxis": {
           "colorbar": {
            "outlinewidth": 0,
            "ticks": ""
           }
          },
          "colorscale": {
           "diverging": [
            [
             0,
             "#8e0152"
            ],
            [
             0.1,
             "#c51b7d"
            ],
            [
             0.2,
             "#de77ae"
            ],
            [
             0.3,
             "#f1b6da"
            ],
            [
             0.4,
             "#fde0ef"
            ],
            [
             0.5,
             "#f7f7f7"
            ],
            [
             0.6,
             "#e6f5d0"
            ],
            [
             0.7,
             "#b8e186"
            ],
            [
             0.8,
             "#7fbc41"
            ],
            [
             0.9,
             "#4d9221"
            ],
            [
             1,
             "#276419"
            ]
           ],
           "sequential": [
            [
             0,
             "#0d0887"
            ],
            [
             0.1111111111111111,
             "#46039f"
            ],
            [
             0.2222222222222222,
             "#7201a8"
            ],
            [
             0.3333333333333333,
             "#9c179e"
            ],
            [
             0.4444444444444444,
             "#bd3786"
            ],
            [
             0.5555555555555556,
             "#d8576b"
            ],
            [
             0.6666666666666666,
             "#ed7953"
            ],
            [
             0.7777777777777778,
             "#fb9f3a"
            ],
            [
             0.8888888888888888,
             "#fdca26"
            ],
            [
             1,
             "#f0f921"
            ]
           ],
           "sequentialminus": [
            [
             0,
             "#0d0887"
            ],
            [
             0.1111111111111111,
             "#46039f"
            ],
            [
             0.2222222222222222,
             "#7201a8"
            ],
            [
             0.3333333333333333,
             "#9c179e"
            ],
            [
             0.4444444444444444,
             "#bd3786"
            ],
            [
             0.5555555555555556,
             "#d8576b"
            ],
            [
             0.6666666666666666,
             "#ed7953"
            ],
            [
             0.7777777777777778,
             "#fb9f3a"
            ],
            [
             0.8888888888888888,
             "#fdca26"
            ],
            [
             1,
             "#f0f921"
            ]
           ]
          },
          "colorway": [
           "#636efa",
           "#EF553B",
           "#00cc96",
           "#ab63fa",
           "#FFA15A",
           "#19d3f3",
           "#FF6692",
           "#B6E880",
           "#FF97FF",
           "#FECB52"
          ],
          "font": {
           "color": "#2a3f5f"
          },
          "geo": {
           "bgcolor": "white",
           "lakecolor": "white",
           "landcolor": "#E5ECF6",
           "showlakes": true,
           "showland": true,
           "subunitcolor": "white"
          },
          "hoverlabel": {
           "align": "left"
          },
          "hovermode": "closest",
          "mapbox": {
           "style": "light"
          },
          "paper_bgcolor": "white",
          "plot_bgcolor": "#E5ECF6",
          "polar": {
           "angularaxis": {
            "gridcolor": "white",
            "linecolor": "white",
            "ticks": ""
           },
           "bgcolor": "#E5ECF6",
           "radialaxis": {
            "gridcolor": "white",
            "linecolor": "white",
            "ticks": ""
           }
          },
          "scene": {
           "xaxis": {
            "backgroundcolor": "#E5ECF6",
            "gridcolor": "white",
            "gridwidth": 2,
            "linecolor": "white",
            "showbackground": true,
            "ticks": "",
            "zerolinecolor": "white"
           },
           "yaxis": {
            "backgroundcolor": "#E5ECF6",
            "gridcolor": "white",
            "gridwidth": 2,
            "linecolor": "white",
            "showbackground": true,
            "ticks": "",
            "zerolinecolor": "white"
           },
           "zaxis": {
            "backgroundcolor": "#E5ECF6",
            "gridcolor": "white",
            "gridwidth": 2,
            "linecolor": "white",
            "showbackground": true,
            "ticks": "",
            "zerolinecolor": "white"
           }
          },
          "shapedefaults": {
           "line": {
            "color": "#2a3f5f"
           }
          },
          "ternary": {
           "aaxis": {
            "gridcolor": "white",
            "linecolor": "white",
            "ticks": ""
           },
           "baxis": {
            "gridcolor": "white",
            "linecolor": "white",
            "ticks": ""
           },
           "bgcolor": "#E5ECF6",
           "caxis": {
            "gridcolor": "white",
            "linecolor": "white",
            "ticks": ""
           }
          },
          "title": {
           "x": 0.05
          },
          "xaxis": {
           "automargin": true,
           "gridcolor": "white",
           "linecolor": "white",
           "ticks": "",
           "title": {
            "standoff": 15
           },
           "zerolinecolor": "white",
           "zerolinewidth": 2
          },
          "yaxis": {
           "automargin": true,
           "gridcolor": "white",
           "linecolor": "white",
           "ticks": "",
           "title": {
            "standoff": 15
           },
           "zerolinecolor": "white",
           "zerolinewidth": 2
          }
         }
        },
        "width": 800,
        "xaxis": {
         "linecolor": "#BFBEBE",
         "range": [
          -0.1,
          1.1
         ],
         "showgrid": false,
         "tickcolor": "#BFBEBE",
         "tickfont": {
          "color": "#929497",
          "size": 15
         },
         "ticks": "outside"
        },
        "yaxis": {
         "range": [
          0,
          0.45
         ],
         "showgrid": false,
         "showticklabels": false
        }
       }
      }
     },
     "metadata": {},
     "output_type": "display_data"
    }
   ],
   "source": [
    "fig = go.Figure()\n",
    "\n",
    "# Plot -------------------------\n",
    "colors = [GRAY9, GRAY9, ORANGE1, BLUE2, BLUE2]\n",
    "for i, name in enumerate(df.columns):\n",
    "    fig.add_trace(\n",
    "        go.Scatter(\n",
    "            x=df.index,\n",
    "            y=df[name],\n",
    "            mode='lines+markers',\n",
    "            line=dict(color=colors[i], width=5),\n",
    "            marker=dict(color=colors[i], size=15)\n",
    "        )\n",
    "    )\n",
    "\n",
    "# Annotation -------------------\n",
    "annotations = [\"Bored\", \"Not great\", \"OK\", \"Kind of<br>interested\", \"Excited\"]\n",
    "for i in range(5):\n",
    "    fig.add_annotation(\n",
    "        text=f\"{df.iloc[0, i] * 100:.0f}%\",\n",
    "        font=dict(color=colors[i], size=20),\n",
    "        x=0,\n",
    "        y=df.iloc[0, i],\n",
    "        xshift=-40,\n",
    "        yshift=0,\n",
    "        showarrow=False,\n",
    "    )\n",
    "    \n",
    "    fig.add_annotation(\n",
    "        text=f\"{df.iloc[1, i] * 100:.0f}%\",\n",
    "        font=dict(color=colors[i], size=20),\n",
    "        x=1,\n",
    "        y=df.iloc[1, i],\n",
    "        xshift=40,\n",
    "        yshift=0,\n",
    "        showarrow=False,\n",
    "    )\n",
    "    \n",
    "    fig.add_annotation(\n",
    "        text=annotations[i],\n",
    "        font=dict(color=colors[i], size=20),\n",
    "        align='left',\n",
    "        x=1,\n",
    "        y=df.iloc[1, i],\n",
    "        xshift=120,\n",
    "        yshift=0,\n",
    "        width=100,\n",
    "        showarrow=False,\n",
    "    )\n",
    "        \n",
    "# Text -------------------------\n",
    "fig.add_annotation(\n",
    "    text=\"How do you feel about science?\",\n",
    "    font=dict(color=GRAY3, size=25, family=\"Arial\"),\n",
    "    x=-0.1,\n",
    "    y=0.45,\n",
    "    xshift=130,\n",
    "    yshift=20,\n",
    "    showarrow=False,\n",
    ")\n",
    "\n",
    "\n",
    "fig.add_annotation(\n",
    "    text=f\"BEFORE program, the<br>\\\n",
    "<b style='color: {ORANGE1}'>majority of children felt</b><br>\\\n",
    "<b style='color: {ORANGE1}'>just <i>OK</i></b> about science.\",\n",
    "    align='left',\n",
    "    font=dict(color=GRAY7, size=20, family=\"Arial\"),\n",
    "    x=1.1,\n",
    "    y=0.45,\n",
    "    xshift=270,\n",
    "    yshift=-70,\n",
    "    showarrow=False,\n",
    ")\n",
    "\n",
    "fig.add_annotation(\n",
    "    text=f\"AFTER program,<br>\\\n",
    "<b style='color: {BLUE2}'>more children were</b><br>\\\n",
    "<b style='color: {BLUE2}'><i>Kind of interested &</i></b><br>\\\n",
    "<b style='color: {BLUE2}'><i>Excited</i></b> about science.\",\n",
    "    align='left',\n",
    "    font=dict(color=GRAY7, size=20, family=\"Arial\"),\n",
    "    x=1.1,\n",
    "    y=0.25,\n",
    "    xshift=265,\n",
    "    yshift=-0,\n",
    "    showarrow=False,\n",
    ")\n",
    "\n",
    "fig.add_annotation(\n",
    "    text=\"Based on survey of 100 students conducted before and after pilot program (100% response rate on both surveys)\",\n",
    "    font=dict(color=GRAY7, size=15, family=\"Arial\"),\n",
    "    x=-0.1,\n",
    "    y=0,\n",
    "    xshift=320,\n",
    "    yshift=-50,\n",
    "    showarrow=False,\n",
    ")\n",
    "\n",
    "# Layout -----------------------\n",
    "fig.update_layout(\n",
    "    width=800,\n",
    "    height=600,\n",
    "    margin=dict(t=50, b=70, l=80, r=400),\n",
    "    paper_bgcolor=\"white\",\n",
    "    plot_bgcolor=\"white\",\n",
    "    showlegend=False,\n",
    "    barmode=\"stack\",\n",
    ")\n",
    "\n",
    "fig.update_xaxes(\n",
    "    linecolor=GRAY9,\n",
    "    ticks='outside',\n",
    "    tickcolor=GRAY9,\n",
    "    tickfont=dict(color=GRAY7, size=15),\n",
    "    showgrid=False,\n",
    "    range=[-0.1, 1.1]\n",
    ")\n",
    "\n",
    "fig.update_yaxes(\n",
    "    showticklabels=False,\n",
    "    showgrid=False,\n",
    "    range=[0, 0.45]\n",
    ")"
   ]
  },
  {
   "cell_type": "markdown",
   "id": "c9f04da8",
   "metadata": {},
   "source": [
    "## Output"
   ]
  },
  {
   "cell_type": "code",
   "execution_count": 9,
   "id": "7776fe8a",
   "metadata": {},
   "outputs": [],
   "source": [
    "fig.write_image(\"plot/plot 9-32.png\", format=\"png\", width=800, height=600, scale=3)"
   ]
  }
 ],
 "metadata": {
  "kernelspec": {
   "display_name": "data",
   "language": "python",
   "name": "python3"
  },
  "language_info": {
   "codemirror_mode": {
    "name": "ipython",
    "version": 3
   },
   "file_extension": ".py",
   "mimetype": "text/x-python",
   "name": "python",
   "nbconvert_exporter": "python",
   "pygments_lexer": "ipython3",
   "version": "3.10.4"
  },
  "vscode": {
   "interpreter": {
    "hash": "87aa2df5676ce3636fa5c3ad845736f33e5dcc95e958fafe10accbd91339fdaa"
   }
  }
 },
 "nbformat": 4,
 "nbformat_minor": 5
}
