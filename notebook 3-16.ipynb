{
 "cells": [
  {
   "cell_type": "markdown",
   "id": "945bbfc2",
   "metadata": {},
   "source": [
    "## Required Modules"
   ]
  },
  {
   "cell_type": "code",
   "execution_count": 1,
   "id": "3ff355c6",
   "metadata": {},
   "outputs": [],
   "source": [
    "import numpy as np\n",
    "import pandas as pd\n",
    "import plotly.graph_objects as go"
   ]
  },
  {
   "cell_type": "markdown",
   "id": "ad865108",
   "metadata": {},
   "source": [
    "## Color Palette"
   ]
  },
  {
   "cell_type": "code",
   "execution_count": 2,
   "id": "2fa5f557",
   "metadata": {},
   "outputs": [],
   "source": [
    "from colors import *"
   ]
  },
  {
   "cell_type": "markdown",
   "id": "ad547d74",
   "metadata": {},
   "source": [
    "## Data"
   ]
  },
  {
   "cell_type": "code",
   "execution_count": 3,
   "id": "6363116b",
   "metadata": {
    "scrolled": false
   },
   "outputs": [],
   "source": [
    "df = pd.read_csv(\"data/data 3-16.csv\")"
   ]
  },
  {
   "cell_type": "code",
   "execution_count": 4,
   "id": "56aaf159",
   "metadata": {},
   "outputs": [],
   "source": [
    "df = df.sort_index(ascending=False)"
   ]
  },
  {
   "cell_type": "code",
   "execution_count": 5,
   "id": "30932d07",
   "metadata": {},
   "outputs": [
    {
     "data": {
      "text/html": [
       "<div>\n",
       "<style scoped>\n",
       "    .dataframe tbody tr th:only-of-type {\n",
       "        vertical-align: middle;\n",
       "    }\n",
       "\n",
       "    .dataframe tbody tr th {\n",
       "        vertical-align: top;\n",
       "    }\n",
       "\n",
       "    .dataframe thead th {\n",
       "        text-align: right;\n",
       "    }\n",
       "</style>\n",
       "<table border=\"1\" class=\"dataframe\">\n",
       "  <thead>\n",
       "    <tr style=\"text-align: right;\">\n",
       "      <th></th>\n",
       "      <th>Category</th>\n",
       "      <th>Our business</th>\n",
       "      <th>Competitor A</th>\n",
       "      <th>Competitor B</th>\n",
       "      <th>Competitor C</th>\n",
       "      <th>Competitor D</th>\n",
       "      <th>Competitor E</th>\n",
       "      <th>Rank</th>\n",
       "    </tr>\n",
       "  </thead>\n",
       "  <tbody>\n",
       "    <tr>\n",
       "      <th>4</th>\n",
       "      <td>Selection</td>\n",
       "      <td>0.26</td>\n",
       "      <td>0.27</td>\n",
       "      <td>0.87</td>\n",
       "      <td>0.43</td>\n",
       "      <td>1.60</td>\n",
       "      <td>2.40</td>\n",
       "      <td>6 of 6</td>\n",
       "    </tr>\n",
       "    <tr>\n",
       "      <th>3</th>\n",
       "      <td>Service</td>\n",
       "      <td>0.31</td>\n",
       "      <td>0.50</td>\n",
       "      <td>1.23</td>\n",
       "      <td>0.69</td>\n",
       "      <td>1.11</td>\n",
       "      <td>2.06</td>\n",
       "      <td>6 of 6</td>\n",
       "    </tr>\n",
       "    <tr>\n",
       "      <th>2</th>\n",
       "      <td>Relationship</td>\n",
       "      <td>0.70</td>\n",
       "      <td>1.98</td>\n",
       "      <td>0.62</td>\n",
       "      <td>0.67</td>\n",
       "      <td>1.10</td>\n",
       "      <td>1.20</td>\n",
       "      <td>4 of 6</td>\n",
       "    </tr>\n",
       "    <tr>\n",
       "      <th>1</th>\n",
       "      <td>Convenience</td>\n",
       "      <td>1.70</td>\n",
       "      <td>2.18</td>\n",
       "      <td>0.72</td>\n",
       "      <td>0.82</td>\n",
       "      <td>1.64</td>\n",
       "      <td>0.05</td>\n",
       "      <td>2 of 6</td>\n",
       "    </tr>\n",
       "    <tr>\n",
       "      <th>0</th>\n",
       "      <td>Price</td>\n",
       "      <td>1.81</td>\n",
       "      <td>1.59</td>\n",
       "      <td>0.26</td>\n",
       "      <td>1.02</td>\n",
       "      <td>1.60</td>\n",
       "      <td>0.76</td>\n",
       "      <td>1 of 6</td>\n",
       "    </tr>\n",
       "  </tbody>\n",
       "</table>\n",
       "</div>"
      ],
      "text/plain": [
       "       Category  Our business  Competitor A  Competitor B  Competitor C  \\\n",
       "4     Selection          0.26          0.27          0.87          0.43   \n",
       "3       Service          0.31          0.50          1.23          0.69   \n",
       "2  Relationship          0.70          1.98          0.62          0.67   \n",
       "1   Convenience          1.70          2.18          0.72          0.82   \n",
       "0         Price          1.81          1.59          0.26          1.02   \n",
       "\n",
       "   Competitor D  Competitor E    Rank  \n",
       "4          1.60          2.40  6 of 6  \n",
       "3          1.11          2.06  6 of 6  \n",
       "2          1.10          1.20  4 of 6  \n",
       "1          1.64          0.05  2 of 6  \n",
       "0          1.60          0.76  1 of 6  "
      ]
     },
     "execution_count": 5,
     "metadata": {},
     "output_type": "execute_result"
    }
   ],
   "source": [
    "df"
   ]
  },
  {
   "cell_type": "markdown",
   "id": "8577fcdf",
   "metadata": {},
   "source": [
    "## Data Visualization "
   ]
  },
  {
   "cell_type": "code",
   "execution_count": 6,
   "id": "d423a6c4",
   "metadata": {
    "scrolled": false
   },
   "outputs": [
    {
     "data": {
      "application/vnd.plotly.v1+json": {
       "config": {
        "plotlyServerURL": "https://plot.ly"
       },
       "data": [
        {
         "marker": {
          "color": "#BFBEBE",
          "line": {
           "color": "#BFBEBE"
          }
         },
         "name": "Competitor E",
         "orientation": "h",
         "type": "bar",
         "x": [
          2.4,
          2.06,
          1.2,
          0.05,
          0.76
         ],
         "y": [
          "Selection",
          "Service",
          "Relationship",
          "Convenience",
          "Price"
         ]
        },
        {
         "marker": {
          "color": "#BFBEBE",
          "line": {
           "color": "#BFBEBE"
          }
         },
         "name": "Competitor D",
         "orientation": "h",
         "type": "bar",
         "x": [
          1.6,
          1.11,
          1.1,
          1.64,
          1.6
         ],
         "y": [
          "Selection",
          "Service",
          "Relationship",
          "Convenience",
          "Price"
         ]
        },
        {
         "marker": {
          "color": "#BFBEBE",
          "line": {
           "color": "#BFBEBE"
          }
         },
         "name": "Competitor C",
         "orientation": "h",
         "type": "bar",
         "x": [
          0.43,
          0.69,
          0.67,
          0.82,
          1.02
         ],
         "y": [
          "Selection",
          "Service",
          "Relationship",
          "Convenience",
          "Price"
         ]
        },
        {
         "marker": {
          "color": "#BFBEBE",
          "line": {
           "color": "#BFBEBE"
          }
         },
         "name": "Competitor B",
         "orientation": "h",
         "type": "bar",
         "x": [
          0.87,
          1.23,
          0.62,
          0.72,
          0.26
         ],
         "y": [
          "Selection",
          "Service",
          "Relationship",
          "Convenience",
          "Price"
         ]
        },
        {
         "marker": {
          "color": "#BFBEBE",
          "line": {
           "color": "#BFBEBE"
          }
         },
         "name": "Competitor A",
         "orientation": "h",
         "type": "bar",
         "x": [
          0.27,
          0.5,
          1.98,
          2.18,
          1.59
         ],
         "y": [
          "Selection",
          "Service",
          "Relationship",
          "Convenience",
          "Price"
         ]
        },
        {
         "marker": {
          "color": "#4A81BF",
          "line": {
           "color": "#4A81BF"
          }
         },
         "name": "Our business",
         "orientation": "h",
         "type": "bar",
         "x": [
          0.26,
          0.31,
          0.7,
          1.7,
          1.81
         ],
         "y": [
          "Selection",
          "Service",
          "Relationship",
          "Convenience",
          "Price"
         ]
        }
       ],
       "layout": {
        "annotations": [
         {
          "font": {
           "color": "#4A81BF",
           "family": "Arial",
           "size": 15
          },
          "showarrow": false,
          "text": "6 of 6",
          "x": 0.26,
          "xshift": 30,
          "y": 0,
          "yshift": 32
         },
         {
          "font": {
           "color": "#4A81BF",
           "family": "Arial",
           "size": 15
          },
          "showarrow": false,
          "text": "6 of 6",
          "x": 0.31,
          "xshift": 30,
          "y": 1,
          "yshift": 32
         },
         {
          "font": {
           "color": "#4A81BF",
           "family": "Arial",
           "size": 15
          },
          "showarrow": false,
          "text": "4 of 6",
          "x": 0.7,
          "xshift": 30,
          "y": 2,
          "yshift": 32
         },
         {
          "font": {
           "color": "#4A81BF",
           "family": "Arial",
           "size": 15
          },
          "showarrow": false,
          "text": "2 of 6",
          "x": 1.7,
          "xshift": 30,
          "y": 3,
          "yshift": 32
         },
         {
          "font": {
           "color": "#4A81BF",
           "family": "Arial",
           "size": 15
          },
          "showarrow": false,
          "text": "1 of 6",
          "x": 1.81,
          "xshift": 30,
          "y": 4,
          "yshift": 32
         },
         {
          "font": {
           "color": "#555655",
           "family": "Arial",
           "size": 25
          },
          "showarrow": false,
          "text": "Performance overview",
          "x": -0.2,
          "xshift": -165,
          "y": 4.25,
          "yshift": 80
         },
         {
          "font": {
           "color": "#76787B",
           "family": "Arial",
           "size": 15
          },
          "showarrow": false,
          "text": "Weighted performance index | <span style='color: #4A81BF;'>relative rank</span>",
          "x": -0.2,
          "xshift": 155,
          "y": 4.5,
          "yshift": 10
         }
        ],
        "bargap": 0.15,
        "bargroupgap": 0,
        "barmode": "group",
        "height": 600,
        "legend": {
         "font": {
          "color": "#76787B",
          "family": "Arial",
          "size": 18
         },
         "traceorder": "reversed",
         "x": -0.55,
         "y": 1.07
        },
        "margin": {
         "b": 60,
         "l": 320,
         "r": 40,
         "t": 120
        },
        "paper_bgcolor": "white",
        "plot_bgcolor": "white",
        "showlegend": true,
        "template": {
         "data": {
          "bar": [
           {
            "error_x": {
             "color": "#2a3f5f"
            },
            "error_y": {
             "color": "#2a3f5f"
            },
            "marker": {
             "line": {
              "color": "#E5ECF6",
              "width": 0.5
             },
             "pattern": {
              "fillmode": "overlay",
              "size": 10,
              "solidity": 0.2
             }
            },
            "type": "bar"
           }
          ],
          "barpolar": [
           {
            "marker": {
             "line": {
              "color": "#E5ECF6",
              "width": 0.5
             },
             "pattern": {
              "fillmode": "overlay",
              "size": 10,
              "solidity": 0.2
             }
            },
            "type": "barpolar"
           }
          ],
          "carpet": [
           {
            "aaxis": {
             "endlinecolor": "#2a3f5f",
             "gridcolor": "white",
             "linecolor": "white",
             "minorgridcolor": "white",
             "startlinecolor": "#2a3f5f"
            },
            "baxis": {
             "endlinecolor": "#2a3f5f",
             "gridcolor": "white",
             "linecolor": "white",
             "minorgridcolor": "white",
             "startlinecolor": "#2a3f5f"
            },
            "type": "carpet"
           }
          ],
          "choropleth": [
           {
            "colorbar": {
             "outlinewidth": 0,
             "ticks": ""
            },
            "type": "choropleth"
           }
          ],
          "contour": [
           {
            "colorbar": {
             "outlinewidth": 0,
             "ticks": ""
            },
            "colorscale": [
             [
              0,
              "#0d0887"
             ],
             [
              0.1111111111111111,
              "#46039f"
             ],
             [
              0.2222222222222222,
              "#7201a8"
             ],
             [
              0.3333333333333333,
              "#9c179e"
             ],
             [
              0.4444444444444444,
              "#bd3786"
             ],
             [
              0.5555555555555556,
              "#d8576b"
             ],
             [
              0.6666666666666666,
              "#ed7953"
             ],
             [
              0.7777777777777778,
              "#fb9f3a"
             ],
             [
              0.8888888888888888,
              "#fdca26"
             ],
             [
              1,
              "#f0f921"
             ]
            ],
            "type": "contour"
           }
          ],
          "contourcarpet": [
           {
            "colorbar": {
             "outlinewidth": 0,
             "ticks": ""
            },
            "type": "contourcarpet"
           }
          ],
          "heatmap": [
           {
            "colorbar": {
             "outlinewidth": 0,
             "ticks": ""
            },
            "colorscale": [
             [
              0,
              "#0d0887"
             ],
             [
              0.1111111111111111,
              "#46039f"
             ],
             [
              0.2222222222222222,
              "#7201a8"
             ],
             [
              0.3333333333333333,
              "#9c179e"
             ],
             [
              0.4444444444444444,
              "#bd3786"
             ],
             [
              0.5555555555555556,
              "#d8576b"
             ],
             [
              0.6666666666666666,
              "#ed7953"
             ],
             [
              0.7777777777777778,
              "#fb9f3a"
             ],
             [
              0.8888888888888888,
              "#fdca26"
             ],
             [
              1,
              "#f0f921"
             ]
            ],
            "type": "heatmap"
           }
          ],
          "heatmapgl": [
           {
            "colorbar": {
             "outlinewidth": 0,
             "ticks": ""
            },
            "colorscale": [
             [
              0,
              "#0d0887"
             ],
             [
              0.1111111111111111,
              "#46039f"
             ],
             [
              0.2222222222222222,
              "#7201a8"
             ],
             [
              0.3333333333333333,
              "#9c179e"
             ],
             [
              0.4444444444444444,
              "#bd3786"
             ],
             [
              0.5555555555555556,
              "#d8576b"
             ],
             [
              0.6666666666666666,
              "#ed7953"
             ],
             [
              0.7777777777777778,
              "#fb9f3a"
             ],
             [
              0.8888888888888888,
              "#fdca26"
             ],
             [
              1,
              "#f0f921"
             ]
            ],
            "type": "heatmapgl"
           }
          ],
          "histogram": [
           {
            "marker": {
             "pattern": {
              "fillmode": "overlay",
              "size": 10,
              "solidity": 0.2
             }
            },
            "type": "histogram"
           }
          ],
          "histogram2d": [
           {
            "colorbar": {
             "outlinewidth": 0,
             "ticks": ""
            },
            "colorscale": [
             [
              0,
              "#0d0887"
             ],
             [
              0.1111111111111111,
              "#46039f"
             ],
             [
              0.2222222222222222,
              "#7201a8"
             ],
             [
              0.3333333333333333,
              "#9c179e"
             ],
             [
              0.4444444444444444,
              "#bd3786"
             ],
             [
              0.5555555555555556,
              "#d8576b"
             ],
             [
              0.6666666666666666,
              "#ed7953"
             ],
             [
              0.7777777777777778,
              "#fb9f3a"
             ],
             [
              0.8888888888888888,
              "#fdca26"
             ],
             [
              1,
              "#f0f921"
             ]
            ],
            "type": "histogram2d"
           }
          ],
          "histogram2dcontour": [
           {
            "colorbar": {
             "outlinewidth": 0,
             "ticks": ""
            },
            "colorscale": [
             [
              0,
              "#0d0887"
             ],
             [
              0.1111111111111111,
              "#46039f"
             ],
             [
              0.2222222222222222,
              "#7201a8"
             ],
             [
              0.3333333333333333,
              "#9c179e"
             ],
             [
              0.4444444444444444,
              "#bd3786"
             ],
             [
              0.5555555555555556,
              "#d8576b"
             ],
             [
              0.6666666666666666,
              "#ed7953"
             ],
             [
              0.7777777777777778,
              "#fb9f3a"
             ],
             [
              0.8888888888888888,
              "#fdca26"
             ],
             [
              1,
              "#f0f921"
             ]
            ],
            "type": "histogram2dcontour"
           }
          ],
          "mesh3d": [
           {
            "colorbar": {
             "outlinewidth": 0,
             "ticks": ""
            },
            "type": "mesh3d"
           }
          ],
          "parcoords": [
           {
            "line": {
             "colorbar": {
              "outlinewidth": 0,
              "ticks": ""
             }
            },
            "type": "parcoords"
           }
          ],
          "pie": [
           {
            "automargin": true,
            "type": "pie"
           }
          ],
          "scatter": [
           {
            "marker": {
             "colorbar": {
              "outlinewidth": 0,
              "ticks": ""
             }
            },
            "type": "scatter"
           }
          ],
          "scatter3d": [
           {
            "line": {
             "colorbar": {
              "outlinewidth": 0,
              "ticks": ""
             }
            },
            "marker": {
             "colorbar": {
              "outlinewidth": 0,
              "ticks": ""
             }
            },
            "type": "scatter3d"
           }
          ],
          "scattercarpet": [
           {
            "marker": {
             "colorbar": {
              "outlinewidth": 0,
              "ticks": ""
             }
            },
            "type": "scattercarpet"
           }
          ],
          "scattergeo": [
           {
            "marker": {
             "colorbar": {
              "outlinewidth": 0,
              "ticks": ""
             }
            },
            "type": "scattergeo"
           }
          ],
          "scattergl": [
           {
            "marker": {
             "colorbar": {
              "outlinewidth": 0,
              "ticks": ""
             }
            },
            "type": "scattergl"
           }
          ],
          "scattermapbox": [
           {
            "marker": {
             "colorbar": {
              "outlinewidth": 0,
              "ticks": ""
             }
            },
            "type": "scattermapbox"
           }
          ],
          "scatterpolar": [
           {
            "marker": {
             "colorbar": {
              "outlinewidth": 0,
              "ticks": ""
             }
            },
            "type": "scatterpolar"
           }
          ],
          "scatterpolargl": [
           {
            "marker": {
             "colorbar": {
              "outlinewidth": 0,
              "ticks": ""
             }
            },
            "type": "scatterpolargl"
           }
          ],
          "scatterternary": [
           {
            "marker": {
             "colorbar": {
              "outlinewidth": 0,
              "ticks": ""
             }
            },
            "type": "scatterternary"
           }
          ],
          "surface": [
           {
            "colorbar": {
             "outlinewidth": 0,
             "ticks": ""
            },
            "colorscale": [
             [
              0,
              "#0d0887"
             ],
             [
              0.1111111111111111,
              "#46039f"
             ],
             [
              0.2222222222222222,
              "#7201a8"
             ],
             [
              0.3333333333333333,
              "#9c179e"
             ],
             [
              0.4444444444444444,
              "#bd3786"
             ],
             [
              0.5555555555555556,
              "#d8576b"
             ],
             [
              0.6666666666666666,
              "#ed7953"
             ],
             [
              0.7777777777777778,
              "#fb9f3a"
             ],
             [
              0.8888888888888888,
              "#fdca26"
             ],
             [
              1,
              "#f0f921"
             ]
            ],
            "type": "surface"
           }
          ],
          "table": [
           {
            "cells": {
             "fill": {
              "color": "#EBF0F8"
             },
             "line": {
              "color": "white"
             }
            },
            "header": {
             "fill": {
              "color": "#C8D4E3"
             },
             "line": {
              "color": "white"
             }
            },
            "type": "table"
           }
          ]
         },
         "layout": {
          "annotationdefaults": {
           "arrowcolor": "#2a3f5f",
           "arrowhead": 0,
           "arrowwidth": 1
          },
          "autotypenumbers": "strict",
          "coloraxis": {
           "colorbar": {
            "outlinewidth": 0,
            "ticks": ""
           }
          },
          "colorscale": {
           "diverging": [
            [
             0,
             "#8e0152"
            ],
            [
             0.1,
             "#c51b7d"
            ],
            [
             0.2,
             "#de77ae"
            ],
            [
             0.3,
             "#f1b6da"
            ],
            [
             0.4,
             "#fde0ef"
            ],
            [
             0.5,
             "#f7f7f7"
            ],
            [
             0.6,
             "#e6f5d0"
            ],
            [
             0.7,
             "#b8e186"
            ],
            [
             0.8,
             "#7fbc41"
            ],
            [
             0.9,
             "#4d9221"
            ],
            [
             1,
             "#276419"
            ]
           ],
           "sequential": [
            [
             0,
             "#0d0887"
            ],
            [
             0.1111111111111111,
             "#46039f"
            ],
            [
             0.2222222222222222,
             "#7201a8"
            ],
            [
             0.3333333333333333,
             "#9c179e"
            ],
            [
             0.4444444444444444,
             "#bd3786"
            ],
            [
             0.5555555555555556,
             "#d8576b"
            ],
            [
             0.6666666666666666,
             "#ed7953"
            ],
            [
             0.7777777777777778,
             "#fb9f3a"
            ],
            [
             0.8888888888888888,
             "#fdca26"
            ],
            [
             1,
             "#f0f921"
            ]
           ],
           "sequentialminus": [
            [
             0,
             "#0d0887"
            ],
            [
             0.1111111111111111,
             "#46039f"
            ],
            [
             0.2222222222222222,
             "#7201a8"
            ],
            [
             0.3333333333333333,
             "#9c179e"
            ],
            [
             0.4444444444444444,
             "#bd3786"
            ],
            [
             0.5555555555555556,
             "#d8576b"
            ],
            [
             0.6666666666666666,
             "#ed7953"
            ],
            [
             0.7777777777777778,
             "#fb9f3a"
            ],
            [
             0.8888888888888888,
             "#fdca26"
            ],
            [
             1,
             "#f0f921"
            ]
           ]
          },
          "colorway": [
           "#636efa",
           "#EF553B",
           "#00cc96",
           "#ab63fa",
           "#FFA15A",
           "#19d3f3",
           "#FF6692",
           "#B6E880",
           "#FF97FF",
           "#FECB52"
          ],
          "font": {
           "color": "#2a3f5f"
          },
          "geo": {
           "bgcolor": "white",
           "lakecolor": "white",
           "landcolor": "#E5ECF6",
           "showlakes": true,
           "showland": true,
           "subunitcolor": "white"
          },
          "hoverlabel": {
           "align": "left"
          },
          "hovermode": "closest",
          "mapbox": {
           "style": "light"
          },
          "paper_bgcolor": "white",
          "plot_bgcolor": "#E5ECF6",
          "polar": {
           "angularaxis": {
            "gridcolor": "white",
            "linecolor": "white",
            "ticks": ""
           },
           "bgcolor": "#E5ECF6",
           "radialaxis": {
            "gridcolor": "white",
            "linecolor": "white",
            "ticks": ""
           }
          },
          "scene": {
           "xaxis": {
            "backgroundcolor": "#E5ECF6",
            "gridcolor": "white",
            "gridwidth": 2,
            "linecolor": "white",
            "showbackground": true,
            "ticks": "",
            "zerolinecolor": "white"
           },
           "yaxis": {
            "backgroundcolor": "#E5ECF6",
            "gridcolor": "white",
            "gridwidth": 2,
            "linecolor": "white",
            "showbackground": true,
            "ticks": "",
            "zerolinecolor": "white"
           },
           "zaxis": {
            "backgroundcolor": "#E5ECF6",
            "gridcolor": "white",
            "gridwidth": 2,
            "linecolor": "white",
            "showbackground": true,
            "ticks": "",
            "zerolinecolor": "white"
           }
          },
          "shapedefaults": {
           "line": {
            "color": "#2a3f5f"
           }
          },
          "ternary": {
           "aaxis": {
            "gridcolor": "white",
            "linecolor": "white",
            "ticks": ""
           },
           "baxis": {
            "gridcolor": "white",
            "linecolor": "white",
            "ticks": ""
           },
           "bgcolor": "#E5ECF6",
           "caxis": {
            "gridcolor": "white",
            "linecolor": "white",
            "ticks": ""
           }
          },
          "title": {
           "x": 0.05
          },
          "xaxis": {
           "automargin": true,
           "gridcolor": "white",
           "linecolor": "white",
           "ticks": "",
           "title": {
            "standoff": 15
           },
           "zerolinecolor": "white",
           "zerolinewidth": 2
          },
          "yaxis": {
           "automargin": true,
           "gridcolor": "white",
           "linecolor": "white",
           "ticks": "",
           "title": {
            "standoff": 15
           },
           "zerolinecolor": "white",
           "zerolinewidth": 2
          }
         }
        },
        "width": 900,
        "xaxis": {
         "range": [
          -0.2,
          2.5
         ],
         "showticklabels": false,
         "tickcolor": "#929497",
         "tickfont": {
          "color": "#929497",
          "family": "Arial",
          "size": 15
         }
        },
        "yaxis": {
         "range": [
          -0.5,
          4.5
         ],
         "tickcolor": "#929497",
         "tickfont": {
          "color": "#555655",
          "family": "Arial",
          "size": 20
         }
        }
       }
      }
     },
     "metadata": {},
     "output_type": "display_data"
    }
   ],
   "source": [
    "fig = go.Figure()\n",
    "\n",
    "# Plot -------------------------\n",
    "fig.add_bar(\n",
    "    y=df['Category'],\n",
    "    x=df['Competitor E'],\n",
    "    orientation='h',\n",
    "    marker=dict(color=GRAY9, line=dict(color=GRAY9)),\n",
    "    name='Competitor E'\n",
    ")\n",
    "\n",
    "fig.add_bar(\n",
    "    y=df['Category'],\n",
    "    x=df['Competitor D'],\n",
    "    orientation='h',\n",
    "    marker=dict(color=GRAY9, line=dict(color=GRAY9)),\n",
    "    name='Competitor D'\n",
    ")\n",
    "\n",
    "fig.add_bar(\n",
    "    y=df['Category'],\n",
    "    x=df['Competitor C'],\n",
    "    orientation='h',\n",
    "    marker=dict(color=GRAY9, line=dict(color=GRAY9)),\n",
    "    name='Competitor C'\n",
    ")\n",
    "\n",
    "fig.add_bar(\n",
    "    y=df['Category'],\n",
    "    x=df['Competitor B'],\n",
    "    orientation='h',\n",
    "    marker=dict(color=GRAY9, line=dict(color=GRAY9)),\n",
    "    name='Competitor B'\n",
    ")\n",
    "\n",
    "fig.add_bar(\n",
    "    y=df['Category'],\n",
    "    x=df['Competitor A'],\n",
    "    orientation='h',\n",
    "    marker=dict(color=GRAY9, line=dict(color=GRAY9)),\n",
    "    name='Competitor A'\n",
    ")\n",
    "\n",
    "fig.add_bar(\n",
    "    y=df['Category'],\n",
    "    x=df['Our business'],\n",
    "    orientation='h',\n",
    "    marker=dict(color=BLUE2, line=dict(color=BLUE2)),\n",
    "    name='Our business'\n",
    ")\n",
    "\n",
    "# Annotation -------------------\n",
    "for i in range(5):\n",
    "    fig.add_annotation(\n",
    "        text=df['Rank'][5 - i - 1],\n",
    "        font=dict(color=BLUE2, size=15, family=\"Arial\"),\n",
    "        y=i,\n",
    "        x=df['Our business'][5 - i - 1],\n",
    "        yshift=32,\n",
    "        xshift=30,\n",
    "        showarrow=False,\n",
    "    )\n",
    "    \n",
    "\n",
    "# Text -------------------------\n",
    "fig.add_annotation(\n",
    "    text=\"Performance overview\",\n",
    "    font=dict(color=GRAY3, size=25, family=\"Arial\"),\n",
    "    x=-0.2,\n",
    "    y=4.25,\n",
    "    xshift=-165,\n",
    "    yshift=80,\n",
    "    showarrow=False,\n",
    ")\n",
    "\n",
    "fig.add_annotation(\n",
    "    text=f\"Weighted performance index | <span style='color: {BLUE2};'>relative rank</span>\",\n",
    "    font=dict(color=GRAY5, size=15, family=\"Arial\"),\n",
    "    x=-0.2,\n",
    "    y=4.5,\n",
    "    xshift=155,\n",
    "    yshift=10,\n",
    "    showarrow=False,\n",
    ")\n",
    "\n",
    "# Layout -----------------------\n",
    "fig.update_layout(\n",
    "    width=900,\n",
    "    height=600,\n",
    "    margin=dict(t=120, b=60, l=320, r=40),\n",
    "    legend=dict(\n",
    "        font=dict(color=GRAY5, size=18, family=\"Arial\"),\n",
    "        traceorder='reversed',\n",
    "        x=-0.55,\n",
    "        y=1.07,\n",
    "    ),\n",
    "    showlegend=True,\n",
    "    paper_bgcolor=\"white\",\n",
    "    plot_bgcolor=\"white\",\n",
    "    barmode='group',\n",
    "    bargap=0.15,\n",
    "    bargroupgap=0.0,\n",
    ")\n",
    "\n",
    "fig.update_xaxes(\n",
    "    tickfont=dict(color=GRAY7, size=15, family=\"Arial\"),\n",
    "    tickcolor=GRAY7,\n",
    "    showticklabels=False,\n",
    "    range=[-0.2, 2.5]\n",
    ")\n",
    "\n",
    "fig.update_yaxes(\n",
    "    tickfont=dict(color=GRAY3, size=20, family=\"Arial\"),\n",
    "    tickcolor=GRAY7,\n",
    "    range=[-0.5, 4.5]\n",
    ")"
   ]
  },
  {
   "cell_type": "markdown",
   "id": "c9f04da8",
   "metadata": {},
   "source": [
    "## Output"
   ]
  },
  {
   "cell_type": "code",
   "execution_count": 7,
   "id": "7776fe8a",
   "metadata": {},
   "outputs": [],
   "source": [
    "fig.write_image(\"plot/plot 3-16.png\", format=\"png\", width=900, height=600, scale=3)"
   ]
  }
 ],
 "metadata": {
  "kernelspec": {
   "display_name": "data",
   "language": "python",
   "name": "python3"
  },
  "language_info": {
   "codemirror_mode": {
    "name": "ipython",
    "version": 3
   },
   "file_extension": ".py",
   "mimetype": "text/x-python",
   "name": "python",
   "nbconvert_exporter": "python",
   "pygments_lexer": "ipython3",
   "version": "3.10.4"
  },
  "vscode": {
   "interpreter": {
    "hash": "87aa2df5676ce3636fa5c3ad845736f33e5dcc95e958fafe10accbd91339fdaa"
   }
  }
 },
 "nbformat": 4,
 "nbformat_minor": 5
}
