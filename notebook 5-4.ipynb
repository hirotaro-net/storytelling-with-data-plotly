{
 "cells": [
  {
   "cell_type": "markdown",
   "id": "945bbfc2",
   "metadata": {},
   "source": [
    "## Required Modules"
   ]
  },
  {
   "cell_type": "code",
   "execution_count": 1,
   "id": "3ff355c6",
   "metadata": {},
   "outputs": [],
   "source": [
    "import numpy as np\n",
    "import pandas as pd\n",
    "import plotly.graph_objects as go"
   ]
  },
  {
   "cell_type": "markdown",
   "id": "ad865108",
   "metadata": {},
   "source": [
    "## Color Palette"
   ]
  },
  {
   "cell_type": "code",
   "execution_count": 2,
   "id": "2fa5f557",
   "metadata": {},
   "outputs": [],
   "source": [
    "from colors import *"
   ]
  },
  {
   "cell_type": "markdown",
   "id": "ad547d74",
   "metadata": {},
   "source": [
    "## Data"
   ]
  },
  {
   "cell_type": "code",
   "execution_count": 3,
   "id": "6363116b",
   "metadata": {
    "scrolled": false
   },
   "outputs": [],
   "source": [
    "df = pd.read_csv(\"data/data 5-4.csv\")"
   ]
  },
  {
   "cell_type": "code",
   "execution_count": 4,
   "id": "29dbacf2",
   "metadata": {
    "scrolled": false
   },
   "outputs": [],
   "source": [
    "df = df.set_index('Category')"
   ]
  },
  {
   "cell_type": "code",
   "execution_count": 5,
   "id": "3928c6c6",
   "metadata": {},
   "outputs": [
    {
     "data": {
      "text/html": [
       "<div>\n",
       "<style scoped>\n",
       "    .dataframe tbody tr th:only-of-type {\n",
       "        vertical-align: middle;\n",
       "    }\n",
       "\n",
       "    .dataframe tbody tr th {\n",
       "        vertical-align: top;\n",
       "    }\n",
       "\n",
       "    .dataframe thead th {\n",
       "        text-align: right;\n",
       "    }\n",
       "</style>\n",
       "<table border=\"1\" class=\"dataframe\">\n",
       "  <thead>\n",
       "    <tr style=\"text-align: right;\">\n",
       "      <th></th>\n",
       "      <th>2008</th>\n",
       "      <th>2009</th>\n",
       "      <th>2010</th>\n",
       "      <th>2011</th>\n",
       "      <th>2012</th>\n",
       "    </tr>\n",
       "    <tr>\n",
       "      <th>Category</th>\n",
       "      <th></th>\n",
       "      <th></th>\n",
       "      <th></th>\n",
       "      <th></th>\n",
       "      <th></th>\n",
       "    </tr>\n",
       "  </thead>\n",
       "  <tbody>\n",
       "    <tr>\n",
       "      <th>All</th>\n",
       "      <td>41.4</td>\n",
       "      <td>40.0</td>\n",
       "      <td>38.0</td>\n",
       "      <td>37.0</td>\n",
       "      <td>36.7</td>\n",
       "    </tr>\n",
       "    <tr>\n",
       "      <th>Less than high school</th>\n",
       "      <td>26.8</td>\n",
       "      <td>25.0</td>\n",
       "      <td>23.0</td>\n",
       "      <td>23.2</td>\n",
       "      <td>23.4</td>\n",
       "    </tr>\n",
       "    <tr>\n",
       "      <th>High school graduate</th>\n",
       "      <td>35.9</td>\n",
       "      <td>34.0</td>\n",
       "      <td>31.0</td>\n",
       "      <td>30.5</td>\n",
       "      <td>30.1</td>\n",
       "    </tr>\n",
       "    <tr>\n",
       "      <th>Some college</th>\n",
       "      <td>42.5</td>\n",
       "      <td>41.0</td>\n",
       "      <td>37.0</td>\n",
       "      <td>36.7</td>\n",
       "      <td>36.5</td>\n",
       "    </tr>\n",
       "    <tr>\n",
       "      <th>Bachelor's degree or more</th>\n",
       "      <td>61.5</td>\n",
       "      <td>61.0</td>\n",
       "      <td>59.0</td>\n",
       "      <td>55.0</td>\n",
       "      <td>56.7</td>\n",
       "    </tr>\n",
       "  </tbody>\n",
       "</table>\n",
       "</div>"
      ],
      "text/plain": [
       "                           2008  2009  2010  2011  2012\n",
       "Category                                               \n",
       "All                        41.4  40.0  38.0  37.0  36.7\n",
       "Less than high school      26.8  25.0  23.0  23.2  23.4\n",
       "High school graduate       35.9  34.0  31.0  30.5  30.1\n",
       "Some college               42.5  41.0  37.0  36.7  36.5\n",
       "Bachelor's degree or more  61.5  61.0  59.0  55.0  56.7"
      ]
     },
     "execution_count": 5,
     "metadata": {},
     "output_type": "execute_result"
    }
   ],
   "source": [
    "df"
   ]
  },
  {
   "cell_type": "markdown",
   "id": "8577fcdf",
   "metadata": {},
   "source": [
    "## Data Visualization "
   ]
  },
  {
   "cell_type": "code",
   "execution_count": 6,
   "id": "d423a6c4",
   "metadata": {
    "scrolled": false
   },
   "outputs": [
    {
     "data": {
      "application/vnd.plotly.v1+json": {
       "config": {
        "plotlyServerURL": "https://plot.ly"
       },
       "data": [
        {
         "line": {
          "color": "#929497",
          "width": 10
         },
         "mode": "lines",
         "type": "scatter",
         "x": [
          "2008",
          "2009",
          "2010",
          "2011",
          "2012"
         ],
         "y": [
          26.8,
          25,
          23,
          23.2,
          23.4
         ]
        },
        {
         "marker": {
          "color": "#929497",
          "size": 20
         },
         "mode": "markers",
         "type": "scatter",
         "x": [
          "2008",
          "2012"
         ],
         "y": [
          26.8,
          36.7
         ]
        },
        {
         "line": {
          "color": "#929497",
          "width": 10
         },
         "mode": "lines",
         "type": "scatter",
         "x": [
          "2008",
          "2009",
          "2010",
          "2011",
          "2012"
         ],
         "y": [
          35.9,
          34,
          31,
          30.5,
          30.1
         ]
        },
        {
         "marker": {
          "color": "#929497",
          "size": 20
         },
         "mode": "markers",
         "type": "scatter",
         "x": [
          "2008",
          "2012"
         ],
         "y": [
          35.9,
          23.4
         ]
        },
        {
         "line": {
          "color": "#929497",
          "width": 10
         },
         "mode": "lines",
         "type": "scatter",
         "x": [
          "2008",
          "2009",
          "2010",
          "2011",
          "2012"
         ],
         "y": [
          42.5,
          41,
          37,
          36.7,
          36.5
         ]
        },
        {
         "marker": {
          "color": "#929497",
          "size": 20
         },
         "mode": "markers",
         "type": "scatter",
         "x": [
          "2008",
          "2012"
         ],
         "y": [
          42.5,
          30.1
         ]
        },
        {
         "line": {
          "color": "#F79747",
          "width": 10
         },
         "mode": "lines",
         "type": "scatter",
         "x": [
          "2008",
          "2009",
          "2010",
          "2011",
          "2012"
         ],
         "y": [
          61.5,
          61,
          59,
          55,
          56.7
         ]
        },
        {
         "marker": {
          "color": "#F79747",
          "size": 20
         },
         "mode": "markers",
         "type": "scatter",
         "x": [
          "2008",
          "2012"
         ],
         "y": [
          61.5,
          56.7
         ]
        }
       ],
       "layout": {
        "annotations": [
         {
          "font": {
           "color": "#929497",
           "family": "Arial",
           "size": 25
          },
          "showarrow": false,
          "text": "27",
          "x": 0,
          "xshift": -35,
          "y": 26.8
         },
         {
          "font": {
           "color": "#929497",
           "family": "Arial",
           "size": 25
          },
          "showarrow": false,
          "text": "23",
          "x": 4,
          "xshift": 35,
          "y": 23.4
         },
         {
          "align": "right",
          "font": {
           "color": "#929497",
           "family": "Arial",
           "size": 25
          },
          "showarrow": false,
          "text": "Less than high school",
          "width": 300,
          "x": 0,
          "xshift": -210,
          "y": 26.8
         },
         {
          "font": {
           "color": "#929497",
           "family": "Arial",
           "size": 25
          },
          "showarrow": false,
          "text": "36",
          "x": 0,
          "xshift": -35,
          "y": 35.9
         },
         {
          "font": {
           "color": "#929497",
           "family": "Arial",
           "size": 25
          },
          "showarrow": false,
          "text": "30",
          "x": 4,
          "xshift": 35,
          "y": 30.1
         },
         {
          "align": "right",
          "font": {
           "color": "#929497",
           "family": "Arial",
           "size": 25
          },
          "showarrow": false,
          "text": "High school graduate",
          "width": 300,
          "x": 0,
          "xshift": -210,
          "y": 35.9
         },
         {
          "font": {
           "color": "#929497",
           "family": "Arial",
           "size": 25
          },
          "showarrow": false,
          "text": "42",
          "x": 0,
          "xshift": -35,
          "y": 42.5
         },
         {
          "font": {
           "color": "#929497",
           "family": "Arial",
           "size": 25
          },
          "showarrow": false,
          "text": "36",
          "x": 4,
          "xshift": 35,
          "y": 36.5
         },
         {
          "align": "right",
          "font": {
           "color": "#929497",
           "family": "Arial",
           "size": 25
          },
          "showarrow": false,
          "text": "Some college",
          "width": 300,
          "x": 0,
          "xshift": -210,
          "y": 42.5
         },
         {
          "font": {
           "color": "#F79747",
           "family": "Arial",
           "size": 25
          },
          "showarrow": false,
          "text": "62",
          "x": 0,
          "xshift": -35,
          "y": 61.5
         },
         {
          "font": {
           "color": "#F79747",
           "family": "Arial",
           "size": 25
          },
          "showarrow": false,
          "text": "57",
          "x": 4,
          "xshift": 35,
          "y": 56.7
         },
         {
          "align": "right",
          "font": {
           "color": "#F79747",
           "family": "Arial",
           "size": 25
          },
          "showarrow": false,
          "text": "Bachelor's degree or more",
          "width": 300,
          "x": 0,
          "xshift": -210,
          "y": 61.5
         },
         {
          "align": "left",
          "font": {
           "color": "#555655",
           "family": "Arial",
           "size": 23
          },
          "showarrow": false,
          "text": "New marriage rate by education",
          "x": 0,
          "xshift": -180,
          "y": 65,
          "yshift": 50
         },
         {
          "align": "left",
          "font": {
           "color": "#929497",
           "family": "Arial",
           "size": 23
          },
          "showarrow": false,
          "text": "Number of newly married adults per 1,000 marriage eligible adults",
          "x": 0,
          "xshift": -7,
          "y": 65,
          "yshift": 25
         },
         {
          "align": "left",
          "font": {
           "color": "#929497",
           "family": "Arial",
           "size": 20
          },
          "showarrow": false,
          "text": "Note: Marriage eligible includes the newly married plus those widowed, divorced<br>Source: US Census<br>Adapted from PEW RESERACH CENTER",
          "x": 0,
          "xshift": 0,
          "y": 0,
          "yshift": -70
         }
        ],
        "height": 720,
        "margin": {
         "b": 212,
         "l": 324,
         "r": 36,
         "t": 124
        },
        "paper_bgcolor": "white",
        "plot_bgcolor": "white",
        "showlegend": false,
        "template": {
         "data": {
          "bar": [
           {
            "error_x": {
             "color": "#2a3f5f"
            },
            "error_y": {
             "color": "#2a3f5f"
            },
            "marker": {
             "line": {
              "color": "#E5ECF6",
              "width": 0.5
             },
             "pattern": {
              "fillmode": "overlay",
              "size": 10,
              "solidity": 0.2
             }
            },
            "type": "bar"
           }
          ],
          "barpolar": [
           {
            "marker": {
             "line": {
              "color": "#E5ECF6",
              "width": 0.5
             },
             "pattern": {
              "fillmode": "overlay",
              "size": 10,
              "solidity": 0.2
             }
            },
            "type": "barpolar"
           }
          ],
          "carpet": [
           {
            "aaxis": {
             "endlinecolor": "#2a3f5f",
             "gridcolor": "white",
             "linecolor": "white",
             "minorgridcolor": "white",
             "startlinecolor": "#2a3f5f"
            },
            "baxis": {
             "endlinecolor": "#2a3f5f",
             "gridcolor": "white",
             "linecolor": "white",
             "minorgridcolor": "white",
             "startlinecolor": "#2a3f5f"
            },
            "type": "carpet"
           }
          ],
          "choropleth": [
           {
            "colorbar": {
             "outlinewidth": 0,
             "ticks": ""
            },
            "type": "choropleth"
           }
          ],
          "contour": [
           {
            "colorbar": {
             "outlinewidth": 0,
             "ticks": ""
            },
            "colorscale": [
             [
              0,
              "#0d0887"
             ],
             [
              0.1111111111111111,
              "#46039f"
             ],
             [
              0.2222222222222222,
              "#7201a8"
             ],
             [
              0.3333333333333333,
              "#9c179e"
             ],
             [
              0.4444444444444444,
              "#bd3786"
             ],
             [
              0.5555555555555556,
              "#d8576b"
             ],
             [
              0.6666666666666666,
              "#ed7953"
             ],
             [
              0.7777777777777778,
              "#fb9f3a"
             ],
             [
              0.8888888888888888,
              "#fdca26"
             ],
             [
              1,
              "#f0f921"
             ]
            ],
            "type": "contour"
           }
          ],
          "contourcarpet": [
           {
            "colorbar": {
             "outlinewidth": 0,
             "ticks": ""
            },
            "type": "contourcarpet"
           }
          ],
          "heatmap": [
           {
            "colorbar": {
             "outlinewidth": 0,
             "ticks": ""
            },
            "colorscale": [
             [
              0,
              "#0d0887"
             ],
             [
              0.1111111111111111,
              "#46039f"
             ],
             [
              0.2222222222222222,
              "#7201a8"
             ],
             [
              0.3333333333333333,
              "#9c179e"
             ],
             [
              0.4444444444444444,
              "#bd3786"
             ],
             [
              0.5555555555555556,
              "#d8576b"
             ],
             [
              0.6666666666666666,
              "#ed7953"
             ],
             [
              0.7777777777777778,
              "#fb9f3a"
             ],
             [
              0.8888888888888888,
              "#fdca26"
             ],
             [
              1,
              "#f0f921"
             ]
            ],
            "type": "heatmap"
           }
          ],
          "heatmapgl": [
           {
            "colorbar": {
             "outlinewidth": 0,
             "ticks": ""
            },
            "colorscale": [
             [
              0,
              "#0d0887"
             ],
             [
              0.1111111111111111,
              "#46039f"
             ],
             [
              0.2222222222222222,
              "#7201a8"
             ],
             [
              0.3333333333333333,
              "#9c179e"
             ],
             [
              0.4444444444444444,
              "#bd3786"
             ],
             [
              0.5555555555555556,
              "#d8576b"
             ],
             [
              0.6666666666666666,
              "#ed7953"
             ],
             [
              0.7777777777777778,
              "#fb9f3a"
             ],
             [
              0.8888888888888888,
              "#fdca26"
             ],
             [
              1,
              "#f0f921"
             ]
            ],
            "type": "heatmapgl"
           }
          ],
          "histogram": [
           {
            "marker": {
             "pattern": {
              "fillmode": "overlay",
              "size": 10,
              "solidity": 0.2
             }
            },
            "type": "histogram"
           }
          ],
          "histogram2d": [
           {
            "colorbar": {
             "outlinewidth": 0,
             "ticks": ""
            },
            "colorscale": [
             [
              0,
              "#0d0887"
             ],
             [
              0.1111111111111111,
              "#46039f"
             ],
             [
              0.2222222222222222,
              "#7201a8"
             ],
             [
              0.3333333333333333,
              "#9c179e"
             ],
             [
              0.4444444444444444,
              "#bd3786"
             ],
             [
              0.5555555555555556,
              "#d8576b"
             ],
             [
              0.6666666666666666,
              "#ed7953"
             ],
             [
              0.7777777777777778,
              "#fb9f3a"
             ],
             [
              0.8888888888888888,
              "#fdca26"
             ],
             [
              1,
              "#f0f921"
             ]
            ],
            "type": "histogram2d"
           }
          ],
          "histogram2dcontour": [
           {
            "colorbar": {
             "outlinewidth": 0,
             "ticks": ""
            },
            "colorscale": [
             [
              0,
              "#0d0887"
             ],
             [
              0.1111111111111111,
              "#46039f"
             ],
             [
              0.2222222222222222,
              "#7201a8"
             ],
             [
              0.3333333333333333,
              "#9c179e"
             ],
             [
              0.4444444444444444,
              "#bd3786"
             ],
             [
              0.5555555555555556,
              "#d8576b"
             ],
             [
              0.6666666666666666,
              "#ed7953"
             ],
             [
              0.7777777777777778,
              "#fb9f3a"
             ],
             [
              0.8888888888888888,
              "#fdca26"
             ],
             [
              1,
              "#f0f921"
             ]
            ],
            "type": "histogram2dcontour"
           }
          ],
          "mesh3d": [
           {
            "colorbar": {
             "outlinewidth": 0,
             "ticks": ""
            },
            "type": "mesh3d"
           }
          ],
          "parcoords": [
           {
            "line": {
             "colorbar": {
              "outlinewidth": 0,
              "ticks": ""
             }
            },
            "type": "parcoords"
           }
          ],
          "pie": [
           {
            "automargin": true,
            "type": "pie"
           }
          ],
          "scatter": [
           {
            "marker": {
             "colorbar": {
              "outlinewidth": 0,
              "ticks": ""
             }
            },
            "type": "scatter"
           }
          ],
          "scatter3d": [
           {
            "line": {
             "colorbar": {
              "outlinewidth": 0,
              "ticks": ""
             }
            },
            "marker": {
             "colorbar": {
              "outlinewidth": 0,
              "ticks": ""
             }
            },
            "type": "scatter3d"
           }
          ],
          "scattercarpet": [
           {
            "marker": {
             "colorbar": {
              "outlinewidth": 0,
              "ticks": ""
             }
            },
            "type": "scattercarpet"
           }
          ],
          "scattergeo": [
           {
            "marker": {
             "colorbar": {
              "outlinewidth": 0,
              "ticks": ""
             }
            },
            "type": "scattergeo"
           }
          ],
          "scattergl": [
           {
            "marker": {
             "colorbar": {
              "outlinewidth": 0,
              "ticks": ""
             }
            },
            "type": "scattergl"
           }
          ],
          "scattermapbox": [
           {
            "marker": {
             "colorbar": {
              "outlinewidth": 0,
              "ticks": ""
             }
            },
            "type": "scattermapbox"
           }
          ],
          "scatterpolar": [
           {
            "marker": {
             "colorbar": {
              "outlinewidth": 0,
              "ticks": ""
             }
            },
            "type": "scatterpolar"
           }
          ],
          "scatterpolargl": [
           {
            "marker": {
             "colorbar": {
              "outlinewidth": 0,
              "ticks": ""
             }
            },
            "type": "scatterpolargl"
           }
          ],
          "scatterternary": [
           {
            "marker": {
             "colorbar": {
              "outlinewidth": 0,
              "ticks": ""
             }
            },
            "type": "scatterternary"
           }
          ],
          "surface": [
           {
            "colorbar": {
             "outlinewidth": 0,
             "ticks": ""
            },
            "colorscale": [
             [
              0,
              "#0d0887"
             ],
             [
              0.1111111111111111,
              "#46039f"
             ],
             [
              0.2222222222222222,
              "#7201a8"
             ],
             [
              0.3333333333333333,
              "#9c179e"
             ],
             [
              0.4444444444444444,
              "#bd3786"
             ],
             [
              0.5555555555555556,
              "#d8576b"
             ],
             [
              0.6666666666666666,
              "#ed7953"
             ],
             [
              0.7777777777777778,
              "#fb9f3a"
             ],
             [
              0.8888888888888888,
              "#fdca26"
             ],
             [
              1,
              "#f0f921"
             ]
            ],
            "type": "surface"
           }
          ],
          "table": [
           {
            "cells": {
             "fill": {
              "color": "#EBF0F8"
             },
             "line": {
              "color": "white"
             }
            },
            "header": {
             "fill": {
              "color": "#C8D4E3"
             },
             "line": {
              "color": "white"
             }
            },
            "type": "table"
           }
          ]
         },
         "layout": {
          "annotationdefaults": {
           "arrowcolor": "#2a3f5f",
           "arrowhead": 0,
           "arrowwidth": 1
          },
          "autotypenumbers": "strict",
          "coloraxis": {
           "colorbar": {
            "outlinewidth": 0,
            "ticks": ""
           }
          },
          "colorscale": {
           "diverging": [
            [
             0,
             "#8e0152"
            ],
            [
             0.1,
             "#c51b7d"
            ],
            [
             0.2,
             "#de77ae"
            ],
            [
             0.3,
             "#f1b6da"
            ],
            [
             0.4,
             "#fde0ef"
            ],
            [
             0.5,
             "#f7f7f7"
            ],
            [
             0.6,
             "#e6f5d0"
            ],
            [
             0.7,
             "#b8e186"
            ],
            [
             0.8,
             "#7fbc41"
            ],
            [
             0.9,
             "#4d9221"
            ],
            [
             1,
             "#276419"
            ]
           ],
           "sequential": [
            [
             0,
             "#0d0887"
            ],
            [
             0.1111111111111111,
             "#46039f"
            ],
            [
             0.2222222222222222,
             "#7201a8"
            ],
            [
             0.3333333333333333,
             "#9c179e"
            ],
            [
             0.4444444444444444,
             "#bd3786"
            ],
            [
             0.5555555555555556,
             "#d8576b"
            ],
            [
             0.6666666666666666,
             "#ed7953"
            ],
            [
             0.7777777777777778,
             "#fb9f3a"
            ],
            [
             0.8888888888888888,
             "#fdca26"
            ],
            [
             1,
             "#f0f921"
            ]
           ],
           "sequentialminus": [
            [
             0,
             "#0d0887"
            ],
            [
             0.1111111111111111,
             "#46039f"
            ],
            [
             0.2222222222222222,
             "#7201a8"
            ],
            [
             0.3333333333333333,
             "#9c179e"
            ],
            [
             0.4444444444444444,
             "#bd3786"
            ],
            [
             0.5555555555555556,
             "#d8576b"
            ],
            [
             0.6666666666666666,
             "#ed7953"
            ],
            [
             0.7777777777777778,
             "#fb9f3a"
            ],
            [
             0.8888888888888888,
             "#fdca26"
            ],
            [
             1,
             "#f0f921"
            ]
           ]
          },
          "colorway": [
           "#636efa",
           "#EF553B",
           "#00cc96",
           "#ab63fa",
           "#FFA15A",
           "#19d3f3",
           "#FF6692",
           "#B6E880",
           "#FF97FF",
           "#FECB52"
          ],
          "font": {
           "color": "#2a3f5f"
          },
          "geo": {
           "bgcolor": "white",
           "lakecolor": "white",
           "landcolor": "#E5ECF6",
           "showlakes": true,
           "showland": true,
           "subunitcolor": "white"
          },
          "hoverlabel": {
           "align": "left"
          },
          "hovermode": "closest",
          "mapbox": {
           "style": "light"
          },
          "paper_bgcolor": "white",
          "plot_bgcolor": "#E5ECF6",
          "polar": {
           "angularaxis": {
            "gridcolor": "white",
            "linecolor": "white",
            "ticks": ""
           },
           "bgcolor": "#E5ECF6",
           "radialaxis": {
            "gridcolor": "white",
            "linecolor": "white",
            "ticks": ""
           }
          },
          "scene": {
           "xaxis": {
            "backgroundcolor": "#E5ECF6",
            "gridcolor": "white",
            "gridwidth": 2,
            "linecolor": "white",
            "showbackground": true,
            "ticks": "",
            "zerolinecolor": "white"
           },
           "yaxis": {
            "backgroundcolor": "#E5ECF6",
            "gridcolor": "white",
            "gridwidth": 2,
            "linecolor": "white",
            "showbackground": true,
            "ticks": "",
            "zerolinecolor": "white"
           },
           "zaxis": {
            "backgroundcolor": "#E5ECF6",
            "gridcolor": "white",
            "gridwidth": 2,
            "linecolor": "white",
            "showbackground": true,
            "ticks": "",
            "zerolinecolor": "white"
           }
          },
          "shapedefaults": {
           "line": {
            "color": "#2a3f5f"
           }
          },
          "ternary": {
           "aaxis": {
            "gridcolor": "white",
            "linecolor": "white",
            "ticks": ""
           },
           "baxis": {
            "gridcolor": "white",
            "linecolor": "white",
            "ticks": ""
           },
           "bgcolor": "#E5ECF6",
           "caxis": {
            "gridcolor": "white",
            "linecolor": "white",
            "ticks": ""
           }
          },
          "title": {
           "x": 0.05
          },
          "xaxis": {
           "automargin": true,
           "gridcolor": "white",
           "linecolor": "white",
           "ticks": "",
           "title": {
            "standoff": 15
           },
           "zerolinecolor": "white",
           "zerolinewidth": 2
          },
          "yaxis": {
           "automargin": true,
           "gridcolor": "white",
           "linecolor": "white",
           "ticks": "",
           "title": {
            "standoff": 15
           },
           "zerolinecolor": "white",
           "zerolinewidth": 2
          }
         }
        },
        "width": 840,
        "xaxis": {
         "linecolor": "#929497",
         "range": [
          -0.5,
          4.5
         ],
         "tickcolor": "#A6A6A5",
         "tickfont": {
          "color": "#555655",
          "family": "Arial",
          "size": 18
         },
         "ticks": "outside"
        },
        "yaxis": {
         "range": [
          0,
          65
         ],
         "showticklabels": false,
         "tickcolor": "#A6A6A5",
         "tickfont": {
          "color": "#929497",
          "family": "Arial",
          "size": 18
         }
        }
       }
      }
     },
     "metadata": {},
     "output_type": "display_data"
    }
   ],
   "source": [
    "fig = go.Figure()\n",
    "\n",
    "# Plot -------------------------\n",
    "for i in range(3):\n",
    "    fig.add_scatter(\n",
    "        x=df.columns,\n",
    "        y=df.iloc[i+1, :].values,\n",
    "        mode=\"lines\",\n",
    "        line=dict(color=GRAY7, width=10),\n",
    "    )\n",
    "    \n",
    "    fig.add_scatter(\n",
    "        x=[df.columns.values[0], df.columns.values[-1]],\n",
    "        y=[df.iloc[i+1, :].values[0], df.iloc[i, :].values[-1]],\n",
    "        mode='markers',\n",
    "        marker=dict(color=GRAY7, size=20),\n",
    "    )\n",
    "\n",
    "fig.add_scatter(\n",
    "    x=df.columns,\n",
    "    y=df.iloc[4, :].values,\n",
    "    mode=\"lines\",\n",
    "    line=dict(color=ORANGE1, width=10),\n",
    ")\n",
    "    \n",
    "fig.add_scatter(\n",
    "    x=[df.columns.values[0], df.columns.values[-1]],\n",
    "    y=[df.iloc[4, :].values[0], df.iloc[4, :].values[-1]],\n",
    "    mode='markers',\n",
    "    marker=dict(color=ORANGE1, size=20),\n",
    ")\n",
    "\n",
    "# Annotation -------------------\n",
    "for i in range(4):\n",
    "    if i == 3:\n",
    "        fig.add_annotation(\n",
    "            text=int(round(df.iloc[i+1, :].values[0], 0)),\n",
    "            font=dict(color=ORANGE1, size=25, family=\"Arial\"),\n",
    "            x=0,\n",
    "            y=df.iloc[i+1, :].values[0],\n",
    "            xshift=-35,\n",
    "            showarrow=False,\n",
    "        )\n",
    "        \n",
    "        fig.add_annotation(\n",
    "            text=int(round(df.iloc[i+1, :].values[-1], 0)),\n",
    "            font=dict(color=ORANGE1, size=25, family=\"Arial\"),\n",
    "            x=4,\n",
    "            y=df.iloc[i+1, :].values[-1],\n",
    "            xshift=35,\n",
    "            showarrow=False,\n",
    "        )\n",
    "        \n",
    "        fig.add_annotation(\n",
    "            text=df.index.values[i+1],\n",
    "            align='right',\n",
    "            width=300,\n",
    "            font=dict(color=ORANGE1, size=25, family=\"Arial\"),\n",
    "            x=0,\n",
    "            y=df.iloc[i+1, :].values[0],\n",
    "            xshift=-210,\n",
    "            showarrow=False,\n",
    "        )\n",
    "    else:\n",
    "        fig.add_annotation(\n",
    "            text=int(round(df.iloc[i+1, :].values[0], 0)),\n",
    "            font=dict(color=GRAY7, size=25, family=\"Arial\"),\n",
    "            x=0,\n",
    "            y=df.iloc[i+1, :].values[0],\n",
    "            xshift=-35,\n",
    "            showarrow=False,\n",
    "        )\n",
    "        \n",
    "        fig.add_annotation(\n",
    "            text=int(round(df.iloc[i+1, :].values[-1], 0)),\n",
    "            font=dict(color=GRAY7, size=25, family=\"Arial\"),\n",
    "            x=4,\n",
    "            y=df.iloc[i+1, :].values[-1],\n",
    "            xshift=35,\n",
    "            showarrow=False,\n",
    "        )\n",
    "        \n",
    "        fig.add_annotation(\n",
    "            text=df.index.values[i+1],\n",
    "            align='right',\n",
    "            width=300,\n",
    "            font=dict(color=GRAY7, size=25, family=\"Arial\"),\n",
    "            x=0,\n",
    "            y=df.iloc[i+1, :].values[0],\n",
    "            xshift=-210,\n",
    "            showarrow=False,\n",
    "        )\n",
    "\n",
    "# Text -------------------------\n",
    "fig.add_annotation(\n",
    "    text=\"New marriage rate by education\",\n",
    "    align='left',\n",
    "    font=dict(color=GRAY3, size=23, family=\"Arial\"),\n",
    "    x=0,\n",
    "    y=65,\n",
    "    xshift=-180,\n",
    "    yshift=50,\n",
    "    showarrow=False\n",
    ")\n",
    "\n",
    "fig.add_annotation(\n",
    "    text=\"Number of newly married adults per 1,000 marriage eligible adults\",\n",
    "    align='left',\n",
    "    font=dict(color=GRAY7, size=23, family=\"Arial\"),\n",
    "    x=0,\n",
    "    y=65,\n",
    "    xshift=-7,\n",
    "    yshift=25,\n",
    "    showarrow=False\n",
    ")\n",
    "\n",
    "fig.add_annotation(\n",
    "    text=\"Note: Marriage eligible includes the newly married plus those widowed, divorced<br>\\\n",
    "Source: US Census<br>\\\n",
    "Adapted from PEW RESERACH CENTER\",\n",
    "    align='left',\n",
    "    font=dict(color=GRAY7, size=20, family=\"Arial\"),\n",
    "    x=0,\n",
    "    y=0,\n",
    "    xshift=0,\n",
    "    yshift=-70,\n",
    "    showarrow=False\n",
    ")\n",
    "\n",
    "# Layout -----------------------\n",
    "fig.update_layout(\n",
    "    width=840,\n",
    "    height=720,\n",
    "    margin=dict(t=124, b=212, l=324, r=36),\n",
    "    paper_bgcolor=\"white\",\n",
    "    plot_bgcolor=\"white\",\n",
    "    showlegend=False,\n",
    ")\n",
    "\n",
    "fig.update_xaxes(\n",
    "    tickfont=dict(color=GRAY3, size=18, family=\"Arial\"),\n",
    "    tickcolor=GRAY8,\n",
    "    ticks='outside',\n",
    "    linecolor=GRAY7,\n",
    "    range=[-0.5, 4.5]\n",
    ")\n",
    "\n",
    "fig.update_yaxes(\n",
    "    tickfont=dict(color=GRAY7, size=18, family=\"Arial\"),\n",
    "    tickcolor=GRAY8,\n",
    "    showticklabels=False,\n",
    "    range=[0, 65],\n",
    ")"
   ]
  },
  {
   "cell_type": "markdown",
   "id": "c9f04da8",
   "metadata": {},
   "source": [
    "## Output"
   ]
  },
  {
   "cell_type": "code",
   "execution_count": 7,
   "id": "7776fe8a",
   "metadata": {},
   "outputs": [],
   "source": [
    "fig.write_image(\"plot/plot 5-4.png\", format=\"png\", width=840, height=720, scale=3)"
   ]
  }
 ],
 "metadata": {
  "kernelspec": {
   "display_name": "data",
   "language": "python",
   "name": "python3"
  },
  "language_info": {
   "codemirror_mode": {
    "name": "ipython",
    "version": 3
   },
   "file_extension": ".py",
   "mimetype": "text/x-python",
   "name": "python",
   "nbconvert_exporter": "python",
   "pygments_lexer": "ipython3",
   "version": "3.10.4"
  },
  "vscode": {
   "interpreter": {
    "hash": "87aa2df5676ce3636fa5c3ad845736f33e5dcc95e958fafe10accbd91339fdaa"
   }
  }
 },
 "nbformat": 4,
 "nbformat_minor": 5
}
