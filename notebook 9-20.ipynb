{
 "cells": [
  {
   "cell_type": "markdown",
   "id": "945bbfc2",
   "metadata": {},
   "source": [
    "## Required Modules"
   ]
  },
  {
   "cell_type": "code",
   "execution_count": 1,
   "id": "3ff355c6",
   "metadata": {},
   "outputs": [],
   "source": [
    "import numpy as np\n",
    "import pandas as pd\n",
    "import plotly.graph_objects as go"
   ]
  },
  {
   "cell_type": "markdown",
   "id": "ad865108",
   "metadata": {},
   "source": [
    "## Color Palette"
   ]
  },
  {
   "cell_type": "code",
   "execution_count": 2,
   "id": "2fa5f557",
   "metadata": {},
   "outputs": [],
   "source": [
    "from colors import *"
   ]
  },
  {
   "cell_type": "markdown",
   "id": "ad547d74",
   "metadata": {},
   "source": [
    "## Data"
   ]
  },
  {
   "cell_type": "code",
   "execution_count": 3,
   "id": "6363116b",
   "metadata": {
    "scrolled": false
   },
   "outputs": [],
   "source": [
    "df = pd.read_csv(\"data/data 9-20.csv\")"
   ]
  },
  {
   "cell_type": "code",
   "execution_count": 4,
   "id": "94bbe308",
   "metadata": {},
   "outputs": [],
   "source": [
    "df = df.sort_values(by='feature', ascending=False)"
   ]
  },
  {
   "cell_type": "code",
   "execution_count": 5,
   "id": "fef2eb30",
   "metadata": {},
   "outputs": [
    {
     "data": {
      "text/html": [
       "<div>\n",
       "<style scoped>\n",
       "    .dataframe tbody tr th:only-of-type {\n",
       "        vertical-align: middle;\n",
       "    }\n",
       "\n",
       "    .dataframe tbody tr th {\n",
       "        vertical-align: top;\n",
       "    }\n",
       "\n",
       "    .dataframe thead th {\n",
       "        text-align: right;\n",
       "    }\n",
       "</style>\n",
       "<table border=\"1\" class=\"dataframe\">\n",
       "  <thead>\n",
       "    <tr style=\"text-align: right;\">\n",
       "      <th></th>\n",
       "      <th>feature</th>\n",
       "      <th>Have not used</th>\n",
       "      <th>Not satisfied at all</th>\n",
       "      <th>Not very satisfied</th>\n",
       "      <th>Somewhat satisfied</th>\n",
       "      <th>Very satisfied</th>\n",
       "      <th>Completely satisfied</th>\n",
       "    </tr>\n",
       "  </thead>\n",
       "  <tbody>\n",
       "    <tr>\n",
       "      <th>14</th>\n",
       "      <td>Feature O</td>\n",
       "      <td>0.51</td>\n",
       "      <td>0.01</td>\n",
       "      <td>0.06</td>\n",
       "      <td>0.15</td>\n",
       "      <td>0.16</td>\n",
       "      <td>0.11</td>\n",
       "    </tr>\n",
       "    <tr>\n",
       "      <th>13</th>\n",
       "      <td>Feature N</td>\n",
       "      <td>0.26</td>\n",
       "      <td>0.09</td>\n",
       "      <td>0.14</td>\n",
       "      <td>0.24</td>\n",
       "      <td>0.17</td>\n",
       "      <td>0.10</td>\n",
       "    </tr>\n",
       "    <tr>\n",
       "      <th>12</th>\n",
       "      <td>Feature M</td>\n",
       "      <td>0.33</td>\n",
       "      <td>0.03</td>\n",
       "      <td>0.08</td>\n",
       "      <td>0.25</td>\n",
       "      <td>0.18</td>\n",
       "      <td>0.13</td>\n",
       "    </tr>\n",
       "    <tr>\n",
       "      <th>11</th>\n",
       "      <td>Feature L</td>\n",
       "      <td>0.29</td>\n",
       "      <td>0.01</td>\n",
       "      <td>0.04</td>\n",
       "      <td>0.23</td>\n",
       "      <td>0.27</td>\n",
       "      <td>0.16</td>\n",
       "    </tr>\n",
       "    <tr>\n",
       "      <th>10</th>\n",
       "      <td>Feature K</td>\n",
       "      <td>0.29</td>\n",
       "      <td>0.01</td>\n",
       "      <td>0.04</td>\n",
       "      <td>0.17</td>\n",
       "      <td>0.28</td>\n",
       "      <td>0.21</td>\n",
       "    </tr>\n",
       "    <tr>\n",
       "      <th>9</th>\n",
       "      <td>Feature J</td>\n",
       "      <td>0.02</td>\n",
       "      <td>0.08</td>\n",
       "      <td>0.14</td>\n",
       "      <td>0.24</td>\n",
       "      <td>0.27</td>\n",
       "      <td>0.25</td>\n",
       "    </tr>\n",
       "    <tr>\n",
       "      <th>8</th>\n",
       "      <td>Feature I</td>\n",
       "      <td>0.22</td>\n",
       "      <td>0.02</td>\n",
       "      <td>0.05</td>\n",
       "      <td>0.17</td>\n",
       "      <td>0.27</td>\n",
       "      <td>0.27</td>\n",
       "    </tr>\n",
       "    <tr>\n",
       "      <th>7</th>\n",
       "      <td>Feature H</td>\n",
       "      <td>0.13</td>\n",
       "      <td>0.01</td>\n",
       "      <td>0.06</td>\n",
       "      <td>0.23</td>\n",
       "      <td>0.32</td>\n",
       "      <td>0.25</td>\n",
       "    </tr>\n",
       "    <tr>\n",
       "      <th>6</th>\n",
       "      <td>Feature G</td>\n",
       "      <td>0.19</td>\n",
       "      <td>0.02</td>\n",
       "      <td>0.05</td>\n",
       "      <td>0.15</td>\n",
       "      <td>0.26</td>\n",
       "      <td>0.33</td>\n",
       "    </tr>\n",
       "    <tr>\n",
       "      <th>5</th>\n",
       "      <td>Feature F</td>\n",
       "      <td>0.14</td>\n",
       "      <td>0.01</td>\n",
       "      <td>0.05</td>\n",
       "      <td>0.20</td>\n",
       "      <td>0.35</td>\n",
       "      <td>0.25</td>\n",
       "    </tr>\n",
       "    <tr>\n",
       "      <th>4</th>\n",
       "      <td>Feature E</td>\n",
       "      <td>0.06</td>\n",
       "      <td>0.01</td>\n",
       "      <td>0.06</td>\n",
       "      <td>0.23</td>\n",
       "      <td>0.36</td>\n",
       "      <td>0.28</td>\n",
       "    </tr>\n",
       "    <tr>\n",
       "      <th>3</th>\n",
       "      <td>Feature D</td>\n",
       "      <td>0.08</td>\n",
       "      <td>0.01</td>\n",
       "      <td>0.04</td>\n",
       "      <td>0.21</td>\n",
       "      <td>0.37</td>\n",
       "      <td>0.29</td>\n",
       "    </tr>\n",
       "    <tr>\n",
       "      <th>2</th>\n",
       "      <td>Feature C</td>\n",
       "      <td>0.02</td>\n",
       "      <td>0.02</td>\n",
       "      <td>0.05</td>\n",
       "      <td>0.24</td>\n",
       "      <td>0.34</td>\n",
       "      <td>0.33</td>\n",
       "    </tr>\n",
       "    <tr>\n",
       "      <th>1</th>\n",
       "      <td>Feature B</td>\n",
       "      <td>0.00</td>\n",
       "      <td>0.02</td>\n",
       "      <td>0.02</td>\n",
       "      <td>0.13</td>\n",
       "      <td>0.36</td>\n",
       "      <td>0.47</td>\n",
       "    </tr>\n",
       "    <tr>\n",
       "      <th>0</th>\n",
       "      <td>Feature A</td>\n",
       "      <td>0.00</td>\n",
       "      <td>0.01</td>\n",
       "      <td>0.01</td>\n",
       "      <td>0.11</td>\n",
       "      <td>0.40</td>\n",
       "      <td>0.47</td>\n",
       "    </tr>\n",
       "  </tbody>\n",
       "</table>\n",
       "</div>"
      ],
      "text/plain": [
       "      feature  Have not used  Not satisfied at all  Not very satisfied  \\\n",
       "14  Feature O           0.51                  0.01                0.06   \n",
       "13  Feature N           0.26                  0.09                0.14   \n",
       "12  Feature M           0.33                  0.03                0.08   \n",
       "11  Feature L           0.29                  0.01                0.04   \n",
       "10  Feature K           0.29                  0.01                0.04   \n",
       "9   Feature J           0.02                  0.08                0.14   \n",
       "8   Feature I           0.22                  0.02                0.05   \n",
       "7   Feature H           0.13                  0.01                0.06   \n",
       "6   Feature G           0.19                  0.02                0.05   \n",
       "5   Feature F           0.14                  0.01                0.05   \n",
       "4   Feature E           0.06                  0.01                0.06   \n",
       "3   Feature D           0.08                  0.01                0.04   \n",
       "2   Feature C           0.02                  0.02                0.05   \n",
       "1   Feature B           0.00                  0.02                0.02   \n",
       "0   Feature A           0.00                  0.01                0.01   \n",
       "\n",
       "    Somewhat satisfied  Very satisfied  Completely satisfied  \n",
       "14                0.15            0.16                  0.11  \n",
       "13                0.24            0.17                  0.10  \n",
       "12                0.25            0.18                  0.13  \n",
       "11                0.23            0.27                  0.16  \n",
       "10                0.17            0.28                  0.21  \n",
       "9                 0.24            0.27                  0.25  \n",
       "8                 0.17            0.27                  0.27  \n",
       "7                 0.23            0.32                  0.25  \n",
       "6                 0.15            0.26                  0.33  \n",
       "5                 0.20            0.35                  0.25  \n",
       "4                 0.23            0.36                  0.28  \n",
       "3                 0.21            0.37                  0.29  \n",
       "2                 0.24            0.34                  0.33  \n",
       "1                 0.13            0.36                  0.47  \n",
       "0                 0.11            0.40                  0.47  "
      ]
     },
     "execution_count": 5,
     "metadata": {},
     "output_type": "execute_result"
    }
   ],
   "source": [
    "df"
   ]
  },
  {
   "cell_type": "markdown",
   "id": "8577fcdf",
   "metadata": {},
   "source": [
    "## Data Visualization "
   ]
  },
  {
   "cell_type": "code",
   "execution_count": 6,
   "id": "d423a6c4",
   "metadata": {
    "scrolled": false
   },
   "outputs": [
    {
     "data": {
      "application/vnd.plotly.v1+json": {
       "config": {
        "plotlyServerURL": "https://plot.ly"
       },
       "data": [
        {
         "marker": {
          "color": "#3b7d8d",
          "line": {
           "color": "white",
           "width": 2
          }
         },
         "name": "Have not used",
         "orientation": "h",
         "type": "bar",
         "x": [
          0.51
         ],
         "y": [
          "Feature O"
         ]
        },
        {
         "marker": {
          "color": "#95cadc",
          "line": {
           "color": "white",
           "width": 2
          }
         },
         "name": "Have not used",
         "orientation": "h",
         "type": "bar",
         "x": [
          0.26,
          0.33,
          0.29,
          0.29,
          0.02,
          0.22,
          0.13,
          0.19,
          0.14,
          0.06,
          0.08,
          0.02,
          0,
          0
         ],
         "y": [
          "Feature N",
          "Feature M",
          "Feature L",
          "Feature K",
          "Feature J",
          "Feature I",
          "Feature H",
          "Feature G",
          "Feature F",
          "Feature E",
          "Feature D",
          "Feature C",
          "Feature B",
          "Feature A"
         ]
        },
        {
         "marker": {
          "color": "#f2bc8f",
          "line": {
           "color": "white",
           "width": 2
          }
         },
         "name": "Not satisfied at all",
         "orientation": "h",
         "type": "bar",
         "x": [
          0.01
         ],
         "y": [
          "Feature O"
         ]
        },
        {
         "marker": {
          "color": "#df6033",
          "line": {
           "color": "white",
           "width": 2
          }
         },
         "name": "Not satisfied at all",
         "orientation": "h",
         "type": "bar",
         "x": [
          0.09
         ],
         "y": [
          "Feature N"
         ]
        },
        {
         "marker": {
          "color": "#f2bc8f",
          "line": {
           "color": "white",
           "width": 2
          }
         },
         "name": "Not satisfied at all",
         "orientation": "h",
         "type": "bar",
         "x": [
          0.03,
          0.01,
          0.01
         ],
         "y": [
          "Feature M",
          "Feature L",
          "Feature K"
         ]
        },
        {
         "marker": {
          "color": "#df6033",
          "line": {
           "color": "white",
           "width": 2
          }
         },
         "name": "Not satisfied at all",
         "orientation": "h",
         "type": "bar",
         "x": [
          0.08
         ],
         "y": [
          "Feature J"
         ]
        },
        {
         "marker": {
          "color": "#f2bc8f",
          "line": {
           "color": "white",
           "width": 2
          }
         },
         "name": "Not satisfied at all",
         "orientation": "h",
         "type": "bar",
         "x": [
          0.02,
          0.01,
          0.02,
          0.01,
          0.01,
          0.01,
          0.02,
          0.02,
          0.01
         ],
         "y": [
          "Feature I",
          "Feature H",
          "Feature G",
          "Feature F",
          "Feature E",
          "Feature D",
          "Feature C",
          "Feature B",
          "Feature A"
         ]
        },
        {
         "marker": {
          "color": "#f2bc8f",
          "line": {
           "color": "white",
           "width": 2
          }
         },
         "name": "Not very satisfied",
         "orientation": "h",
         "type": "bar",
         "x": [
          0.06
         ],
         "y": [
          "Feature O"
         ]
        },
        {
         "marker": {
          "color": "#df6033",
          "line": {
           "color": "white",
           "width": 2
          }
         },
         "name": "Not very satisfied",
         "orientation": "h",
         "type": "bar",
         "x": [
          0.14
         ],
         "y": [
          "Feature N"
         ]
        },
        {
         "marker": {
          "color": "#f2bc8f",
          "line": {
           "color": "white",
           "width": 2
          }
         },
         "name": "Not very satisfied",
         "orientation": "h",
         "type": "bar",
         "x": [
          0.08,
          0.04,
          0.04
         ],
         "y": [
          "Feature M",
          "Feature L",
          "Feature K"
         ]
        },
        {
         "marker": {
          "color": "#df6033",
          "line": {
           "color": "white",
           "width": 2
          }
         },
         "name": "Not very satisfied",
         "orientation": "h",
         "type": "bar",
         "x": [
          0.14
         ],
         "y": [
          "Feature J"
         ]
        },
        {
         "marker": {
          "color": "#f2bc8f",
          "line": {
           "color": "white",
           "width": 2
          }
         },
         "name": "Not very satisfied",
         "orientation": "h",
         "type": "bar",
         "x": [
          0.05,
          0.06,
          0.05,
          0.05,
          0.06,
          0.04,
          0.05,
          0.02,
          0.01
         ],
         "y": [
          "Feature I",
          "Feature H",
          "Feature G",
          "Feature F",
          "Feature E",
          "Feature D",
          "Feature C",
          "Feature B",
          "Feature A"
         ]
        },
        {
         "marker": {
          "color": "#BFBEBE",
          "line": {
           "color": "white",
           "width": 2
          }
         },
         "name": "Somewhat satisfied",
         "orientation": "h",
         "type": "bar",
         "x": [
          0.15,
          0.24,
          0.25,
          0.23,
          0.17,
          0.24,
          0.17,
          0.23,
          0.15,
          0.2,
          0.23,
          0.21,
          0.24,
          0.13,
          0.11
         ],
         "y": [
          "Feature O",
          "Feature N",
          "Feature M",
          "Feature L",
          "Feature K",
          "Feature J",
          "Feature I",
          "Feature H",
          "Feature G",
          "Feature F",
          "Feature E",
          "Feature D",
          "Feature C",
          "Feature B",
          "Feature A"
         ]
        },
        {
         "marker": {
          "color": "#92acc7",
          "line": {
           "color": "white",
           "width": 2
          }
         },
         "name": "Very satisfied",
         "orientation": "h",
         "type": "bar",
         "x": [
          0.16,
          0.17,
          0.18,
          0.27,
          0.28,
          0.27,
          0.27,
          0.32,
          0.26,
          0.35,
          0.36,
          0.37,
          0.34
         ],
         "y": [
          "Feature O",
          "Feature N",
          "Feature M",
          "Feature L",
          "Feature K",
          "Feature J",
          "Feature I",
          "Feature H",
          "Feature G",
          "Feature F",
          "Feature E",
          "Feature D",
          "Feature C"
         ]
        },
        {
         "marker": {
          "color": "#28446b",
          "line": {
           "color": "white",
           "width": 2
          }
         },
         "name": "Very satisfied",
         "orientation": "h",
         "type": "bar",
         "x": [
          0.36,
          0.4
         ],
         "y": [
          "Feature B",
          "Feature A"
         ]
        },
        {
         "marker": {
          "color": "#92acc7",
          "line": {
           "color": "white",
           "width": 2
          }
         },
         "name": "Completely satisfied",
         "orientation": "h",
         "type": "bar",
         "x": [
          0.11,
          0.1,
          0.13,
          0.16,
          0.21,
          0.25,
          0.27,
          0.25,
          0.33,
          0.25,
          0.28,
          0.29,
          0.33
         ],
         "y": [
          "Feature O",
          "Feature N",
          "Feature M",
          "Feature L",
          "Feature K",
          "Feature J",
          "Feature I",
          "Feature H",
          "Feature G",
          "Feature F",
          "Feature E",
          "Feature D",
          "Feature C"
         ]
        },
        {
         "marker": {
          "color": "#28446b",
          "line": {
           "color": "white",
           "width": 2
          }
         },
         "name": "Completely satisfied",
         "orientation": "h",
         "type": "bar",
         "x": [
          0.47,
          0.47
         ],
         "y": [
          "Feature B",
          "Feature A"
         ]
        }
       ],
       "layout": {
        "annotations": [
         {
          "align": "right",
          "font": {
           "color": "#555655",
           "family": "Arial",
           "size": 20
          },
          "showarrow": false,
          "text": "Feature A",
          "x": 0,
          "xshift": -70,
          "y": 14
         },
         {
          "align": "right",
          "font": {
           "color": "#555655",
           "family": "Arial",
           "size": 20
          },
          "showarrow": false,
          "text": "Feature B",
          "x": 0,
          "xshift": -70,
          "y": 13
         },
         {
          "align": "right",
          "font": {
           "color": "#555655",
           "family": "Arial",
           "size": 20
          },
          "showarrow": false,
          "text": "Feature C",
          "x": 0,
          "xshift": -70,
          "y": 12
         },
         {
          "align": "right",
          "font": {
           "color": "#555655",
           "family": "Arial",
           "size": 20
          },
          "showarrow": false,
          "text": "Feature D",
          "x": 0,
          "xshift": -70,
          "y": 11
         },
         {
          "align": "right",
          "font": {
           "color": "#555655",
           "family": "Arial",
           "size": 20
          },
          "showarrow": false,
          "text": "Feature E",
          "x": 0,
          "xshift": -70,
          "y": 10
         },
         {
          "align": "right",
          "font": {
           "color": "#555655",
           "family": "Arial",
           "size": 20
          },
          "showarrow": false,
          "text": "Feature F",
          "x": 0,
          "xshift": -70,
          "y": 9
         },
         {
          "align": "right",
          "font": {
           "color": "#555655",
           "family": "Arial",
           "size": 20
          },
          "showarrow": false,
          "text": "Feature G",
          "x": 0,
          "xshift": -70,
          "y": 8
         },
         {
          "align": "right",
          "font": {
           "color": "#555655",
           "family": "Arial",
           "size": 20
          },
          "showarrow": false,
          "text": "Feature H",
          "x": 0,
          "xshift": -70,
          "y": 7
         },
         {
          "align": "right",
          "font": {
           "color": "#555655",
           "family": "Arial",
           "size": 20
          },
          "showarrow": false,
          "text": "Feature I",
          "x": 0,
          "xshift": -70,
          "y": 6
         },
         {
          "align": "right",
          "font": {
           "color": "#555655",
           "family": "Arial",
           "size": 20
          },
          "showarrow": false,
          "text": "Feature J",
          "x": 0,
          "xshift": -70,
          "y": 5
         },
         {
          "align": "right",
          "font": {
           "color": "#555655",
           "family": "Arial",
           "size": 20
          },
          "showarrow": false,
          "text": "Feature K",
          "x": 0,
          "xshift": -70,
          "y": 4
         },
         {
          "align": "right",
          "font": {
           "color": "#555655",
           "family": "Arial",
           "size": 20
          },
          "showarrow": false,
          "text": "Feature L",
          "x": 0,
          "xshift": -70,
          "y": 3
         },
         {
          "align": "right",
          "font": {
           "color": "#555655",
           "family": "Arial",
           "size": 20
          },
          "showarrow": false,
          "text": "Feature M",
          "x": 0,
          "xshift": -70,
          "y": 2
         },
         {
          "align": "right",
          "font": {
           "color": "#555655",
           "family": "Arial",
           "size": 20
          },
          "showarrow": false,
          "text": "Feature N",
          "x": 0,
          "xshift": -70,
          "y": 1
         },
         {
          "align": "right",
          "font": {
           "color": "#555655",
           "family": "Arial",
           "size": 20
          },
          "showarrow": false,
          "text": "Feature O",
          "x": 0,
          "xshift": -70,
          "y": 0
         },
         {
          "font": {
           "color": "white",
           "family": "Arial",
           "size": 15
          },
          "showarrow": false,
          "text": "8%",
          "x": 0.07,
          "xshift": 0,
          "y": 5,
          "yshift": 0
         },
         {
          "font": {
           "color": "white",
           "family": "Arial",
           "size": 15
          },
          "showarrow": false,
          "text": "14%",
          "x": 0.2,
          "xshift": 0,
          "y": 5,
          "yshift": 0
         },
         {
          "font": {
           "color": "white",
           "family": "Arial",
           "size": 15
          },
          "showarrow": false,
          "text": "9%",
          "x": 0.32,
          "xshift": 0,
          "y": 1,
          "yshift": 0
         },
         {
          "font": {
           "color": "white",
           "family": "Arial",
           "size": 15
          },
          "showarrow": false,
          "text": "14%",
          "x": 0.45,
          "xshift": 0,
          "y": 1,
          "yshift": 0
         },
         {
          "font": {
           "color": "white",
           "family": "Arial",
           "size": 15
          },
          "showarrow": false,
          "text": "51%",
          "x": 0.47,
          "xshift": 0,
          "y": 0,
          "yshift": 0
         },
         {
          "font": {
           "color": "white",
           "family": "Arial",
           "size": 15
          },
          "showarrow": false,
          "text": "40%",
          "x": 0.49,
          "xshift": 0,
          "y": 14,
          "yshift": 0
         },
         {
          "font": {
           "color": "white",
           "family": "Arial",
           "size": 15
          },
          "showarrow": false,
          "text": "47%",
          "x": 0.96,
          "xshift": 0,
          "y": 14,
          "yshift": 0
         },
         {
          "font": {
           "color": "white",
           "family": "Arial",
           "size": 15
          },
          "showarrow": false,
          "text": "36%",
          "x": 0.49,
          "xshift": 0,
          "y": 13,
          "yshift": 0
         },
         {
          "font": {
           "color": "white",
           "family": "Arial",
           "size": 15
          },
          "showarrow": false,
          "text": "47%",
          "x": 0.96,
          "xshift": 0,
          "y": 13,
          "yshift": 0
         },
         {
          "font": {
           "color": "#555655",
           "family": "Arial",
           "size": 25
          },
          "showarrow": false,
          "text": "Product X User Satisfaction: <b style='color: #555655'>Features</b>",
          "x": 0,
          "xshift": 50,
          "y": 14,
          "yshift": 80
         },
         {
          "align": "left",
          "bgcolor": "#28446b",
          "borderwidth": 15,
          "font": {
           "color": "white",
           "size": 18
          },
          "showarrow": false,
          "text": "Feature A and B<br>continue to top user<br>satisfaction",
          "width": 200,
          "x": 1,
          "xshift": 120,
          "y": 14,
          "yshift": -32
         },
         {
          "align": "left",
          "bgcolor": "#df6033",
          "borderwidth": 15,
          "font": {
           "color": "white",
           "size": 18
          },
          "showarrow": false,
          "text": "Users are least<br>satisfied with<br>Features J and N;<br>what improvements<br>can we make here<br>for a better user<br>experience?",
          "width": 200,
          "x": 1,
          "xshift": 120,
          "y": 10,
          "yshift": -57.5
         },
         {
          "align": "left",
          "bgcolor": "#3b7d8d",
          "borderwidth": 15,
          "font": {
           "color": "white",
           "size": 18
          },
          "showarrow": false,
          "text": "Feature O is least<br>used. What steps<br>can we proactively<br>take with exisiting<br>users to increase<br>utilization?",
          "width": 200,
          "x": 1,
          "xshift": 120,
          "y": 4,
          "yshift": -55
         }
        ],
        "barmode": "stack",
        "height": 600,
        "margin": {
         "b": 48.75,
         "l": 170,
         "r": 257.5,
         "t": 95
        },
        "paper_bgcolor": "white",
        "plot_bgcolor": "white",
        "showlegend": false,
        "template": {
         "data": {
          "bar": [
           {
            "error_x": {
             "color": "#2a3f5f"
            },
            "error_y": {
             "color": "#2a3f5f"
            },
            "marker": {
             "line": {
              "color": "#E5ECF6",
              "width": 0.5
             },
             "pattern": {
              "fillmode": "overlay",
              "size": 10,
              "solidity": 0.2
             }
            },
            "type": "bar"
           }
          ],
          "barpolar": [
           {
            "marker": {
             "line": {
              "color": "#E5ECF6",
              "width": 0.5
             },
             "pattern": {
              "fillmode": "overlay",
              "size": 10,
              "solidity": 0.2
             }
            },
            "type": "barpolar"
           }
          ],
          "carpet": [
           {
            "aaxis": {
             "endlinecolor": "#2a3f5f",
             "gridcolor": "white",
             "linecolor": "white",
             "minorgridcolor": "white",
             "startlinecolor": "#2a3f5f"
            },
            "baxis": {
             "endlinecolor": "#2a3f5f",
             "gridcolor": "white",
             "linecolor": "white",
             "minorgridcolor": "white",
             "startlinecolor": "#2a3f5f"
            },
            "type": "carpet"
           }
          ],
          "choropleth": [
           {
            "colorbar": {
             "outlinewidth": 0,
             "ticks": ""
            },
            "type": "choropleth"
           }
          ],
          "contour": [
           {
            "colorbar": {
             "outlinewidth": 0,
             "ticks": ""
            },
            "colorscale": [
             [
              0,
              "#0d0887"
             ],
             [
              0.1111111111111111,
              "#46039f"
             ],
             [
              0.2222222222222222,
              "#7201a8"
             ],
             [
              0.3333333333333333,
              "#9c179e"
             ],
             [
              0.4444444444444444,
              "#bd3786"
             ],
             [
              0.5555555555555556,
              "#d8576b"
             ],
             [
              0.6666666666666666,
              "#ed7953"
             ],
             [
              0.7777777777777778,
              "#fb9f3a"
             ],
             [
              0.8888888888888888,
              "#fdca26"
             ],
             [
              1,
              "#f0f921"
             ]
            ],
            "type": "contour"
           }
          ],
          "contourcarpet": [
           {
            "colorbar": {
             "outlinewidth": 0,
             "ticks": ""
            },
            "type": "contourcarpet"
           }
          ],
          "heatmap": [
           {
            "colorbar": {
             "outlinewidth": 0,
             "ticks": ""
            },
            "colorscale": [
             [
              0,
              "#0d0887"
             ],
             [
              0.1111111111111111,
              "#46039f"
             ],
             [
              0.2222222222222222,
              "#7201a8"
             ],
             [
              0.3333333333333333,
              "#9c179e"
             ],
             [
              0.4444444444444444,
              "#bd3786"
             ],
             [
              0.5555555555555556,
              "#d8576b"
             ],
             [
              0.6666666666666666,
              "#ed7953"
             ],
             [
              0.7777777777777778,
              "#fb9f3a"
             ],
             [
              0.8888888888888888,
              "#fdca26"
             ],
             [
              1,
              "#f0f921"
             ]
            ],
            "type": "heatmap"
           }
          ],
          "heatmapgl": [
           {
            "colorbar": {
             "outlinewidth": 0,
             "ticks": ""
            },
            "colorscale": [
             [
              0,
              "#0d0887"
             ],
             [
              0.1111111111111111,
              "#46039f"
             ],
             [
              0.2222222222222222,
              "#7201a8"
             ],
             [
              0.3333333333333333,
              "#9c179e"
             ],
             [
              0.4444444444444444,
              "#bd3786"
             ],
             [
              0.5555555555555556,
              "#d8576b"
             ],
             [
              0.6666666666666666,
              "#ed7953"
             ],
             [
              0.7777777777777778,
              "#fb9f3a"
             ],
             [
              0.8888888888888888,
              "#fdca26"
             ],
             [
              1,
              "#f0f921"
             ]
            ],
            "type": "heatmapgl"
           }
          ],
          "histogram": [
           {
            "marker": {
             "pattern": {
              "fillmode": "overlay",
              "size": 10,
              "solidity": 0.2
             }
            },
            "type": "histogram"
           }
          ],
          "histogram2d": [
           {
            "colorbar": {
             "outlinewidth": 0,
             "ticks": ""
            },
            "colorscale": [
             [
              0,
              "#0d0887"
             ],
             [
              0.1111111111111111,
              "#46039f"
             ],
             [
              0.2222222222222222,
              "#7201a8"
             ],
             [
              0.3333333333333333,
              "#9c179e"
             ],
             [
              0.4444444444444444,
              "#bd3786"
             ],
             [
              0.5555555555555556,
              "#d8576b"
             ],
             [
              0.6666666666666666,
              "#ed7953"
             ],
             [
              0.7777777777777778,
              "#fb9f3a"
             ],
             [
              0.8888888888888888,
              "#fdca26"
             ],
             [
              1,
              "#f0f921"
             ]
            ],
            "type": "histogram2d"
           }
          ],
          "histogram2dcontour": [
           {
            "colorbar": {
             "outlinewidth": 0,
             "ticks": ""
            },
            "colorscale": [
             [
              0,
              "#0d0887"
             ],
             [
              0.1111111111111111,
              "#46039f"
             ],
             [
              0.2222222222222222,
              "#7201a8"
             ],
             [
              0.3333333333333333,
              "#9c179e"
             ],
             [
              0.4444444444444444,
              "#bd3786"
             ],
             [
              0.5555555555555556,
              "#d8576b"
             ],
             [
              0.6666666666666666,
              "#ed7953"
             ],
             [
              0.7777777777777778,
              "#fb9f3a"
             ],
             [
              0.8888888888888888,
              "#fdca26"
             ],
             [
              1,
              "#f0f921"
             ]
            ],
            "type": "histogram2dcontour"
           }
          ],
          "mesh3d": [
           {
            "colorbar": {
             "outlinewidth": 0,
             "ticks": ""
            },
            "type": "mesh3d"
           }
          ],
          "parcoords": [
           {
            "line": {
             "colorbar": {
              "outlinewidth": 0,
              "ticks": ""
             }
            },
            "type": "parcoords"
           }
          ],
          "pie": [
           {
            "automargin": true,
            "type": "pie"
           }
          ],
          "scatter": [
           {
            "marker": {
             "colorbar": {
              "outlinewidth": 0,
              "ticks": ""
             }
            },
            "type": "scatter"
           }
          ],
          "scatter3d": [
           {
            "line": {
             "colorbar": {
              "outlinewidth": 0,
              "ticks": ""
             }
            },
            "marker": {
             "colorbar": {
              "outlinewidth": 0,
              "ticks": ""
             }
            },
            "type": "scatter3d"
           }
          ],
          "scattercarpet": [
           {
            "marker": {
             "colorbar": {
              "outlinewidth": 0,
              "ticks": ""
             }
            },
            "type": "scattercarpet"
           }
          ],
          "scattergeo": [
           {
            "marker": {
             "colorbar": {
              "outlinewidth": 0,
              "ticks": ""
             }
            },
            "type": "scattergeo"
           }
          ],
          "scattergl": [
           {
            "marker": {
             "colorbar": {
              "outlinewidth": 0,
              "ticks": ""
             }
            },
            "type": "scattergl"
           }
          ],
          "scattermapbox": [
           {
            "marker": {
             "colorbar": {
              "outlinewidth": 0,
              "ticks": ""
             }
            },
            "type": "scattermapbox"
           }
          ],
          "scatterpolar": [
           {
            "marker": {
             "colorbar": {
              "outlinewidth": 0,
              "ticks": ""
             }
            },
            "type": "scatterpolar"
           }
          ],
          "scatterpolargl": [
           {
            "marker": {
             "colorbar": {
              "outlinewidth": 0,
              "ticks": ""
             }
            },
            "type": "scatterpolargl"
           }
          ],
          "scatterternary": [
           {
            "marker": {
             "colorbar": {
              "outlinewidth": 0,
              "ticks": ""
             }
            },
            "type": "scatterternary"
           }
          ],
          "surface": [
           {
            "colorbar": {
             "outlinewidth": 0,
             "ticks": ""
            },
            "colorscale": [
             [
              0,
              "#0d0887"
             ],
             [
              0.1111111111111111,
              "#46039f"
             ],
             [
              0.2222222222222222,
              "#7201a8"
             ],
             [
              0.3333333333333333,
              "#9c179e"
             ],
             [
              0.4444444444444444,
              "#bd3786"
             ],
             [
              0.5555555555555556,
              "#d8576b"
             ],
             [
              0.6666666666666666,
              "#ed7953"
             ],
             [
              0.7777777777777778,
              "#fb9f3a"
             ],
             [
              0.8888888888888888,
              "#fdca26"
             ],
             [
              1,
              "#f0f921"
             ]
            ],
            "type": "surface"
           }
          ],
          "table": [
           {
            "cells": {
             "fill": {
              "color": "#EBF0F8"
             },
             "line": {
              "color": "white"
             }
            },
            "header": {
             "fill": {
              "color": "#C8D4E3"
             },
             "line": {
              "color": "white"
             }
            },
            "type": "table"
           }
          ]
         },
         "layout": {
          "annotationdefaults": {
           "arrowcolor": "#2a3f5f",
           "arrowhead": 0,
           "arrowwidth": 1
          },
          "autotypenumbers": "strict",
          "coloraxis": {
           "colorbar": {
            "outlinewidth": 0,
            "ticks": ""
           }
          },
          "colorscale": {
           "diverging": [
            [
             0,
             "#8e0152"
            ],
            [
             0.1,
             "#c51b7d"
            ],
            [
             0.2,
             "#de77ae"
            ],
            [
             0.3,
             "#f1b6da"
            ],
            [
             0.4,
             "#fde0ef"
            ],
            [
             0.5,
             "#f7f7f7"
            ],
            [
             0.6,
             "#e6f5d0"
            ],
            [
             0.7,
             "#b8e186"
            ],
            [
             0.8,
             "#7fbc41"
            ],
            [
             0.9,
             "#4d9221"
            ],
            [
             1,
             "#276419"
            ]
           ],
           "sequential": [
            [
             0,
             "#0d0887"
            ],
            [
             0.1111111111111111,
             "#46039f"
            ],
            [
             0.2222222222222222,
             "#7201a8"
            ],
            [
             0.3333333333333333,
             "#9c179e"
            ],
            [
             0.4444444444444444,
             "#bd3786"
            ],
            [
             0.5555555555555556,
             "#d8576b"
            ],
            [
             0.6666666666666666,
             "#ed7953"
            ],
            [
             0.7777777777777778,
             "#fb9f3a"
            ],
            [
             0.8888888888888888,
             "#fdca26"
            ],
            [
             1,
             "#f0f921"
            ]
           ],
           "sequentialminus": [
            [
             0,
             "#0d0887"
            ],
            [
             0.1111111111111111,
             "#46039f"
            ],
            [
             0.2222222222222222,
             "#7201a8"
            ],
            [
             0.3333333333333333,
             "#9c179e"
            ],
            [
             0.4444444444444444,
             "#bd3786"
            ],
            [
             0.5555555555555556,
             "#d8576b"
            ],
            [
             0.6666666666666666,
             "#ed7953"
            ],
            [
             0.7777777777777778,
             "#fb9f3a"
            ],
            [
             0.8888888888888888,
             "#fdca26"
            ],
            [
             1,
             "#f0f921"
            ]
           ]
          },
          "colorway": [
           "#636efa",
           "#EF553B",
           "#00cc96",
           "#ab63fa",
           "#FFA15A",
           "#19d3f3",
           "#FF6692",
           "#B6E880",
           "#FF97FF",
           "#FECB52"
          ],
          "font": {
           "color": "#2a3f5f"
          },
          "geo": {
           "bgcolor": "white",
           "lakecolor": "white",
           "landcolor": "#E5ECF6",
           "showlakes": true,
           "showland": true,
           "subunitcolor": "white"
          },
          "hoverlabel": {
           "align": "left"
          },
          "hovermode": "closest",
          "mapbox": {
           "style": "light"
          },
          "paper_bgcolor": "white",
          "plot_bgcolor": "#E5ECF6",
          "polar": {
           "angularaxis": {
            "gridcolor": "white",
            "linecolor": "white",
            "ticks": ""
           },
           "bgcolor": "#E5ECF6",
           "radialaxis": {
            "gridcolor": "white",
            "linecolor": "white",
            "ticks": ""
           }
          },
          "scene": {
           "xaxis": {
            "backgroundcolor": "#E5ECF6",
            "gridcolor": "white",
            "gridwidth": 2,
            "linecolor": "white",
            "showbackground": true,
            "ticks": "",
            "zerolinecolor": "white"
           },
           "yaxis": {
            "backgroundcolor": "#E5ECF6",
            "gridcolor": "white",
            "gridwidth": 2,
            "linecolor": "white",
            "showbackground": true,
            "ticks": "",
            "zerolinecolor": "white"
           },
           "zaxis": {
            "backgroundcolor": "#E5ECF6",
            "gridcolor": "white",
            "gridwidth": 2,
            "linecolor": "white",
            "showbackground": true,
            "ticks": "",
            "zerolinecolor": "white"
           }
          },
          "shapedefaults": {
           "line": {
            "color": "#2a3f5f"
           }
          },
          "ternary": {
           "aaxis": {
            "gridcolor": "white",
            "linecolor": "white",
            "ticks": ""
           },
           "baxis": {
            "gridcolor": "white",
            "linecolor": "white",
            "ticks": ""
           },
           "bgcolor": "#E5ECF6",
           "caxis": {
            "gridcolor": "white",
            "linecolor": "white",
            "ticks": ""
           }
          },
          "title": {
           "x": 0.05
          },
          "xaxis": {
           "automargin": true,
           "gridcolor": "white",
           "linecolor": "white",
           "ticks": "",
           "title": {
            "standoff": 15
           },
           "zerolinecolor": "white",
           "zerolinewidth": 2
          },
          "yaxis": {
           "automargin": true,
           "gridcolor": "white",
           "linecolor": "white",
           "ticks": "",
           "title": {
            "standoff": 15
           },
           "zerolinecolor": "white",
           "zerolinewidth": 2
          }
         }
        },
        "width": 950,
        "xaxis": {
         "range": [
          0,
          1
         ],
         "showgrid": false,
         "showticklabels": false
        },
        "yaxis": {
         "range": [
          -0.5,
          14.5
         ],
         "showgrid": false,
         "showticklabels": false
        }
       }
      }
     },
     "metadata": {},
     "output_type": "display_data"
    }
   ],
   "source": [
    "fig = go.Figure()\n",
    "\n",
    "# Plot -------------------------\n",
    "fig.add_trace(\n",
    "    go.Bar(\n",
    "        x=df['Have not used'][:1],\n",
    "        y=df['feature'][:1],\n",
    "        marker=dict(color=\"#3b7d8d\", line=dict(color='white', width=2)),\n",
    "        orientation='h',\n",
    "        name='Have not used',\n",
    "    )\n",
    ")\n",
    "\n",
    "fig.add_trace(\n",
    "    go.Bar(\n",
    "        x=df['Have not used'][1:],\n",
    "        y=df['feature'][1:],\n",
    "        marker=dict(color=\"#95cadc\", line=dict(color='white', width=2)),\n",
    "        orientation='h',\n",
    "        name='Have not used',\n",
    "    )\n",
    ")\n",
    "\n",
    "fig.add_trace(\n",
    "    go.Bar(\n",
    "        x=df['Not satisfied at all'][:1],\n",
    "        y=df['feature'][:1],\n",
    "        marker=dict(color=\"#f2bc8f\", line=dict(color='white', width=2)),\n",
    "        orientation='h',\n",
    "        name='Not satisfied at all',\n",
    "    )\n",
    ")\n",
    "\n",
    "fig.add_trace(\n",
    "    go.Bar(\n",
    "        x=df['Not satisfied at all'][1:2],\n",
    "        y=df['feature'][1:2],\n",
    "        marker=dict(color=\"#df6033\", line=dict(color='white', width=2)),\n",
    "        orientation='h',\n",
    "        name='Not satisfied at all',\n",
    "    )\n",
    ")\n",
    "\n",
    "fig.add_trace(\n",
    "    go.Bar(\n",
    "        x=df['Not satisfied at all'][2:5],\n",
    "        y=df['feature'][2:5],\n",
    "        marker=dict(color=\"#f2bc8f\", line=dict(color='white', width=2)),\n",
    "        orientation='h',\n",
    "        name='Not satisfied at all',\n",
    "    )\n",
    ")\n",
    "\n",
    "fig.add_trace(\n",
    "    go.Bar(\n",
    "        x=df['Not satisfied at all'][5:6],\n",
    "        y=df['feature'][5:6],\n",
    "        marker=dict(color=\"#df6033\", line=dict(color='white', width=2)),\n",
    "        orientation='h',\n",
    "        name='Not satisfied at all',\n",
    "    )\n",
    ")\n",
    "\n",
    "fig.add_trace(\n",
    "    go.Bar(\n",
    "        x=df['Not satisfied at all'][6:],\n",
    "        y=df['feature'][6:],\n",
    "        marker=dict(color=\"#f2bc8f\", line=dict(color='white', width=2)),\n",
    "        orientation='h',\n",
    "        name='Not satisfied at all',\n",
    "    )\n",
    ")\n",
    "\n",
    "fig.add_trace(\n",
    "    go.Bar(\n",
    "        x=df['Not very satisfied'][:1],\n",
    "        y=df['feature'][:1],\n",
    "        marker=dict(color=\"#f2bc8f\", line=dict(color='white', width=2)),\n",
    "        orientation='h',\n",
    "        name='Not very satisfied',\n",
    "    )\n",
    ")\n",
    "\n",
    "fig.add_trace(\n",
    "    go.Bar(\n",
    "        x=df['Not very satisfied'][1:2],\n",
    "        y=df['feature'][1:2],\n",
    "        marker=dict(color=\"#df6033\", line=dict(color='white', width=2)),\n",
    "        orientation='h',\n",
    "        name='Not very satisfied',\n",
    "    )\n",
    ")\n",
    "\n",
    "fig.add_trace(\n",
    "    go.Bar(\n",
    "        x=df['Not very satisfied'][2:5],\n",
    "        y=df['feature'][2:5],\n",
    "        marker=dict(color=\"#f2bc8f\", line=dict(color='white', width=2)),\n",
    "        orientation='h',\n",
    "        name='Not very satisfied',\n",
    "    )\n",
    ")\n",
    "\n",
    "fig.add_trace(\n",
    "    go.Bar(\n",
    "        x=df['Not very satisfied'][5:6],\n",
    "        y=df['feature'][5:6],\n",
    "        marker=dict(color=\"#df6033\", line=dict(color='white', width=2)),\n",
    "        orientation='h',\n",
    "        name='Not very satisfied',\n",
    "    )\n",
    ")\n",
    "\n",
    "fig.add_trace(\n",
    "    go.Bar(\n",
    "        x=df['Not very satisfied'][6:],\n",
    "        y=df['feature'][6:],\n",
    "        marker=dict(color=\"#f2bc8f\", line=dict(color='white', width=2)),\n",
    "        orientation='h',\n",
    "        name='Not very satisfied',\n",
    "    )\n",
    ")\n",
    "\n",
    "fig.add_trace(\n",
    "    go.Bar(\n",
    "        x=df['Somewhat satisfied'],\n",
    "        y=df['feature'],\n",
    "        marker=dict(color=GRAY9, line=dict(color='white', width=2)),\n",
    "        orientation='h',\n",
    "        name='Somewhat satisfied',\n",
    "    )\n",
    ")\n",
    "\n",
    "fig.add_trace(\n",
    "    go.Bar(\n",
    "        x=df['Very satisfied'][:-2],\n",
    "        y=df['feature'][:-2],\n",
    "        marker=dict(color=\"#92acc7\", line=dict(color='white', width=2)),\n",
    "        orientation='h',\n",
    "        name='Very satisfied',\n",
    "    )\n",
    ")\n",
    "\n",
    "fig.add_trace(\n",
    "    go.Bar(\n",
    "        x=df['Very satisfied'][-2:],\n",
    "        y=df['feature'][-2:],\n",
    "        marker=dict(color=\"#28446b\", line=dict(color='white', width=2)),\n",
    "        orientation='h',\n",
    "        name='Very satisfied',\n",
    "    )\n",
    ")\n",
    "\n",
    "fig.add_trace(\n",
    "    go.Bar(\n",
    "        x=df['Completely satisfied'][:-2],\n",
    "        y=df['feature'][:-2],\n",
    "        marker=dict(color=\"#92acc7\", line=dict(color='white', width=2)),\n",
    "        orientation='h',\n",
    "        name='Completely satisfied',\n",
    "    )\n",
    ")\n",
    "\n",
    "fig.add_trace(\n",
    "    go.Bar(\n",
    "        x=df['Completely satisfied'][-2:],\n",
    "        y=df['feature'][-2:],\n",
    "        marker=dict(color=\"#28446b\", line=dict(color='white', width=2)),\n",
    "        orientation='h',\n",
    "        name='Completely satisfied',\n",
    "    )\n",
    ")\n",
    "\n",
    "# Annotation -------------------\n",
    "for i in range(15):\n",
    "    fig.add_annotation(\n",
    "        text=df['feature'][i],\n",
    "        font=dict(color=GRAY3, size=20, family=\"Arial\"),\n",
    "        align=\"right\",\n",
    "        x=0,\n",
    "        y=14 - i,\n",
    "        xshift=-70,\n",
    "        showarrow=False,\n",
    "    )\n",
    "    \n",
    "fig.add_annotation(\n",
    "    text=f\"{df['Not satisfied at all'][5:6].values[0]*100:.0f}%\",\n",
    "    font=dict(color='white', size=15, family=\"Arial\"),\n",
    "    x=0.07,\n",
    "    y=5,\n",
    "    xshift=0,\n",
    "    yshift=0,\n",
    "    showarrow=False,\n",
    ")\n",
    "\n",
    "fig.add_annotation(\n",
    "    text=f\"{df['Not very satisfied'][5:6].values[0]*100:.0f}%\",\n",
    "    font=dict(color='white', size=15, family=\"Arial\"),\n",
    "    x=0.2,\n",
    "    y=5,\n",
    "    xshift=0,\n",
    "    yshift=0,\n",
    "    showarrow=False,\n",
    ")\n",
    "\n",
    "fig.add_annotation(\n",
    "    text=f\"{df['Not satisfied at all'][1:2].values[0]*100:.0f}%\",\n",
    "    font=dict(color='white', size=15, family=\"Arial\"),\n",
    "    x=0.32,\n",
    "    y=1,\n",
    "    xshift=0,\n",
    "    yshift=0,\n",
    "    showarrow=False,\n",
    ")\n",
    "\n",
    "fig.add_annotation(\n",
    "    text=f\"{df['Not very satisfied'][1:2].values[0]*100:.0f}%\",\n",
    "    font=dict(color='white', size=15, family=\"Arial\"),\n",
    "    x=0.45,\n",
    "    y=1,\n",
    "    xshift=0,\n",
    "    yshift=0,\n",
    "    showarrow=False,\n",
    ")\n",
    "\n",
    "fig.add_annotation(\n",
    "    text=f\"{df['Have not used'][0:1].values[0]*100:.0f}%\",\n",
    "    font=dict(color='white', size=15, family=\"Arial\"),\n",
    "    x=0.47,\n",
    "    y=0,\n",
    "    xshift=0,\n",
    "    yshift=0,\n",
    "    showarrow=False,\n",
    ")\n",
    "\n",
    "fig.add_annotation(\n",
    "    text=f\"{df['Very satisfied'][-1:].values[0]*100:.0f}%\",\n",
    "    font=dict(color='white', size=15, family=\"Arial\"),\n",
    "    x=0.49,\n",
    "    y=14,\n",
    "    xshift=0,\n",
    "    yshift=0,\n",
    "    showarrow=False,\n",
    ")\n",
    "\n",
    "fig.add_annotation(\n",
    "    text=f\"{df['Completely satisfied'][-1:].values[0]*100:.0f}%\",\n",
    "    font=dict(color='white', size=15, family=\"Arial\"),\n",
    "    x=0.96,\n",
    "    y=14,\n",
    "    xshift=0,\n",
    "    yshift=0,\n",
    "    showarrow=False,\n",
    ")\n",
    "\n",
    "fig.add_annotation(\n",
    "    text=f\"{df['Very satisfied'][-2:-1].values[0]*100:.0f}%\",\n",
    "    font=dict(color='white', size=15, family=\"Arial\"),\n",
    "    x=0.49,\n",
    "    y=13,\n",
    "    xshift=0,\n",
    "    yshift=0,\n",
    "    showarrow=False,\n",
    ")\n",
    "\n",
    "fig.add_annotation(\n",
    "    text=f\"{df['Completely satisfied'][-2:-1].values[0]*100:.0f}%\",\n",
    "    font=dict(color='white', size=15, family=\"Arial\"),\n",
    "    x=0.96,\n",
    "    y=13,\n",
    "    xshift=0,\n",
    "    yshift=0,\n",
    "    showarrow=False,\n",
    ")\n",
    "        \n",
    "# Text -------------------------\n",
    "fig.add_annotation(\n",
    "    text=f\"Product X User Satisfaction: <b style='color: {GRAY3}'>Features</b>\",\n",
    "    font=dict(color=GRAY3, size=25, family=\"Arial\"),\n",
    "    x=0,\n",
    "    y=14,\n",
    "    xshift=50,\n",
    "    yshift=80,\n",
    "    showarrow=False,\n",
    ")\n",
    "\n",
    "fig.add_annotation(\n",
    "    text=\"Feature A and B<br>\\\n",
    "continue to top user<br>\\\n",
    "satisfaction\",\n",
    "    font=dict(color='white', size=18),\n",
    "    align='left',\n",
    "    bgcolor=\"#28446b\",\n",
    "    x=1,\n",
    "    y=14,\n",
    "    xshift=120,\n",
    "    yshift=-32,\n",
    "    width=200,\n",
    "    borderwidth=15,\n",
    "    showarrow=False,\n",
    ")\n",
    "\n",
    "fig.add_annotation(\n",
    "    text=\"Users are least<br>\\\n",
    "satisfied with<br>\\\n",
    "Features J and N;<br>\\\n",
    "what improvements<br>\\\n",
    "can we make here<br>\\\n",
    "for a better user<br>\\\n",
    "experience?\",\n",
    "    font=dict(color='white', size=18),\n",
    "    align='left',\n",
    "    bgcolor=\"#df6033\",\n",
    "    x=1,\n",
    "    y=10,\n",
    "    xshift=120,\n",
    "    yshift=-57.5,\n",
    "    width=200,\n",
    "    borderwidth=15,\n",
    "    showarrow=False,\n",
    ")\n",
    "\n",
    "fig.add_annotation(\n",
    "    text=\"Feature O is least<br>\\\n",
    "used. What steps<br>\\\n",
    "can we proactively<br>\\\n",
    "take with exisiting<br>\\\n",
    "users to increase<br>\\\n",
    "utilization?\",\n",
    "    font=dict(color='white', size=18),\n",
    "    align='left',\n",
    "    bgcolor=\"#3b7d8d\",\n",
    "    x=1,\n",
    "    y=4,\n",
    "    xshift=120,\n",
    "    yshift=-55,\n",
    "    width=200,\n",
    "    borderwidth=15,\n",
    "    showarrow=False,\n",
    ")\n",
    "\n",
    "# Layout -----------------------\n",
    "fig.update_layout(\n",
    "    width=950,\n",
    "    height=600,\n",
    "    margin=dict(t=95, b=48.75, l=170, r=257.5),\n",
    "    paper_bgcolor=\"white\",\n",
    "    plot_bgcolor=\"white\",\n",
    "    showlegend=False,\n",
    "    barmode=\"stack\",\n",
    ")\n",
    "\n",
    "fig.update_xaxes(\n",
    "    showticklabels=False,\n",
    "    showgrid=False,\n",
    "    range=[0, 1]\n",
    ")\n",
    "\n",
    "fig.update_yaxes(\n",
    "    showticklabels=False,\n",
    "    showgrid=False,\n",
    "    range=[-0.5, 14.5]\n",
    ")"
   ]
  },
  {
   "cell_type": "markdown",
   "id": "c9f04da8",
   "metadata": {},
   "source": [
    "## Output"
   ]
  },
  {
   "cell_type": "code",
   "execution_count": 7,
   "id": "7776fe8a",
   "metadata": {},
   "outputs": [],
   "source": [
    "fig.write_image(\"plot/plot 9-20.png\", format=\"png\", width=950, height=600, scale=3)"
   ]
  }
 ],
 "metadata": {
  "kernelspec": {
   "display_name": "data",
   "language": "python",
   "name": "python3"
  },
  "language_info": {
   "codemirror_mode": {
    "name": "ipython",
    "version": 3
   },
   "file_extension": ".py",
   "mimetype": "text/x-python",
   "name": "python",
   "nbconvert_exporter": "python",
   "pygments_lexer": "ipython3",
   "version": "3.10.4"
  },
  "vscode": {
   "interpreter": {
    "hash": "87aa2df5676ce3636fa5c3ad845736f33e5dcc95e958fafe10accbd91339fdaa"
   }
  }
 },
 "nbformat": 4,
 "nbformat_minor": 5
}
